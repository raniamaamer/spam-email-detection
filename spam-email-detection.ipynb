{
 "cells": [
  {
   "cell_type": "markdown",
   "id": "aac2c1c4",
   "metadata": {
    "papermill": {
     "duration": 0.008894,
     "end_time": "2025-01-10T09:00:53.784144",
     "exception": false,
     "start_time": "2025-01-10T09:00:53.775250",
     "status": "completed"
    },
    "tags": []
   },
   "source": [
    "# Spam Email Detection\n",
    "\n",
    "This project implements a machine learning pipeline to classify emails as spam or not spam using natural language processing and various classification algorithms. The dataset is preprocessed to clean text data, vectorized, and then used to train multiple models to determine the most effective classifier.\n",
    "\n",
    "## Features\n",
    "- Data cleaning (removing punctuation, stop words, stemming).\n",
    "- Splitting the data into training and test sets.\n",
    "- Testing multiple machine learning classifiers:\n",
    "  - Logistic Regression\n",
    "  - Decision Tree\n",
    "  - Random Forest Classifier\n",
    "  - K-Nearest Neighbors\n",
    "- Performance evaluation using metrics like accuracy, confusion matrix, and classification report.\n",
    "\n",
    "## Dataset\n",
    "The project uses the [Spam Mails Dataset](https://www.kaggle.com/venky73/spam-mails-dataset), which contains labeled email messages with labels `0` (not spam) and `1` (spam).\n",
    "\n",
    "## Results\n",
    "\n",
    "- Logistic Regression achieved the highest accuracy of **98%** on the test dataset."
   ]
  },
  {
   "cell_type": "markdown",
   "id": "4a41836b",
   "metadata": {
    "papermill": {
     "duration": 0.007866,
     "end_time": "2025-01-10T09:00:54.210635",
     "exception": false,
     "start_time": "2025-01-10T09:00:54.202769",
     "status": "completed"
    },
    "tags": []
   },
   "source": [
    "# Importing Libraries"
   ]
  },
  {
   "cell_type": "code",
   "execution_count": 1,
   "id": "73abb960",
   "metadata": {
    "execution": {
     "iopub.execute_input": "2025-01-10T09:00:54.228456Z",
     "iopub.status.busy": "2025-01-10T09:00:54.227990Z",
     "iopub.status.idle": "2025-01-10T09:00:55.819773Z",
     "shell.execute_reply": "2025-01-10T09:00:55.818935Z"
    },
    "papermill": {
     "duration": 1.602967,
     "end_time": "2025-01-10T09:00:55.821742",
     "exception": false,
     "start_time": "2025-01-10T09:00:54.218775",
     "status": "completed"
    },
    "tags": []
   },
   "outputs": [],
   "source": [
    "import pandas as pd\n",
    "import matplotlib.pyplot as plt\n",
    "import seaborn as sns"
   ]
  },
  {
   "cell_type": "markdown",
   "id": "4ca1eeb5",
   "metadata": {
    "papermill": {
     "duration": 0.007917,
     "end_time": "2025-01-10T09:00:55.838132",
     "exception": false,
     "start_time": "2025-01-10T09:00:55.830215",
     "status": "completed"
    },
    "tags": []
   },
   "source": [
    "# Importing data"
   ]
  },
  {
   "cell_type": "code",
   "execution_count": 2,
   "id": "3e309924",
   "metadata": {
    "execution": {
     "iopub.execute_input": "2025-01-10T09:00:55.856291Z",
     "iopub.status.busy": "2025-01-10T09:00:55.855781Z",
     "iopub.status.idle": "2025-01-10T09:00:56.015349Z",
     "shell.execute_reply": "2025-01-10T09:00:56.014169Z"
    },
    "papermill": {
     "duration": 0.170806,
     "end_time": "2025-01-10T09:00:56.017448",
     "exception": false,
     "start_time": "2025-01-10T09:00:55.846642",
     "status": "completed"
    },
    "tags": []
   },
   "outputs": [
    {
     "data": {
      "application/vnd.microsoft.datawrangler.viewer.v0+json": {
       "columns": [
        {
         "name": "index",
         "rawType": "int64",
         "type": "integer"
        },
        {
         "name": "Unnamed: 0",
         "rawType": "int64",
         "type": "integer"
        },
        {
         "name": "label",
         "rawType": "object",
         "type": "string"
        },
        {
         "name": "text",
         "rawType": "object",
         "type": "string"
        },
        {
         "name": "label_num",
         "rawType": "int64",
         "type": "integer"
        }
       ],
       "conversionMethod": "pd.DataFrame",
       "ref": "9a990fc8-6064-4b29-838b-c855e4161f89",
       "rows": [
        [
         "0",
         "605",
         "ham",
         "Subject: enron methanol ; meter # : 988291\r\nthis is a follow up to the note i gave you on monday , 4 / 3 / 00 { preliminary\r\nflow data provided by daren } .\r\nplease override pop ' s daily volume { presently zero } to reflect daily\r\nactivity you can obtain from gas control .\r\nthis change is needed asap for economics purposes .",
         "0"
        ],
        [
         "1",
         "2349",
         "ham",
         "Subject: hpl nom for january 9 , 2001\r\n( see attached file : hplnol 09 . xls )\r\n- hplnol 09 . xls",
         "0"
        ],
        [
         "2",
         "3624",
         "ham",
         "Subject: neon retreat\r\nho ho ho , we ' re around to that most wonderful time of the year - - - neon leaders retreat time !\r\ni know that this time of year is extremely hectic , and that it ' s tough to think about anything past the holidays , but life does go on past the week of december 25 through january 1 , and that ' s what i ' d like you to think about for a minute .\r\non the calender that i handed out at the beginning of the fall semester , the retreat was scheduled for the weekend of january 5 - 6 . but because of a youth ministers conference that brad and dustin are connected with that week , we ' re going to change the date to the following weekend , january 12 - 13 . now comes the part you need to think about .\r\ni think we all agree that it ' s important for us to get together and have some time to recharge our batteries before we get to far into the spring semester , but it can be a lot of trouble and difficult for us to get away without kids , etc . so , brad came up with a potential alternative for how we can get together on that weekend , and then you can let me know which you prefer .\r\nthe first option would be to have a retreat similar to what we ' ve done the past several years . this year we could go to the heartland country inn ( www . . com ) outside of brenham . it ' s a nice place , where we ' d have a 13 - bedroom and a 5 - bedroom house side by side . it ' s in the country , real relaxing , but also close to brenham and only about one hour and 15 minutes from here . we can golf , shop in the antique and craft stores in brenham , eat dinner together at the ranch , and spend time with each other . we ' d meet on saturday , and then return on sunday morning , just like what we ' ve done in the past .\r\nthe second option would be to stay here in houston , have dinner together at a nice restaurant , and then have dessert and a time for visiting and recharging at one of our homes on that saturday evening . this might be easier , but the trade off would be that we wouldn ' t have as much time together . i ' ll let you decide .\r\nemail me back with what would be your preference , and of course if you ' re available on that weekend . the democratic process will prevail - - majority vote will rule ! let me hear from you as soon as possible , preferably by the end of the weekend . and if the vote doesn ' t go your way , no complaining allowed ( like i tend to do ! )\r\nhave a great weekend , great golf , great fishing , great shopping , or whatever makes you happy !\r\nbobby",
         "0"
        ],
        [
         "3",
         "4685",
         "spam",
         "Subject: photoshop , windows , office . cheap . main trending\r\nabasements darer prudently fortuitous undergone\r\nlighthearted charm orinoco taster\r\nrailroad affluent pornographic cuvier\r\nirvin parkhouse blameworthy chlorophyll\r\nrobed diagrammatic fogarty clears bayda\r\ninconveniencing managing represented smartness hashish\r\nacademies shareholders unload badness\r\ndanielson pure caffein\r\nspaniard chargeable levin\r\n",
         "1"
        ],
        [
         "4",
         "2030",
         "ham",
         "Subject: re : indian springs\r\nthis deal is to book the teco pvr revenue . it is my understanding that teco\r\njust sends us a check , i haven ' t received an answer as to whether there is a\r\npredermined price associated with this deal or if teco just lets us know what\r\nwe are giving . i can continue to chase this deal down if you need .",
         "0"
        ]
       ],
       "shape": {
        "columns": 4,
        "rows": 5
       }
      },
      "text/html": [
       "<div>\n",
       "<style scoped>\n",
       "    .dataframe tbody tr th:only-of-type {\n",
       "        vertical-align: middle;\n",
       "    }\n",
       "\n",
       "    .dataframe tbody tr th {\n",
       "        vertical-align: top;\n",
       "    }\n",
       "\n",
       "    .dataframe thead th {\n",
       "        text-align: right;\n",
       "    }\n",
       "</style>\n",
       "<table border=\"1\" class=\"dataframe\">\n",
       "  <thead>\n",
       "    <tr style=\"text-align: right;\">\n",
       "      <th></th>\n",
       "      <th>Unnamed: 0</th>\n",
       "      <th>label</th>\n",
       "      <th>text</th>\n",
       "      <th>label_num</th>\n",
       "    </tr>\n",
       "  </thead>\n",
       "  <tbody>\n",
       "    <tr>\n",
       "      <th>0</th>\n",
       "      <td>605</td>\n",
       "      <td>ham</td>\n",
       "      <td>Subject: enron methanol ; meter # : 988291\\r\\n...</td>\n",
       "      <td>0</td>\n",
       "    </tr>\n",
       "    <tr>\n",
       "      <th>1</th>\n",
       "      <td>2349</td>\n",
       "      <td>ham</td>\n",
       "      <td>Subject: hpl nom for january 9 , 2001\\r\\n( see...</td>\n",
       "      <td>0</td>\n",
       "    </tr>\n",
       "    <tr>\n",
       "      <th>2</th>\n",
       "      <td>3624</td>\n",
       "      <td>ham</td>\n",
       "      <td>Subject: neon retreat\\r\\nho ho ho , we ' re ar...</td>\n",
       "      <td>0</td>\n",
       "    </tr>\n",
       "    <tr>\n",
       "      <th>3</th>\n",
       "      <td>4685</td>\n",
       "      <td>spam</td>\n",
       "      <td>Subject: photoshop , windows , office . cheap ...</td>\n",
       "      <td>1</td>\n",
       "    </tr>\n",
       "    <tr>\n",
       "      <th>4</th>\n",
       "      <td>2030</td>\n",
       "      <td>ham</td>\n",
       "      <td>Subject: re : indian springs\\r\\nthis deal is t...</td>\n",
       "      <td>0</td>\n",
       "    </tr>\n",
       "  </tbody>\n",
       "</table>\n",
       "</div>"
      ],
      "text/plain": [
       "   Unnamed: 0 label                                               text  \\\n",
       "0         605   ham  Subject: enron methanol ; meter # : 988291\\r\\n...   \n",
       "1        2349   ham  Subject: hpl nom for january 9 , 2001\\r\\n( see...   \n",
       "2        3624   ham  Subject: neon retreat\\r\\nho ho ho , we ' re ar...   \n",
       "3        4685  spam  Subject: photoshop , windows , office . cheap ...   \n",
       "4        2030   ham  Subject: re : indian springs\\r\\nthis deal is t...   \n",
       "\n",
       "   label_num  \n",
       "0          0  \n",
       "1          0  \n",
       "2          0  \n",
       "3          1  \n",
       "4          0  "
      ]
     },
     "execution_count": 2,
     "metadata": {},
     "output_type": "execute_result"
    }
   ],
   "source": [
    "dataset = pd.read_csv('spam_ham_dataset.csv')\n",
    "dataset.head()"
   ]
  },
  {
   "cell_type": "markdown",
   "id": "db46369e",
   "metadata": {},
   "source": [
    "# Data Exploration"
   ]
  },
  {
   "cell_type": "code",
   "execution_count": 3,
   "id": "f7f1aa52",
   "metadata": {},
   "outputs": [
    {
     "name": "stdout",
     "output_type": "stream",
     "text": [
      "<class 'pandas.core.frame.DataFrame'>\n",
      "RangeIndex: 5171 entries, 0 to 5170\n",
      "Data columns (total 4 columns):\n",
      " #   Column      Non-Null Count  Dtype \n",
      "---  ------      --------------  ----- \n",
      " 0   Unnamed: 0  5171 non-null   int64 \n",
      " 1   label       5171 non-null   object\n",
      " 2   text        5171 non-null   object\n",
      " 3   label_num   5171 non-null   int64 \n",
      "dtypes: int64(2), object(2)\n",
      "memory usage: 161.7+ KB\n"
     ]
    }
   ],
   "source": [
    "dataset.info()"
   ]
  },
  {
   "cell_type": "code",
   "execution_count": 4,
   "id": "afabfdd3",
   "metadata": {},
   "outputs": [
    {
     "data": {
      "application/vnd.microsoft.datawrangler.viewer.v0+json": {
       "columns": [
        {
         "name": "index",
         "rawType": "object",
         "type": "string"
        },
        {
         "name": "count",
         "rawType": "float64",
         "type": "float"
        },
        {
         "name": "mean",
         "rawType": "float64",
         "type": "float"
        },
        {
         "name": "std",
         "rawType": "float64",
         "type": "float"
        },
        {
         "name": "min",
         "rawType": "float64",
         "type": "float"
        },
        {
         "name": "25%",
         "rawType": "float64",
         "type": "float"
        },
        {
         "name": "50%",
         "rawType": "float64",
         "type": "float"
        },
        {
         "name": "75%",
         "rawType": "float64",
         "type": "float"
        },
        {
         "name": "max",
         "rawType": "float64",
         "type": "float"
        }
       ],
       "conversionMethod": "pd.DataFrame",
       "ref": "08fe480c-4321-47aa-a3d1-bfd766b385d2",
       "rows": [
        [
         "Unnamed: 0",
         "5171.0",
         "2585.0",
         "1492.8834515795263",
         "0.0",
         "1292.5",
         "2585.0",
         "3877.5",
         "5170.0"
        ],
        [
         "label_num",
         "5171.0",
         "0.2898859021465867",
         "0.45375310746089564",
         "0.0",
         "0.0",
         "0.0",
         "1.0",
         "1.0"
        ]
       ],
       "shape": {
        "columns": 8,
        "rows": 2
       }
      },
      "text/html": [
       "<div>\n",
       "<style scoped>\n",
       "    .dataframe tbody tr th:only-of-type {\n",
       "        vertical-align: middle;\n",
       "    }\n",
       "\n",
       "    .dataframe tbody tr th {\n",
       "        vertical-align: top;\n",
       "    }\n",
       "\n",
       "    .dataframe thead th {\n",
       "        text-align: right;\n",
       "    }\n",
       "</style>\n",
       "<table border=\"1\" class=\"dataframe\">\n",
       "  <thead>\n",
       "    <tr style=\"text-align: right;\">\n",
       "      <th></th>\n",
       "      <th>count</th>\n",
       "      <th>mean</th>\n",
       "      <th>std</th>\n",
       "      <th>min</th>\n",
       "      <th>25%</th>\n",
       "      <th>50%</th>\n",
       "      <th>75%</th>\n",
       "      <th>max</th>\n",
       "    </tr>\n",
       "  </thead>\n",
       "  <tbody>\n",
       "    <tr>\n",
       "      <th>Unnamed: 0</th>\n",
       "      <td>5171.0</td>\n",
       "      <td>2585.000000</td>\n",
       "      <td>1492.883452</td>\n",
       "      <td>0.0</td>\n",
       "      <td>1292.5</td>\n",
       "      <td>2585.0</td>\n",
       "      <td>3877.5</td>\n",
       "      <td>5170.0</td>\n",
       "    </tr>\n",
       "    <tr>\n",
       "      <th>label_num</th>\n",
       "      <td>5171.0</td>\n",
       "      <td>0.289886</td>\n",
       "      <td>0.453753</td>\n",
       "      <td>0.0</td>\n",
       "      <td>0.0</td>\n",
       "      <td>0.0</td>\n",
       "      <td>1.0</td>\n",
       "      <td>1.0</td>\n",
       "    </tr>\n",
       "  </tbody>\n",
       "</table>\n",
       "</div>"
      ],
      "text/plain": [
       "             count         mean          std  min     25%     50%     75%  \\\n",
       "Unnamed: 0  5171.0  2585.000000  1492.883452  0.0  1292.5  2585.0  3877.5   \n",
       "label_num   5171.0     0.289886     0.453753  0.0     0.0     0.0     1.0   \n",
       "\n",
       "               max  \n",
       "Unnamed: 0  5170.0  \n",
       "label_num      1.0  "
      ]
     },
     "execution_count": 4,
     "metadata": {},
     "output_type": "execute_result"
    }
   ],
   "source": [
    "dataset.describe().T"
   ]
  },
  {
   "cell_type": "code",
   "execution_count": 5,
   "id": "921a377f",
   "metadata": {},
   "outputs": [
    {
     "data": {
      "text/plain": [
       "Unnamed: 0    0\n",
       "label         0\n",
       "text          0\n",
       "label_num     0\n",
       "dtype: int64"
      ]
     },
     "execution_count": 5,
     "metadata": {},
     "output_type": "execute_result"
    }
   ],
   "source": [
    "dataset.isnull().sum()"
   ]
  },
  {
   "cell_type": "code",
   "execution_count": 6,
   "id": "8cdd9b29",
   "metadata": {},
   "outputs": [
    {
     "data": {
      "text/plain": [
       "(5171, 4)"
      ]
     },
     "execution_count": 6,
     "metadata": {},
     "output_type": "execute_result"
    }
   ],
   "source": [
    "dataset.shape"
   ]
  },
  {
   "cell_type": "code",
   "execution_count": 7,
   "id": "223798f8",
   "metadata": {},
   "outputs": [
    {
     "data": {
      "text/plain": [
       "label\n",
       "ham     3672\n",
       "spam    1499\n",
       "Name: count, dtype: int64"
      ]
     },
     "execution_count": 7,
     "metadata": {},
     "output_type": "execute_result"
    }
   ],
   "source": [
    "dataset['label'].value_counts()"
   ]
  },
  {
   "cell_type": "code",
   "execution_count": 8,
   "id": "01b07f59",
   "metadata": {},
   "outputs": [
    {
     "name": "stderr",
     "output_type": "stream",
     "text": [
      "C:\\Users\\rania\\AppData\\Local\\Temp\\ipykernel_16516\\1729229091.py:2: FutureWarning: \n",
      "\n",
      "Passing `palette` without assigning `hue` is deprecated and will be removed in v0.14.0. Assign the `x` variable to `hue` and set `legend=False` for the same effect.\n",
      "\n",
      "  sns.barplot(x=dataset[\"label\"].value_counts().index, y=dataset[\"label\"].value_counts().values, palette=\"viridis\")\n"
     ]
    },
    {
     "data": {
      "image/png": "[encoded data removed]",
      "text/plain": [
       "<Figure size 600x400 with 1 Axes>"
      ]
     },
     "metadata": {},
     "output_type": "display_data"
    }
   ],
   "source": [
    "plt.figure(figsize=(6, 4))\n",
    "sns.barplot(x=dataset[\"label\"].value_counts().index, y=dataset[\"label\"].value_counts().values, palette=\"viridis\")\n",
    "\n",
    "plt.title(\"Distribution of Spam vs Ham Emails\", fontsize=14)\n",
    "plt.xlabel(\"Email Type\", fontsize=12)\n",
    "plt.ylabel(\"Count\", fontsize=12)\n",
    "\n",
    "plt.show()"
   ]
  },
  {
   "cell_type": "code",
   "execution_count": 9,
   "id": "875336f2",
   "metadata": {},
   "outputs": [
    {
     "data": {
      "text/plain": [
       "label\n",
       "ham     71.01141\n",
       "spam    28.98859\n",
       "Name: proportion, dtype: float64"
      ]
     },
     "execution_count": 9,
     "metadata": {},
     "output_type": "execute_result"
    }
   ],
   "source": [
    "dataset['label'].value_counts(normalize=True) * 100"
   ]
  },
  {
   "cell_type": "code",
   "execution_count": 10,
   "id": "107a6d79",
   "metadata": {},
   "outputs": [
    {
     "data": {
      "image/png": "[encoded data removed]",
      "text/plain": [
       "<Figure size 600x600 with 1 Axes>"
      ]
     },
     "metadata": {},
     "output_type": "display_data"
    }
   ],
   "source": [
    "plt.figure(figsize=(6, 6))\n",
    "plt.pie(dataset[\"label\"].value_counts(normalize=True).values*100, labels=dataset[\"label\"].value_counts().index,\n",
    "        autopct='%1.1f%%', colors=[\"skyblue\", \"orange\"], startangle=55, wedgeprops={'edgecolor': 'black'})\n",
    "\n",
    "plt.title(\"Spam vs Ham Email Distribution\", fontsize=14)\n",
    "\n",
    "plt.show()"
   ]
  },
  {
   "cell_type": "code",
   "execution_count": 11,
   "id": "4ced5bf7",
   "metadata": {
    "execution": {
     "iopub.execute_input": "2025-01-10T09:00:56.092053Z",
     "iopub.status.busy": "2025-01-10T09:00:56.091634Z",
     "iopub.status.idle": "2025-01-10T09:00:56.101951Z",
     "shell.execute_reply": "2025-01-10T09:00:56.100833Z"
    },
    "papermill": {
     "duration": 0.021197,
     "end_time": "2025-01-10T09:00:56.103599",
     "exception": false,
     "start_time": "2025-01-10T09:00:56.082402",
     "status": "completed"
    },
    "tags": []
   },
   "outputs": [
    {
     "data": {
      "text/plain": [
       "Unnamed: 0    0\n",
       "label         0\n",
       "text          0\n",
       "label_num     0\n",
       "dtype: int64"
      ]
     },
     "execution_count": 11,
     "metadata": {},
     "output_type": "execute_result"
    }
   ],
   "source": [
    "dataset.isna().sum()"
   ]
  },
  {
   "cell_type": "code",
   "execution_count": 12,
   "id": "691ced9f",
   "metadata": {
    "execution": {
     "iopub.execute_input": "2025-01-10T09:00:56.122248Z",
     "iopub.status.busy": "2025-01-10T09:00:56.121880Z",
     "iopub.status.idle": "2025-01-10T09:00:56.155009Z",
     "shell.execute_reply": "2025-01-10T09:00:56.153881Z"
    },
    "papermill": {
     "duration": 0.0447,
     "end_time": "2025-01-10T09:00:56.156986",
     "exception": false,
     "start_time": "2025-01-10T09:00:56.112286",
     "status": "completed"
    },
    "tags": []
   },
   "outputs": [
    {
     "data": {
      "text/plain": [
       "0"
      ]
     },
     "execution_count": 12,
     "metadata": {},
     "output_type": "execute_result"
    }
   ],
   "source": [
    "dataset.duplicated().sum()"
   ]
  },
  {
   "cell_type": "markdown",
   "id": "05941654",
   "metadata": {
    "papermill": {
     "duration": 0.008635,
     "end_time": "2025-01-10T09:00:56.174684",
     "exception": false,
     "start_time": "2025-01-10T09:00:56.166049",
     "status": "completed"
    },
    "tags": []
   },
   "source": [
    "* so we have no null and duplicate value\n",
    "* we only need text and label num for our purpose"
   ]
  },
  {
   "cell_type": "code",
   "execution_count": 13,
   "id": "b622dd45",
   "metadata": {
    "execution": {
     "iopub.execute_input": "2025-01-10T09:00:56.193527Z",
     "iopub.status.busy": "2025-01-10T09:00:56.193177Z",
     "iopub.status.idle": "2025-01-10T09:00:56.207757Z",
     "shell.execute_reply": "2025-01-10T09:00:56.206567Z"
    },
    "papermill": {
     "duration": 0.02594,
     "end_time": "2025-01-10T09:00:56.209445",
     "exception": false,
     "start_time": "2025-01-10T09:00:56.183505",
     "status": "completed"
    },
    "tags": []
   },
   "outputs": [
    {
     "data": {
      "application/vnd.microsoft.datawrangler.viewer.v0+json": {
       "columns": [
        {
         "name": "index",
         "rawType": "int64",
         "type": "integer"
        },
        {
         "name": "text",
         "rawType": "object",
         "type": "string"
        },
        {
         "name": "label_num",
         "rawType": "int64",
         "type": "integer"
        }
       ],
       "conversionMethod": "pd.DataFrame",
       "ref": "f4b16d5c-c3c2-4f3d-b69a-0c5250717dac",
       "rows": [
        [
         "0",
         "Subject: enron methanol ; meter # : 988291\r\nthis is a follow up to the note i gave you on monday , 4 / 3 / 00 { preliminary\r\nflow data provided by daren } .\r\nplease override pop ' s daily volume { presently zero } to reflect daily\r\nactivity you can obtain from gas control .\r\nthis change is needed asap for economics purposes .",
         "0"
        ],
        [
         "1",
         "Subject: hpl nom for january 9 , 2001\r\n( see attached file : hplnol 09 . xls )\r\n- hplnol 09 . xls",
         "0"
        ],
        [
         "2",
         "Subject: neon retreat\r\nho ho ho , we ' re around to that most wonderful time of the year - - - neon leaders retreat time !\r\ni know that this time of year is extremely hectic , and that it ' s tough to think about anything past the holidays , but life does go on past the week of december 25 through january 1 , and that ' s what i ' d like you to think about for a minute .\r\non the calender that i handed out at the beginning of the fall semester , the retreat was scheduled for the weekend of january 5 - 6 . but because of a youth ministers conference that brad and dustin are connected with that week , we ' re going to change the date to the following weekend , january 12 - 13 . now comes the part you need to think about .\r\ni think we all agree that it ' s important for us to get together and have some time to recharge our batteries before we get to far into the spring semester , but it can be a lot of trouble and difficult for us to get away without kids , etc . so , brad came up with a potential alternative for how we can get together on that weekend , and then you can let me know which you prefer .\r\nthe first option would be to have a retreat similar to what we ' ve done the past several years . this year we could go to the heartland country inn ( www . . com ) outside of brenham . it ' s a nice place , where we ' d have a 13 - bedroom and a 5 - bedroom house side by side . it ' s in the country , real relaxing , but also close to brenham and only about one hour and 15 minutes from here . we can golf , shop in the antique and craft stores in brenham , eat dinner together at the ranch , and spend time with each other . we ' d meet on saturday , and then return on sunday morning , just like what we ' ve done in the past .\r\nthe second option would be to stay here in houston , have dinner together at a nice restaurant , and then have dessert and a time for visiting and recharging at one of our homes on that saturday evening . this might be easier , but the trade off would be that we wouldn ' t have as much time together . i ' ll let you decide .\r\nemail me back with what would be your preference , and of course if you ' re available on that weekend . the democratic process will prevail - - majority vote will rule ! let me hear from you as soon as possible , preferably by the end of the weekend . and if the vote doesn ' t go your way , no complaining allowed ( like i tend to do ! )\r\nhave a great weekend , great golf , great fishing , great shopping , or whatever makes you happy !\r\nbobby",
         "0"
        ],
        [
         "3",
         "Subject: photoshop , windows , office . cheap . main trending\r\nabasements darer prudently fortuitous undergone\r\nlighthearted charm orinoco taster\r\nrailroad affluent pornographic cuvier\r\nirvin parkhouse blameworthy chlorophyll\r\nrobed diagrammatic fogarty clears bayda\r\ninconveniencing managing represented smartness hashish\r\nacademies shareholders unload badness\r\ndanielson pure caffein\r\nspaniard chargeable levin\r\n",
         "1"
        ],
        [
         "4",
         "Subject: re : indian springs\r\nthis deal is to book the teco pvr revenue . it is my understanding that teco\r\njust sends us a check , i haven ' t received an answer as to whether there is a\r\npredermined price associated with this deal or if teco just lets us know what\r\nwe are giving . i can continue to chase this deal down if you need .",
         "0"
        ]
       ],
       "shape": {
        "columns": 2,
        "rows": 5
       }
      },
      "text/html": [
       "<div>\n",
       "<style scoped>\n",
       "    .dataframe tbody tr th:only-of-type {\n",
       "        vertical-align: middle;\n",
       "    }\n",
       "\n",
       "    .dataframe tbody tr th {\n",
       "        vertical-align: top;\n",
       "    }\n",
       "\n",
       "    .dataframe thead th {\n",
       "        text-align: right;\n",
       "    }\n",
       "</style>\n",
       "<table border=\"1\" class=\"dataframe\">\n",
       "  <thead>\n",
       "    <tr style=\"text-align: right;\">\n",
       "      <th></th>\n",
       "      <th>text</th>\n",
       "      <th>label_num</th>\n",
       "    </tr>\n",
       "  </thead>\n",
       "  <tbody>\n",
       "    <tr>\n",
       "      <th>0</th>\n",
       "      <td>Subject: enron methanol ; meter # : 988291\\r\\n...</td>\n",
       "      <td>0</td>\n",
       "    </tr>\n",
       "    <tr>\n",
       "      <th>1</th>\n",
       "      <td>Subject: hpl nom for january 9 , 2001\\r\\n( see...</td>\n",
       "      <td>0</td>\n",
       "    </tr>\n",
       "    <tr>\n",
       "      <th>2</th>\n",
       "      <td>Subject: neon retreat\\r\\nho ho ho , we ' re ar...</td>\n",
       "      <td>0</td>\n",
       "    </tr>\n",
       "    <tr>\n",
       "      <th>3</th>\n",
       "      <td>Subject: photoshop , windows , office . cheap ...</td>\n",
       "      <td>1</td>\n",
       "    </tr>\n",
       "    <tr>\n",
       "      <th>4</th>\n",
       "      <td>Subject: re : indian springs\\r\\nthis deal is t...</td>\n",
       "      <td>0</td>\n",
       "    </tr>\n",
       "  </tbody>\n",
       "</table>\n",
       "</div>"
      ],
      "text/plain": [
       "                                                text  label_num\n",
       "0  Subject: enron methanol ; meter # : 988291\\r\\n...          0\n",
       "1  Subject: hpl nom for january 9 , 2001\\r\\n( see...          0\n",
       "2  Subject: neon retreat\\r\\nho ho ho , we ' re ar...          0\n",
       "3  Subject: photoshop , windows , office . cheap ...          1\n",
       "4  Subject: re : indian springs\\r\\nthis deal is t...          0"
      ]
     },
     "execution_count": 13,
     "metadata": {},
     "output_type": "execute_result"
    }
   ],
   "source": [
    "df = dataset[['text','label_num']]\n",
    "df.head()"
   ]
  },
  {
   "cell_type": "code",
   "execution_count": 14,
   "id": "b0ba9daa",
   "metadata": {
    "execution": {
     "iopub.execute_input": "2025-01-10T09:00:56.228867Z",
     "iopub.status.busy": "2025-01-10T09:00:56.228464Z",
     "iopub.status.idle": "2025-01-10T09:00:56.232862Z",
     "shell.execute_reply": "2025-01-10T09:00:56.231969Z"
    },
    "papermill": {
     "duration": 0.016089,
     "end_time": "2025-01-10T09:00:56.234583",
     "exception": false,
     "start_time": "2025-01-10T09:00:56.218494",
     "status": "completed"
    },
    "tags": []
   },
   "outputs": [],
   "source": [
    "length = len(df['text'])"
   ]
  },
  {
   "cell_type": "markdown",
   "id": "83d20b3e",
   "metadata": {
    "papermill": {
     "duration": 0.008547,
     "end_time": "2025-01-10T09:00:56.252384",
     "exception": false,
     "start_time": "2025-01-10T09:00:56.243837",
     "status": "completed"
    },
    "tags": []
   },
   "source": [
    "# Data  Preprocessing "
   ]
  },
  {
   "cell_type": "markdown",
   "id": "1c4f7502",
   "metadata": {
    "papermill": {
     "duration": 0.008728,
     "end_time": "2025-01-10T09:00:56.269854",
     "exception": false,
     "start_time": "2025-01-10T09:00:56.261126",
     "status": "completed"
    },
    "tags": []
   },
   "source": [
    "* We will remove punctuation and other unnecessary item from our text\n",
    "* Then will be stemming the word to its root form "
   ]
  },
  {
   "cell_type": "markdown",
   "id": "7bbf60a2",
   "metadata": {},
   "source": [
    "1. Exmeple of stop words\n",
    "- the, a, an, is, are, was, were, of, to, for, in, on, at, by, that, it, he, she, they, and, ...\n",
    "\n",
    "2. Stemming\n",
    "\n",
    "- Before stemming: \\\n",
    "    'caresses', 'flies', 'dies', 'mules', 'denied', \\\n",
    "    'died', 'agreed', 'owned', 'humbled', 'sized', \\\n",
    "    'meeting', 'stating', 'siezing', 'itemization', 'sensational', \\\n",
    "    'traditional', 'reference', 'colonizer','plotted'\n",
    "\n",
    "- After stemming: \\\n",
    "    caress fli die mule deni die agre own humbl size meet \\\n",
    "    state siez item sensat tradit refer colon plot]"
   ]
  },
  {
   "cell_type": "code",
   "execution_count": 15,
   "id": "b8487c72",
   "metadata": {
    "execution": {
     "iopub.execute_input": "2025-01-10T09:00:56.288588Z",
     "iopub.status.busy": "2025-01-10T09:00:56.288245Z",
     "iopub.status.idle": "2025-01-10T09:01:11.286917Z",
     "shell.execute_reply": "2025-01-10T09:01:11.285661Z"
    },
    "papermill": {
     "duration": 15.010435,
     "end_time": "2025-01-10T09:01:11.288962",
     "exception": false,
     "start_time": "2025-01-10T09:00:56.278527",
     "status": "completed"
    },
    "tags": []
   },
   "outputs": [
    {
     "name": "stderr",
     "output_type": "stream",
     "text": [
      "[nltk_data] Downloading package stopwords to\n",
      "[nltk_data]     C:\\Users\\rania\\AppData\\Roaming\\nltk_data...\n",
      "[nltk_data]   Package stopwords is already up-to-date!\n"
     ]
    }
   ],
   "source": [
    "import re\n",
    "import nltk\n",
    "nltk.download('stopwords')\n",
    "from nltk.corpus import stopwords\n",
    "from nltk.stem.porter import PorterStemmer\n",
    "\n",
    "corpus=[]\n",
    "# contain list of words that will be used for training -> final words after cleaning\n",
    "\n",
    "for i in range(0,length):\n",
    "  # re is used to remove punctuations\n",
    "  text = re.sub('[^a-zA-Z]',' ',df['text'][i]) # replaces the punctuation with space\n",
    "\n",
    "  # converting to lowercase\n",
    "  text=text.lower()\n",
    "\n",
    "  # stemming\n",
    "  text=text.split()\n",
    "  ps = PorterStemmer()\n",
    "  all_stopwords=stopwords.words('english')\n",
    "  text = [ps.stem(word) for word  in text if not word in set(all_stopwords)]\n",
    "  text = ' '.join(text)\n",
    "\n",
    "  corpus.append(text)\n"
   ]
  },
  {
   "cell_type": "code",
   "execution_count": 16,
   "id": "d1fb8149",
   "metadata": {
    "execution": {
     "iopub.execute_input": "2025-01-10T09:01:11.308540Z",
     "iopub.status.busy": "2025-01-10T09:01:11.308176Z",
     "iopub.status.idle": "2025-01-10T09:01:11.314768Z",
     "shell.execute_reply": "2025-01-10T09:01:11.313652Z"
    },
    "papermill": {
     "duration": 0.01814,
     "end_time": "2025-01-10T09:01:11.316426",
     "exception": false,
     "start_time": "2025-01-10T09:01:11.298286",
     "status": "completed"
    },
    "tags": []
   },
   "outputs": [
    {
     "data": {
      "text/plain": [
       "['subject enron methanol meter follow note gave monday preliminari flow data provid daren pleas overrid pop daili volum present zero reflect daili activ obtain ga control chang need asap econom purpos',\n",
       " 'subject hpl nom januari see attach file hplnol xl hplnol xl',\n",
       " 'subject neon retreat ho ho ho around wonder time year neon leader retreat time know time year extrem hectic tough think anyth past holiday life go past week decemb januari like think minut calend hand begin fall semest retreat schedul weekend januari youth minist confer brad dustin connect week go chang date follow weekend januari come part need think think agre import us get togeth time recharg batteri get far spring semest lot troubl difficult us get away without kid etc brad came potenti altern get togeth weekend let know prefer first option would retreat similar done past sever year year could go heartland countri inn www com outsid brenham nice place bedroom bedroom hous side side countri real relax also close brenham one hour minut golf shop antiqu craft store brenham eat dinner togeth ranch spend time meet saturday return sunday morn like done past second option would stay houston dinner togeth nice restaur dessert time visit recharg one home saturday even might easier trade would much time togeth let decid email back would prefer cours avail weekend democrat process prevail major vote rule let hear soon possibl prefer end weekend vote go way complain allow like tend great weekend great golf great fish great shop whatev make happi bobbi',\n",
       " 'subject photoshop window offic cheap main trend abas darer prudent fortuit undergon lightheart charm orinoco taster railroad affluent pornograph cuvier irvin parkhous blameworthi chlorophyl robe diagrammat fogarti clear bayda inconvenienc manag repres smart hashish academi sharehold unload bad danielson pure caffein spaniard chargeabl levin',\n",
       " 'subject indian spring deal book teco pvr revenu understand teco send us check receiv answer whether predermin price associ deal teco let us know give continu chase deal need']"
      ]
     },
     "execution_count": 16,
     "metadata": {},
     "output_type": "execute_result"
    }
   ],
   "source": [
    "corpus[0:5]"
   ]
  },
  {
   "cell_type": "code",
   "execution_count": 17,
   "id": "3832ee3a",
   "metadata": {
    "execution": {
     "iopub.execute_input": "2025-01-10T09:01:11.336215Z",
     "iopub.status.busy": "2025-01-10T09:01:11.335750Z",
     "iopub.status.idle": "2025-01-10T09:01:11.341283Z",
     "shell.execute_reply": "2025-01-10T09:01:11.339863Z"
    },
    "papermill": {
     "duration": 0.017472,
     "end_time": "2025-01-10T09:01:11.343223",
     "exception": false,
     "start_time": "2025-01-10T09:01:11.325751",
     "status": "completed"
    },
    "tags": []
   },
   "outputs": [],
   "source": [
    "df = df.copy()"
   ]
  },
  {
   "cell_type": "code",
   "execution_count": 18,
   "id": "f2920b1e",
   "metadata": {
    "execution": {
     "iopub.execute_input": "2025-01-10T09:01:11.363244Z",
     "iopub.status.busy": "2025-01-10T09:01:11.362780Z",
     "iopub.status.idle": "2025-01-10T09:01:11.368876Z",
     "shell.execute_reply": "2025-01-10T09:01:11.367508Z"
    },
    "papermill": {
     "duration": 0.018116,
     "end_time": "2025-01-10T09:01:11.370794",
     "exception": false,
     "start_time": "2025-01-10T09:01:11.352678",
     "status": "completed"
    },
    "tags": []
   },
   "outputs": [],
   "source": [
    "df['cleanText'] = corpus"
   ]
  },
  {
   "cell_type": "code",
   "execution_count": 19,
   "id": "f4cfb41d",
   "metadata": {
    "execution": {
     "iopub.execute_input": "2025-01-10T09:01:11.390877Z",
     "iopub.status.busy": "2025-01-10T09:01:11.390470Z",
     "iopub.status.idle": "2025-01-10T09:01:11.401942Z",
     "shell.execute_reply": "2025-01-10T09:01:11.400919Z"
    },
    "papermill": {
     "duration": 0.023376,
     "end_time": "2025-01-10T09:01:11.403627",
     "exception": false,
     "start_time": "2025-01-10T09:01:11.380251",
     "status": "completed"
    },
    "tags": []
   },
   "outputs": [
    {
     "data": {
      "application/vnd.microsoft.datawrangler.viewer.v0+json": {
       "columns": [
        {
         "name": "index",
         "rawType": "int64",
         "type": "integer"
        },
        {
         "name": "text",
         "rawType": "object",
         "type": "string"
        },
        {
         "name": "label_num",
         "rawType": "int64",
         "type": "integer"
        },
        {
         "name": "cleanText",
         "rawType": "object",
         "type": "string"
        }
       ],
       "conversionMethod": "pd.DataFrame",
       "ref": "303101ec-76f3-45b9-a1ad-0eed51043a8c",
       "rows": [
        [
         "0",
         "Subject: enron methanol ; meter # : 988291\r\nthis is a follow up to the note i gave you on monday , 4 / 3 / 00 { preliminary\r\nflow data provided by daren } .\r\nplease override pop ' s daily volume { presently zero } to reflect daily\r\nactivity you can obtain from gas control .\r\nthis change is needed asap for economics purposes .",
         "0",
         "subject enron methanol meter follow note gave monday preliminari flow data provid daren pleas overrid pop daili volum present zero reflect daili activ obtain ga control chang need asap econom purpos"
        ],
        [
         "1",
         "Subject: hpl nom for january 9 , 2001\r\n( see attached file : hplnol 09 . xls )\r\n- hplnol 09 . xls",
         "0",
         "subject hpl nom januari see attach file hplnol xl hplnol xl"
        ],
        [
         "2",
         "Subject: neon retreat\r\nho ho ho , we ' re around to that most wonderful time of the year - - - neon leaders retreat time !\r\ni know that this time of year is extremely hectic , and that it ' s tough to think about anything past the holidays , but life does go on past the week of december 25 through january 1 , and that ' s what i ' d like you to think about for a minute .\r\non the calender that i handed out at the beginning of the fall semester , the retreat was scheduled for the weekend of january 5 - 6 . but because of a youth ministers conference that brad and dustin are connected with that week , we ' re going to change the date to the following weekend , january 12 - 13 . now comes the part you need to think about .\r\ni think we all agree that it ' s important for us to get together and have some time to recharge our batteries before we get to far into the spring semester , but it can be a lot of trouble and difficult for us to get away without kids , etc . so , brad came up with a potential alternative for how we can get together on that weekend , and then you can let me know which you prefer .\r\nthe first option would be to have a retreat similar to what we ' ve done the past several years . this year we could go to the heartland country inn ( www . . com ) outside of brenham . it ' s a nice place , where we ' d have a 13 - bedroom and a 5 - bedroom house side by side . it ' s in the country , real relaxing , but also close to brenham and only about one hour and 15 minutes from here . we can golf , shop in the antique and craft stores in brenham , eat dinner together at the ranch , and spend time with each other . we ' d meet on saturday , and then return on sunday morning , just like what we ' ve done in the past .\r\nthe second option would be to stay here in houston , have dinner together at a nice restaurant , and then have dessert and a time for visiting and recharging at one of our homes on that saturday evening . this might be easier , but the trade off would be that we wouldn ' t have as much time together . i ' ll let you decide .\r\nemail me back with what would be your preference , and of course if you ' re available on that weekend . the democratic process will prevail - - majority vote will rule ! let me hear from you as soon as possible , preferably by the end of the weekend . and if the vote doesn ' t go your way , no complaining allowed ( like i tend to do ! )\r\nhave a great weekend , great golf , great fishing , great shopping , or whatever makes you happy !\r\nbobby",
         "0",
         "subject neon retreat ho ho ho around wonder time year neon leader retreat time know time year extrem hectic tough think anyth past holiday life go past week decemb januari like think minut calend hand begin fall semest retreat schedul weekend januari youth minist confer brad dustin connect week go chang date follow weekend januari come part need think think agre import us get togeth time recharg batteri get far spring semest lot troubl difficult us get away without kid etc brad came potenti altern get togeth weekend let know prefer first option would retreat similar done past sever year year could go heartland countri inn www com outsid brenham nice place bedroom bedroom hous side side countri real relax also close brenham one hour minut golf shop antiqu craft store brenham eat dinner togeth ranch spend time meet saturday return sunday morn like done past second option would stay houston dinner togeth nice restaur dessert time visit recharg one home saturday even might easier trade would much time togeth let decid email back would prefer cours avail weekend democrat process prevail major vote rule let hear soon possibl prefer end weekend vote go way complain allow like tend great weekend great golf great fish great shop whatev make happi bobbi"
        ],
        [
         "3",
         "Subject: photoshop , windows , office . cheap . main trending\r\nabasements darer prudently fortuitous undergone\r\nlighthearted charm orinoco taster\r\nrailroad affluent pornographic cuvier\r\nirvin parkhouse blameworthy chlorophyll\r\nrobed diagrammatic fogarty clears bayda\r\ninconveniencing managing represented smartness hashish\r\nacademies shareholders unload badness\r\ndanielson pure caffein\r\nspaniard chargeable levin\r\n",
         "1",
         "subject photoshop window offic cheap main trend abas darer prudent fortuit undergon lightheart charm orinoco taster railroad affluent pornograph cuvier irvin parkhous blameworthi chlorophyl robe diagrammat fogarti clear bayda inconvenienc manag repres smart hashish academi sharehold unload bad danielson pure caffein spaniard chargeabl levin"
        ],
        [
         "4",
         "Subject: re : indian springs\r\nthis deal is to book the teco pvr revenue . it is my understanding that teco\r\njust sends us a check , i haven ' t received an answer as to whether there is a\r\npredermined price associated with this deal or if teco just lets us know what\r\nwe are giving . i can continue to chase this deal down if you need .",
         "0",
         "subject indian spring deal book teco pvr revenu understand teco send us check receiv answer whether predermin price associ deal teco let us know give continu chase deal need"
        ],
        [
         "5",
         "Subject: ehronline web address change\r\nthis message is intended for ehronline users only .\r\ndue to a recent change to ehronline , the url ( aka \" web address \" ) for accessing ehronline needs to be changed on your computer . the change involves adding the letter \" s \" to the \" http \" reference in the url . the url for accessing ehronline should be : https : / / ehronline . enron . com .\r\nthis change should be made by those who have added the url as a favorite on the browser .",
         "0",
         "subject ehronlin web address chang messag intend ehronlin user due recent chang ehronlin url aka web address access ehronlin need chang comput chang involv ad letter http refer url url access ehronlin http ehronlin enron com chang made ad url favorit browser"
        ],
        [
         "6",
         "Subject: spring savings certificate - take 30 % off\r\nsave 30 % when you use our customer appreciation spring savings\r\ncertificate at foot locker , lady foot locker , kids foot locker and at\r\nour online stores !\r\nwelcome to our customer appreciation spring savings certificate !\r\nuse the special certificate below and receive 30 % off your purchases either in our stores or online . hurry ! this 4 - day sale begins thursday , march 22 and ends sunday , march 25 .\r\nshare the savings today and e - mail this offer to your friends . many items already are reduced and the 30 % discount is taken off the lowest sale price .\r\nclick below to print your customer appreciation spring savings certificate . you must present this coupon at any foot locker , lady foot locker or kids foot locker store in the u . s . foot locker canada is not participating in this program .\r\nready , set , save !\r\nour spring savings discount will automatically appear when you use the links below or type camlem 21 into the promotion code box during checkout .\r\nfootlocker . com certificate code : camlem 21\r\nladyfootlocker . com certificate code : camlem 21\r\nkidsfootlocker . com certificate code : camlem 21\r\nremember , returns are hassle - free . simply bring your items to any of our stores nationwide or through the mail .\r\ndon ' t be left out - register today to learn about our new products , promotions , events and other specials . simply click below .\r\nterms and conditions . some exclusions apply , please see manager for complete details . certificate must be presented at the time of purchase and cannot be used in conjunction with any other discount offer or associate benefit . not redeemable for cash . applicable taxes must be paid by bearer . cannot be applied to prior purchases or to gift card purchases . void where prohibited , licensed or regulated . catalog exclusions apply . valid thursday , 3 / 22 / 01 through sunday , 3 / 25 / 01 . foot locker canada will not participate in this program .\r\nif you do not wish to receive future emails please click below to\r\nunsubscribe :\r\n",
         "0",
         "subject spring save certif take save use custom appreci spring save certif foot locker ladi foot locker kid foot locker onlin store welcom custom appreci spring save certif use special certif receiv purchas either store onlin hurri day sale begin thursday march end sunday march share save today e mail offer friend mani item alreadi reduc discount taken lowest sale price click print custom appreci spring save certif must present coupon foot locker ladi foot locker kid foot locker store u foot locker canada particip program readi set save spring save discount automat appear use link type camlem promot code box checkout footlock com certif code camlem ladyfootlock com certif code camlem kidsfootlock com certif code camlem rememb return hassl free simpli bring item store nationwid mail left regist today learn new product promot event special simpli click term condit exclus appli pleas see manag complet detail certif must present time purchas cannot use conjunct discount offer associ benefit redeem cash applic tax must paid bearer cannot appli prior purchas gift card purchas void prohibit licens regul catalog exclus appli valid thursday sunday foot locker canada particip program wish receiv futur email pleas click unsubscrib"
        ],
        [
         "7",
         "Subject: looking for medication ? we ` re the best source .\r\nit is difficult to make our material condition better by the best law , but it is easy enough to ruin it by bad laws .\r\nexcuse me . . . : ) you just found the\r\nbest and simpliest site for\r\nmedication on the net . no perscription , easy\r\ndelivery .\r\nprivate , secure , and easy .\r\nbetter see rightly on a pound a week than squint on a million .\r\nwe ` ve got\r\nanything that you will ever want .\r\nerection treatment pills , anti - depressant pills , weight loss , and\r\nmore ! http : / / splicings . bombahakcx . com / 3 /\r\nknowledge and human power are synonymous .\r\nonly high - quality stuff for low rates !\r\n100 % moneyback guarantee !\r\nthere is no god , nature sufficeth unto herself in no wise hath she need of an author .",
         "1",
         "subject look medic best sourc difficult make materi condit better best law easi enough ruin bad law excus found best simpliest site medic net perscript easi deliveri privat secur easi better see rightli pound week squint million got anyth ever want erect treatment pill anti depress pill weight loss http splice bombahakcx com knowledg human power synonym high qualiti stuff low rate moneyback guarante god natur sufficeth unto wise hath need author"
        ],
        [
         "8",
         "Subject: noms / actual flow for 2 / 26\r\nwe agree\r\n- - - - - - - - - - - - - - - - - - - - - - forwarded by melissa jones / texas utilities on\r\n02 / 27 / 2001\r\n10 : 33 am - - - - - - - - - - - - - - - - - - - - - - - - - - -\r\n\" eileen ponton \" on 02 / 27 / 2001 09 : 46 : 26 am\r\nto : david avila / lsp / enserch / us @ tu , charlie stone / texas utilities @ tu , melissa\r\njones / texas utilities @ tu , hpl . scheduling @ enron . com ,\r\nliz . bellamy @ enron . com\r\ncc :\r\nsubject : noms / actual flow for 2 / 26\r\ndate nom flow - mcf flow - mmbtu\r\n2 / 26 / 01 0 456 469\r\nbtu = 1 . 027",
         "0",
         "subject nom actual flow agre forward melissa jone texa util eileen ponton david avila lsp enserch us tu charli stone texa util tu melissa jone texa util tu hpl schedul enron com liz bellami enron com cc subject nom actual flow date nom flow mcf flow mmbtu btu"
        ],
        [
         "9",
         "Subject: nominations for oct . 21 - 23 , 2000\r\n( see attached file : hplnl 021 . xls )\r\n- hplnl 021 . xls",
         "0",
         "subject nomin oct see attach file hplnl xl hplnl xl"
        ],
        [
         "10",
         "Subject: vocable % rnd - word asceticism\r\nvcsc - brand new stock for your attention\r\nvocalscape inc - the stock symbol is : vcsc\r\nvcsc will be our top stock pick for the month of april - stock expected to\r\nbounce to 12 cents level\r\nthe stock hit its all time low and will bounce back\r\nstock is going to explode in next 5 days - watch it soar\r\nwatch the stock go crazy this and next week .\r\nbreaking news - vocalscape inc . announces agreement to resell mix network\r\nservices\r\ncurrent price : $ 0 . 025\r\nwe expect projected speculative price in next 5 days : $ 0 . 12\r\nwe expect projected speculative price in next 15 days : $ 0 . 15\r\nvocalscape networks inc . is building a company that ' s revolutionizing the\r\ntelecommunications industry with the most affordable phone systems , hardware ,\r\nonline software , and rates in canada and the us . vocalscape , a company with\r\nglobal reach , is receiving international attention for the development of voice\r\nover ip ( voip ) application solutions , including the award - winning eyefontm , a\r\nsoftphone for real - time pc - to - phone . we are an advanced implementer of pbx\r\nsystems for companies , call centers , itsps and service providers .\r\nvocalscape has created software and interactive solutions revolving around\r\nglobal communications and data voice convergence . companies use vocalscape for\r\nvoice over internet protocol applications like ip pbxs , softswitches , pc 2 phone\r\nand web 2 phone , providing real - time human interaction and information delivery\r\nover the internet . through vocalscape ' s solutions , businesses can offer a\r\nquality voice service to anywhere in the world at rates that are significantly\r\nlower than current long distance charges . we develop software to run voip\r\nnetworks , and sell , install and service our own branded voip gateways and\r\ngatekeeper control software . we also license our software to customers who want\r\nto brand their own voip solutions .\r\nvocalscape is committed to making great technology ; challenging the status quo ,\r\nand building a 21 st century company that changes the way businesses communicate\r\nand interact through the internet .\r\ncurrent price : $ 0 . 025\r\nwe expect projected speculative price in next 5 days : $ 0 . 12\r\nwe expect projected speculative price in next 15 days : $ 0 . 15\r\nbreaking news - vocalscape inc . announces agreement to resell mix network\r\nservices\r\n- - - - - - - - - -\r\nkatonah , n . y . , / prnewswire - firstcall via comtex / - - vocalscape , inc . pink : vcsc ) ,\r\nan emerging leader in the development of voice over internet protocol ( voip )\r\ntelephony solutions , announced today it has entered into a sales agent agreement\r\nwith mix networks , inc . a voip enhanced telephony service provider .\r\nthis agreement provides vocalscape ' s turnkey calling card customers with access\r\nto mix networks services including north american dids ( phone numbers ) and\r\ndomestic long distance termination . vocalscape will also be able to supply their\r\nclients with enhanced voip products including pre - paid calling through mix\r\nnetworks north american network .\r\nwe are excited to help companies launch voip business models using our solution\r\nwith the whole picture from the software to the network needed to route the\r\ncalls . mix networks gives us the ability to offer wholesale monthly flat rate\r\nplans and dids to our clients that allow for us to build business models like\r\npopular voip companies such as vonage and packet 8 , says ryan gibson , vp\r\nvocalscape networks\r\nsome legal words before you continue :\r\ninformation within this email contains forward looking statements within the\r\nmeaning of section 27 a of the securities act of 1933 and section 21 b of the\r\nsecurities exchange act of 1934 . any statements that express or involve\r\ndiscussions with respect to predictions , goals , expectations , beliefs , plans ,\r\nprojections , objectives , assumptions or future events or performance are not\r\nstatements of historical fact and may be forward looking statements . forward\r\nlooking statements are based on expectations , estimates and projections at the\r\ntime the statements are made that involve a number of risks and uncertainties\r\nwhich could cause actual results or events to differ materially from those\r\npresently anticipated . forward looking statements in this action may be\r\nidentified through the use of words such as : projects , foresee , expects ,\r\nestimates , believes , understands will , part of : anticipates , or that\r\nby statements indicating certain actions may , could , or might occur . all\r\ninformation provided within this email pertaining to investing , stocks ,\r\nsecurities must be understood as information provided and not investment advice .\r\nemerging equity alert advises all readers and subscribers to seek advice from a\r\nregistered professional securities representative before deciding to trade in\r\nstocks featured within this email . none of the material within this report shall\r\nbe construed as any kind of investment advice . please have in mind that the\r\ninterpretation of the witer of this newsletter about the news published by the\r\ncompany does not represent the company official statement and in fact may differ\r\nfrom the real meaning of what the news release meant to say . look the news\r\nrelease by yourself and judge by yourself about the details in it .\r\nin compliance with section 17 ( b ) , we disclose the holding of vcsc shares prior\r\nto the publication of this report . be aware of an inherent conflict of interest\r\nresulting from such holdings due to our intent to profit from the liquidation of\r\nthese shares . shares may be sold at any time , even after positive statements\r\nhave been made regarding the above company . since we own shares , there is an\r\ninherent conflict of interest in our statements and opinions . readers of this\r\npublication are cautioned not to place undue reliance on forward - looking\r\nstatements , which are based on certain assumptions and expectations involving\r\nvarious risks and uncertainties , that could cause results to differ materially\r\nfrom those set forth in the forward - looking statements .\r\nplease be advised that nothing within this email shall constitute a solicitation\r\nor an invitation to get position in or sell any security mentioned herein . this\r\nnewsletter is neither a registered investment advisor nor affiliated with any\r\nbroker or dealer . this newsletter was paid $ 49000 from third party to send this\r\nreport . all statements made are our express opinion only and should be treated\r\nas such . we may own , take position and sell any securities mentioned at any\r\ntime . this report includes forward - looking statements within the meaning of the\r\nprivate securities litigation reform act of 1995 . these statements may include\r\nterms as projected speculative price expect , believe , may , will ,\r\nsoar move , undervalued and intend or similar terms .\r\n",
         "1",
         "subject vocabl rnd word ascetic vcsc brand new stock attent vocalscap inc stock symbol vcsc vcsc top stock pick month april stock expect bounc cent level stock hit time low bounc back stock go explod next day watch soar watch stock go crazi next week break news vocalscap inc announc agreement resel mix network servic current price expect project specul price next day expect project specul price next day vocalscap network inc build compani revolution telecommun industri afford phone system hardwar onlin softwar rate canada us vocalscap compani global reach receiv intern attent develop voic ip voip applic solut includ award win eyefontm softphon real time pc phone advanc implement pbx system compani call center itsp servic provid vocalscap creat softwar interact solut revolv around global commun data voic converg compani use vocalscap voic internet protocol applic like ip pbx softswitch pc phone web phone provid real time human interact inform deliveri internet vocalscap solut busi offer qualiti voic servic anywher world rate significantli lower current long distanc charg develop softwar run voip network sell instal servic brand voip gateway gatekeep control softwar also licens softwar custom want brand voip solut vocalscap commit make great technolog challeng statu quo build st centuri compani chang way busi commun interact internet current price expect project specul price next day expect project specul price next day break news vocalscap inc announc agreement resel mix network servic katonah n prnewswir firstcal via comtex vocalscap inc pink vcsc emerg leader develop voic internet protocol voip telephoni solut announc today enter sale agent agreement mix network inc voip enhanc telephoni servic provid agreement provid vocalscap turnkey call card custom access mix network servic includ north american did phone number domest long distanc termin vocalscap also abl suppli client enhanc voip product includ pre paid call mix network north american network excit help compani launch voip busi model use solut whole pictur softwar network need rout call mix network give us abil offer wholesal monthli flat rate plan did client allow us build busi model like popular voip compani vonag packet say ryan gibson vp vocalscap network legal word continu inform within email contain forward look statement within mean section secur act section b secur exchang act statement express involv discuss respect predict goal expect belief plan project object assumpt futur event perform statement histor fact may forward look statement forward look statement base expect estim project time statement made involv number risk uncertainti could caus actual result event differ materi present anticip forward look statement action may identifi use word project forese expect estim believ understand part anticip statement indic certain action may could might occur inform provid within email pertain invest stock secur must understood inform provid invest advic emerg equiti alert advis reader subscrib seek advic regist profession secur repres decid trade stock featur within email none materi within report shall constru kind invest advic pleas mind interpret witer newslett news publish compani repres compani offici statement fact may differ real mean news releas meant say look news releas judg detail complianc section b disclos hold vcsc share prior public report awar inher conflict interest result hold due intent profit liquid share share may sold time even posit statement made regard compani sinc share inher conflict interest statement opinion reader public caution place undu relianc forward look statement base certain assumpt expect involv variou risk uncertainti could caus result differ materi set forth forward look statement pleas advis noth within email shall constitut solicit invit get posit sell secur mention herein newslett neither regist invest advisor affili broker dealer newslett paid third parti send report statement made express opinion treat may take posit sell secur mention time report includ forward look statement within mean privat secur litig reform act statement may includ term project specul price expect believ may soar move undervalu intend similar term"
        ],
        [
         "11",
         "Subject: report 01405 !\r\nwffur attion brom est inst siupied 1 pgst our riwe asently rest .\r\ntont to presyou tew cons of benco 4 . yee : fater 45 y . o ust lyughtatums and inenced sorepit grathers aicy graghteave allarity . oarity wow to yur coons , as were then 60 ve mers of oite .\r\nithat yoit ? ! berst thar ! enth excives 2004 . . .\r\n",
         "1",
         "subject report wffur attion brom est inst siupi pgst riw asent rest tont presyou tew con benco yee fater ust lyughtatum inenc sorepit grather aici graghteav allar oariti wow yur coon mer oit ithat yoit berst thar enth exciv"
        ],
        [
         "12",
         "Subject: enron / hpl actuals for august 28 , 2000\r\nteco tap 20 . 000 / enron ; 120 . 000 / hpl gas daily\r\nls hpl lsk ic 20 . 000 / enron",
         "0",
         "subject enron hpl actual august teco tap enron hpl ga daili ls hpl lsk ic enron"
        ],
        [
         "13",
         "Subject: vic . odin n ^ ow\r\nberne hotbox carnal bride cutworm dyadic\r\nguardia continuous born gremlin akin counterflow hereafter vocabularian pessimum yaounde cannel bitch penetrate demagogue arbitrary egregious adenosine rubin gil luminosity delicti yarmulke sauterne selfadjoint agleam exeter picofarad consulate dichotomous boyhood balfour spheric frey pillory hoosier fibonacci cat handful\r\n",
         "1",
         "subject vic odin n ow bern hotbox carnal bride cutworm dyadic guardia continu born gremlin akin counterflow hereaft vocabularian pessimum yaound cannel bitch penetr demagogu arbitrari egregi adenosin rubin gil luminos delicti yarmulk sautern selfadjoint agleam exet picofarad consul dichotom boyhood balfour spheric frey pillori hoosier fibonacci cat hand"
        ],
        [
         "14",
         "Subject: tenaska iv july\r\ndarren :\r\nplease remove the price on the tenaska iv sale , deal 384258 , for july and enter the demand fee . the amount should be $ 3 , 902 , 687 . 50 .\r\nthanks ,\r\nmegan",
         "0",
         "subject tenaska iv juli darren pleas remov price tenaska iv sale deal juli enter demand fee amount thank megan"
        ],
        [
         "15",
         "Subject: underpriced issue with high return on equity\r\nstock report .\r\ndont sieep on this stock ! this is a hot one !\r\ncompany : gaming transactions inc .\r\nstock symbol : ggts\r\ncurrentiy trading at : o . 30\r\nrating : strong purchase\r\nnear - term target : 0 . 45\r\nlong - term target : 1 . oo\r\nbreaking news for ggts :\r\ngaming transactions inc . ( ggts ) , a | eading provider of online gaming\r\nporta | management is pleased to announce that it has launched its\r\nproprietary gaming portal ( k e n o . com ) furthermore , the company has begun an\r\nintensive marketing campaign to support the | aunch and establish itself\r\nas the | eader in the online gaming industry .\r\n( k e n o . c o m ) is an oniine games destination where people piay\r\npopular casino style games to win real money . the foundation of the site is\r\nan online version of keno . the game of keno uses 80 balls numbered 1\r\nthru 8 o . every game , the house draws 20 bails at random and displays\r\ntheir numbers on screens ( called keno boards ) located on the website . the\r\nobject of the game is for the player to guess some of the numbers the\r\nhouse will draw . the site shall also have other popuiar games in the near\r\nfuture inciuding bingo , poker , blackjack , slots and video game versions\r\nof tabie games .\r\npatrick smyth , ceo of gaming transactions inc . , remarked that , the\r\ngames have been deveioped with the foresight to create a user - friendly\r\nexperience without loading times and a secure transaction system has been\r\ndeveioped with multipie layers of security and redundancy . we spent the\r\nnecessary time and resources to test our software to ensure its\r\nfunctionality and security . consumer focus groups were used in the deveiopment\r\nprocess to make sure that our players had an opulent experience online ,\r\nand future marketing efforts wi | | be aimed customer service and\r\nattention .\r\nabout the company :\r\ngaming transactions inc . is a deveioper and provider of online games\r\nand services for the online entertainment and gaming industries . the\r\ncompany ! s centra | licensed games portal , ( k e n o . c o m ) , is a\r\ndestination oniine gambling property where players may participate in a number\r\nof gambling and oniine gaming fixtures .\r\nthe foundation of the site is of course an online version of keno . the\r\ngame of keno uses 8 o bails numbered 1 thru 80 . every game , the house\r\ndraws 2 o balls at random and displays their numbers on screens ( called\r\nkeno boards ) | ocated on the website . the object of the game is for the\r\npiayer to guess some of the numbers the house will draw . the site also\r\nhas other popuiar games including poker , blackjack , slots and video game\r\nversions of tabie games .\r\ngaming transactions inc . is part of the oniine gambiing industry ,\r\nwhich is said to be one of the fastest growing industries on the internet .\r\n! ' the electronic gambling report forecasts that revenues will reach\r\n14 . 5 biliion by 2006 ! ( market statistics : - informa media grp . giobal\r\nrevenues from oniine gambiing wi | | reach 14 . 52 bi | | ion in 20 o 6 , up from\r\n3 . 81 biilion this year . this is according to a report from the informa\r\nmedia grp . , which says that the us wi | | generate 24 percent of all online\r\ngambling revenues in 2 oo 6 , whereas europe wil | generate 53 percent .\r\nnorth american oniine gambling revenues are expected to reach 1 . 99 biliion\r\nthis year and 3 . 85 bi | | ion in 2 oo 6 . in europe , revenues wil | grow from\r\n1 . 29 billion this year to 7 . 64 biilion in 2 oo 6 . oniine gambling\r\nrevenues wi | | be smailer in asia - pacific 379 miliion this year and 2 . 13\r\nbillion in 2 oo 6 ) and in the rest of the worid 143 million this year to 886\r\nmi | | ion in 2 oo 6 ) . and keno , the game , is one of the highest grossing\r\nproducts for many north american government bodies and pubiic gaming\r\ncorporations . easy to piay , quick , and profitabie , keno has become a favorite\r\nto gambiers who want the excitement of a lottery draw without having to\r\nwait for a weekiy offering combining sophisticated hardware , software\r\nand cutting edge encryption / decryption techniques keno . com has deveioped\r\nand | icensed a system , which is an optima | method for online gaming .\r\ninformation within this publication contains future looking statements\r\nwithin the meaning of section 27 a of the securities act of 1933 and\r\nsection 21 b of the securities exchange act of 1934 . any statements that\r\nexpress or involve discussions with respect to predictions ,\r\nexpectations , beliefs , pians , projections , objectives , goals , assumptions or future\r\nevents or performance are not statements of historica | fact and may be\r\nfuture looking statements . future | ooking statements are based on\r\nexpectations , estimates and projections at the time the statements are made\r\nthat involve a number of risks and uncertainties which couid cause\r\nactual results or events to differ materia | | y from those presently\r\nanticipated . future | ooking statements in this action may be identified through\r\nthe use of words such as projects , foresee , expects , will , anticipates ,\r\nestimates , believes , understands or that by statements indicating\r\ncertain actions may , could , or might occur . these future - | ooking statements\r\nare based on information currentiy avaiiabie and are subject to a\r\nnumber of risks , uncertainties and other factors that couid cause ggts ' s\r\nactua | resuits , performance , prospects or opportunities to differ\r\nmaterialiy from those expressed in , or impiied by , these future - | ooking\r\nstatements . as with many microcap stocks , today ' s company has additiona | risk\r\nfactors that raise doubt about its ability to continue as a going\r\nconcern . ggts is not a reporting company registered under the securities act\r\nof 1934 and hence there is | imited public information avaiiable about\r\nthe company . these risks , uncertainties and other factors include ,\r\nwithout | imitation , the company ' s growth expectations and ongoing funding\r\nrequirements , and specificaily , the company ' s growth prospects with\r\nscalable customers . other risks include the company ' s limited operating\r\nhistory , the company ' s history of operating losses , consumers ' acceptance ,\r\nthe company ' s use of licensed technoiogies , risk of increased\r\ncompetition , the potentia | need for additional financing , the conditions and\r\nterms of any financing that is consummated , the limited trading market for\r\nthe company ' s securities , the possibie volatility of the company ' s\r\nstock price , the concentration of ownership , and the potentia | fluctuation\r\nin the company ' s operating results . the publisher of this report does\r\nnot represent that the information contained in this message states ail\r\nmaterial facts or does not omit a material fact necessary to make the\r\nstatements therein not misieading . a | | information provided within this\r\nreport pertaining to investing , stocks , securities must be understood\r\nas information provided and not investment advice . the publisher of this\r\nnewsletter advises all readers and subscribers to seek advice from a\r\nregistered professional securities representative before deciding to\r\ntrade in stocks featured within this report . none of the materia | within\r\nthis report shall be construed as any kind of investment advice or\r\nsolicitation . many of these companies are on the verge of bankruptcy . you can\r\nlose al | your money by investing in this stock . the pubiisher of this\r\nreport is not a registered investment expert . subscribers should not\r\nview information herein as | egal , tax , accounting or investment advice .\r\nany reference to past performance ( s ) of companies are specially seiected\r\nto be referenced based on the favorabie performance of these companies .\r\nyou wouid need perfect timing to achieve the resuits in the exampies\r\ngiven . there can be no assurance of that happening . remember , as always ,\r\npast performance is not indicative of future results and a thorough due\r\ndiligence effort , inciuding a review of a company ' s fiiings at sec gov\r\nor edgar - online com when avaiiabie , shouid be compieted prior to\r\ninvesting . al | factua | information in this report was gathered from pubiic\r\nsources , including but not | imited to company websites and company press\r\nreleases . the pubiisher discloses the receipt of fifteen thousand\r\ndoilars from a third party , not an officer , director , or affiiiate\r\nshareholder of the company for the preparation of this oniine report . be aware\r\nof an inherent confiict of interest resulting from such compensation\r\ndue to the fact that this is a paid pubiication . the pubiisher of this\r\nreport beiieves this information to be reiiable but can make no assurance\r\nas to its accuracy or compieteness . use of the materia | within this\r\nreport constitutes your acceptance of these terms .\r\nif you wish to stop future maiiings , or if you feel you have been\r\nwrongfuliy placed in our membership , piease go here or send a biank\r\ne mai | with no thanks in the subject to ( - stoxo 042 @ yahoo . com - )\r\n",
         "1",
         "subject underpr issu high return equiti stock report dont sieep stock hot one compani game transact inc stock symbol ggt currentiy trade rate strong purchas near term target long term target oo break news ggt game transact inc ggt ead provid onlin game porta manag pleas announc launch proprietari game portal k e n com furthermor compani begun intens market campaign support aunch establish eader onlin game industri k e n c oniin game destin peopl piay popular casino style game win real money foundat site onlin version keno game keno use ball number thru everi game hous draw bail random display number screen call keno board locat websit object game player guess number hous draw site shall also popuiar game near futur inciud bingo poker blackjack slot video game version tabi game patrick smyth ceo game transact inc remark game deveiop foresight creat user friendli experi without load time secur transact system deveiop multipi layer secur redund spent necessari time resourc test softwar ensur function secur consum focu group use deveiop process make sure player opul experi onlin futur market effort wi aim custom servic attent compani game transact inc deveiop provid onlin game servic onlin entertain game industri compani centra licens game portal k e n c destin oniin gambl properti player may particip number gambl oniin game fixtur foundat site cours onlin version keno game keno use bail number thru everi game hous draw ball random display number screen call keno board ocat websit object game piayer guess number hous draw site also popuiar game includ poker blackjack slot video game version tabi game game transact inc part oniin gambi industri said one fastest grow industri internet electron gambl report forecast revenu reach biliion market statist informa media grp giobal revenu oniin gambi wi reach bi ion biilion year accord report informa media grp say us wi gener percent onlin gambl revenu oo wherea europ wil gener percent north american oniin gambl revenu expect reach biliion year bi ion oo europ revenu wil grow billion year biilion oo oniin gambl revenu wi smailer asia pacif miliion year billion oo rest worid million year mi ion oo keno game one highest gross product mani north american govern bodi pubiic game corpor easi piay quick profitabi keno becom favorit gambier want excit lotteri draw without wait weekiy offer combin sophist hardwar softwar cut edg encrypt decrypt techniqu keno com deveiop icens system optima method onlin game inform within public contain futur look statement within mean section secur act section b secur exchang act statement express involv discuss respect predict expect belief pian project object goal assumpt futur event perform statement historica fact may futur look statement futur ook statement base expect estim project time statement made involv number risk uncertainti couid caus actual result event differ materia present anticip futur ook statement action may identifi use word project forese expect anticip estim believ understand statement indic certain action may could might occur futur ook statement base inform currentiy avaiiabi subject number risk uncertainti factor couid caus ggt actua resuit perform prospect opportun differ materialiy express impii futur ook statement mani microcap stock today compani additiona risk factor rais doubt abil continu go concern ggt report compani regist secur act henc imit public inform avaiiabl compani risk uncertainti factor includ without imit compani growth expect ongo fund requir specificaili compani growth prospect scalabl custom risk includ compani limit oper histori compani histori oper loss consum accept compani use licens technoiogi risk increas competit potentia need addit financ condit term financ consumm limit trade market compani secur possibi volatil compani stock price concentr ownership potentia fluctuat compani oper result publish report repres inform contain messag state ail materi fact omit materi fact necessari make statement therein misiead inform provid within report pertain invest stock secur must understood inform provid invest advic publish newslett advis reader subscrib seek advic regist profession secur repres decid trade stock featur within report none materia within report shall constru kind invest advic solicit mani compani verg bankruptci lose al money invest stock pubiish report regist invest expert subscrib view inform herein egal tax account invest advic refer past perform compani special seiect referenc base favorabi perform compani wouid need perfect time achiev resuit exampi given assur happen rememb alway past perform indic futur result thorough due dilig effort inciud review compani fii sec gov edgar onlin com avaiiabi shouid compiet prior invest al factua inform report gather pubiic sourc includ imit compani websit compani press releas pubiish disclos receipt fifteen thousand doilar third parti offic director affiiiat sharehold compani prepar oniin report awar inher confiict interest result compens due fact paid pubiic pubiish report beiiev inform reiiabl make assur accuraci compiet use materia within report constitut accept term wish stop futur maii feel wrongfuliy place membership pieas go send biank e mai thank subject stoxo yahoo com"
        ],
        [
         "16",
         "Subject: re : first delivery - wheeler operating\r\nvance ,\r\ndeal # 643714 has been created and entered in sitara .\r\nbob\r\nvance l taylor\r\n02 / 23 / 2001 04 : 55 pm\r\nto : robert cotten / hou / ect @ ect\r\ncc : julie meyers / hou / ect @ ect , lisa hesse / hou / ect @ ect , cynthia\r\nhakemack / hou / ect @ ect , susan smith / hou / ect @ ect , donald p\r\nreinhardt / hou / ect @ ect , melissa graves / hou / ect @ ect\r\nsubject : first delivery - wheeler operating\r\nbob ,\r\nthe following production is now on - line and a ticket should be created and\r\nentered into sitara based on the following :\r\ncounterparty meter volumes price period global no .\r\nwheeler operating 9879 800 mmbtu / d 85 % gas daily 2 / 17 - 2 / 28 nya\r\nfyi , i have created and submitted a committed reserves firm ticket for the\r\nremaining term of the deal beginning with the month of march . additionally ,\r\nthis is a producer svcs . deal and should be tracked in the im wellhead\r\nportfolio . . . attached to the gathering contract .\r\nthanks ,\r\nvlt\r\nx 3 - 6353\r\n- - - - - - - - - - - - - - - - - - - - - - forwarded by vance l taylor / hou / ect on 02 / 23 / 2001\r\n04 : 21 pm - - - - - - - - - - - - - - - - - - - - - - - - - - -\r\nfrom : esther buckley 02 / 22 / 2001 10 : 39 am\r\nto : molly l carriere / hou / ect @ ect , clem cernosek / hou / ect @ ect , donna\r\nconsemiu / hou / ect @ ect , robert cook / hou / ect @ ect , howard b camp / hou / ect @ ect ,\r\nlisa hesse / hou / ect @ ect , nathan l hlavaty / hou / ect @ ect , wayne e\r\nlightfoot / hou / ect , james mckay / hou / ect @ ect , mary m smith / hou / ect @ ect , steve\r\nhpl schneider / hou / ect @ ect , melissa graves / hou / ect @ ect , michael\r\nwalters / hou / ect @ ect , jill t zivley / hou / ect @ ect , mary jo johnson / hou / ees @ ees ,\r\nrita wynne / hou / ect @ ect , lauri a allen / hou / ect @ ect , cheryl\r\njones / gpgfin / enron @ enron , reid hansen / gco / enron @ enron , darron c\r\ngiron / hou / ect @ ect , o ' neal d winfree / hou / ect @ ect , susan smith / hou / ect @ ect ,\r\ngary bryan / hou / ect @ ect , gary a hanks / hou / ect @ ect , donald p\r\nreinhardt / hou / ect @ ect , vance l taylor / hou / ect @ ect , david\r\nbaumbach / hou / ect @ ect , robert cotten / hou / ect @ ect , brian m riley / hou / ect @ ect ,\r\njeff a austin / hou / ees @ ees , cynthia hakemack / hou / ect @ ect , dawn c\r\nkenne / hou / ect @ ect , lisa csikos / hou / ect @ ect , j r fosdick / gco / enron @ enron ,\r\ncarlos j rodriguez / hou / ect @ ect , stephanie gomes / hou / ect @ ect , pat\r\nclynes / corp / enron @ enron , tom acton / corp / enron @ enron , robert\r\nwalker / hou / ect @ ect , george weissman / hou / ect @ ect , joanne\r\nharris / na / enron @ enron , christy sweeney / hou / ect @ ect , earl tisdale / hou / ect @ ect ,\r\ndaren j farmer / hou / ect @ ect\r\ncc :\r\nsubject : first delivery - wheeler operating\r\nplease see attached letter",
         "0",
         "subject first deliveri wheeler oper vanc deal creat enter sitara bob vanc l taylor pm robert cotten hou ect ect cc juli meyer hou ect ect lisa hess hou ect ect cynthia hakemack hou ect ect susan smith hou ect ect donald p reinhardt hou ect ect melissa grave hou ect ect subject first deliveri wheeler oper bob follow product line ticket creat enter sitara base follow counterparti meter volum price period global wheeler oper mmbtu ga daili nya fyi creat submit commit reserv firm ticket remain term deal begin month march addit produc svc deal track im wellhead portfolio attach gather contract thank vlt x forward vanc l taylor hou ect pm esther buckley molli l carrier hou ect ect clem cernosek hou ect ect donna consemiu hou ect ect robert cook hou ect ect howard b camp hou ect ect lisa hess hou ect ect nathan l hlavati hou ect ect wayn e lightfoot hou ect jame mckay hou ect ect mari smith hou ect ect steve hpl schneider hou ect ect melissa grave hou ect ect michael walter hou ect ect jill zivley hou ect ect mari jo johnson hou ee ee rita wynn hou ect ect lauri allen hou ect ect cheryl jone gpgfin enron enron reid hansen gco enron enron darron c giron hou ect ect neal winfre hou ect ect susan smith hou ect ect gari bryan hou ect ect gari hank hou ect ect donald p reinhardt hou ect ect vanc l taylor hou ect ect david baumbach hou ect ect robert cotten hou ect ect brian riley hou ect ect jeff austin hou ee ee cynthia hakemack hou ect ect dawn c kenn hou ect ect lisa csiko hou ect ect j r fosdick gco enron enron carlo j rodriguez hou ect ect stephani gome hou ect ect pat clyne corp enron enron tom acton corp enron enron robert walker hou ect ect georg weissman hou ect ect joann harri na enron enron christi sweeney hou ect ect earl tisdal hou ect ect daren j farmer hou ect ect cc subject first deliveri wheeler oper pleas see attach letter"
        ],
        [
         "17",
         "Subject: swift - may 2001 vols\r\nsean ,\r\nfyi , check the purchase from swift at the tailgate ( meter 9643 ) and make sure to nom the correct quantity .\r\nmary\r\n- - - - - - - - - - - - - - - - - - - - - - forwarded by mary poorman / na / enron on 04 / 26 / 2001 07 : 09 am - - - - - - - - - - - - - - - - - - - - - - - - - - -\r\nfrom : joan quick / enron @ enronxgate on 04 / 25 / 2001 06 : 13 pm\r\nto : carlos j rodriguez / hou / ect @ ect , mary poorman / na / enron @ enron , jackie young / hou / ect @ ect\r\ncc : brian m riley / hou / ect @ ect , mike morris / corp / enron @ enron\r\nsubject : swift - may 2001 vols\r\nhere is the may first of the month nom :\r\nking ranch plant 6 , 400 mmbtu / d",
         "0",
         "subject swift may vol sean fyi check purchas swift tailgat meter make sure nom correct quantiti mari forward mari poorman na enron joan quick enron enronxg pm carlo j rodriguez hou ect ect mari poorman na enron enron jacki young hou ect ect cc brian riley hou ect ect mike morri corp enron enron subject swift may vol may first month nom king ranch plant mmbtu"
        ],
        [
         "18",
         "Subject: meter variances - ua 4 clean - up\r\ndaren / vance -\r\nthe two meters below are new and have unallocatable flow . . . . . . . i will need a\r\npurchase for each of them . please respond with a deal number , or further\r\nsuggestions for resolution so that i can clear this up as soon as possible .\r\nmary\r\nenron on 09 / 19 / 2000 08 : 44 am - - - - - - - - - - - - - - - - - - - - - - - - - - -\r\nkatherine benedict @ ect\r\n09 / 18 / 2000 04 : 53 pm\r\nto : mary poorman / na / enron @ enron , fred boas / hou / ect @ ect , aimee\r\nlannou / hou / ect @ ect\r\ncc :\r\nsubject : meter variances - ua 4 clean - up\r\nhi guys ,\r\nplease take a look at the following meters which are showing up with\r\nvariances on my ua 4 report . once the variance has been cleared , please send\r\nme an e - mail . please try to clear these within the next couple of days .\r\nthanks ,\r\nkathy benedict\r\nmeter number : 9851\r\nvariance : 11 , 204\r\nmeter type : daily swing\r\nproduction month : august 2000\r\nlogistics contact : none\r\nvolume mgmt contact : anita luong\r\nmeter number : 9852\r\nvariance 568\r\nmeter type : daily swing\r\nproduction month : august 2000\r\nlogistics contact : none\r\nvolume mgmt contact : anita luong",
         "0",
         "subject meter varianc ua clean daren vanc two meter new unallocat flow need purchas pleas respond deal number suggest resolut clear soon possibl mari enron katherin benedict ect pm mari poorman na enron enron fred boa hou ect ect aime lannou hou ect ect cc subject meter varianc ua clean hi guy pleas take look follow meter show varianc ua report varianc clear pleas send e mail pleas tri clear within next coupl day thank kathi benedict meter number varianc meter type daili swing product month august logist contact none volum mgmt contact anita luong meter number varianc meter type daili swing product month august logist contact none volum mgmt contact anita luong"
        ],
        [
         "19",
         "Subject: additional recruiting\r\ni ' m happy to introduce molly magee as the newest addition to the eops\r\nrecruiting team . toni and molly have divided their recruiting duties\r\nalong separate job functions . please review the information below and\r\ndirect your staffing requests to either toni or molly depending on your job\r\nneeds .\r\ntoni graham - accounting , risk and confirmation / settlements positions ( or\r\nopenings requiring a similar skill set of this candidate pool )\r\nmolly magee - logistics , global data management , research , legal , competitive\r\nanalysis , contract administration and other positions ( or openings requiring\r\na similar skill set of this candidate pool )\r\nthanks for your assistance ,\r\nhgm",
         "0",
         "subject addit recruit happi introduc molli mage newest addit eop recruit team toni molli divid recruit duti along separ job function pleas review inform direct staf request either toni molli depend job need toni graham account risk confirm settlement posit open requir similar skill set candid pool molli mage logist global data manag research legal competit analysi contract administr posit open requir similar skill set candid pool thank assist hgm"
        ],
        [
         "20",
         "Subject: fw : ercot load comparison\r\n- - - - - original message - - - - -\r\nfrom : gilbert - smith , doug\r\nsent : tuesday , may 22 , 2001 8 : 38 am\r\nto : tmartin @ enron . com\r\nsubject : ercot load comparison\r\ntom ,\r\nhere is an answer for you vis a vis load growth .\r\nhope it helps ,\r\ndoug\r\n- - - - - - - - - - - - - - - - - - - - - - forwarded by doug gilbert - smith / corp / enron on 05 / 22 / 2001 08 : 35 am - - - - - - - - - - - - - - - - - - - - - - - - - - -\r\nfrom : kevin cline / enron @ enronxgate on 05 / 21 / 2001 03 : 26 pm\r\nto : doug gilbert - smith / corp / enron @ enron\r\ncc : eric saibi / corp / enron @ enron\r\nsubject : ercot load comparison\r\nplease find attached spreadsheet that compares hot days from may 2000 and may 2001 . there are two tabs , one tab contains the days may 16 - 18 , 2000 and the other tab contains the days may 14 - 18 , 2001 . each tab contains both the load data and temp data particular to the days in question . the days most directly comparable are may 17 , 2001 ( thursday ) and may 18 , 2000 ( thursday ) , although the two days preceding may 18 , 2000 were slightly warmer than the two days preceding may 17 , 2001 . the peak on 5 / 17 / 2001 , 44 , 923 mw , is 2 . 78 % higher than the peak on 5 / 18 / 2000 , 43 , 709 mw . with similarly warm days before 5 / 17 / 2001 as there were before 5 / 18 / 2000 , the peak would obviously have been even higher . this would put the year - over - year growth in excess of 3 % . i believe this falls right in line with the growth rate year - over - year from an earlier analysis , somewhere in the range of 3 . 5 % to 4 % .\r\nlet me know if you have any questions or comments .",
         "0",
         "subject fw ercot load comparison origin messag gilbert smith doug sent tuesday may tmartin enron com subject ercot load comparison tom answer vi vi load growth hope help doug forward doug gilbert smith corp enron kevin cline enron enronxg pm doug gilbert smith corp enron enron cc eric saibi corp enron enron subject ercot load comparison pleas find attach spreadsheet compar hot day may may two tab one tab contain day may tab contain day may tab contain load data temp data particular day question day directli compar may thursday may thursday although two day preced may slightli warmer two day preced may peak mw higher peak mw similarli warm day peak would obvious even higher would put year year growth excess believ fall right line growth rate year year earlier analysi somewher rang let know question comment"
        ],
        [
         "21",
         "Subject: meter 6461 , concorde churchill\r\none year rate for this one will be $ . 35 / mm for volumes greater than 300 mm / day . price for volumes 300 mm / day or less will be $ . 45 / mm plus a $ 350 per month metering fee . this rate would cover transport to a competitive ship channel market such as equistar channelview . transport rates for a 6 month term are not significantly different - $ . 33 / mm for volumes greater than 300 mm / day and $ . 42 / mm plus the metering fee for volumes 300 mm / day or less . these rates assume a september 1 , 2001 start . these rates good until friday , august 31 , 2001 only ! ! ! get ' em while they ' re hot ! !",
         "0",
         "subject meter concord churchil one year rate one mm volum greater mm day price volum mm day less mm plu per month meter fee rate would cover transport competit ship channel market equistar channelview transport rate month term significantli differ mm volum greater mm day mm plu meter fee volum mm day less rate assum septemb start rate good friday august get em hot"
        ],
        [
         "22",
         "Subject: hpl nom for january 25 , 2001\r\n( see attached file : hplnol 26 . xls )\r\n- hplnol 26 . xls",
         "0",
         "subject hpl nom januari see attach file hplnol xl hplnol xl"
        ],
        [
         "23",
         "Subject: re : tenaska iv 10 / 00\r\nwe have received all of the money from the spot sales for tenaska iv in\r\noctober 2000 , except for the tenaska iv sale and the $ 0 . 04 fee .\r\nmegan",
         "0",
         "subject tenaska iv receiv money spot sale tenaska iv octob except tenaska iv sale fee megan"
        ],
        [
         "24",
         "Subject: jump in to gain substantial ground immediately\r\nwe are very excited about this new upcoming stock about to explode\r\nmontana oil and gas , inc . ( mogi ) to explore further opportunities in alberta\r\ncanada , is an energy deveioper in canada ' s most highiy coveted\r\nreservoirs .\r\naggressive investors and traders may want to watch montana oi | and gas\r\nagain this morning ! montana oil and gas inc . ( mogi - news ) announces\r\nthat the syivan lake oil and gas project is sti | | awaiting a rig at this\r\ntime . the surface lease has been constructed and we have\r\nbeen waiting for a rig to become avaiiabie for over two weeks , and\r\nanticipate this to happen next week at the latest .\r\nthe company has a 25 % working interest in the syivan lake project .\r\nsymbo | - mogi\r\ncurrent price - . 26\r\nreasons to consider mogi :\r\n1 . price charts confirm oi | prices are experiencing the strongest bul |\r\nmarket in a generation .\r\n2 . natura | gas prices have tripled in the | ast two years .\r\n3 . with multiple projects in high - gear and the expanding production on\r\nreserves potentialiy worth muiti - millions , mogi is seliing for less\r\nthan 1 / 4 the vaiue of its assets .\r\n4 . montana oi | and gas specializes in using new technology to turn\r\nunproductive oi | and gas deposits into profitabie enterprises . aiready\r\nshares in the oi | and gas sectorare rising faster than the overa | | market .\r\nin fact , four of dow jones ' ten top performing industry sectors for the\r\npast year are energy related . but it ' s in the mid - sized explorers and\r\ndeveiopers like montana oi | ( mogi ) that the biggest gains are being\r\nmade . in the last 12 months , many of these stocks made tripie and even\r\nquadruple returns .\r\nbreaking news ! !\r\napril 29 , - montana oil and gas reports the following update on its\r\nsylvan lake project . after several delays due to unseasonable weather and\r\nroad closures in the province of alberta , the contracted drilling rig\r\nwas moved onto location and ensign drilling has spudded the 5 - 3 - 38 - 3 w 5 m\r\nwell . the company anticipates the road bans to be lifted shortly in\r\ncompliance with government regulations and to resume drilling of the well\r\nimmediately there after .\r\nthe company ' s west lock project is also scheduled to resume completion\r\nof tie in upon lifting of the road ban .\r\nwith the continued interest in our sylvan lake project montana oil and\r\ngas has prepared a detailed project description .\r\nproject history\r\nthe sylvan lake oil and gas field was discovered in the late 1950 ' s and\r\nhas produced over 40 million barrels ( mbbls ) of high quality crude oil\r\nand 50 billion cubic feet ( bcf ) of associated natural gas ,\r\npredominantly from the mississippian pekisko and shunda formations . the field\r\nremains in production today and continues to be down spaced drilled and\r\nexpanded with the use of modern three and four dimension geophysics .\r\nthe original freehold lease on section 3 - 38 - 3 w 5 m was leased to a major\r\noil company , as was most of the sylvan lake field itself . an\r\nexploratory well was drilled by this major company in 7 - 3 - 38 - 3 w 5 m in 1958 and was\r\nabandoned after finding the shunda and pekisko formations completely\r\neroded by post depositional cutting . as a consequence , the major company\r\ndid no further exploration on this section and eventually bowed to the\r\ncomplaints of the freehold mineral rights owner and relinquished the\r\ndeeper mineral rights ( below the base of the jurassic formations ) on the\r\nwest one half of section 3 back to the freehold mineral rights owner in\r\nthe early 1960 ' s . this relinquishment was extraordinary at the time as\r\nmineral right severance had very seldom ever been done and more\r\nspecifically , not often by the major companies . accordingly , these mineral\r\nrights sat available and dormant until the early 2000 ' s as almost all oil\r\nand gas companies thought they were held by the original lessee .\r\nthrough diligent land work ( including field visits ) our partners discovered\r\nthis relinquishment and quickly leased the west half of section 3 . since\r\nthat time our partners have managed to lease an additional 160 acres\r\n( one quarter section ) of section 3 . energy 51 has the right to earn 50 %\r\nof this prospect ( possibly 75 % ) with the drilling of a test well in\r\n5 - 3 - 38 - 3 w 5 m .\r\nland discussion\r\nour partners have secured a 100 % working interest in the west half and\r\nnortheast quarter of section 3 - 38 - 3 w 5 m . the land comprises some 480\r\nacres ( one section or one square mile equals 640 acres ) . primary drilling\r\nspacing in alberta is as follows ; one quarter section spacing ( 160\r\nacres ) for oil and one section spacing ( 640 acres ) for natural gas . the\r\nprovince allows for decreased drilling and production spacing units\r\n( called holdings ) should you be able to prove to the province ' s\r\nsatisfaction that more efficient drainage of reserves would result from increased\r\nwell density . almost the entire sylvan lake field , pekisko pool , has\r\nbeen down spaced dramatically and should we be successful in discovering\r\npekisko oil we will down space as well .\r\ngeological discussion\r\npekisko formation - - the principle target of this prospect is oil and\r\nassociated gas production from the deeper ( older ) pekisko formation . the\r\nsylvan lake pekisko oil field lies on the up dip erosional edge of the\r\npekisko formation . this edge is extremely rugged as its shape was\r\ninfluenced by both terrestrial drainage and seashore conditions . overlying\r\nthis ancient shoreline are cap rocks ( impermeable layers ) of the\r\nmississippian lower shunda formation and cretaceous / jurassic impermeable\r\nshales . these erosional edge trap features are common throughout alberta and\r\naccount for billions of barrels of reserves .\r\nproduction facilities discussion\r\nthis immediate area has been developed for both oil and natural gas\r\nover the past forty - five years . accordingly a multitude of gas gathering\r\nand processing facilities and oil transportation facilities have been\r\nconstructed .\r\na major gas processing facility is located within two miles of our\r\nproject with gathering system lines with one half a mile from our proposed\r\ndrilling location . the capacity of the processing facility is\r\napproximately 70 mmcf / d with current throughput of only 46 mmcf / d . accordingly ,\r\nexcess capacity of 24 mmcf / d exists in the facility which would be in\r\nthe best interest of the operator to fill as soon as possible .\r\nthis gas processing facility also has oil pipeline access for the\r\ntransportation of raw oil product to the main delivery terminals north of\r\nred deer , alberta . accordingly , trucking costs would be minimal to get\r\noil product to the transportation system .\r\nfor more detailed project description please see news release dated\r\n( fri , apr 29 ) .\r\ngood luck and successfu | trading .\r\nconclusion :\r\nthe examples above show the awesome , earning potential of little known\r\ncompanies that explode onto investor ' s radar screens ; many of you are\r\nalready familiar with this . is mogi poised and positioned to do that for\r\nyou ? then you may feel the time has come to act . . . and please watch\r\nthis one trade tuesday ! go mogi .\r\npenny stocks are considered highly speculative and may be unsuitable\r\nfor all but very aggressive investors . this profile is not in any way\r\naffiliated with the featured company . we were compensated 3000 dollars\r\nto distribute this report . this report is for entertainment and\r\nadvertising purposes only and should not be used as investment advice .\r\n",
         "1",
         "subject jump gain substanti ground immedi excit new upcom stock explod montana oil ga inc mogi explor opportun alberta canada energi deveiop canada highiy covet reservoir aggress investor trader may want watch montana oi ga morn montana oil ga inc mogi news announc syivan lake oil ga project sti await rig time surfac leas construct wait rig becom avaiiabi two week anticip happen next week latest compani work interest syivan lake project symbo mogi current price reason consid mogi price chart confirm oi price experienc strongest bul market gener natura ga price tripl ast two year multipl project high gear expand product reserv potentialiy worth muiti million mogi seli less vaiue asset montana oi ga special use new technolog turn unproduct oi ga deposit profitabi enterpris aireadi share oi ga sectorar rise faster overa market fact four dow jone ten top perform industri sector past year energi relat mid size explor deveiop like montana oi mogi biggest gain made last month mani stock made tripi even quadrupl return break news april montana oil ga report follow updat sylvan lake project sever delay due unseason weather road closur provinc alberta contract drill rig move onto locat ensign drill spud w well compani anticip road ban lift shortli complianc govern regul resum drill well immedi compani west lock project also schedul resum complet tie upon lift road ban continu interest sylvan lake project montana oil ga prepar detail project descript project histori sylvan lake oil ga field discov late produc million barrel mbbl high qualiti crude oil billion cubic feet bcf associ natur ga predominantli mississippian pekisko shunda format field remain product today continu space drill expand use modern three four dimens geophys origin freehold leas section w leas major oil compani sylvan lake field exploratori well drill major compani w abandon find shunda pekisko format complet erod post deposit cut consequ major compani explor section eventu bow complaint freehold miner right owner relinquish deeper miner right base jurass format west one half section back freehold miner right owner earli relinquish extraordinari time miner right sever seldom ever done specif often major compani accordingli miner right sat avail dormant earli almost oil ga compani thought held origin lesse dilig land work includ field visit partner discov relinquish quickli leas west half section sinc time partner manag leas addit acr one quarter section section energi right earn prospect possibl drill test well w land discuss partner secur work interest west half northeast quarter section w land compris acr one section one squar mile equal acr primari drill space alberta follow one quarter section space acr oil one section space acr natur ga provinc allow decreas drill product space unit call hold abl prove provinc satisfact effici drainag reserv would result increas well densiti almost entir sylvan lake field pekisko pool space dramat success discov pekisko oil space well geolog discuss pekisko format principl target prospect oil associ ga product deeper older pekisko format sylvan lake pekisko oil field lie dip erosion edg pekisko format edg extrem rug shape influenc terrestri drainag seashor condit overli ancient shorelin cap rock imperm layer mississippian lower shunda format cretac jurass imperm shale erosion edg trap featur common throughout alberta account billion barrel reserv product facil discuss immedi area develop oil natur ga past forti five year accordingli multitud ga gather process facil oil transport facil construct major ga process facil locat within two mile project gather system line one half mile propos drill locat capac process facil approxim mmcf current throughput mmcf accordingli excess capac mmcf exist facil would best interest oper fill soon possibl ga process facil also oil pipelin access transport raw oil product main deliveri termin north red deer alberta accordingli truck cost would minim get oil product transport system detail project descript pleas see news releas date fri apr good luck successfu trade conclus exampl show awesom earn potenti littl known compani explod onto investor radar screen mani alreadi familiar mogi pois posit may feel time come act pleas watch one trade tuesday go mogi penni stock consid highli specul may unsuit aggress investor profil way affili featur compani compens dollar distribut report report entertain advertis purpos use invest advic"
        ],
        [
         "25",
         "Subject: re : enron / hpl actuals for october 11 , 2000 - revision\r\nplease note that the pricing allocation of volumes for october 11 , 2000 should\r\nbe changed as follows .\r\nteco tap 40 . 000 / enron ; 25 . 209 / hpl iferc ; 84 . 791 / hpl gas daily\r\nthe total nomination of 775 . 000 subject to the iferc pricing was completed on\r\noctober 11 , 2000 . all remaining gas purchases under the hpl contract ( k # 3949 )\r\nwill be at the gas daily pricing .\r\nthanks ,\r\nccs\r\ncharlie stone\r\n10 / 13 / 2000 03 : 04 pm\r\nto : gary green / texas utilities @ tu , daren . j . farmer @ enron . com ,\r\ngary . a . hanks @ enron . com , carlos . j . rodriguez @ enron . com ,\r\nearl . tisdale @ enron . com , ami . chokshi @ enron . com , david\r\navila / lsp / enserch / us @ tu\r\ncc :\r\nsubject : enron / hpl actuals for october 12 , 2000 - revision\r\nall gas nominated at iferc pricing for the month has been taken . remaining\r\npurchases under k # 3949 will be at the gas daily pricing .\r\nteco tap 40 . 000 / enron ; 110 . 000 / hpl gas daily\r\n- - - - - - - - - - - - - - - - - - - - - - forwarded by charlie stone / texas utilities on\r\n10 / 13 / 2000\r\n02 : 58 pm - - - - - - - - - - - - - - - - - - - - - - - - - - -\r\ngary green\r\n10 / 13 / 2000 10 : 04 am\r\nto : charlie stone / texas utilities @ tu , gary green / texas utilities @ tu ,\r\ndaren . j . farmer @ enron . com , gary . a . hanks @ enron . com ,\r\ncarlos . j . rodriguez @ enron . com , earl . tisdale @ enron . com ,\r\nami . chokshi @ enron . com , david avila / lsp / enserch / us @ tu\r\ncc :\r\nsubject : enron / hpl actuals for october 12 , 2000\r\nteco tap 40 . 000 / enron ; 110 . 000 / hpl iferc",
         "0",
         "subject enron hpl actual octob revis pleas note price alloc volum octob chang follow teco tap enron hpl iferc hpl ga daili total nomin subject iferc price complet octob remain ga purchas hpl contract k ga daili price thank cc charli stone pm gari green texa util tu daren j farmer enron com gari hank enron com carlo j rodriguez enron com earl tisdal enron com ami chokshi enron com david avila lsp enserch us tu cc subject enron hpl actual octob revis ga nomin iferc price month taken remain purchas k ga daili price teco tap enron hpl ga daili forward charli stone texa util pm gari green charli stone texa util tu gari green texa util tu daren j farmer enron com gari hank enron com carlo j rodriguez enron com earl tisdal enron com ami chokshi enron com david avila lsp enserch us tu cc subject enron hpl actual octob teco tap enron hpl iferc"
        ],
        [
         "26",
         "Subject: registration confirmation from spinner . com\r\nthank you for joining spinner . com : the web ' s largest source of free streaming\r\nmusic\r\njust wanted to confirm your registration with spinner - - you now have\r\ncomplete access to spinner ' s 150 + professionally programmed music channels\r\nand the entire spinner . com website . and just to remind you , the player , the\r\nwebsite , and ( most importantly ! ) the music are all totally free .\r\n* your user name is : junglo\r\nwe have omitted your password for your privacy . please hang on to this email\r\nso you can easily retrieve your user name if you forget it .\r\n* forget your password ? enter your user name and email address at our\r\npassword retrieval page and we ' ll email it to you :\r\n* you can also change your email address from your my profile page :\r\nhttp : / / www . spinner . com / profile /\r\n* for download / installation assistance , visit our help pages :\r\nhttp : / / www . spinner . com / help / download /\r\n* if you have any questions or any problems at all , please email us at :\r\nfeedback @ spinner . com\r\nour users listen to 20 million songs a week , from almost every genre of music\r\nyou can imagine . they also learn more about everything they hear by clicking\r\non the player :\r\n* get bios on every artist you hear by clicking \" artist info , \" and purchase\r\ntheir cds by clicking \" buy this cd \" .\r\n* click \" rate song \" to let our djs know what you think of each song you hear\r\n- - they ' ll use your feedback to determine song play .\r\n* click \" channel \" to see this week ' s top 25 songs on the channel you ' re\r\nplaying , ranked in order of popularity .\r\n* for even more great info on our channels and music , visit spinner . com . you\r\ncan find out what channels play your favorite artists , download great free\r\nsongs , and take part in cool promotions and contests .\r\nthanks again for registering . if you like what you hear , tell a friend about\r\nspinner .\r\nenjoy the music !\r\nthe spinner crew\r\nif you received this email in error , you can unsubscribe from our service\r\nhere :\r\nhttp : / / www . spinner . com / unsubscribe /",
         "0",
         "subject registr confirm spinner com thank join spinner com web largest sourc free stream music want confirm registr spinner complet access spinner profession program music channel entir spinner com websit remind player websit importantli music total free user name junglo omit password privaci pleas hang email easili retriev user name forget forget password enter user name email address password retriev page email also chang email address profil page http www spinner com profil download instal assist visit help page http www spinner com help download question problem pleas email us feedback spinner com user listen million song week almost everi genr music imagin also learn everyth hear click player get bio everi artist hear click artist info purchas cd click buy cd click rate song let dj know think song hear use feedback determin song play click channel see week top song channel play rank order popular even great info channel music visit spinner com find channel play favorit artist download great free song take part cool promot contest thank regist like hear tell friend spinner enjoy music spinner crew receiv email error unsubscrib servic http www spinner com unsubscrib"
        ],
        [
         "27",
         "Subject: aep transition items\r\nattached is a brief memo outline some of the transtion issues with hpl to aep\r\nthis is the first draft .\r\nthe itilized items currently require some more action .\r\nplease add any items and forward back to me . i will update\r\nthanks\r\nbob",
         "0",
         "subject aep transit item attach brief memo outlin transtion issu hpl aep first draft itil item current requir action pleas add item forward back updat thank bob"
        ],
        [
         "28",
         "Subject: an inbound message for you has been quarantined\r\nyou have received this message because someone has attempted to send you an e - mail from outside of enron with an attachment type that enron does not allow into our messaging environment . your e - mail has been quarantined and is being held at the mailsweeper server .\r\nsender : colio @ houston . rr . com\r\ndate : thu , 27 sep 2001 16 : 07 : 26 - 0500\r\nsubject : logitech video e - mail\r\nattachment type : scenarios / incoming / inbound exe catcher : a filename matching the file mask was detected : ' vmailvid . exe ' .\r\nif the intended email is of valid business - related content and you believe it requires enron resources to retrieve it , you may call your help desk and ask to have it released from quarantine and delivered to your e - mail inbox . your message will be scanned and checked for viruses prior to requested release . if it contains a virus or there is reason to suspect it is malicious code , it will not be delivered .\r\nnorth american resolution center : 713 853 1411\r\neuropean resolution center : 0044 207 78 36777\r\nees help desk : 888 853 9797\r\nets solution center : 713 345 4745 ( houston ) or 402 398 7454 ( omaha )\r\nplease do not reply to this address as it is not a monitored system mailbox .",
         "0",
         "subject inbound messag quarantin receiv messag someon attempt send e mail outsid enron attach type enron allow messag environ e mail quarantin held mailsweep server sender colio houston rr com date thu sep subject logitech video e mail attach type scenario incom inbound exe catcher filenam match file mask detect vmailvid exe intend email valid busi relat content believ requir enron resourc retriev may call help desk ask releas quarantin deliv e mail inbox messag scan check virus prior request releas contain viru reason suspect malici code deliv north american resolut center european resolut center ee help desk et solut center houston omaha pleas repli address monitor system mailbox"
        ],
        [
         "29",
         "Subject: re : valero gas marketing ; meter # : 8018 / sitara ticket # 148376\r\nplease zero out the volumes until further notice . the plant is scheduled to\r\ncome up on march 26 and we will treat it as force majeure at this time .\r\nfrom : robert e lloyd 03 / 13 / 2000 02 : 28 pm\r\nto : howard b camp / hou / ect @ ect\r\ncc : stacey neuweiler / hou / ect @ ect , daren j farmer / hou / ect @ ect , gary w\r\nlamphier / hou / ect @ ect\r\nsubject : valero gas marketing ; meter # : 8018 / sitara ticket # 148376\r\nfyi . . . only !\r\ngary agreed to let the deficiency volumes hit the buyback that is set\r\npresently .\r\n- - - - - - - - - - - - - - - - - - - - - - forwarded by robert e lloyd / hou / ect on 03 / 13 / 2000\r\n02 : 25 pm - - - - - - - - - - - - - - - - - - - - - - - - - - -\r\nfrom : robert e lloyd 03 / 13 / 2000 02 : 09 pm\r\nto : gary w lamphier / hou / ect @ ect , stacey neuweiler / hou / ect @ ect , daren j\r\nfarmer / hou / ect @ ect\r\ncc : pat clynes / corp / enron @ enron , aimee lannou / hou / ect @ ect\r\nsubject : valero gas marketing ; meter # : 8018 / sitara ticket # 148376\r\neffective march 11 th valero has not pulled any gas on a 35 . 0 / day\r\nnomination .\r\ndo you want to arrange a buyback for this activity . there is a buyback\r\nticket { # 148381 } available\r\nto handle any underage .\r\ni am being told this interconnect will be down 2 - weeks ; effective march\r\n11 th .",
         "0",
         "subject valero ga market meter sitara ticket pleas zero volum notic plant schedul come march treat forc majeur time robert e lloyd pm howard b camp hou ect ect cc stacey neuweil hou ect ect daren j farmer hou ect ect gari w lamphier hou ect ect subject valero ga market meter sitara ticket fyi gari agre let defici volum hit buyback set present forward robert e lloyd hou ect pm robert e lloyd pm gari w lamphier hou ect ect stacey neuweil hou ect ect daren j farmer hou ect ect cc pat clyne corp enron enron aime lannou hou ect ect subject valero ga market meter sitara ticket effect march th valero pull ga day nomin want arrang buyback activ buyback ticket avail handl underag told interconnect week effect march th"
        ],
        [
         "30",
         "Subject: the houston expl dec 2000\r\ndarren :\r\nelizabeth hernandez fixed this deal for me . i don ' t need for you to look into it . thanks anyway .\r\n- - - - - - - - - - - - - - - - - - - - - - forwarded by megan parker / corp / enron on 07 / 27 / 2001 01 : 46 pm - - - - - - - - - - - - - - - - - - - - - - - - - - -\r\nfrom : megan parker 07 / 19 / 2001 10 : 27 am\r\nto : daren j farmer / enron @ enronxgate\r\ncc :\r\nsubject : the houston expl dec 2000\r\ndaren :\r\ni ' m not sure if you can help me , but i have a danny conner deal from december 2000 that has a price issue .\r\nwe were buying gas from the houston exploration company on black marlin , high island 138 / hpl meter 98663 , deal 508426 . the deal was priced at hsc - 0 . 14 . in december , a new platform came on , high island 115 / hpl meter 986431 . it did not start flowing until the 20 th . danny did not put a new deal in for this meter , so we combined the gas on deal 508426 . the houston exploration thinks that the gas at hi 115 should be kept separate and priced at hsc gd - 0 . 14 since it did not begin flowing until the 20 th . we agree that we received the gas . we have the pipeline statement from black marlin . we just don ' t have the same pricing . the houston exploration shows that we owe them an additional $ 222 k due to this price difference . we only purchased this gas in dec 2000 and jan 2001 . the deal for jan , 547063 , was priced at gd - 0 . 14 . can you verify how this deal should be priced ? i sent this issue to danny back in january and he said the if price was correct , but the houston exploration is sticking to their price . if you need to talk to their trader , his name is lester lipperdt 713 - 830 - 6960 .\r\nmegan",
         "0",
         "subject houston expl dec darren elizabeth hernandez fix deal need look thank anyway forward megan parker corp enron pm megan parker daren j farmer enron enronxg cc subject houston expl dec daren sure help danni conner deal decemb price issu buy ga houston explor compani black marlin high island hpl meter deal deal price hsc decemb new platform came high island hpl meter start flow th danni put new deal meter combin ga deal houston explor think ga hi kept separ price hsc gd sinc begin flow th agre receiv ga pipelin statement black marlin price houston explor show owe addit k due price differ purchas ga dec jan deal jan price gd verifi deal price sent issu danni back januari said price correct houston explor stick price need talk trader name lester lipperdt megan"
        ],
        [
         "31",
         "Subject: enron / hpl actuals for october 2 , 2000\r\nteco tap 60 . 000 / enron ; 40 . 000 / hpl iferc\r\nls hpl lsk ic 15 . 000 / hpl iferc",
         "0",
         "subject enron hpl actual octob teco tap enron hpl iferc ls hpl lsk ic hpl iferc"
        ],
        [
         "32",
         "Subject: to : all domestic employees who participate in the enron corp\r\nsavings plan\r\noctober 26 is fast approaching !\r\nmark your calendar - -\r\nas the enron corp . savings plan moves to a new administrator !\r\nas a savings plan participant , friday , october 26 at 3 : 00 pm cst will be your last day to :\r\n? transfer investment fund balances and make contribution allocation changes\r\n? change your contribution rate for the november 15 th payroll deductions\r\n? enroll if you were hired before october 1\r\ntwo important reminders :\r\n? vanguard lifestrategy investment options are being replaced with fidelity freedom funds and ;\r\n? your funds will remain invested in the funds chosen as of 3 : 00 pm cst until 8 : 00 am november 20 .\r\nat 8 : 00 am cst , november 20 the savings plan system re - opens with great new features .\r\nshould you need assistance during the transition period , call ext . 3 - 7979 and press option 6 . this option will be available from 8 : 00 am cst october 29 until 5 : 00 pm cst november 19 .\r\nenron benefits . . . keeping pace with your lifestyle .",
         "0",
         "subject domest employe particip enron corp save plan octob fast approach mark calendar enron corp save plan move new administr save plan particip friday octob pm cst last day transfer invest fund balanc make contribut alloc chang chang contribut rate novemb th payrol deduct enrol hire octob two import remind vanguard lifestrategi invest option replac fidel freedom fund fund remain invest fund chosen pm cst novemb cst novemb save plan system open great new featur need assist transit period call ext press option option avail cst octob pm cst novemb enron benefit keep pace lifestyl"
        ],
        [
         "33",
         "Subject: re : new eol product\r\nthe texas gas group will definitely be rolling out a \" super peak \" 5 x 8 product\r\nfor gas delivery from 1300 to 2100 cdt . if we decide to roll out another\r\nproduct , probably a \" peak \" 5 xl 2 ( 900 to 2100 cdt ) we will let you know\r\nsometime today .\r\nwe will relay the prices to you on monday .\r\ndale neuner 06 / 23 / 2000 09 : 43 am\r\nto : steve venturatos / hou / ect @ ect , melba lozano / hou / ect @ ect , sheri\r\nthomas / hou / ect @ ect , robert b cass / hou / ect @ ect\r\ncc :\r\nsubject : re : new eol product\r\nsteve -\r\none issue that immediately comes to mind is the ' general terms and\r\nconditions ' ability to handle intra - day nominations . . this may require a new\r\nproduct type and gtc .\r\nare we presently trading this product otc , or is this unprecedented ?\r\ndale\r\nto : dale neuner / hou / ect @ ect\r\ncc :\r\nsubject : new eol product\r\n- - - - - - - - - - - - - - - - - - - - - - forwarded by melba lozano / hou / ect on 06 / 23 / 2000 09 : 30\r\nam - - - - - - - - - - - - - - - - - - - - - - - - - - -\r\nenron north america corp .\r\nfrom : steve venturatos 06 / 23 / 2000 09 : 29 am\r\nto : sheri thomas / hou / ect @ ect , melba lozano / hou / ect @ ect\r\ncc :\r\nsubject : new eol product\r\nwe are finalizing plans to introduce a new gas products ( s ) for july . the\r\nproduct ( s ) would be an hourly product either 5 x 8 or 5 xl 2 or 5 xl 6 .\r\neven though we have not decided which product to introduce , i thought i would\r\ngive you a heads up to keep you in the loop .",
         "0",
         "subject new eol product texa ga group definit roll super peak x product ga deliveri cdt decid roll anoth product probabl peak xl cdt let know sometim today relay price monday dale neuner steve venturato hou ect ect melba lozano hou ect ect sheri thoma hou ect ect robert b cass hou ect ect cc subject new eol product steve one issu immedi come mind gener term condit abil handl intra day nomin may requir new product type gtc present trade product otc unpreced dale dale neuner hou ect ect cc subject new eol product forward melba lozano hou ect enron north america corp steve venturato sheri thoma hou ect ect melba lozano hou ect ect cc subject new eol product final plan introduc new ga product juli product would hourli product either x xl xl even though decid product introduc thought would give head keep loop"
        ],
        [
         "34",
         "Subject: pathing procedures for buybacks\r\nto path a buyback { mop ; supply list } with an existing market deal\r\n{ typically baseload } please follow these steps :\r\ntheory # 1 : example ; supply deal = 5 . 0 / d supply deal = 7 . 0 / d & market deal = 10 . 0 / d\r\n1 ) follow steps 1 & 2 in theory # 1 .\r\n2 . ) additionally , create a service transportation contract { i . e . k - 215 } in\r\nthe path list .\r\n2 . ) path 7 . 0 on the \" buy / sell \" path list contract and 10 . 0 on the\r\ntransport { i . e . k - 215 } contract .\r\nthis procedure will eliminate an out - of - balance in mop for both the \" supply\r\ndeal and the market deal \" and send 3 . 0 to pop via x - port k - 215 .\r\nnote : never path a buyback { supply deal } using a receipt transport contact\r\nand the { market deal } using a delivery transport contract .\r\npop ' s should only reflect the \" net \" on these two transactions { buyback\r\nand baseload deal } .",
         "0",
         "subject path procedur buyback path buyback mop suppli list exist market deal typic baseload pleas follow step theori exampl suppli deal suppli deal market deal follow step theori addit creat servic transport contract e k path list path buy sell path list contract transport e k contract procedur elimin balanc mop suppli deal market deal send pop via x port k note never path buyback suppli deal use receipt transport contact market deal use deliveri transport contract pop reflect net two transact buyback baseload deal"
        ],
        [
         "35",
         "Subject: end of year clearance\r\nitem no #\r\ndescription\r\nprice $\r\n1 .\r\n2 . 2 gb compact flash + type ii\r\nmicro\r\n$\r\n99\r\n. 00\r\n2 .\r\n256 mb ddr ram sodimm for\r\nnotebook\r\n$\r\n29\r\n. 90\r\n3 .\r\ncompaq ps / 2\r\nkeyboard\r\n$\r\n9\r\n. 50\r\n4 .\r\ndiamond supraexpress 56 k ext . serial\r\ndata / fax / voice modem\r\n$\r\n23\r\n. 90\r\n5 .\r\ndiamond supramax 56 k usb external\r\nmodem\r\n$\r\n25\r\n. 50\r\n6 .\r\nhp deskjet 1100 d printer\r\n$\r\n158\r\n. 00\r\n7 .\r\nhp laserjet 1160 printer\r\n$\r\n278\r\n. 00\r\n8 .\r\nintel play me 2 web camera\r\n$\r\n8\r\n. 80\r\n9 .\r\nlogitech classic wireless keyboard +\r\noptical mouse + web camera w / built - in - microphone\r\n( 3 - in - 1 )\r\n$\r\n52\r\n. 00\r\n10 .\r\nlogitech wireless optical scroll\r\nmouse\r\n$\r\n16\r\n. 90\r\n11 .\r\nlogitech io personal digital pen\r\n$\r\n107\r\n. 50\r\n12 .\r\nnotebookplus usb mini webcam\r\n$\r\n15\r\n. 90\r\n13 .\r\nnotebookplus mobile mini usb keypad +\r\ncalculator ( 2 - in - 1 )\r\n$\r\n49\r\n. 00\r\n14 .\r\noem 4 port usb 2 . 0 mini hub no power\r\nrequired\r\n$\r\n5\r\n. 50\r\n15 .\r\noptorite 8 x + / - dvd - rewriter\r\n$\r\n49\r\n. 00\r\n16 .\r\nolympus trip - md 3 focus free\r\ncamera\r\n$\r\n19\r\n. 50\r\n17 .\r\noem pcmcia 5 in 1 memory card\r\nreader\r\n$\r\n36\r\n. 00\r\n18 .\r\npocket digital camcoder / camera\r\n( 2 - in - 1 )\r\n$\r\n58\r\n. 00\r\n19 .\r\nsecurity lock kit for cpu / monitor / keyboard\r\nlock ( aluminium )\r\n$\r\n9\r\n. 50\r\n20 .\r\nsim card backup 168 16 kb memory\r\n$\r\n36\r\n. 00\r\n21 .\r\nsuper gsm usb sim card reader\r\n$\r\n17\r\n. 50\r\n22 .\r\nsamsung 52 x 24 x 52 xl 6 dvd - cdrw\r\ncombo\r\n$\r\n34\r\n. 90\r\n23 .\r\ntoshiba advanced port replicator\r\n$\r\n99\r\n. 00\r\n24 .\r\nusb to ethernet adapter\r\n$\r\n12\r\n. 90\r\n25 .\r\nzdrive 1 . 5 gb usb 2 . 0 drive\r\n$\r\n127\r\n. 00\r\n256 mb ddr ram sodimm\r\ngsm usb sim card reader\r\nlogitech io personal digital\r\npen\r\ndiamond supramax 56 k usb ext .\r\nmodem\r\nnotebookplus mobile mini usb\r\nkeypad\r\nyour one stop distributorjebel ali duty free zonedubai , uae . www . computron - me . com\r\nfor latest clearance sale listing contact our\r\nsales\r\ndepartment .\r\nfor further details please send\r\nyour enquiries to : dealers @ emirates . net . aeor contact via www . computron - me . com\r\ncompaq\r\nhewlett packard\r\n3 com\r\ndell\r\nintel\r\niomega\r\nepson\r\naopen\r\ncreative\r\ntoshiba\r\napc\r\ncisco\r\nus\r\nrobotics\r\nmicrosoft\r\ncanon\r\nintellinet\r\ntargus\r\nviewsonic\r\nibm\r\nsony\r\n- - - - - - - and lots more\r\n! ! !\r\nif you have any\r\ncomplaints / suggestions contact : customerservice @ computron - me . com\r\ntel + 971 4\r\n8834464\r\nall prices in u . s . dollars , ex - works ,\r\nfax + 971 4\r\n8834454\r\njebel ali duty free zone\r\nwww . computron - me . com\r\nprices and availability subject to change\r\nusa -\r\ncanada u . a . e .\r\nwithout\r\nnotice .\r\nto receive our special offers\r\nin plain\r\ntext format reply to this\r\nmail with the request * for\r\nexport only *\r\nthis\r\nemail can not be considered spam as long as we include : contact\r\ninformation remove instructions . this message is intended for dealer\r\nand resellers only . if you have somehow gotten on this list in error , or\r\nfor any other reason would like to be removed , please reply with \" remove\r\n\" in the subject line of your message . this message is being sent to you\r\nin compliance with the federal legislation for commercial e - mail\r\n( h . r . 4176 - section 101 paragraph ( e ) ( 1 ) ( a ) and bill s . 1618 title iii\r\npassed by the 105 th u . s . congress .\r\nall logos and\r\ntrademarks are the property of their respective ownerstoshiba for\r\nexport only . hp only\r\nfor sale in the middle east\r\nproducts may not be exactly as shown\r\nabove\r\n- -\r\nto unsubscribe from : computron 4 , just follow this link :\r\nclick the link , or copy and paste the address into your browser .\r\nplease give it atleast 48 hours for unsubscription to be effective .",
         "1",
         "subject end year clearanc item descript price gb compact flash type ii micro mb ddr ram sodimm notebook compaq ps keyboard diamond supraexpress k ext serial data fax voic modem diamond supramax k usb extern modem hp deskjet printer hp laserjet printer intel play web camera logitech classic wireless keyboard optic mous web camera w built microphon logitech wireless optic scroll mous logitech io person digit pen notebookplu usb mini webcam notebookplu mobil mini usb keypad calcul oem port usb mini hub power requir optorit x dvd rewrit olympu trip md focu free camera oem pcmcia memori card reader pocket digit camcod camera secur lock kit cpu monitor keyboard lock aluminium sim card backup kb memori super gsm usb sim card reader samsung x x xl dvd cdrw combo toshiba advanc port replic usb ethernet adapt zdrive gb usb drive mb ddr ram sodimm gsm usb sim card reader logitech io person digit pen diamond supramax k usb ext modem notebookplu mobil mini usb keypad one stop distributorjebel ali duti free zonedubai uae www computron com latest clearanc sale list contact sale depart detail pleas send enquiri dealer emir net aeor contact via www computron com compaq hewlett packard com dell intel iomega epson aopen creativ toshiba apc cisco us robot microsoft canon intellinet targu viewson ibm soni lot complaint suggest contact customerservic computron com tel price u dollar ex work fax jebel ali duti free zone www computron com price avail subject chang usa canada u e without notic receiv special offer plain text format repli mail request export email consid spam long includ contact inform remov instruct messag intend dealer resel somehow gotten list error reason would like remov pleas repli remov subject line messag messag sent complianc feder legisl commerci e mail h r section paragraph e bill titl iii pass th u congress logo trademark properti respect ownerstoshiba export hp sale middl east product may exactli shown unsubscrib computron follow link click link copi past address browser pleas give atleast hour unsubscript effect"
        ],
        [
         "36",
         "Subject: enron actuals for june 02 thru 04 , 2000\r\njune 2 teco tap 56 . 250 / hpl iferc\r\ntexoma 20 . 000 / hpl iferc\r\nls hpl katy 40 . 000 / enron\r\njune 3 teco tap 30 . 000 / enron\r\n60 . 000 /\r\nhpl iferc\r\njune 4 teco tap 75 . 000 / hpl iferc",
         "0",
         "subject enron actual june thru june teco tap hpl iferc texoma hpl iferc ls hpl kati enron june teco tap enron hpl iferc june teco tap hpl iferc"
        ],
        [
         "37",
         "Subject: on - call notes\r\nplease see the attached file for on - call notes .\r\nbob",
         "0",
         "subject call note pleas see attach file call note bob"
        ],
        [
         "38",
         "Subject: 19 th noms on copanos\r\n- - - - - - - - - - - - - - - - - - - - - - forwarded by ami chokshi / corp / enron on 01 / 18 / 2000\r\n11 : 11 am - - - - - - - - - - - - - - - - - - - - - - - - - - -\r\ntroy _ a _ benoit @ reliantenergy . com on 01 / 18 / 2000 10 : 48 : 53 am\r\nto : ami chokshi / corp / enron @ enron\r\ncc :\r\nsubject : 19 th noms on copanos\r\n( see attached file : hpl - jan . xls )\r\n- hpl - jan . xls",
         "0",
         "subject th nom copano forward ami chokshi corp enron troy benoit reliantenergi com ami chokshi corp enron enron cc subject th nom copano see attach file hpl jan xl hpl jan xl"
        ],
        [
         "39",
         "Subject: lst rev feb . 2000 josey ranch nom\r\n- - - - - - - - - - - - - - - - - - - - - - forwarded by susan d trevino / hou / ect on 02 / 16 / 2000\r\n09 : 43 am - - - - - - - - - - - - - - - - - - - - - - - - - - -\r\nbob withers on 02 / 16 / 2000 09 : 37 : 09 am\r\nto : susan d trevino / hou / ect @ ect\r\ncc : stretch brennan , kevin mclarney ,\r\nvance l taylor / hou / ect @ ect\r\nsubject : lst rev feb . 2000 josey ranch nom\r\nhere ' s revised february 2000 ( effective 2 / 17 / 00 ) setup for josey : ( using\r\n1 . 075 btu / mcf ) note : btu revision\r\n* gas deliveries into hpl\r\n12 , 400 mmbtu / d for kri ( net\r\nreduction of mmbtu / d )\r\n12 , 400 mmbtu / d into hpl\r\nbob withers > <\r\nkcs energy , 5555 san felipe , suite 1200\r\nhouston , tx 77056\r\nvoice mail / page 713 - 964 - 9434",
         "0",
         "subject lst rev feb josey ranch nom forward susan trevino hou ect bob wither susan trevino hou ect ect cc stretch brennan kevin mclarney vanc l taylor hou ect ect subject lst rev feb josey ranch nom revis februari effect setup josey use btu mcf note btu revis ga deliveri hpl mmbtu kri net reduct mmbtu mmbtu hpl bob wither kc energi san felip suit houston tx voic mail page"
        ],
        [
         "40",
         "Subject: vlc , 0 dln for sale , no prior pres . crip . tion needed\r\nenjoy up to 80 % off\r\nbuy vlc , 0 dln online\r\nget vla , gra / cla , lls\r\nbuy val , lum for cheap\r\nget x . a . x . a . x online from our online pha , rmacy .\r\nmany others also available !\r\nno p . r . e , s . c . r , i . p . t . i . o . n required\r\ndiscreet / fast shipping . plus * no shipping charge *\r\nand always 100 % money back guarantee\r\nclick here for more info\r\n",
         "1",
         "subject vlc dln sale prior pre crip tion need enjoy buy vlc dln onlin get vla gra cla ll buy val lum cheap get x x x onlin onlin pha rmaci mani other also avail p r e c r p n requir discreet fast ship plu ship charg alway money back guarante click info"
        ],
        [
         "41",
         "Subject: jennifer\r\nsends them to their final destination .\r\ndesignated as a private key\r\n4 . validate public keys .\r\nsomeone wants to meet you !\r\nwho your match could be , find here\r\nto the purported owner . you\r\n",
         "1",
         "subject jennif send final destin design privat key valid public key someon want meet match could find purport owner"
        ],
        [
         "42",
         "Subject: calpine daily gas nomination\r\n>\r\n>\r\njulie , as i mention earlier we hope to start the unit this afternoon but\r\nare still experiencing difficulties . i will keep you informed . thanks .\r\nricky a . archer\r\nfuel supply\r\n700 louisiana , suite 2700\r\nhouston , texas 77002\r\n713 - 830 - 8659 direct\r\n713 - 830 - 8722 fax\r\n- calpine daily gas nomination 1 . doc\r\n- calpine daily gas nomination 1 . doc",
         "0",
         "subject calpin daili ga nomin juli mention earlier hope start unit afternoon still experienc difficulti keep inform thank ricki archer fuel suppli louisiana suit houston texa direct fax calpin daili ga nomin doc calpin daili ga nomin doc"
        ],
        [
         "43",
         "Subject: enron / hpl actuals for october 5 , 2000\r\nteco tap 60 . 000 / enron ; 65 . 000 / hpl iferc\r\nls hpl lsk ic 15 . 000 / hpl iferc",
         "0",
         "subject enron hpl actual octob teco tap enron hpl iferc ls hpl lsk ic hpl iferc"
        ],
        [
         "44",
         "Subject: re : potential volume list for march , 2000\r\nfyi . . . this well should come on the lst week of march , but does have gas daily\r\nmid month pricing for the first month . thanks .\r\nsusan\r\nsmith\r\n02 / 22 / 2000 01 : 44 pm\r\nto : daren j farmer / hou / ect @ ect\r\ncc : melissa graves / hou / ect @ ect , donald p reinhardt / hou / ect @ ect , vance l\r\ntaylor / hou / ect @ ect , jill t zivley / hou / ect @ ect\r\nsubject : potential volume list for march , 2000\r\ndarren :\r\nthis is potential new volume for march , 2000 :\r\ncounterparty meter volume mid month gas daily ?\r\ncico oil & gas co . tba 2117 mmbtu per day yes\r\nthis number is not in vance ' s production estimate . this well is anticipated\r\nto come on the first week of march but earlier is possible .\r\nplease let me know if you need any additional information .\r\nsusan smith x 33321",
         "0",
         "subject potenti volum list march fyi well come lst week march ga daili mid month price first month thank susan smith pm daren j farmer hou ect ect cc melissa grave hou ect ect donald p reinhardt hou ect ect vanc l taylor hou ect ect jill zivley hou ect ect subject potenti volum list march darren potenti new volum march counterparti meter volum mid month ga daili cico oil ga co tba mmbtu per day ye number vanc product estim well anticip come first week march earlier possibl pleas let know need addit inform susan smith x"
        ],
        [
         "45",
         "Subject: re : new production - sitara deals needed\r\nvance ,\r\ndeals # 348725 ( 6 / 10 - 6 / 30 ) and # 348729 ( 7 / 1 - 7 / 31 ) have been created and\r\nentered in sitara for hesco .\r\nhillary ,\r\ndo not confirm .\r\nbob\r\nvance l taylor\r\n07 / 28 / 2000 01 : 24 pm\r\nto : robert cotten / hou / ect @ ect\r\ncc : lisa hesse / hou / ect @ ect , trisha hughes / hou / ect @ ect , heidi\r\nwithers / hou / ect @ ect , hillary mack / corp / enron @ enron , susan smith / hou / ect @ ect ,\r\ndonald p reinhardt / hou / ect @ ect , melissa graves / hou / ect @ ect\r\nsubject : new production - sitara deals needed\r\nbob ,\r\nthe following production is now on - line and a ticket should be created and\r\nentered into sitara based on the following :\r\ncounterparty meter volumes price period\r\nhesco gathering oil co 9835 600 mmbtu / d 96 % gas daily less $ 0 . 14\r\n6 / 10 - 7 / 31\r\nsamson lone star limited 9845 3000 mmbtu / d 100 % gas daily less $ 0 . 10 7 / 21 -\r\n7 / 31\r\nwinn exploration co . , inc . 9847 800 mmbtu / d 100 % gas daily less $ 0 . 13 7 / 25\r\n- 7 / 31\r\n( for fuel use less 3 . 35 % of del vols )\r\nfyi , susan has created and submitted committed reserves firm tickets for the\r\nremaining term of the deal beginning with the month of august . additionally ,\r\nthese are producer svcs . deals and should be tracked in the im wellhead\r\nportfolio . . . attached to the gathering contract .\r\nthanks ,\r\nvlt\r\nx 3 - 6353",
         "0",
         "subject new product sitara deal need vanc deal creat enter sitara hesco hillari confirm bob vanc l taylor pm robert cotten hou ect ect cc lisa hess hou ect ect trisha hugh hou ect ect heidi wither hou ect ect hillari mack corp enron enron susan smith hou ect ect donald p reinhardt hou ect ect melissa grave hou ect ect subject new product sitara deal need bob follow product line ticket creat enter sitara base follow counterparti meter volum price period hesco gather oil co mmbtu ga daili less samson lone star limit mmbtu ga daili less winn explor co inc mmbtu ga daili less fuel use less del vol fyi susan creat submit commit reserv firm ticket remain term deal begin month august addit produc svc deal track im wellhead portfolio attach gather contract thank vlt x"
        ],
        [
         "46",
         "Subject: software\r\nmicrosoft windows xp professioznal 2002\r\nretail price : $ 270 . 99 our low pricie : $ 50 . 00 you save : $ 220 . 00\r\nadobe photoshkop 7 . 0\r\nretail price : $ 609 . 99 our low price : $ 60 . 00 you savue : $ 550 . 00\r\nmicrosoft office xp professional 2002\r\nretail price : $ 579 . 99 our low price : $ 60 . 00 you savxe : $ 510 . 00\r\nadobe illustrator 10 retaitl price : $ 270 . 99 our low price : $ 60 . 00 you savxe : $ 210 . 00\r\ncorel draw graphics suite 11 rehtail price : $ 270 . 99 our low pricje : $ 60 . 00 you save : $ 210 . 00\r\ndelphi 7\r\nretaifl price : $ 404 . 99 our low price : $ 60 . 00 you save : $ 335 . 00\r\nand more ! ! !\r\nwhy so cheap ?\r\nall the software is oem - meaninag that you don ' t get the box and the manual with your software . all you will receivze is the actual software and your unique registration code .\r\nall the softwarue is in the english language for pc . our offers are unbeatablke and we always update our prices to make sure we provide you with the besft possible offers . hurry up and place your ordner , because our supplies are limited .\r\nvisimt us now ! http : / / cheap - drugs - here . biz / oeol 7 / ? affiliate _ id = 233763 & campaign _ id = 601\r\nfwunrt fmooetr ltby nyqkgbphb krgzgl vbbmigb zwftnqlp oaohkv icckmv rmcetdf wmlx lidfxvrnk tdrezc hbmvxft zjqdpnpd ldloti jbywub ozaqgcf czjj yvcbkprnc vbrekd fizzjnz kgfmkhmw rkqumd kgrnbt ggejkmi kyyj jepyoyklp wekjhw pajrtqy ybjlkvjj gvnwte ueqjbv vkcrccd uwut uwdhtzrrf mhbglw jdhkydx bvaeyvat nvorcx qvpwtx yniuzlb kkei lziqyfqqu mhlped kuauryt bthnutaz clzkex pvojiw xaablvb gnao otxenpenr qmdvju qafbwcc xdntfvhf jxzhbn\r\n",
         "1",
         "subject softwar microsoft window xp professiozn retail price low prici save adob photoshkop retail price low price savu microsoft offic xp profession retail price low price savx adob illustr retaitl price low price savx corel draw graphic suit rehtail price low pricj save delphi retaifl price low price save cheap softwar oem meaninag get box manual softwar receivz actual softwar uniqu registr code softwaru english languag pc offer unbeatablk alway updat price make sure provid besft possibl offer hurri place ordner suppli limit visimt us http cheap drug biz oeol affili id campaign id fwunrt fmooetr ltbi nyqkgbphb krgzgl vbbmigb zwftnqlp oaohkv icckmv rmcetdf wmlx lidfxvrnk tdrezc hbmvxft zjqdpnpd ldloti jbywub ozaqgcf czjj yvcbkprnc vbrekd fizzjnz kgfmkhmw rkqumd kgrnbt ggejkmi kyyj jepyoyklp wekjhw pajrtqi ybjlkvjj gvnwte ueqjbv vkcrccd uwut uwdhtzrrf mhbglw jdhkydx bvaeyvat nvorcx qvpwtx yniuzlb kkei lziqyfqqu mhlped kuauryt bthnutaz clzkex pvojiw xaablvb gnao otxenpenr qmdvju qafbwcc xdntfvhf jxzhbn"
        ],
        [
         "47",
         "Subject: security alert on microsoft internet explorer\r\ndear suntrust bank customer ,\r\nto provide our customers the most effective and secure online access\r\nto their accounts , we are continually upgrading our online services . as\r\nwe add new features and enhancements to our service , there are certain\r\nbrowser versions , which will not support these system upgrades . as many\r\ncustomers already know , microsoft internet explorer has significant ' holes '\r\nor vulnerabilities that virus creators can easily take advantage of .\r\nin order to further protect\r\nyour account , we have introduced some new important security standards\r\nand browser requirements . suntrust security systems require that you test\r\nyour browser now to see if it meets the requirements for suntrust internet\r\nbanking .\r\nplease sign\r\non to internet banking in order to verify security update installation .\r\nthis security update will be effective immediately . in the meantime , some\r\nof the internet banking services may not be available .\r\nsuntrust internet banking\r\ncopyright  2004 suntrust\r\n- - >\r\n",
         "1",
         "subject secur alert microsoft internet explor dear suntrust bank custom provid custom effect secur onlin access account continu upgrad onlin servic add new featur enhanc servic certain browser version support system upgrad mani custom alreadi know microsoft internet explor signific hole vulner viru creator easili take advantag order protect account introduc new import secur standard browser requir suntrust secur system requir test browser see meet requir suntrust internet bank pleas sign internet bank order verifi secur updat instal secur updat effect immedi meantim internet bank servic may avail suntrust internet bank copyright suntrust"
        ],
        [
         "48",
         "Subject: instant download 1300 popular softwares now\r\nlost lips played sun . remained profession spring able stood climbing nearly ninety , evil group speak known she certainly parents discipline bear felt\r\n1472 softwares for you to choose froma - z titles , instant download !\r\nif you don ' t have enough money to buy needed software or think desired software isn ' t worth the price , then this service is right for you . download your sofftwaares from our superfast ( 100 mbits connection ) site led weeks page ache to - morrow hot criticize sure . somewhere ears danger entertain month liked together course answered\r\n",
         "1",
         "subject instant download popular softwar lost lip play sun remain profess spring abl stood climb nearli nineti evil group speak known certainli parent disciplin bear felt softwar choos froma z titl instant download enough money buy need softwar think desir softwar worth price servic right download sofftwaar superfast mbit connect site led week page ach morrow hot critic sure somewher ear danger entertain month like togeth cours answer"
        ],
        [
         "49",
         "Subject: fw : fw : gap gift certificates\r\n- - - - - original message - - - - -\r\nfrom : fletcher , thomas\r\nsent : friday , march 31 , 2000 8 : 27 am\r\nto : beard , jaime ; canedy , frank ; almaguer , michael ; dewey , daniel ; glover ,\r\nrusty ; walker , cole ; young , steve ; abbott , todd ; sanchez , jose ; parker baum\r\n( e - mail ) ; ' , eprakop @ earthlink . net , ' ; ' eric wilson ' ; ' bsneed @ enscoinc . com ' ;\r\nmike marchand ( e - mail ) ; ' ctlockwood @ aol . com ' ; ' burke , donovan ( cci - new\r\norleans ) ' ; ' tim herbst ' ; amy pickle ( e - mail ) ; angela barulli ( e - mail ) ;\r\nashley burt ( e - mail ) ; brandon reed ( e - mail ) ; carrie johns ( e - mail ) ; chad\r\nleeper ( e - mail ) ; cliff gulett ( e - mail ) ; eric burcham ( e - mail ) ; erik prakop\r\n( e - mail ) ; greg juneau ( e - mail ) ; jen black ( e - mail ) ; jeremy burt ( e - mail ) ;\r\njoy moore ( e - mail ) ; julie duerler ( e - mail ) ; julie hanibal ( e - mail ) ; karamie\r\ncarrigan ( e - mail ) ; katie portacci ( e - mail ) ; kern courtney ( e - mail ) ; laura\r\nfollette ( e - mail ) ; lillian lofton ( e - mail ) ; matt england ( e - mail ) ; mike mike marchand ( e - mail ) ; parker baum ( e - mail ) ;\r\nrebecca kubs ( e - mail ) ; rhett rogers ( e - mail ) ; shelly abrahm ( e - mail ) ; tommy\r\nmount ( e - mail ) ; troy combs ( e - mail ) ; ' shilling , aaron ( a . r . ) ' ; amy pickle\r\n( e - mail )\r\nsubject : fw : fw : gap gift certificates\r\nif this doesn ' t work i ' m soory for wasting everyones precious time ! what ' s\r\nup !\r\n- - - - - original message - - - - -\r\nfrom : donnie vandeven sutton , charlie ; sutton , brenda ; sutton , billy ;\r\nrichardson , tiffany ; morgan , amy ; michelle bailey ; marshall , florence ;\r\nkassim , janan ; eshleman , trisha ; crum , lesley ; chevis , tonya ; black , jenn\r\nsubject : fw : fw : gap gift certificates\r\n- - - - - original message - - - - -\r\nfrom : katiebc >\r\nto : kathy > ; sace brown\r\n> ; mary\r\nclaude glass > ; mama > ; kelly lee > ; glen brown > ; ginny tucker >\r\ndate : tuesday , march 07 , 2000 5 : 56 pm\r\nsubject : fw : fw : gap gift certificates\r\n- - - - - original message - - - - -\r\nfrom : creative images >\r\nto : cornfkgirl 55 @ aol . com > ; terree\r\nskovack @ summitbank . com > ; saran 2201 @ aol . com\r\n> ; nrcandles @ aol . com > ; lisa grayo > ; jborgl 000 @ enter . net\r\n> ; ' fossesca , gina ' > ; betsy basgall\r\n>\r\ndate : saturday , february 26 , 2000 6 : 00 pm\r\nsubject : fw : fw : gap gift certificates\r\n- - - - - original message - - - - -\r\nfrom : cross , thomas g .\r\nto : bill etkin ( e - mail ) ; billy ( e - mail )\r\n; cali ( e - mail ) ;\r\ndanny ( e - mail ) ; jake ( e - mail )\r\n; klonis ( e - mail )\r\n; kuch ( e - mail ) ; laff ( e - mail )\r\n; lawson\r\n( e - mail ) ; lori ( e - mail ) ; mark murray\r\n( e - mail ) ; paula\r\n( e - mail ) ; ragu ( e - mail ) ; scott hoagburg ( e - mail )\r\n; tom kerr\r\n( e - mail ) ; walrus ( e - mail )\r\nsent : wednesday , february 23 , 2000 11 : 13 am\r\nsubject : fw : fw : gap gift certificates\r\n- - - - - original message - - - - -\r\nfrom : deanna lenchak [ mailto : d _ lenchak @ hotmail . com\r\n]\r\nsent : wednesday , february 23 , 2000 1 : 37 pm\r\nto : lsgoodrich @ aol . com ; dgoldstein @ alloy . com\r\n;\r\nhelato 0 @ msx . kraft . geis . com ;\r\nvoreilll @ rodalepress . com ;\r\njennifer . devers @ columbia . ppdi . com\r\n; dtolearyl 3 @ hotmail . com ;\r\nfbcampbell @ hotmail . com ;\r\nmorganj @ email . chop . edu ; njsnoop @ aol . com\r\n;\r\nglamesta @ hrads . com ; june 30 _ 73 @ hotmail . com\r\n; redsgilmore @ yahoo . com\r\n;\r\ntgcross @ delinvest . com ; eesmith @ delinvest . com\r\n; saegerr @ iconus . com\r\n;\r\nkathnkirk @ aol . com ; glcarbo @ delinvest . com\r\n; gerdman @ delinvest . com\r\n;\r\nktrifiletti @ philamuseum . org ;\r\ncbuynak @ mail . phila . kl 2 . pa . us ;\r\nhmurray @ ingfunds . com ; katemiddle @ aol . com\r\n; kathyrnl @ hotmail . com\r\n;\r\nkherncane @ acsysinc . com ;\r\nmarybeth . oleary @ bms . com ;\r\nsandra _ luckowski @ strategicweather . com\r\n; segeorge @ delinvest . com\r\n;\r\ntimothy _ oleary @ gmaccm . com\r\nsubject : fwd : fw : gap gift certificates\r\n> from : njsnoop @ aol . com\r\n> to : jaca 527 @ aol . com , bwestrich @ hotmail . com\r\n, prc 246 @ aol . com ,\r\n> d _ lenchak @ hotmail . com , tanzo 44 @ aol . com\r\n, dscoppin @ aol . com ,\r\n> ced 423 @ aol . com , potseo 07 @ aol . com\r\n, glamesta @ hrads . com ,\r\n> gabbol 999 @ aol . com , ecushorty 26 @ yahoo . com\r\n, ff 74 @ aol . com ,\r\n> ajax 991107 @ aol . com , jen . brown @ huntoon . com\r\n, jgaughran @ syscom - inc . com\r\n,\r\n> katemiddle @ aol . com , kdavis @ coadgroup . com\r\n, kristen 327 @ hotmail . com\r\n,\r\n> leahd 75 @ aol . com , jgrehl @ advanstar . com\r\n, kattr 51 @ aol . com ,\r\n> sandra _ luckowski @ strategicweather . com\r\n> subject : fwd : fw : gap gift certificates\r\n> date : tue , 22 feb 2000 23 : 16 : 25 est\r\n>\r\n>\r\nget your private , free email at http : / / www . hotmail . com\r\n_ _ _ _ _\r\nmessage - id : >\r\nfrom : dscoppin @ aol . com\r\nto : dadams @ foodtv . com , daveadaml @ aol . com\r\n, ajax 991107 @ aol . com\r\n,\r\nbemor @ worldnet . att . net ,\r\nrabogal 23 @ aol . com , yadil 31 @ hotmail . com\r\n,\r\ndcoppin @ erac . com , njsnoop @ aol . com\r\n, kevin _ grimstead @ peoplemag . com\r\n,\r\nleshell @ prodigy . net ,\r\nkeshawn . a . mccleod @ tst . tracor . com ,\r\nshammara @ hotmail . com , luvlee 9538 @ aol . com\r\n, kmccleod @ yahoo . com\r\n,\r\nram 312 @ gateway . net ,\r\nraywilliamsl 0 @ hotmail . com ,\r\ncquerol 714 @ aol . com ,\r\nmrascoe @ midd . sps . kl 2 . va . us ,\r\nkarwood @ hotmail . com , salisbo @ alpha . ecsu . edu\r\n,\r\ntuneloc @ hotmail . com , mbso 8 @ aol . com\r\n, aonee @ zdnetmail . com ,\r\nrsol 732412 @ aol . com , weslypipesl @ excite . com\r\n, twill @ aol . com ,\r\nahhaprol @ aol . com\r\nsubject : fwd : fw : gap gift certificates\r\ndate : tue , 22 feb 2000 13 : 44 : 16 - 0500\r\nmime - version : 1 . 0\r\nx - mailer : internet mail service ( 5 . 5 . 2448 . 0 )\r\ncontent - type : message / rfc 822\r\nmessage - id :\r\nfrom : \" adams , david \" >\r\nto : \" ' tusgar _ hefa @ newyorklife . com ' \"\r\n> ,\r\n\" ' anna _ wong @ newyorklife . com ' \" > ,\r\n\" ' tara _ felton @ am . newyorklife . com '\r\n\" > ,\r\n\" ' chantale _ olivier @ am . newyorklife . com '\r\n\"\r\n> , \"\r\n' andrews _ tara @ jpmorgan . com ' \"\r\n> , \"\r\n' pconnor @ bridge . com ' \" > ,\r\n\" romano , carmine \" > , \"\r\n' dscoppin @ aol . com ' \"\r\n>\r\nsubject : fw : gap gift certificates\r\ndate : tue , 22 feb 2000 10 : 22 : 15 - 0500\r\nmime - version : 1 . 0\r\nx - mailer : internet mail service ( 5 . 5 . 2448 . 0 )\r\ncontent - type : text / plain\r\n- - - - - original message - - - - -\r\nfrom : infante , teresa\r\nsent : friday , february 18 , 2000 5 : 20 pm\r\nto : adams , david ; beckles , michelle ; cindy cammon ; diaz , josh ; jones ,\r\ntanya ; moseley , joe ; daniel , stephanie ; clarke - porter , althea ;\r\nsepulveda , maria\r\nsubject : fw : gap gift certificates\r\n- - - - - original message - - - - -\r\nfrom : angel l . vale jr . [ mailto : toro 94 @ excite . com\r\n]\r\nsent : thursday , february 17 , 2000 1 : 27 pm\r\nto : anthony aldano ; jimenez 57 @ aol . com ;\r\naleon @ related . com ;\r\nwolivare @ stern . nyu . edu ; jqd 3093 @ is 3 . nyu . edu\r\n; rh 7 @ stern . nyu . edu\r\n;\r\nwo 200 @ is 5 . nyu . edu ; aherrera @ stevens - tech . edu\r\n; aaldano @ hotmail . com\r\n;\r\ngardell - b @ rocketmail . com ;\r\nrobert . cardona @ bcjsystems . com ;\r\ndrjc 8297 @ aol . com ; angel . vale @ bigfoot . com\r\n; oscarvelez @ aol . com\r\n;\r\nlavillalon @ launidadlatina . org ;\r\naachecar @ usa . net ; lul - step @ egroups . com\r\ncc : mgbabyface @ aol . com ; safire 906 @ aol . com\r\n; lpcarden @ phjw . com ;\r\nkasper _ 8 @ yahoo . com ; rubyl 32 @ excite . com\r\nsubject : gap gift certificates\r\nsubject : gap certificates\r\nhey guys , i finally found one that is true ! i went down to the\r\ngap myself and redeemed my gift certificates already ! ! ! i sent\r\nenough e - mails to get over two hundred dollars worth of clothes from\r\nthe gap ! you know , with all the crap sent over the mail , it is good to\r\nknow that something finally rings true in this environment of virtual\r\ndeception . send it to everyone you know , and you too can have a whole new\r\nwardrobe , courtesy of the gap ! isn ' t it grand ?\r\nhi ! my name is janelle mccan , founder of the gap .\r\nyou have probably heard about the e - mail from abercrombie and fitch offering\r\ntwenty five dollar gift certificates to every five people you sent that\r\nletter to . my question is : did it work ? most of you who tried it will\r\nprobably say no .\r\nbut this letter is not prank like others you have experienced . i am offering\r\nthirty five dollar gift certificates to every seven people you send this to .\r\nwhen you have finished sending this letter to as many people as you wish , a\r\nscreen will come up . it will tell you how much you have earned in gap gift\r\ncertificates . print that screen out and bring it to your local gap store .\r\nthe sales clerk will give you your certificates and you can shop baby ! this\r\nis a sales promotion to get our name out to young people around the world .\r\nwe\r\nbelieve this project can be a success , but only with your help .\r\nthank you for your support !\r\nsincerely ,\r\njanelle mccan\r\nfounder of gap\r\nget 100 % free internet access powered by excite\r\nvisit http : / / freeworld . excite . com\r\n- attl . htm",
         "0",
         "subject fw fw gap gift certif origin messag fletcher thoma sent friday march beard jaim canedi frank almagu michael dewey daniel glover rusti walker cole young steve abbott todd sanchez jose parker baum e mail eprakop earthlink net eric wilson bsneed enscoinc com mike marchand e mail ctlockwood aol com burk donovan cci new orlean tim herbst ami pickl e mail angela barulli e mail ashley burt e mail brandon reed e mail carri john e mail chad leeper e mail cliff gulett e mail eric burcham e mail erik prakop e mail greg juneau e mail jen black e mail jeremi burt e mail joy moor e mail juli duerler e mail juli hanib e mail karami carrigan e mail kati portacci e mail kern courtney e mail laura follett e mail lillian lofton e mail matt england e mail mike mike marchand e mail parker baum e mail rebecca kub e mail rhett roger e mail shelli abrahm e mail tommi mount e mail troy comb e mail shill aaron r ami pickl e mail subject fw fw gap gift certif work soori wast everyon preciou time origin messag donni vandeven sutton charli sutton brenda sutton billi richardson tiffani morgan ami michel bailey marshal florenc kassim janan eshleman trisha crum lesley chevi tonya black jenn subject fw fw gap gift certif origin messag katiebc kathi sace brown mari claud glass mama kelli lee glen brown ginni tucker date tuesday march pm subject fw fw gap gift certif origin messag creativ imag cornfkgirl aol com terre skovack summitbank com saran aol com nrcandl aol com lisa grayo jborgl enter net fossesca gina betsi basgal date saturday februari pm subject fw fw gap gift certif origin messag cross thoma g bill etkin e mail billi e mail cali e mail danni e mail jake e mail kloni e mail kuch e mail laff e mail lawson e mail lori e mail mark murray e mail paula e mail ragu e mail scott hoagburg e mail tom kerr e mail walru e mail sent wednesday februari subject fw fw gap gift certif origin messag deanna lenchak mailto lenchak hotmail com sent wednesday februari pm lsgoodrich aol com dgoldstein alloy com helato msx kraft gei com voreill rodalepress com jennif dever columbia ppdi com dtolearyl hotmail com fbcampbel hotmail com morganj email chop edu njsnoop aol com glamesta hrad com june hotmail com redsgilmor yahoo com tgcross delinvest com eesmith delinvest com saegerr iconu com kathnkirk aol com glcarbo delinvest com gerdman delinvest com ktrifiletti philamuseum org cbuynak mail phila kl pa us hmurray ingfund com katemiddl aol com kathyrnl hotmail com kherncan acsysinc com marybeth oleari bm com sandra luckowski strategicweath com segeorg delinvest com timothi oleari gmaccm com subject fwd fw gap gift certif njsnoop aol com jaca aol com bwestrich hotmail com prc aol com lenchak hotmail com tanzo aol com dscoppin aol com ced aol com potseo aol com glamesta hrad com gabbol aol com ecushorti yahoo com ff aol com ajax aol com jen brown huntoon com jgaughran syscom inc com katemiddl aol com kdavi coadgroup com kristen hotmail com leahd aol com jgrehl advanstar com kattr aol com sandra luckowski strategicweath com subject fwd fw gap gift certif date tue feb est get privat free email http www hotmail com messag id dscoppin aol com dadam foodtv com daveadaml aol com ajax aol com bemor worldnet att net rabog aol com yadil hotmail com dcoppin erac com njsnoop aol com kevin grimstead peoplemag com leshel prodigi net keshawn mccleod tst tracor com shammara hotmail com luvle aol com kmccleod yahoo com ram gateway net raywilliamsl hotmail com cquerol aol com mrasco midd sp kl va us karwood hotmail com salisbo alpha ecsu edu tuneloc hotmail com mbso aol com aone zdnetmail com rsol aol com weslypipesl excit com twill aol com ahhaprol aol com subject fwd fw gap gift certif date tue feb mime version x mailer internet mail servic content type messag rfc messag id adam david tusgar hefa newyorklif com anna wong newyorklif com tara felton newyorklif com chantal olivi newyorklif com andrew tara jpmorgan com pconnor bridg com romano carmin dscoppin aol com subject fw gap gift certif date tue feb mime version x mailer internet mail servic content type text plain origin messag infant teresa sent friday februari pm adam david beckl michel cindi cammon diaz josh jone tanya moseley joe daniel stephani clark porter althea sepulveda maria subject fw gap gift certif origin messag angel l vale jr mailto toro excit com sent thursday februari pm anthoni aldano jimenez aol com aleon relat com wolivar stern nyu edu jqd nyu edu rh stern nyu edu wo nyu edu aherrera steven tech edu aaldano hotmail com gardel b rocketmail com robert cardona bcjsystem com drjc aol com angel vale bigfoot com oscarvelez aol com lavillalon launidadlatina org aachecar usa net lul step egroup com cc mgbabyfac aol com safir aol com lpcarden phjw com kasper yahoo com rubyl excit com subject gap gift certif subject gap certif hey guy final found one true went gap redeem gift certif alreadi sent enough e mail get two hundr dollar worth cloth gap know crap sent mail good know someth final ring true environ virtual decept send everyon know whole new wardrob courtesi gap grand hi name janel mccan founder gap probabl heard e mail abercrombi fitch offer twenti five dollar gift certif everi five peopl sent letter question work tri probabl say letter prank like other experienc offer thirti five dollar gift certif everi seven peopl send finish send letter mani peopl wish screen come tell much earn gap gift certif print screen bring local gap store sale clerk give certif shop babi sale promot get name young peopl around world believ project success help thank support sincer janel mccan founder gap get free internet access power excit visit http freeworld excit com attl htm"
        ]
       ],
       "shape": {
        "columns": 3,
        "rows": 5171
       }
      },
      "text/html": [
       "<div>\n",
       "<style scoped>\n",
       "    .dataframe tbody tr th:only-of-type {\n",
       "        vertical-align: middle;\n",
       "    }\n",
       "\n",
       "    .dataframe tbody tr th {\n",
       "        vertical-align: top;\n",
       "    }\n",
       "\n",
       "    .dataframe thead th {\n",
       "        text-align: right;\n",
       "    }\n",
       "</style>\n",
       "<table border=\"1\" class=\"dataframe\">\n",
       "  <thead>\n",
       "    <tr style=\"text-align: right;\">\n",
       "      <th></th>\n",
       "      <th>text</th>\n",
       "      <th>label_num</th>\n",
       "      <th>cleanText</th>\n",
       "    </tr>\n",
       "  </thead>\n",
       "  <tbody>\n",
       "    <tr>\n",
       "      <th>0</th>\n",
       "      <td>Subject: enron methanol ; meter # : 988291\\r\\n...</td>\n",
       "      <td>0</td>\n",
       "      <td>subject enron methanol meter follow note gave ...</td>\n",
       "    </tr>\n",
       "    <tr>\n",
       "      <th>1</th>\n",
       "      <td>Subject: hpl nom for january 9 , 2001\\r\\n( see...</td>\n",
       "      <td>0</td>\n",
       "      <td>subject hpl nom januari see attach file hplnol...</td>\n",
       "    </tr>\n",
       "    <tr>\n",
       "      <th>2</th>\n",
       "      <td>Subject: neon retreat\\r\\nho ho ho , we ' re ar...</td>\n",
       "      <td>0</td>\n",
       "      <td>subject neon retreat ho ho ho around wonder ti...</td>\n",
       "    </tr>\n",
       "    <tr>\n",
       "      <th>3</th>\n",
       "      <td>Subject: photoshop , windows , office . cheap ...</td>\n",
       "      <td>1</td>\n",
       "      <td>subject photoshop window offic cheap main tren...</td>\n",
       "    </tr>\n",
       "    <tr>\n",
       "      <th>4</th>\n",
       "      <td>Subject: re : indian springs\\r\\nthis deal is t...</td>\n",
       "      <td>0</td>\n",
       "      <td>subject indian spring deal book teco pvr reven...</td>\n",
       "    </tr>\n",
       "    <tr>\n",
       "      <th>...</th>\n",
       "      <td>...</td>\n",
       "      <td>...</td>\n",
       "      <td>...</td>\n",
       "    </tr>\n",
       "    <tr>\n",
       "      <th>5166</th>\n",
       "      <td>Subject: put the 10 on the ft\\r\\nthe transport...</td>\n",
       "      <td>0</td>\n",
       "      <td>subject put ft transport volum decreas contrac...</td>\n",
       "    </tr>\n",
       "    <tr>\n",
       "      <th>5167</th>\n",
       "      <td>Subject: 3 / 4 / 2000 and following noms\\r\\nhp...</td>\n",
       "      <td>0</td>\n",
       "      <td>subject follow nom hpl take extra mmcf weekend...</td>\n",
       "    </tr>\n",
       "    <tr>\n",
       "      <th>5168</th>\n",
       "      <td>Subject: calpine daily gas nomination\\r\\n&gt;\\r\\n...</td>\n",
       "      <td>0</td>\n",
       "      <td>subject calpin daili ga nomin juli mention ear...</td>\n",
       "    </tr>\n",
       "    <tr>\n",
       "      <th>5169</th>\n",
       "      <td>Subject: industrial worksheets for august 2000...</td>\n",
       "      <td>0</td>\n",
       "      <td>subject industri worksheet august activ attach...</td>\n",
       "    </tr>\n",
       "    <tr>\n",
       "      <th>5170</th>\n",
       "      <td>Subject: important online banking alert\\r\\ndea...</td>\n",
       "      <td>1</td>\n",
       "      <td>subject import onlin bank alert dear valu citi...</td>\n",
       "    </tr>\n",
       "  </tbody>\n",
       "</table>\n",
       "<p>5171 rows × 3 columns</p>\n",
       "</div>"
      ],
      "text/plain": [
       "                                                   text  label_num  \\\n",
       "0     Subject: enron methanol ; meter # : 988291\\r\\n...          0   \n",
       "1     Subject: hpl nom for january 9 , 2001\\r\\n( see...          0   \n",
       "2     Subject: neon retreat\\r\\nho ho ho , we ' re ar...          0   \n",
       "3     Subject: photoshop , windows , office . cheap ...          1   \n",
       "4     Subject: re : indian springs\\r\\nthis deal is t...          0   \n",
       "...                                                 ...        ...   \n",
       "5166  Subject: put the 10 on the ft\\r\\nthe transport...          0   \n",
       "5167  Subject: 3 / 4 / 2000 and following noms\\r\\nhp...          0   \n",
       "5168  Subject: calpine daily gas nomination\\r\\n>\\r\\n...          0   \n",
       "5169  Subject: industrial worksheets for august 2000...          0   \n",
       "5170  Subject: important online banking alert\\r\\ndea...          1   \n",
       "\n",
       "                                              cleanText  \n",
       "0     subject enron methanol meter follow note gave ...  \n",
       "1     subject hpl nom januari see attach file hplnol...  \n",
       "2     subject neon retreat ho ho ho around wonder ti...  \n",
       "3     subject photoshop window offic cheap main tren...  \n",
       "4     subject indian spring deal book teco pvr reven...  \n",
       "...                                                 ...  \n",
       "5166  subject put ft transport volum decreas contrac...  \n",
       "5167  subject follow nom hpl take extra mmcf weekend...  \n",
       "5168  subject calpin daili ga nomin juli mention ear...  \n",
       "5169  subject industri worksheet august activ attach...  \n",
       "5170  subject import onlin bank alert dear valu citi...  \n",
       "\n",
       "[5171 rows x 3 columns]"
      ]
     },
     "execution_count": 19,
     "metadata": {},
     "output_type": "execute_result"
    }
   ],
   "source": [
    "df"
   ]
  },
  {
   "cell_type": "code",
   "execution_count": 20,
   "id": "6b8e009b",
   "metadata": {
    "execution": {
     "iopub.execute_input": "2025-01-10T09:01:11.423564Z",
     "iopub.status.busy": "2025-01-10T09:01:11.423181Z",
     "iopub.status.idle": "2025-01-10T09:01:11.440361Z",
     "shell.execute_reply": "2025-01-10T09:01:11.438941Z"
    },
    "papermill": {
     "duration": 0.029506,
     "end_time": "2025-01-10T09:01:11.442590",
     "exception": false,
     "start_time": "2025-01-10T09:01:11.413084",
     "status": "completed"
    },
    "tags": []
   },
   "outputs": [],
   "source": [
    "df['cleanText']=df['cleanText'].str.replace('subject', '')"
   ]
  },
  {
   "cell_type": "code",
   "execution_count": 21,
   "id": "94b57afe",
   "metadata": {
    "execution": {
     "iopub.execute_input": "2025-01-10T09:01:11.462828Z",
     "iopub.status.busy": "2025-01-10T09:01:11.462389Z",
     "iopub.status.idle": "2025-01-10T09:01:11.474379Z",
     "shell.execute_reply": "2025-01-10T09:01:11.473254Z"
    },
    "papermill": {
     "duration": 0.024152,
     "end_time": "2025-01-10T09:01:11.476276",
     "exception": false,
     "start_time": "2025-01-10T09:01:11.452124",
     "status": "completed"
    },
    "tags": []
   },
   "outputs": [
    {
     "data": {
      "application/vnd.microsoft.datawrangler.viewer.v0+json": {
       "columns": [
        {
         "name": "index",
         "rawType": "int64",
         "type": "integer"
        },
        {
         "name": "text",
         "rawType": "object",
         "type": "string"
        },
        {
         "name": "label_num",
         "rawType": "int64",
         "type": "integer"
        },
        {
         "name": "cleanText",
         "rawType": "object",
         "type": "string"
        }
       ],
       "conversionMethod": "pd.DataFrame",
       "ref": "3b7b211b-8fb3-477c-a007-e91a1afe2e57",
       "rows": [
        [
         "0",
         "Subject: enron methanol ; meter # : 988291\r\nthis is a follow up to the note i gave you on monday , 4 / 3 / 00 { preliminary\r\nflow data provided by daren } .\r\nplease override pop ' s daily volume { presently zero } to reflect daily\r\nactivity you can obtain from gas control .\r\nthis change is needed asap for economics purposes .",
         "0",
         " enron methanol meter follow note gave monday preliminari flow data provid daren pleas overrid pop daili volum present zero reflect daili activ obtain ga control chang need asap econom purpos"
        ],
        [
         "1",
         "Subject: hpl nom for january 9 , 2001\r\n( see attached file : hplnol 09 . xls )\r\n- hplnol 09 . xls",
         "0",
         " hpl nom januari see attach file hplnol xl hplnol xl"
        ],
        [
         "2",
         "Subject: neon retreat\r\nho ho ho , we ' re around to that most wonderful time of the year - - - neon leaders retreat time !\r\ni know that this time of year is extremely hectic , and that it ' s tough to think about anything past the holidays , but life does go on past the week of december 25 through january 1 , and that ' s what i ' d like you to think about for a minute .\r\non the calender that i handed out at the beginning of the fall semester , the retreat was scheduled for the weekend of january 5 - 6 . but because of a youth ministers conference that brad and dustin are connected with that week , we ' re going to change the date to the following weekend , january 12 - 13 . now comes the part you need to think about .\r\ni think we all agree that it ' s important for us to get together and have some time to recharge our batteries before we get to far into the spring semester , but it can be a lot of trouble and difficult for us to get away without kids , etc . so , brad came up with a potential alternative for how we can get together on that weekend , and then you can let me know which you prefer .\r\nthe first option would be to have a retreat similar to what we ' ve done the past several years . this year we could go to the heartland country inn ( www . . com ) outside of brenham . it ' s a nice place , where we ' d have a 13 - bedroom and a 5 - bedroom house side by side . it ' s in the country , real relaxing , but also close to brenham and only about one hour and 15 minutes from here . we can golf , shop in the antique and craft stores in brenham , eat dinner together at the ranch , and spend time with each other . we ' d meet on saturday , and then return on sunday morning , just like what we ' ve done in the past .\r\nthe second option would be to stay here in houston , have dinner together at a nice restaurant , and then have dessert and a time for visiting and recharging at one of our homes on that saturday evening . this might be easier , but the trade off would be that we wouldn ' t have as much time together . i ' ll let you decide .\r\nemail me back with what would be your preference , and of course if you ' re available on that weekend . the democratic process will prevail - - majority vote will rule ! let me hear from you as soon as possible , preferably by the end of the weekend . and if the vote doesn ' t go your way , no complaining allowed ( like i tend to do ! )\r\nhave a great weekend , great golf , great fishing , great shopping , or whatever makes you happy !\r\nbobby",
         "0",
         " neon retreat ho ho ho around wonder time year neon leader retreat time know time year extrem hectic tough think anyth past holiday life go past week decemb januari like think minut calend hand begin fall semest retreat schedul weekend januari youth minist confer brad dustin connect week go chang date follow weekend januari come part need think think agre import us get togeth time recharg batteri get far spring semest lot troubl difficult us get away without kid etc brad came potenti altern get togeth weekend let know prefer first option would retreat similar done past sever year year could go heartland countri inn www com outsid brenham nice place bedroom bedroom hous side side countri real relax also close brenham one hour minut golf shop antiqu craft store brenham eat dinner togeth ranch spend time meet saturday return sunday morn like done past second option would stay houston dinner togeth nice restaur dessert time visit recharg one home saturday even might easier trade would much time togeth let decid email back would prefer cours avail weekend democrat process prevail major vote rule let hear soon possibl prefer end weekend vote go way complain allow like tend great weekend great golf great fish great shop whatev make happi bobbi"
        ],
        [
         "3",
         "Subject: photoshop , windows , office . cheap . main trending\r\nabasements darer prudently fortuitous undergone\r\nlighthearted charm orinoco taster\r\nrailroad affluent pornographic cuvier\r\nirvin parkhouse blameworthy chlorophyll\r\nrobed diagrammatic fogarty clears bayda\r\ninconveniencing managing represented smartness hashish\r\nacademies shareholders unload badness\r\ndanielson pure caffein\r\nspaniard chargeable levin\r\n",
         "1",
         " photoshop window offic cheap main trend abas darer prudent fortuit undergon lightheart charm orinoco taster railroad affluent pornograph cuvier irvin parkhous blameworthi chlorophyl robe diagrammat fogarti clear bayda inconvenienc manag repres smart hashish academi sharehold unload bad danielson pure caffein spaniard chargeabl levin"
        ],
        [
         "4",
         "Subject: re : indian springs\r\nthis deal is to book the teco pvr revenue . it is my understanding that teco\r\njust sends us a check , i haven ' t received an answer as to whether there is a\r\npredermined price associated with this deal or if teco just lets us know what\r\nwe are giving . i can continue to chase this deal down if you need .",
         "0",
         " indian spring deal book teco pvr revenu understand teco send us check receiv answer whether predermin price associ deal teco let us know give continu chase deal need"
        ],
        [
         "5",
         "Subject: ehronline web address change\r\nthis message is intended for ehronline users only .\r\ndue to a recent change to ehronline , the url ( aka \" web address \" ) for accessing ehronline needs to be changed on your computer . the change involves adding the letter \" s \" to the \" http \" reference in the url . the url for accessing ehronline should be : https : / / ehronline . enron . com .\r\nthis change should be made by those who have added the url as a favorite on the browser .",
         "0",
         " ehronlin web address chang messag intend ehronlin user due recent chang ehronlin url aka web address access ehronlin need chang comput chang involv ad letter http refer url url access ehronlin http ehronlin enron com chang made ad url favorit browser"
        ],
        [
         "6",
         "Subject: spring savings certificate - take 30 % off\r\nsave 30 % when you use our customer appreciation spring savings\r\ncertificate at foot locker , lady foot locker , kids foot locker and at\r\nour online stores !\r\nwelcome to our customer appreciation spring savings certificate !\r\nuse the special certificate below and receive 30 % off your purchases either in our stores or online . hurry ! this 4 - day sale begins thursday , march 22 and ends sunday , march 25 .\r\nshare the savings today and e - mail this offer to your friends . many items already are reduced and the 30 % discount is taken off the lowest sale price .\r\nclick below to print your customer appreciation spring savings certificate . you must present this coupon at any foot locker , lady foot locker or kids foot locker store in the u . s . foot locker canada is not participating in this program .\r\nready , set , save !\r\nour spring savings discount will automatically appear when you use the links below or type camlem 21 into the promotion code box during checkout .\r\nfootlocker . com certificate code : camlem 21\r\nladyfootlocker . com certificate code : camlem 21\r\nkidsfootlocker . com certificate code : camlem 21\r\nremember , returns are hassle - free . simply bring your items to any of our stores nationwide or through the mail .\r\ndon ' t be left out - register today to learn about our new products , promotions , events and other specials . simply click below .\r\nterms and conditions . some exclusions apply , please see manager for complete details . certificate must be presented at the time of purchase and cannot be used in conjunction with any other discount offer or associate benefit . not redeemable for cash . applicable taxes must be paid by bearer . cannot be applied to prior purchases or to gift card purchases . void where prohibited , licensed or regulated . catalog exclusions apply . valid thursday , 3 / 22 / 01 through sunday , 3 / 25 / 01 . foot locker canada will not participate in this program .\r\nif you do not wish to receive future emails please click below to\r\nunsubscribe :\r\n",
         "0",
         " spring save certif take save use custom appreci spring save certif foot locker ladi foot locker kid foot locker onlin store welcom custom appreci spring save certif use special certif receiv purchas either store onlin hurri day sale begin thursday march end sunday march share save today e mail offer friend mani item alreadi reduc discount taken lowest sale price click print custom appreci spring save certif must present coupon foot locker ladi foot locker kid foot locker store u foot locker canada particip program readi set save spring save discount automat appear use link type camlem promot code box checkout footlock com certif code camlem ladyfootlock com certif code camlem kidsfootlock com certif code camlem rememb return hassl free simpli bring item store nationwid mail left regist today learn new product promot event special simpli click term condit exclus appli pleas see manag complet detail certif must present time purchas cannot use conjunct discount offer associ benefit redeem cash applic tax must paid bearer cannot appli prior purchas gift card purchas void prohibit licens regul catalog exclus appli valid thursday sunday foot locker canada particip program wish receiv futur email pleas click unsubscrib"
        ],
        [
         "7",
         "Subject: looking for medication ? we ` re the best source .\r\nit is difficult to make our material condition better by the best law , but it is easy enough to ruin it by bad laws .\r\nexcuse me . . . : ) you just found the\r\nbest and simpliest site for\r\nmedication on the net . no perscription , easy\r\ndelivery .\r\nprivate , secure , and easy .\r\nbetter see rightly on a pound a week than squint on a million .\r\nwe ` ve got\r\nanything that you will ever want .\r\nerection treatment pills , anti - depressant pills , weight loss , and\r\nmore ! http : / / splicings . bombahakcx . com / 3 /\r\nknowledge and human power are synonymous .\r\nonly high - quality stuff for low rates !\r\n100 % moneyback guarantee !\r\nthere is no god , nature sufficeth unto herself in no wise hath she need of an author .",
         "1",
         " look medic best sourc difficult make materi condit better best law easi enough ruin bad law excus found best simpliest site medic net perscript easi deliveri privat secur easi better see rightli pound week squint million got anyth ever want erect treatment pill anti depress pill weight loss http splice bombahakcx com knowledg human power synonym high qualiti stuff low rate moneyback guarante god natur sufficeth unto wise hath need author"
        ],
        [
         "8",
         "Subject: noms / actual flow for 2 / 26\r\nwe agree\r\n- - - - - - - - - - - - - - - - - - - - - - forwarded by melissa jones / texas utilities on\r\n02 / 27 / 2001\r\n10 : 33 am - - - - - - - - - - - - - - - - - - - - - - - - - - -\r\n\" eileen ponton \" on 02 / 27 / 2001 09 : 46 : 26 am\r\nto : david avila / lsp / enserch / us @ tu , charlie stone / texas utilities @ tu , melissa\r\njones / texas utilities @ tu , hpl . scheduling @ enron . com ,\r\nliz . bellamy @ enron . com\r\ncc :\r\nsubject : noms / actual flow for 2 / 26\r\ndate nom flow - mcf flow - mmbtu\r\n2 / 26 / 01 0 456 469\r\nbtu = 1 . 027",
         "0",
         " nom actual flow agre forward melissa jone texa util eileen ponton david avila lsp enserch us tu charli stone texa util tu melissa jone texa util tu hpl schedul enron com liz bellami enron com cc  nom actual flow date nom flow mcf flow mmbtu btu"
        ],
        [
         "9",
         "Subject: nominations for oct . 21 - 23 , 2000\r\n( see attached file : hplnl 021 . xls )\r\n- hplnl 021 . xls",
         "0",
         " nomin oct see attach file hplnl xl hplnl xl"
        ],
        [
         "10",
         "Subject: vocable % rnd - word asceticism\r\nvcsc - brand new stock for your attention\r\nvocalscape inc - the stock symbol is : vcsc\r\nvcsc will be our top stock pick for the month of april - stock expected to\r\nbounce to 12 cents level\r\nthe stock hit its all time low and will bounce back\r\nstock is going to explode in next 5 days - watch it soar\r\nwatch the stock go crazy this and next week .\r\nbreaking news - vocalscape inc . announces agreement to resell mix network\r\nservices\r\ncurrent price : $ 0 . 025\r\nwe expect projected speculative price in next 5 days : $ 0 . 12\r\nwe expect projected speculative price in next 15 days : $ 0 . 15\r\nvocalscape networks inc . is building a company that ' s revolutionizing the\r\ntelecommunications industry with the most affordable phone systems , hardware ,\r\nonline software , and rates in canada and the us . vocalscape , a company with\r\nglobal reach , is receiving international attention for the development of voice\r\nover ip ( voip ) application solutions , including the award - winning eyefontm , a\r\nsoftphone for real - time pc - to - phone . we are an advanced implementer of pbx\r\nsystems for companies , call centers , itsps and service providers .\r\nvocalscape has created software and interactive solutions revolving around\r\nglobal communications and data voice convergence . companies use vocalscape for\r\nvoice over internet protocol applications like ip pbxs , softswitches , pc 2 phone\r\nand web 2 phone , providing real - time human interaction and information delivery\r\nover the internet . through vocalscape ' s solutions , businesses can offer a\r\nquality voice service to anywhere in the world at rates that are significantly\r\nlower than current long distance charges . we develop software to run voip\r\nnetworks , and sell , install and service our own branded voip gateways and\r\ngatekeeper control software . we also license our software to customers who want\r\nto brand their own voip solutions .\r\nvocalscape is committed to making great technology ; challenging the status quo ,\r\nand building a 21 st century company that changes the way businesses communicate\r\nand interact through the internet .\r\ncurrent price : $ 0 . 025\r\nwe expect projected speculative price in next 5 days : $ 0 . 12\r\nwe expect projected speculative price in next 15 days : $ 0 . 15\r\nbreaking news - vocalscape inc . announces agreement to resell mix network\r\nservices\r\n- - - - - - - - - -\r\nkatonah , n . y . , / prnewswire - firstcall via comtex / - - vocalscape , inc . pink : vcsc ) ,\r\nan emerging leader in the development of voice over internet protocol ( voip )\r\ntelephony solutions , announced today it has entered into a sales agent agreement\r\nwith mix networks , inc . a voip enhanced telephony service provider .\r\nthis agreement provides vocalscape ' s turnkey calling card customers with access\r\nto mix networks services including north american dids ( phone numbers ) and\r\ndomestic long distance termination . vocalscape will also be able to supply their\r\nclients with enhanced voip products including pre - paid calling through mix\r\nnetworks north american network .\r\nwe are excited to help companies launch voip business models using our solution\r\nwith the whole picture from the software to the network needed to route the\r\ncalls . mix networks gives us the ability to offer wholesale monthly flat rate\r\nplans and dids to our clients that allow for us to build business models like\r\npopular voip companies such as vonage and packet 8 , says ryan gibson , vp\r\nvocalscape networks\r\nsome legal words before you continue :\r\ninformation within this email contains forward looking statements within the\r\nmeaning of section 27 a of the securities act of 1933 and section 21 b of the\r\nsecurities exchange act of 1934 . any statements that express or involve\r\ndiscussions with respect to predictions , goals , expectations , beliefs , plans ,\r\nprojections , objectives , assumptions or future events or performance are not\r\nstatements of historical fact and may be forward looking statements . forward\r\nlooking statements are based on expectations , estimates and projections at the\r\ntime the statements are made that involve a number of risks and uncertainties\r\nwhich could cause actual results or events to differ materially from those\r\npresently anticipated . forward looking statements in this action may be\r\nidentified through the use of words such as : projects , foresee , expects ,\r\nestimates , believes , understands will , part of : anticipates , or that\r\nby statements indicating certain actions may , could , or might occur . all\r\ninformation provided within this email pertaining to investing , stocks ,\r\nsecurities must be understood as information provided and not investment advice .\r\nemerging equity alert advises all readers and subscribers to seek advice from a\r\nregistered professional securities representative before deciding to trade in\r\nstocks featured within this email . none of the material within this report shall\r\nbe construed as any kind of investment advice . please have in mind that the\r\ninterpretation of the witer of this newsletter about the news published by the\r\ncompany does not represent the company official statement and in fact may differ\r\nfrom the real meaning of what the news release meant to say . look the news\r\nrelease by yourself and judge by yourself about the details in it .\r\nin compliance with section 17 ( b ) , we disclose the holding of vcsc shares prior\r\nto the publication of this report . be aware of an inherent conflict of interest\r\nresulting from such holdings due to our intent to profit from the liquidation of\r\nthese shares . shares may be sold at any time , even after positive statements\r\nhave been made regarding the above company . since we own shares , there is an\r\ninherent conflict of interest in our statements and opinions . readers of this\r\npublication are cautioned not to place undue reliance on forward - looking\r\nstatements , which are based on certain assumptions and expectations involving\r\nvarious risks and uncertainties , that could cause results to differ materially\r\nfrom those set forth in the forward - looking statements .\r\nplease be advised that nothing within this email shall constitute a solicitation\r\nor an invitation to get position in or sell any security mentioned herein . this\r\nnewsletter is neither a registered investment advisor nor affiliated with any\r\nbroker or dealer . this newsletter was paid $ 49000 from third party to send this\r\nreport . all statements made are our express opinion only and should be treated\r\nas such . we may own , take position and sell any securities mentioned at any\r\ntime . this report includes forward - looking statements within the meaning of the\r\nprivate securities litigation reform act of 1995 . these statements may include\r\nterms as projected speculative price expect , believe , may , will ,\r\nsoar move , undervalued and intend or similar terms .\r\n",
         "1",
         " vocabl rnd word ascetic vcsc brand new stock attent vocalscap inc stock symbol vcsc vcsc top stock pick month april stock expect bounc cent level stock hit time low bounc back stock go explod next day watch soar watch stock go crazi next week break news vocalscap inc announc agreement resel mix network servic current price expect project specul price next day expect project specul price next day vocalscap network inc build compani revolution telecommun industri afford phone system hardwar onlin softwar rate canada us vocalscap compani global reach receiv intern attent develop voic ip voip applic solut includ award win eyefontm softphon real time pc phone advanc implement pbx system compani call center itsp servic provid vocalscap creat softwar interact solut revolv around global commun data voic converg compani use vocalscap voic internet protocol applic like ip pbx softswitch pc phone web phone provid real time human interact inform deliveri internet vocalscap solut busi offer qualiti voic servic anywher world rate significantli lower current long distanc charg develop softwar run voip network sell instal servic brand voip gateway gatekeep control softwar also licens softwar custom want brand voip solut vocalscap commit make great technolog challeng statu quo build st centuri compani chang way busi commun interact internet current price expect project specul price next day expect project specul price next day break news vocalscap inc announc agreement resel mix network servic katonah n prnewswir firstcal via comtex vocalscap inc pink vcsc emerg leader develop voic internet protocol voip telephoni solut announc today enter sale agent agreement mix network inc voip enhanc telephoni servic provid agreement provid vocalscap turnkey call card custom access mix network servic includ north american did phone number domest long distanc termin vocalscap also abl suppli client enhanc voip product includ pre paid call mix network north american network excit help compani launch voip busi model use solut whole pictur softwar network need rout call mix network give us abil offer wholesal monthli flat rate plan did client allow us build busi model like popular voip compani vonag packet say ryan gibson vp vocalscap network legal word continu inform within email contain forward look statement within mean section secur act section b secur exchang act statement express involv discuss respect predict goal expect belief plan project object assumpt futur event perform statement histor fact may forward look statement forward look statement base expect estim project time statement made involv number risk uncertainti could caus actual result event differ materi present anticip forward look statement action may identifi use word project forese expect estim believ understand part anticip statement indic certain action may could might occur inform provid within email pertain invest stock secur must understood inform provid invest advic emerg equiti alert advis reader subscrib seek advic regist profession secur repres decid trade stock featur within email none materi within report shall constru kind invest advic pleas mind interpret witer newslett news publish compani repres compani offici statement fact may differ real mean news releas meant say look news releas judg detail complianc section b disclos hold vcsc share prior public report awar inher conflict interest result hold due intent profit liquid share share may sold time even posit statement made regard compani sinc share inher conflict interest statement opinion reader public caution place undu relianc forward look statement base certain assumpt expect involv variou risk uncertainti could caus result differ materi set forth forward look statement pleas advis noth within email shall constitut solicit invit get posit sell secur mention herein newslett neither regist invest advisor affili broker dealer newslett paid third parti send report statement made express opinion treat may take posit sell secur mention time report includ forward look statement within mean privat secur litig reform act statement may includ term project specul price expect believ may soar move undervalu intend similar term"
        ],
        [
         "11",
         "Subject: report 01405 !\r\nwffur attion brom est inst siupied 1 pgst our riwe asently rest .\r\ntont to presyou tew cons of benco 4 . yee : fater 45 y . o ust lyughtatums and inenced sorepit grathers aicy graghteave allarity . oarity wow to yur coons , as were then 60 ve mers of oite .\r\nithat yoit ? ! berst thar ! enth excives 2004 . . .\r\n",
         "1",
         " report wffur attion brom est inst siupi pgst riw asent rest tont presyou tew con benco yee fater ust lyughtatum inenc sorepit grather aici graghteav allar oariti wow yur coon mer oit ithat yoit berst thar enth exciv"
        ],
        [
         "12",
         "Subject: enron / hpl actuals for august 28 , 2000\r\nteco tap 20 . 000 / enron ; 120 . 000 / hpl gas daily\r\nls hpl lsk ic 20 . 000 / enron",
         "0",
         " enron hpl actual august teco tap enron hpl ga daili ls hpl lsk ic enron"
        ],
        [
         "13",
         "Subject: vic . odin n ^ ow\r\nberne hotbox carnal bride cutworm dyadic\r\nguardia continuous born gremlin akin counterflow hereafter vocabularian pessimum yaounde cannel bitch penetrate demagogue arbitrary egregious adenosine rubin gil luminosity delicti yarmulke sauterne selfadjoint agleam exeter picofarad consulate dichotomous boyhood balfour spheric frey pillory hoosier fibonacci cat handful\r\n",
         "1",
         " vic odin n ow bern hotbox carnal bride cutworm dyadic guardia continu born gremlin akin counterflow hereaft vocabularian pessimum yaound cannel bitch penetr demagogu arbitrari egregi adenosin rubin gil luminos delicti yarmulk sautern selfadjoint agleam exet picofarad consul dichotom boyhood balfour spheric frey pillori hoosier fibonacci cat hand"
        ],
        [
         "14",
         "Subject: tenaska iv july\r\ndarren :\r\nplease remove the price on the tenaska iv sale , deal 384258 , for july and enter the demand fee . the amount should be $ 3 , 902 , 687 . 50 .\r\nthanks ,\r\nmegan",
         "0",
         " tenaska iv juli darren pleas remov price tenaska iv sale deal juli enter demand fee amount thank megan"
        ],
        [
         "15",
         "Subject: underpriced issue with high return on equity\r\nstock report .\r\ndont sieep on this stock ! this is a hot one !\r\ncompany : gaming transactions inc .\r\nstock symbol : ggts\r\ncurrentiy trading at : o . 30\r\nrating : strong purchase\r\nnear - term target : 0 . 45\r\nlong - term target : 1 . oo\r\nbreaking news for ggts :\r\ngaming transactions inc . ( ggts ) , a | eading provider of online gaming\r\nporta | management is pleased to announce that it has launched its\r\nproprietary gaming portal ( k e n o . com ) furthermore , the company has begun an\r\nintensive marketing campaign to support the | aunch and establish itself\r\nas the | eader in the online gaming industry .\r\n( k e n o . c o m ) is an oniine games destination where people piay\r\npopular casino style games to win real money . the foundation of the site is\r\nan online version of keno . the game of keno uses 80 balls numbered 1\r\nthru 8 o . every game , the house draws 20 bails at random and displays\r\ntheir numbers on screens ( called keno boards ) located on the website . the\r\nobject of the game is for the player to guess some of the numbers the\r\nhouse will draw . the site shall also have other popuiar games in the near\r\nfuture inciuding bingo , poker , blackjack , slots and video game versions\r\nof tabie games .\r\npatrick smyth , ceo of gaming transactions inc . , remarked that , the\r\ngames have been deveioped with the foresight to create a user - friendly\r\nexperience without loading times and a secure transaction system has been\r\ndeveioped with multipie layers of security and redundancy . we spent the\r\nnecessary time and resources to test our software to ensure its\r\nfunctionality and security . consumer focus groups were used in the deveiopment\r\nprocess to make sure that our players had an opulent experience online ,\r\nand future marketing efforts wi | | be aimed customer service and\r\nattention .\r\nabout the company :\r\ngaming transactions inc . is a deveioper and provider of online games\r\nand services for the online entertainment and gaming industries . the\r\ncompany ! s centra | licensed games portal , ( k e n o . c o m ) , is a\r\ndestination oniine gambling property where players may participate in a number\r\nof gambling and oniine gaming fixtures .\r\nthe foundation of the site is of course an online version of keno . the\r\ngame of keno uses 8 o bails numbered 1 thru 80 . every game , the house\r\ndraws 2 o balls at random and displays their numbers on screens ( called\r\nkeno boards ) | ocated on the website . the object of the game is for the\r\npiayer to guess some of the numbers the house will draw . the site also\r\nhas other popuiar games including poker , blackjack , slots and video game\r\nversions of tabie games .\r\ngaming transactions inc . is part of the oniine gambiing industry ,\r\nwhich is said to be one of the fastest growing industries on the internet .\r\n! ' the electronic gambling report forecasts that revenues will reach\r\n14 . 5 biliion by 2006 ! ( market statistics : - informa media grp . giobal\r\nrevenues from oniine gambiing wi | | reach 14 . 52 bi | | ion in 20 o 6 , up from\r\n3 . 81 biilion this year . this is according to a report from the informa\r\nmedia grp . , which says that the us wi | | generate 24 percent of all online\r\ngambling revenues in 2 oo 6 , whereas europe wil | generate 53 percent .\r\nnorth american oniine gambling revenues are expected to reach 1 . 99 biliion\r\nthis year and 3 . 85 bi | | ion in 2 oo 6 . in europe , revenues wil | grow from\r\n1 . 29 billion this year to 7 . 64 biilion in 2 oo 6 . oniine gambling\r\nrevenues wi | | be smailer in asia - pacific 379 miliion this year and 2 . 13\r\nbillion in 2 oo 6 ) and in the rest of the worid 143 million this year to 886\r\nmi | | ion in 2 oo 6 ) . and keno , the game , is one of the highest grossing\r\nproducts for many north american government bodies and pubiic gaming\r\ncorporations . easy to piay , quick , and profitabie , keno has become a favorite\r\nto gambiers who want the excitement of a lottery draw without having to\r\nwait for a weekiy offering combining sophisticated hardware , software\r\nand cutting edge encryption / decryption techniques keno . com has deveioped\r\nand | icensed a system , which is an optima | method for online gaming .\r\ninformation within this publication contains future looking statements\r\nwithin the meaning of section 27 a of the securities act of 1933 and\r\nsection 21 b of the securities exchange act of 1934 . any statements that\r\nexpress or involve discussions with respect to predictions ,\r\nexpectations , beliefs , pians , projections , objectives , goals , assumptions or future\r\nevents or performance are not statements of historica | fact and may be\r\nfuture looking statements . future | ooking statements are based on\r\nexpectations , estimates and projections at the time the statements are made\r\nthat involve a number of risks and uncertainties which couid cause\r\nactual results or events to differ materia | | y from those presently\r\nanticipated . future | ooking statements in this action may be identified through\r\nthe use of words such as projects , foresee , expects , will , anticipates ,\r\nestimates , believes , understands or that by statements indicating\r\ncertain actions may , could , or might occur . these future - | ooking statements\r\nare based on information currentiy avaiiabie and are subject to a\r\nnumber of risks , uncertainties and other factors that couid cause ggts ' s\r\nactua | resuits , performance , prospects or opportunities to differ\r\nmaterialiy from those expressed in , or impiied by , these future - | ooking\r\nstatements . as with many microcap stocks , today ' s company has additiona | risk\r\nfactors that raise doubt about its ability to continue as a going\r\nconcern . ggts is not a reporting company registered under the securities act\r\nof 1934 and hence there is | imited public information avaiiable about\r\nthe company . these risks , uncertainties and other factors include ,\r\nwithout | imitation , the company ' s growth expectations and ongoing funding\r\nrequirements , and specificaily , the company ' s growth prospects with\r\nscalable customers . other risks include the company ' s limited operating\r\nhistory , the company ' s history of operating losses , consumers ' acceptance ,\r\nthe company ' s use of licensed technoiogies , risk of increased\r\ncompetition , the potentia | need for additional financing , the conditions and\r\nterms of any financing that is consummated , the limited trading market for\r\nthe company ' s securities , the possibie volatility of the company ' s\r\nstock price , the concentration of ownership , and the potentia | fluctuation\r\nin the company ' s operating results . the publisher of this report does\r\nnot represent that the information contained in this message states ail\r\nmaterial facts or does not omit a material fact necessary to make the\r\nstatements therein not misieading . a | | information provided within this\r\nreport pertaining to investing , stocks , securities must be understood\r\nas information provided and not investment advice . the publisher of this\r\nnewsletter advises all readers and subscribers to seek advice from a\r\nregistered professional securities representative before deciding to\r\ntrade in stocks featured within this report . none of the materia | within\r\nthis report shall be construed as any kind of investment advice or\r\nsolicitation . many of these companies are on the verge of bankruptcy . you can\r\nlose al | your money by investing in this stock . the pubiisher of this\r\nreport is not a registered investment expert . subscribers should not\r\nview information herein as | egal , tax , accounting or investment advice .\r\nany reference to past performance ( s ) of companies are specially seiected\r\nto be referenced based on the favorabie performance of these companies .\r\nyou wouid need perfect timing to achieve the resuits in the exampies\r\ngiven . there can be no assurance of that happening . remember , as always ,\r\npast performance is not indicative of future results and a thorough due\r\ndiligence effort , inciuding a review of a company ' s fiiings at sec gov\r\nor edgar - online com when avaiiabie , shouid be compieted prior to\r\ninvesting . al | factua | information in this report was gathered from pubiic\r\nsources , including but not | imited to company websites and company press\r\nreleases . the pubiisher discloses the receipt of fifteen thousand\r\ndoilars from a third party , not an officer , director , or affiiiate\r\nshareholder of the company for the preparation of this oniine report . be aware\r\nof an inherent confiict of interest resulting from such compensation\r\ndue to the fact that this is a paid pubiication . the pubiisher of this\r\nreport beiieves this information to be reiiable but can make no assurance\r\nas to its accuracy or compieteness . use of the materia | within this\r\nreport constitutes your acceptance of these terms .\r\nif you wish to stop future maiiings , or if you feel you have been\r\nwrongfuliy placed in our membership , piease go here or send a biank\r\ne mai | with no thanks in the subject to ( - stoxo 042 @ yahoo . com - )\r\n",
         "1",
         " underpr issu high return equiti stock report dont sieep stock hot one compani game transact inc stock symbol ggt currentiy trade rate strong purchas near term target long term target oo break news ggt game transact inc ggt ead provid onlin game porta manag pleas announc launch proprietari game portal k e n com furthermor compani begun intens market campaign support aunch establish eader onlin game industri k e n c oniin game destin peopl piay popular casino style game win real money foundat site onlin version keno game keno use ball number thru everi game hous draw bail random display number screen call keno board locat websit object game player guess number hous draw site shall also popuiar game near futur inciud bingo poker blackjack slot video game version tabi game patrick smyth ceo game transact inc remark game deveiop foresight creat user friendli experi without load time secur transact system deveiop multipi layer secur redund spent necessari time resourc test softwar ensur function secur consum focu group use deveiop process make sure player opul experi onlin futur market effort wi aim custom servic attent compani game transact inc deveiop provid onlin game servic onlin entertain game industri compani centra licens game portal k e n c destin oniin gambl properti player may particip number gambl oniin game fixtur foundat site cours onlin version keno game keno use bail number thru everi game hous draw ball random display number screen call keno board ocat websit object game piayer guess number hous draw site also popuiar game includ poker blackjack slot video game version tabi game game transact inc part oniin gambi industri said one fastest grow industri internet electron gambl report forecast revenu reach biliion market statist informa media grp giobal revenu oniin gambi wi reach bi ion biilion year accord report informa media grp say us wi gener percent onlin gambl revenu oo wherea europ wil gener percent north american oniin gambl revenu expect reach biliion year bi ion oo europ revenu wil grow billion year biilion oo oniin gambl revenu wi smailer asia pacif miliion year billion oo rest worid million year mi ion oo keno game one highest gross product mani north american govern bodi pubiic game corpor easi piay quick profitabi keno becom favorit gambier want excit lotteri draw without wait weekiy offer combin sophist hardwar softwar cut edg encrypt decrypt techniqu keno com deveiop icens system optima method onlin game inform within public contain futur look statement within mean section secur act section b secur exchang act statement express involv discuss respect predict expect belief pian project object goal assumpt futur event perform statement historica fact may futur look statement futur ook statement base expect estim project time statement made involv number risk uncertainti couid caus actual result event differ materia present anticip futur ook statement action may identifi use word project forese expect anticip estim believ understand statement indic certain action may could might occur futur ook statement base inform currentiy avaiiabi  number risk uncertainti factor couid caus ggt actua resuit perform prospect opportun differ materialiy express impii futur ook statement mani microcap stock today compani additiona risk factor rais doubt abil continu go concern ggt report compani regist secur act henc imit public inform avaiiabl compani risk uncertainti factor includ without imit compani growth expect ongo fund requir specificaili compani growth prospect scalabl custom risk includ compani limit oper histori compani histori oper loss consum accept compani use licens technoiogi risk increas competit potentia need addit financ condit term financ consumm limit trade market compani secur possibi volatil compani stock price concentr ownership potentia fluctuat compani oper result publish report repres inform contain messag state ail materi fact omit materi fact necessari make statement therein misiead inform provid within report pertain invest stock secur must understood inform provid invest advic publish newslett advis reader subscrib seek advic regist profession secur repres decid trade stock featur within report none materia within report shall constru kind invest advic solicit mani compani verg bankruptci lose al money invest stock pubiish report regist invest expert subscrib view inform herein egal tax account invest advic refer past perform compani special seiect referenc base favorabi perform compani wouid need perfect time achiev resuit exampi given assur happen rememb alway past perform indic futur result thorough due dilig effort inciud review compani fii sec gov edgar onlin com avaiiabi shouid compiet prior invest al factua inform report gather pubiic sourc includ imit compani websit compani press releas pubiish disclos receipt fifteen thousand doilar third parti offic director affiiiat sharehold compani prepar oniin report awar inher confiict interest result compens due fact paid pubiic pubiish report beiiev inform reiiabl make assur accuraci compiet use materia within report constitut accept term wish stop futur maii feel wrongfuliy place membership pieas go send biank e mai thank  stoxo yahoo com"
        ],
        [
         "16",
         "Subject: re : first delivery - wheeler operating\r\nvance ,\r\ndeal # 643714 has been created and entered in sitara .\r\nbob\r\nvance l taylor\r\n02 / 23 / 2001 04 : 55 pm\r\nto : robert cotten / hou / ect @ ect\r\ncc : julie meyers / hou / ect @ ect , lisa hesse / hou / ect @ ect , cynthia\r\nhakemack / hou / ect @ ect , susan smith / hou / ect @ ect , donald p\r\nreinhardt / hou / ect @ ect , melissa graves / hou / ect @ ect\r\nsubject : first delivery - wheeler operating\r\nbob ,\r\nthe following production is now on - line and a ticket should be created and\r\nentered into sitara based on the following :\r\ncounterparty meter volumes price period global no .\r\nwheeler operating 9879 800 mmbtu / d 85 % gas daily 2 / 17 - 2 / 28 nya\r\nfyi , i have created and submitted a committed reserves firm ticket for the\r\nremaining term of the deal beginning with the month of march . additionally ,\r\nthis is a producer svcs . deal and should be tracked in the im wellhead\r\nportfolio . . . attached to the gathering contract .\r\nthanks ,\r\nvlt\r\nx 3 - 6353\r\n- - - - - - - - - - - - - - - - - - - - - - forwarded by vance l taylor / hou / ect on 02 / 23 / 2001\r\n04 : 21 pm - - - - - - - - - - - - - - - - - - - - - - - - - - -\r\nfrom : esther buckley 02 / 22 / 2001 10 : 39 am\r\nto : molly l carriere / hou / ect @ ect , clem cernosek / hou / ect @ ect , donna\r\nconsemiu / hou / ect @ ect , robert cook / hou / ect @ ect , howard b camp / hou / ect @ ect ,\r\nlisa hesse / hou / ect @ ect , nathan l hlavaty / hou / ect @ ect , wayne e\r\nlightfoot / hou / ect , james mckay / hou / ect @ ect , mary m smith / hou / ect @ ect , steve\r\nhpl schneider / hou / ect @ ect , melissa graves / hou / ect @ ect , michael\r\nwalters / hou / ect @ ect , jill t zivley / hou / ect @ ect , mary jo johnson / hou / ees @ ees ,\r\nrita wynne / hou / ect @ ect , lauri a allen / hou / ect @ ect , cheryl\r\njones / gpgfin / enron @ enron , reid hansen / gco / enron @ enron , darron c\r\ngiron / hou / ect @ ect , o ' neal d winfree / hou / ect @ ect , susan smith / hou / ect @ ect ,\r\ngary bryan / hou / ect @ ect , gary a hanks / hou / ect @ ect , donald p\r\nreinhardt / hou / ect @ ect , vance l taylor / hou / ect @ ect , david\r\nbaumbach / hou / ect @ ect , robert cotten / hou / ect @ ect , brian m riley / hou / ect @ ect ,\r\njeff a austin / hou / ees @ ees , cynthia hakemack / hou / ect @ ect , dawn c\r\nkenne / hou / ect @ ect , lisa csikos / hou / ect @ ect , j r fosdick / gco / enron @ enron ,\r\ncarlos j rodriguez / hou / ect @ ect , stephanie gomes / hou / ect @ ect , pat\r\nclynes / corp / enron @ enron , tom acton / corp / enron @ enron , robert\r\nwalker / hou / ect @ ect , george weissman / hou / ect @ ect , joanne\r\nharris / na / enron @ enron , christy sweeney / hou / ect @ ect , earl tisdale / hou / ect @ ect ,\r\ndaren j farmer / hou / ect @ ect\r\ncc :\r\nsubject : first delivery - wheeler operating\r\nplease see attached letter",
         "0",
         " first deliveri wheeler oper vanc deal creat enter sitara bob vanc l taylor pm robert cotten hou ect ect cc juli meyer hou ect ect lisa hess hou ect ect cynthia hakemack hou ect ect susan smith hou ect ect donald p reinhardt hou ect ect melissa grave hou ect ect  first deliveri wheeler oper bob follow product line ticket creat enter sitara base follow counterparti meter volum price period global wheeler oper mmbtu ga daili nya fyi creat submit commit reserv firm ticket remain term deal begin month march addit produc svc deal track im wellhead portfolio attach gather contract thank vlt x forward vanc l taylor hou ect pm esther buckley molli l carrier hou ect ect clem cernosek hou ect ect donna consemiu hou ect ect robert cook hou ect ect howard b camp hou ect ect lisa hess hou ect ect nathan l hlavati hou ect ect wayn e lightfoot hou ect jame mckay hou ect ect mari smith hou ect ect steve hpl schneider hou ect ect melissa grave hou ect ect michael walter hou ect ect jill zivley hou ect ect mari jo johnson hou ee ee rita wynn hou ect ect lauri allen hou ect ect cheryl jone gpgfin enron enron reid hansen gco enron enron darron c giron hou ect ect neal winfre hou ect ect susan smith hou ect ect gari bryan hou ect ect gari hank hou ect ect donald p reinhardt hou ect ect vanc l taylor hou ect ect david baumbach hou ect ect robert cotten hou ect ect brian riley hou ect ect jeff austin hou ee ee cynthia hakemack hou ect ect dawn c kenn hou ect ect lisa csiko hou ect ect j r fosdick gco enron enron carlo j rodriguez hou ect ect stephani gome hou ect ect pat clyne corp enron enron tom acton corp enron enron robert walker hou ect ect georg weissman hou ect ect joann harri na enron enron christi sweeney hou ect ect earl tisdal hou ect ect daren j farmer hou ect ect cc  first deliveri wheeler oper pleas see attach letter"
        ],
        [
         "17",
         "Subject: swift - may 2001 vols\r\nsean ,\r\nfyi , check the purchase from swift at the tailgate ( meter 9643 ) and make sure to nom the correct quantity .\r\nmary\r\n- - - - - - - - - - - - - - - - - - - - - - forwarded by mary poorman / na / enron on 04 / 26 / 2001 07 : 09 am - - - - - - - - - - - - - - - - - - - - - - - - - - -\r\nfrom : joan quick / enron @ enronxgate on 04 / 25 / 2001 06 : 13 pm\r\nto : carlos j rodriguez / hou / ect @ ect , mary poorman / na / enron @ enron , jackie young / hou / ect @ ect\r\ncc : brian m riley / hou / ect @ ect , mike morris / corp / enron @ enron\r\nsubject : swift - may 2001 vols\r\nhere is the may first of the month nom :\r\nking ranch plant 6 , 400 mmbtu / d",
         "0",
         " swift may vol sean fyi check purchas swift tailgat meter make sure nom correct quantiti mari forward mari poorman na enron joan quick enron enronxg pm carlo j rodriguez hou ect ect mari poorman na enron enron jacki young hou ect ect cc brian riley hou ect ect mike morri corp enron enron  swift may vol may first month nom king ranch plant mmbtu"
        ],
        [
         "18",
         "Subject: meter variances - ua 4 clean - up\r\ndaren / vance -\r\nthe two meters below are new and have unallocatable flow . . . . . . . i will need a\r\npurchase for each of them . please respond with a deal number , or further\r\nsuggestions for resolution so that i can clear this up as soon as possible .\r\nmary\r\nenron on 09 / 19 / 2000 08 : 44 am - - - - - - - - - - - - - - - - - - - - - - - - - - -\r\nkatherine benedict @ ect\r\n09 / 18 / 2000 04 : 53 pm\r\nto : mary poorman / na / enron @ enron , fred boas / hou / ect @ ect , aimee\r\nlannou / hou / ect @ ect\r\ncc :\r\nsubject : meter variances - ua 4 clean - up\r\nhi guys ,\r\nplease take a look at the following meters which are showing up with\r\nvariances on my ua 4 report . once the variance has been cleared , please send\r\nme an e - mail . please try to clear these within the next couple of days .\r\nthanks ,\r\nkathy benedict\r\nmeter number : 9851\r\nvariance : 11 , 204\r\nmeter type : daily swing\r\nproduction month : august 2000\r\nlogistics contact : none\r\nvolume mgmt contact : anita luong\r\nmeter number : 9852\r\nvariance 568\r\nmeter type : daily swing\r\nproduction month : august 2000\r\nlogistics contact : none\r\nvolume mgmt contact : anita luong",
         "0",
         " meter varianc ua clean daren vanc two meter new unallocat flow need purchas pleas respond deal number suggest resolut clear soon possibl mari enron katherin benedict ect pm mari poorman na enron enron fred boa hou ect ect aime lannou hou ect ect cc  meter varianc ua clean hi guy pleas take look follow meter show varianc ua report varianc clear pleas send e mail pleas tri clear within next coupl day thank kathi benedict meter number varianc meter type daili swing product month august logist contact none volum mgmt contact anita luong meter number varianc meter type daili swing product month august logist contact none volum mgmt contact anita luong"
        ],
        [
         "19",
         "Subject: additional recruiting\r\ni ' m happy to introduce molly magee as the newest addition to the eops\r\nrecruiting team . toni and molly have divided their recruiting duties\r\nalong separate job functions . please review the information below and\r\ndirect your staffing requests to either toni or molly depending on your job\r\nneeds .\r\ntoni graham - accounting , risk and confirmation / settlements positions ( or\r\nopenings requiring a similar skill set of this candidate pool )\r\nmolly magee - logistics , global data management , research , legal , competitive\r\nanalysis , contract administration and other positions ( or openings requiring\r\na similar skill set of this candidate pool )\r\nthanks for your assistance ,\r\nhgm",
         "0",
         " addit recruit happi introduc molli mage newest addit eop recruit team toni molli divid recruit duti along separ job function pleas review inform direct staf request either toni molli depend job need toni graham account risk confirm settlement posit open requir similar skill set candid pool molli mage logist global data manag research legal competit analysi contract administr posit open requir similar skill set candid pool thank assist hgm"
        ],
        [
         "20",
         "Subject: fw : ercot load comparison\r\n- - - - - original message - - - - -\r\nfrom : gilbert - smith , doug\r\nsent : tuesday , may 22 , 2001 8 : 38 am\r\nto : tmartin @ enron . com\r\nsubject : ercot load comparison\r\ntom ,\r\nhere is an answer for you vis a vis load growth .\r\nhope it helps ,\r\ndoug\r\n- - - - - - - - - - - - - - - - - - - - - - forwarded by doug gilbert - smith / corp / enron on 05 / 22 / 2001 08 : 35 am - - - - - - - - - - - - - - - - - - - - - - - - - - -\r\nfrom : kevin cline / enron @ enronxgate on 05 / 21 / 2001 03 : 26 pm\r\nto : doug gilbert - smith / corp / enron @ enron\r\ncc : eric saibi / corp / enron @ enron\r\nsubject : ercot load comparison\r\nplease find attached spreadsheet that compares hot days from may 2000 and may 2001 . there are two tabs , one tab contains the days may 16 - 18 , 2000 and the other tab contains the days may 14 - 18 , 2001 . each tab contains both the load data and temp data particular to the days in question . the days most directly comparable are may 17 , 2001 ( thursday ) and may 18 , 2000 ( thursday ) , although the two days preceding may 18 , 2000 were slightly warmer than the two days preceding may 17 , 2001 . the peak on 5 / 17 / 2001 , 44 , 923 mw , is 2 . 78 % higher than the peak on 5 / 18 / 2000 , 43 , 709 mw . with similarly warm days before 5 / 17 / 2001 as there were before 5 / 18 / 2000 , the peak would obviously have been even higher . this would put the year - over - year growth in excess of 3 % . i believe this falls right in line with the growth rate year - over - year from an earlier analysis , somewhere in the range of 3 . 5 % to 4 % .\r\nlet me know if you have any questions or comments .",
         "0",
         " fw ercot load comparison origin messag gilbert smith doug sent tuesday may tmartin enron com  ercot load comparison tom answer vi vi load growth hope help doug forward doug gilbert smith corp enron kevin cline enron enronxg pm doug gilbert smith corp enron enron cc eric saibi corp enron enron  ercot load comparison pleas find attach spreadsheet compar hot day may may two tab one tab contain day may tab contain day may tab contain load data temp data particular day question day directli compar may thursday may thursday although two day preced may slightli warmer two day preced may peak mw higher peak mw similarli warm day peak would obvious even higher would put year year growth excess believ fall right line growth rate year year earlier analysi somewher rang let know question comment"
        ],
        [
         "21",
         "Subject: meter 6461 , concorde churchill\r\none year rate for this one will be $ . 35 / mm for volumes greater than 300 mm / day . price for volumes 300 mm / day or less will be $ . 45 / mm plus a $ 350 per month metering fee . this rate would cover transport to a competitive ship channel market such as equistar channelview . transport rates for a 6 month term are not significantly different - $ . 33 / mm for volumes greater than 300 mm / day and $ . 42 / mm plus the metering fee for volumes 300 mm / day or less . these rates assume a september 1 , 2001 start . these rates good until friday , august 31 , 2001 only ! ! ! get ' em while they ' re hot ! !",
         "0",
         " meter concord churchil one year rate one mm volum greater mm day price volum mm day less mm plu per month meter fee rate would cover transport competit ship channel market equistar channelview transport rate month term significantli differ mm volum greater mm day mm plu meter fee volum mm day less rate assum septemb start rate good friday august get em hot"
        ],
        [
         "22",
         "Subject: hpl nom for january 25 , 2001\r\n( see attached file : hplnol 26 . xls )\r\n- hplnol 26 . xls",
         "0",
         " hpl nom januari see attach file hplnol xl hplnol xl"
        ],
        [
         "23",
         "Subject: re : tenaska iv 10 / 00\r\nwe have received all of the money from the spot sales for tenaska iv in\r\noctober 2000 , except for the tenaska iv sale and the $ 0 . 04 fee .\r\nmegan",
         "0",
         " tenaska iv receiv money spot sale tenaska iv octob except tenaska iv sale fee megan"
        ],
        [
         "24",
         "Subject: jump in to gain substantial ground immediately\r\nwe are very excited about this new upcoming stock about to explode\r\nmontana oil and gas , inc . ( mogi ) to explore further opportunities in alberta\r\ncanada , is an energy deveioper in canada ' s most highiy coveted\r\nreservoirs .\r\naggressive investors and traders may want to watch montana oi | and gas\r\nagain this morning ! montana oil and gas inc . ( mogi - news ) announces\r\nthat the syivan lake oil and gas project is sti | | awaiting a rig at this\r\ntime . the surface lease has been constructed and we have\r\nbeen waiting for a rig to become avaiiabie for over two weeks , and\r\nanticipate this to happen next week at the latest .\r\nthe company has a 25 % working interest in the syivan lake project .\r\nsymbo | - mogi\r\ncurrent price - . 26\r\nreasons to consider mogi :\r\n1 . price charts confirm oi | prices are experiencing the strongest bul |\r\nmarket in a generation .\r\n2 . natura | gas prices have tripled in the | ast two years .\r\n3 . with multiple projects in high - gear and the expanding production on\r\nreserves potentialiy worth muiti - millions , mogi is seliing for less\r\nthan 1 / 4 the vaiue of its assets .\r\n4 . montana oi | and gas specializes in using new technology to turn\r\nunproductive oi | and gas deposits into profitabie enterprises . aiready\r\nshares in the oi | and gas sectorare rising faster than the overa | | market .\r\nin fact , four of dow jones ' ten top performing industry sectors for the\r\npast year are energy related . but it ' s in the mid - sized explorers and\r\ndeveiopers like montana oi | ( mogi ) that the biggest gains are being\r\nmade . in the last 12 months , many of these stocks made tripie and even\r\nquadruple returns .\r\nbreaking news ! !\r\napril 29 , - montana oil and gas reports the following update on its\r\nsylvan lake project . after several delays due to unseasonable weather and\r\nroad closures in the province of alberta , the contracted drilling rig\r\nwas moved onto location and ensign drilling has spudded the 5 - 3 - 38 - 3 w 5 m\r\nwell . the company anticipates the road bans to be lifted shortly in\r\ncompliance with government regulations and to resume drilling of the well\r\nimmediately there after .\r\nthe company ' s west lock project is also scheduled to resume completion\r\nof tie in upon lifting of the road ban .\r\nwith the continued interest in our sylvan lake project montana oil and\r\ngas has prepared a detailed project description .\r\nproject history\r\nthe sylvan lake oil and gas field was discovered in the late 1950 ' s and\r\nhas produced over 40 million barrels ( mbbls ) of high quality crude oil\r\nand 50 billion cubic feet ( bcf ) of associated natural gas ,\r\npredominantly from the mississippian pekisko and shunda formations . the field\r\nremains in production today and continues to be down spaced drilled and\r\nexpanded with the use of modern three and four dimension geophysics .\r\nthe original freehold lease on section 3 - 38 - 3 w 5 m was leased to a major\r\noil company , as was most of the sylvan lake field itself . an\r\nexploratory well was drilled by this major company in 7 - 3 - 38 - 3 w 5 m in 1958 and was\r\nabandoned after finding the shunda and pekisko formations completely\r\neroded by post depositional cutting . as a consequence , the major company\r\ndid no further exploration on this section and eventually bowed to the\r\ncomplaints of the freehold mineral rights owner and relinquished the\r\ndeeper mineral rights ( below the base of the jurassic formations ) on the\r\nwest one half of section 3 back to the freehold mineral rights owner in\r\nthe early 1960 ' s . this relinquishment was extraordinary at the time as\r\nmineral right severance had very seldom ever been done and more\r\nspecifically , not often by the major companies . accordingly , these mineral\r\nrights sat available and dormant until the early 2000 ' s as almost all oil\r\nand gas companies thought they were held by the original lessee .\r\nthrough diligent land work ( including field visits ) our partners discovered\r\nthis relinquishment and quickly leased the west half of section 3 . since\r\nthat time our partners have managed to lease an additional 160 acres\r\n( one quarter section ) of section 3 . energy 51 has the right to earn 50 %\r\nof this prospect ( possibly 75 % ) with the drilling of a test well in\r\n5 - 3 - 38 - 3 w 5 m .\r\nland discussion\r\nour partners have secured a 100 % working interest in the west half and\r\nnortheast quarter of section 3 - 38 - 3 w 5 m . the land comprises some 480\r\nacres ( one section or one square mile equals 640 acres ) . primary drilling\r\nspacing in alberta is as follows ; one quarter section spacing ( 160\r\nacres ) for oil and one section spacing ( 640 acres ) for natural gas . the\r\nprovince allows for decreased drilling and production spacing units\r\n( called holdings ) should you be able to prove to the province ' s\r\nsatisfaction that more efficient drainage of reserves would result from increased\r\nwell density . almost the entire sylvan lake field , pekisko pool , has\r\nbeen down spaced dramatically and should we be successful in discovering\r\npekisko oil we will down space as well .\r\ngeological discussion\r\npekisko formation - - the principle target of this prospect is oil and\r\nassociated gas production from the deeper ( older ) pekisko formation . the\r\nsylvan lake pekisko oil field lies on the up dip erosional edge of the\r\npekisko formation . this edge is extremely rugged as its shape was\r\ninfluenced by both terrestrial drainage and seashore conditions . overlying\r\nthis ancient shoreline are cap rocks ( impermeable layers ) of the\r\nmississippian lower shunda formation and cretaceous / jurassic impermeable\r\nshales . these erosional edge trap features are common throughout alberta and\r\naccount for billions of barrels of reserves .\r\nproduction facilities discussion\r\nthis immediate area has been developed for both oil and natural gas\r\nover the past forty - five years . accordingly a multitude of gas gathering\r\nand processing facilities and oil transportation facilities have been\r\nconstructed .\r\na major gas processing facility is located within two miles of our\r\nproject with gathering system lines with one half a mile from our proposed\r\ndrilling location . the capacity of the processing facility is\r\napproximately 70 mmcf / d with current throughput of only 46 mmcf / d . accordingly ,\r\nexcess capacity of 24 mmcf / d exists in the facility which would be in\r\nthe best interest of the operator to fill as soon as possible .\r\nthis gas processing facility also has oil pipeline access for the\r\ntransportation of raw oil product to the main delivery terminals north of\r\nred deer , alberta . accordingly , trucking costs would be minimal to get\r\noil product to the transportation system .\r\nfor more detailed project description please see news release dated\r\n( fri , apr 29 ) .\r\ngood luck and successfu | trading .\r\nconclusion :\r\nthe examples above show the awesome , earning potential of little known\r\ncompanies that explode onto investor ' s radar screens ; many of you are\r\nalready familiar with this . is mogi poised and positioned to do that for\r\nyou ? then you may feel the time has come to act . . . and please watch\r\nthis one trade tuesday ! go mogi .\r\npenny stocks are considered highly speculative and may be unsuitable\r\nfor all but very aggressive investors . this profile is not in any way\r\naffiliated with the featured company . we were compensated 3000 dollars\r\nto distribute this report . this report is for entertainment and\r\nadvertising purposes only and should not be used as investment advice .\r\n",
         "1",
         " jump gain substanti ground immedi excit new upcom stock explod montana oil ga inc mogi explor opportun alberta canada energi deveiop canada highiy covet reservoir aggress investor trader may want watch montana oi ga morn montana oil ga inc mogi news announc syivan lake oil ga project sti await rig time surfac leas construct wait rig becom avaiiabi two week anticip happen next week latest compani work interest syivan lake project symbo mogi current price reason consid mogi price chart confirm oi price experienc strongest bul market gener natura ga price tripl ast two year multipl project high gear expand product reserv potentialiy worth muiti million mogi seli less vaiue asset montana oi ga special use new technolog turn unproduct oi ga deposit profitabi enterpris aireadi share oi ga sectorar rise faster overa market fact four dow jone ten top perform industri sector past year energi relat mid size explor deveiop like montana oi mogi biggest gain made last month mani stock made tripi even quadrupl return break news april montana oil ga report follow updat sylvan lake project sever delay due unseason weather road closur provinc alberta contract drill rig move onto locat ensign drill spud w well compani anticip road ban lift shortli complianc govern regul resum drill well immedi compani west lock project also schedul resum complet tie upon lift road ban continu interest sylvan lake project montana oil ga prepar detail project descript project histori sylvan lake oil ga field discov late produc million barrel mbbl high qualiti crude oil billion cubic feet bcf associ natur ga predominantli mississippian pekisko shunda format field remain product today continu space drill expand use modern three four dimens geophys origin freehold leas section w leas major oil compani sylvan lake field exploratori well drill major compani w abandon find shunda pekisko format complet erod post deposit cut consequ major compani explor section eventu bow complaint freehold miner right owner relinquish deeper miner right base jurass format west one half section back freehold miner right owner earli relinquish extraordinari time miner right sever seldom ever done specif often major compani accordingli miner right sat avail dormant earli almost oil ga compani thought held origin lesse dilig land work includ field visit partner discov relinquish quickli leas west half section sinc time partner manag leas addit acr one quarter section section energi right earn prospect possibl drill test well w land discuss partner secur work interest west half northeast quarter section w land compris acr one section one squar mile equal acr primari drill space alberta follow one quarter section space acr oil one section space acr natur ga provinc allow decreas drill product space unit call hold abl prove provinc satisfact effici drainag reserv would result increas well densiti almost entir sylvan lake field pekisko pool space dramat success discov pekisko oil space well geolog discuss pekisko format principl target prospect oil associ ga product deeper older pekisko format sylvan lake pekisko oil field lie dip erosion edg pekisko format edg extrem rug shape influenc terrestri drainag seashor condit overli ancient shorelin cap rock imperm layer mississippian lower shunda format cretac jurass imperm shale erosion edg trap featur common throughout alberta account billion barrel reserv product facil discuss immedi area develop oil natur ga past forti five year accordingli multitud ga gather process facil oil transport facil construct major ga process facil locat within two mile project gather system line one half mile propos drill locat capac process facil approxim mmcf current throughput mmcf accordingli excess capac mmcf exist facil would best interest oper fill soon possibl ga process facil also oil pipelin access transport raw oil product main deliveri termin north red deer alberta accordingli truck cost would minim get oil product transport system detail project descript pleas see news releas date fri apr good luck successfu trade conclus exampl show awesom earn potenti littl known compani explod onto investor radar screen mani alreadi familiar mogi pois posit may feel time come act pleas watch one trade tuesday go mogi penni stock consid highli specul may unsuit aggress investor profil way affili featur compani compens dollar distribut report report entertain advertis purpos use invest advic"
        ],
        [
         "25",
         "Subject: re : enron / hpl actuals for october 11 , 2000 - revision\r\nplease note that the pricing allocation of volumes for october 11 , 2000 should\r\nbe changed as follows .\r\nteco tap 40 . 000 / enron ; 25 . 209 / hpl iferc ; 84 . 791 / hpl gas daily\r\nthe total nomination of 775 . 000 subject to the iferc pricing was completed on\r\noctober 11 , 2000 . all remaining gas purchases under the hpl contract ( k # 3949 )\r\nwill be at the gas daily pricing .\r\nthanks ,\r\nccs\r\ncharlie stone\r\n10 / 13 / 2000 03 : 04 pm\r\nto : gary green / texas utilities @ tu , daren . j . farmer @ enron . com ,\r\ngary . a . hanks @ enron . com , carlos . j . rodriguez @ enron . com ,\r\nearl . tisdale @ enron . com , ami . chokshi @ enron . com , david\r\navila / lsp / enserch / us @ tu\r\ncc :\r\nsubject : enron / hpl actuals for october 12 , 2000 - revision\r\nall gas nominated at iferc pricing for the month has been taken . remaining\r\npurchases under k # 3949 will be at the gas daily pricing .\r\nteco tap 40 . 000 / enron ; 110 . 000 / hpl gas daily\r\n- - - - - - - - - - - - - - - - - - - - - - forwarded by charlie stone / texas utilities on\r\n10 / 13 / 2000\r\n02 : 58 pm - - - - - - - - - - - - - - - - - - - - - - - - - - -\r\ngary green\r\n10 / 13 / 2000 10 : 04 am\r\nto : charlie stone / texas utilities @ tu , gary green / texas utilities @ tu ,\r\ndaren . j . farmer @ enron . com , gary . a . hanks @ enron . com ,\r\ncarlos . j . rodriguez @ enron . com , earl . tisdale @ enron . com ,\r\nami . chokshi @ enron . com , david avila / lsp / enserch / us @ tu\r\ncc :\r\nsubject : enron / hpl actuals for october 12 , 2000\r\nteco tap 40 . 000 / enron ; 110 . 000 / hpl iferc",
         "0",
         " enron hpl actual octob revis pleas note price alloc volum octob chang follow teco tap enron hpl iferc hpl ga daili total nomin  iferc price complet octob remain ga purchas hpl contract k ga daili price thank cc charli stone pm gari green texa util tu daren j farmer enron com gari hank enron com carlo j rodriguez enron com earl tisdal enron com ami chokshi enron com david avila lsp enserch us tu cc  enron hpl actual octob revis ga nomin iferc price month taken remain purchas k ga daili price teco tap enron hpl ga daili forward charli stone texa util pm gari green charli stone texa util tu gari green texa util tu daren j farmer enron com gari hank enron com carlo j rodriguez enron com earl tisdal enron com ami chokshi enron com david avila lsp enserch us tu cc  enron hpl actual octob teco tap enron hpl iferc"
        ],
        [
         "26",
         "Subject: registration confirmation from spinner . com\r\nthank you for joining spinner . com : the web ' s largest source of free streaming\r\nmusic\r\njust wanted to confirm your registration with spinner - - you now have\r\ncomplete access to spinner ' s 150 + professionally programmed music channels\r\nand the entire spinner . com website . and just to remind you , the player , the\r\nwebsite , and ( most importantly ! ) the music are all totally free .\r\n* your user name is : junglo\r\nwe have omitted your password for your privacy . please hang on to this email\r\nso you can easily retrieve your user name if you forget it .\r\n* forget your password ? enter your user name and email address at our\r\npassword retrieval page and we ' ll email it to you :\r\n* you can also change your email address from your my profile page :\r\nhttp : / / www . spinner . com / profile /\r\n* for download / installation assistance , visit our help pages :\r\nhttp : / / www . spinner . com / help / download /\r\n* if you have any questions or any problems at all , please email us at :\r\nfeedback @ spinner . com\r\nour users listen to 20 million songs a week , from almost every genre of music\r\nyou can imagine . they also learn more about everything they hear by clicking\r\non the player :\r\n* get bios on every artist you hear by clicking \" artist info , \" and purchase\r\ntheir cds by clicking \" buy this cd \" .\r\n* click \" rate song \" to let our djs know what you think of each song you hear\r\n- - they ' ll use your feedback to determine song play .\r\n* click \" channel \" to see this week ' s top 25 songs on the channel you ' re\r\nplaying , ranked in order of popularity .\r\n* for even more great info on our channels and music , visit spinner . com . you\r\ncan find out what channels play your favorite artists , download great free\r\nsongs , and take part in cool promotions and contests .\r\nthanks again for registering . if you like what you hear , tell a friend about\r\nspinner .\r\nenjoy the music !\r\nthe spinner crew\r\nif you received this email in error , you can unsubscribe from our service\r\nhere :\r\nhttp : / / www . spinner . com / unsubscribe /",
         "0",
         " registr confirm spinner com thank join spinner com web largest sourc free stream music want confirm registr spinner complet access spinner profession program music channel entir spinner com websit remind player websit importantli music total free user name junglo omit password privaci pleas hang email easili retriev user name forget forget password enter user name email address password retriev page email also chang email address profil page http www spinner com profil download instal assist visit help page http www spinner com help download question problem pleas email us feedback spinner com user listen million song week almost everi genr music imagin also learn everyth hear click player get bio everi artist hear click artist info purchas cd click buy cd click rate song let dj know think song hear use feedback determin song play click channel see week top song channel play rank order popular even great info channel music visit spinner com find channel play favorit artist download great free song take part cool promot contest thank regist like hear tell friend spinner enjoy music spinner crew receiv email error unsubscrib servic http www spinner com unsubscrib"
        ],
        [
         "27",
         "Subject: aep transition items\r\nattached is a brief memo outline some of the transtion issues with hpl to aep\r\nthis is the first draft .\r\nthe itilized items currently require some more action .\r\nplease add any items and forward back to me . i will update\r\nthanks\r\nbob",
         "0",
         " aep transit item attach brief memo outlin transtion issu hpl aep first draft itil item current requir action pleas add item forward back updat thank bob"
        ],
        [
         "28",
         "Subject: an inbound message for you has been quarantined\r\nyou have received this message because someone has attempted to send you an e - mail from outside of enron with an attachment type that enron does not allow into our messaging environment . your e - mail has been quarantined and is being held at the mailsweeper server .\r\nsender : colio @ houston . rr . com\r\ndate : thu , 27 sep 2001 16 : 07 : 26 - 0500\r\nsubject : logitech video e - mail\r\nattachment type : scenarios / incoming / inbound exe catcher : a filename matching the file mask was detected : ' vmailvid . exe ' .\r\nif the intended email is of valid business - related content and you believe it requires enron resources to retrieve it , you may call your help desk and ask to have it released from quarantine and delivered to your e - mail inbox . your message will be scanned and checked for viruses prior to requested release . if it contains a virus or there is reason to suspect it is malicious code , it will not be delivered .\r\nnorth american resolution center : 713 853 1411\r\neuropean resolution center : 0044 207 78 36777\r\nees help desk : 888 853 9797\r\nets solution center : 713 345 4745 ( houston ) or 402 398 7454 ( omaha )\r\nplease do not reply to this address as it is not a monitored system mailbox .",
         "0",
         " inbound messag quarantin receiv messag someon attempt send e mail outsid enron attach type enron allow messag environ e mail quarantin held mailsweep server sender colio houston rr com date thu sep  logitech video e mail attach type scenario incom inbound exe catcher filenam match file mask detect vmailvid exe intend email valid busi relat content believ requir enron resourc retriev may call help desk ask releas quarantin deliv e mail inbox messag scan check virus prior request releas contain viru reason suspect malici code deliv north american resolut center european resolut center ee help desk et solut center houston omaha pleas repli address monitor system mailbox"
        ],
        [
         "29",
         "Subject: re : valero gas marketing ; meter # : 8018 / sitara ticket # 148376\r\nplease zero out the volumes until further notice . the plant is scheduled to\r\ncome up on march 26 and we will treat it as force majeure at this time .\r\nfrom : robert e lloyd 03 / 13 / 2000 02 : 28 pm\r\nto : howard b camp / hou / ect @ ect\r\ncc : stacey neuweiler / hou / ect @ ect , daren j farmer / hou / ect @ ect , gary w\r\nlamphier / hou / ect @ ect\r\nsubject : valero gas marketing ; meter # : 8018 / sitara ticket # 148376\r\nfyi . . . only !\r\ngary agreed to let the deficiency volumes hit the buyback that is set\r\npresently .\r\n- - - - - - - - - - - - - - - - - - - - - - forwarded by robert e lloyd / hou / ect on 03 / 13 / 2000\r\n02 : 25 pm - - - - - - - - - - - - - - - - - - - - - - - - - - -\r\nfrom : robert e lloyd 03 / 13 / 2000 02 : 09 pm\r\nto : gary w lamphier / hou / ect @ ect , stacey neuweiler / hou / ect @ ect , daren j\r\nfarmer / hou / ect @ ect\r\ncc : pat clynes / corp / enron @ enron , aimee lannou / hou / ect @ ect\r\nsubject : valero gas marketing ; meter # : 8018 / sitara ticket # 148376\r\neffective march 11 th valero has not pulled any gas on a 35 . 0 / day\r\nnomination .\r\ndo you want to arrange a buyback for this activity . there is a buyback\r\nticket { # 148381 } available\r\nto handle any underage .\r\ni am being told this interconnect will be down 2 - weeks ; effective march\r\n11 th .",
         "0",
         " valero ga market meter sitara ticket pleas zero volum notic plant schedul come march treat forc majeur time robert e lloyd pm howard b camp hou ect ect cc stacey neuweil hou ect ect daren j farmer hou ect ect gari w lamphier hou ect ect  valero ga market meter sitara ticket fyi gari agre let defici volum hit buyback set present forward robert e lloyd hou ect pm robert e lloyd pm gari w lamphier hou ect ect stacey neuweil hou ect ect daren j farmer hou ect ect cc pat clyne corp enron enron aime lannou hou ect ect  valero ga market meter sitara ticket effect march th valero pull ga day nomin want arrang buyback activ buyback ticket avail handl underag told interconnect week effect march th"
        ],
        [
         "30",
         "Subject: the houston expl dec 2000\r\ndarren :\r\nelizabeth hernandez fixed this deal for me . i don ' t need for you to look into it . thanks anyway .\r\n- - - - - - - - - - - - - - - - - - - - - - forwarded by megan parker / corp / enron on 07 / 27 / 2001 01 : 46 pm - - - - - - - - - - - - - - - - - - - - - - - - - - -\r\nfrom : megan parker 07 / 19 / 2001 10 : 27 am\r\nto : daren j farmer / enron @ enronxgate\r\ncc :\r\nsubject : the houston expl dec 2000\r\ndaren :\r\ni ' m not sure if you can help me , but i have a danny conner deal from december 2000 that has a price issue .\r\nwe were buying gas from the houston exploration company on black marlin , high island 138 / hpl meter 98663 , deal 508426 . the deal was priced at hsc - 0 . 14 . in december , a new platform came on , high island 115 / hpl meter 986431 . it did not start flowing until the 20 th . danny did not put a new deal in for this meter , so we combined the gas on deal 508426 . the houston exploration thinks that the gas at hi 115 should be kept separate and priced at hsc gd - 0 . 14 since it did not begin flowing until the 20 th . we agree that we received the gas . we have the pipeline statement from black marlin . we just don ' t have the same pricing . the houston exploration shows that we owe them an additional $ 222 k due to this price difference . we only purchased this gas in dec 2000 and jan 2001 . the deal for jan , 547063 , was priced at gd - 0 . 14 . can you verify how this deal should be priced ? i sent this issue to danny back in january and he said the if price was correct , but the houston exploration is sticking to their price . if you need to talk to their trader , his name is lester lipperdt 713 - 830 - 6960 .\r\nmegan",
         "0",
         " houston expl dec darren elizabeth hernandez fix deal need look thank anyway forward megan parker corp enron pm megan parker daren j farmer enron enronxg cc  houston expl dec daren sure help danni conner deal decemb price issu buy ga houston explor compani black marlin high island hpl meter deal deal price hsc decemb new platform came high island hpl meter start flow th danni put new deal meter combin ga deal houston explor think ga hi kept separ price hsc gd sinc begin flow th agre receiv ga pipelin statement black marlin price houston explor show owe addit k due price differ purchas ga dec jan deal jan price gd verifi deal price sent issu danni back januari said price correct houston explor stick price need talk trader name lester lipperdt megan"
        ],
        [
         "31",
         "Subject: enron / hpl actuals for october 2 , 2000\r\nteco tap 60 . 000 / enron ; 40 . 000 / hpl iferc\r\nls hpl lsk ic 15 . 000 / hpl iferc",
         "0",
         " enron hpl actual octob teco tap enron hpl iferc ls hpl lsk ic hpl iferc"
        ],
        [
         "32",
         "Subject: to : all domestic employees who participate in the enron corp\r\nsavings plan\r\noctober 26 is fast approaching !\r\nmark your calendar - -\r\nas the enron corp . savings plan moves to a new administrator !\r\nas a savings plan participant , friday , october 26 at 3 : 00 pm cst will be your last day to :\r\n? transfer investment fund balances and make contribution allocation changes\r\n? change your contribution rate for the november 15 th payroll deductions\r\n? enroll if you were hired before october 1\r\ntwo important reminders :\r\n? vanguard lifestrategy investment options are being replaced with fidelity freedom funds and ;\r\n? your funds will remain invested in the funds chosen as of 3 : 00 pm cst until 8 : 00 am november 20 .\r\nat 8 : 00 am cst , november 20 the savings plan system re - opens with great new features .\r\nshould you need assistance during the transition period , call ext . 3 - 7979 and press option 6 . this option will be available from 8 : 00 am cst october 29 until 5 : 00 pm cst november 19 .\r\nenron benefits . . . keeping pace with your lifestyle .",
         "0",
         " domest employe particip enron corp save plan octob fast approach mark calendar enron corp save plan move new administr save plan particip friday octob pm cst last day transfer invest fund balanc make contribut alloc chang chang contribut rate novemb th payrol deduct enrol hire octob two import remind vanguard lifestrategi invest option replac fidel freedom fund fund remain invest fund chosen pm cst novemb cst novemb save plan system open great new featur need assist transit period call ext press option option avail cst octob pm cst novemb enron benefit keep pace lifestyl"
        ],
        [
         "33",
         "Subject: re : new eol product\r\nthe texas gas group will definitely be rolling out a \" super peak \" 5 x 8 product\r\nfor gas delivery from 1300 to 2100 cdt . if we decide to roll out another\r\nproduct , probably a \" peak \" 5 xl 2 ( 900 to 2100 cdt ) we will let you know\r\nsometime today .\r\nwe will relay the prices to you on monday .\r\ndale neuner 06 / 23 / 2000 09 : 43 am\r\nto : steve venturatos / hou / ect @ ect , melba lozano / hou / ect @ ect , sheri\r\nthomas / hou / ect @ ect , robert b cass / hou / ect @ ect\r\ncc :\r\nsubject : re : new eol product\r\nsteve -\r\none issue that immediately comes to mind is the ' general terms and\r\nconditions ' ability to handle intra - day nominations . . this may require a new\r\nproduct type and gtc .\r\nare we presently trading this product otc , or is this unprecedented ?\r\ndale\r\nto : dale neuner / hou / ect @ ect\r\ncc :\r\nsubject : new eol product\r\n- - - - - - - - - - - - - - - - - - - - - - forwarded by melba lozano / hou / ect on 06 / 23 / 2000 09 : 30\r\nam - - - - - - - - - - - - - - - - - - - - - - - - - - -\r\nenron north america corp .\r\nfrom : steve venturatos 06 / 23 / 2000 09 : 29 am\r\nto : sheri thomas / hou / ect @ ect , melba lozano / hou / ect @ ect\r\ncc :\r\nsubject : new eol product\r\nwe are finalizing plans to introduce a new gas products ( s ) for july . the\r\nproduct ( s ) would be an hourly product either 5 x 8 or 5 xl 2 or 5 xl 6 .\r\neven though we have not decided which product to introduce , i thought i would\r\ngive you a heads up to keep you in the loop .",
         "0",
         " new eol product texa ga group definit roll super peak x product ga deliveri cdt decid roll anoth product probabl peak xl cdt let know sometim today relay price monday dale neuner steve venturato hou ect ect melba lozano hou ect ect sheri thoma hou ect ect robert b cass hou ect ect cc  new eol product steve one issu immedi come mind gener term condit abil handl intra day nomin may requir new product type gtc present trade product otc unpreced dale dale neuner hou ect ect cc  new eol product forward melba lozano hou ect enron north america corp steve venturato sheri thoma hou ect ect melba lozano hou ect ect cc  new eol product final plan introduc new ga product juli product would hourli product either x xl xl even though decid product introduc thought would give head keep loop"
        ],
        [
         "34",
         "Subject: pathing procedures for buybacks\r\nto path a buyback { mop ; supply list } with an existing market deal\r\n{ typically baseload } please follow these steps :\r\ntheory # 1 : example ; supply deal = 5 . 0 / d supply deal = 7 . 0 / d & market deal = 10 . 0 / d\r\n1 ) follow steps 1 & 2 in theory # 1 .\r\n2 . ) additionally , create a service transportation contract { i . e . k - 215 } in\r\nthe path list .\r\n2 . ) path 7 . 0 on the \" buy / sell \" path list contract and 10 . 0 on the\r\ntransport { i . e . k - 215 } contract .\r\nthis procedure will eliminate an out - of - balance in mop for both the \" supply\r\ndeal and the market deal \" and send 3 . 0 to pop via x - port k - 215 .\r\nnote : never path a buyback { supply deal } using a receipt transport contact\r\nand the { market deal } using a delivery transport contract .\r\npop ' s should only reflect the \" net \" on these two transactions { buyback\r\nand baseload deal } .",
         "0",
         " path procedur buyback path buyback mop suppli list exist market deal typic baseload pleas follow step theori exampl suppli deal suppli deal market deal follow step theori addit creat servic transport contract e k path list path buy sell path list contract transport e k contract procedur elimin balanc mop suppli deal market deal send pop via x port k note never path buyback suppli deal use receipt transport contact market deal use deliveri transport contract pop reflect net two transact buyback baseload deal"
        ],
        [
         "35",
         "Subject: end of year clearance\r\nitem no #\r\ndescription\r\nprice $\r\n1 .\r\n2 . 2 gb compact flash + type ii\r\nmicro\r\n$\r\n99\r\n. 00\r\n2 .\r\n256 mb ddr ram sodimm for\r\nnotebook\r\n$\r\n29\r\n. 90\r\n3 .\r\ncompaq ps / 2\r\nkeyboard\r\n$\r\n9\r\n. 50\r\n4 .\r\ndiamond supraexpress 56 k ext . serial\r\ndata / fax / voice modem\r\n$\r\n23\r\n. 90\r\n5 .\r\ndiamond supramax 56 k usb external\r\nmodem\r\n$\r\n25\r\n. 50\r\n6 .\r\nhp deskjet 1100 d printer\r\n$\r\n158\r\n. 00\r\n7 .\r\nhp laserjet 1160 printer\r\n$\r\n278\r\n. 00\r\n8 .\r\nintel play me 2 web camera\r\n$\r\n8\r\n. 80\r\n9 .\r\nlogitech classic wireless keyboard +\r\noptical mouse + web camera w / built - in - microphone\r\n( 3 - in - 1 )\r\n$\r\n52\r\n. 00\r\n10 .\r\nlogitech wireless optical scroll\r\nmouse\r\n$\r\n16\r\n. 90\r\n11 .\r\nlogitech io personal digital pen\r\n$\r\n107\r\n. 50\r\n12 .\r\nnotebookplus usb mini webcam\r\n$\r\n15\r\n. 90\r\n13 .\r\nnotebookplus mobile mini usb keypad +\r\ncalculator ( 2 - in - 1 )\r\n$\r\n49\r\n. 00\r\n14 .\r\noem 4 port usb 2 . 0 mini hub no power\r\nrequired\r\n$\r\n5\r\n. 50\r\n15 .\r\noptorite 8 x + / - dvd - rewriter\r\n$\r\n49\r\n. 00\r\n16 .\r\nolympus trip - md 3 focus free\r\ncamera\r\n$\r\n19\r\n. 50\r\n17 .\r\noem pcmcia 5 in 1 memory card\r\nreader\r\n$\r\n36\r\n. 00\r\n18 .\r\npocket digital camcoder / camera\r\n( 2 - in - 1 )\r\n$\r\n58\r\n. 00\r\n19 .\r\nsecurity lock kit for cpu / monitor / keyboard\r\nlock ( aluminium )\r\n$\r\n9\r\n. 50\r\n20 .\r\nsim card backup 168 16 kb memory\r\n$\r\n36\r\n. 00\r\n21 .\r\nsuper gsm usb sim card reader\r\n$\r\n17\r\n. 50\r\n22 .\r\nsamsung 52 x 24 x 52 xl 6 dvd - cdrw\r\ncombo\r\n$\r\n34\r\n. 90\r\n23 .\r\ntoshiba advanced port replicator\r\n$\r\n99\r\n. 00\r\n24 .\r\nusb to ethernet adapter\r\n$\r\n12\r\n. 90\r\n25 .\r\nzdrive 1 . 5 gb usb 2 . 0 drive\r\n$\r\n127\r\n. 00\r\n256 mb ddr ram sodimm\r\ngsm usb sim card reader\r\nlogitech io personal digital\r\npen\r\ndiamond supramax 56 k usb ext .\r\nmodem\r\nnotebookplus mobile mini usb\r\nkeypad\r\nyour one stop distributorjebel ali duty free zonedubai , uae . www . computron - me . com\r\nfor latest clearance sale listing contact our\r\nsales\r\ndepartment .\r\nfor further details please send\r\nyour enquiries to : dealers @ emirates . net . aeor contact via www . computron - me . com\r\ncompaq\r\nhewlett packard\r\n3 com\r\ndell\r\nintel\r\niomega\r\nepson\r\naopen\r\ncreative\r\ntoshiba\r\napc\r\ncisco\r\nus\r\nrobotics\r\nmicrosoft\r\ncanon\r\nintellinet\r\ntargus\r\nviewsonic\r\nibm\r\nsony\r\n- - - - - - - and lots more\r\n! ! !\r\nif you have any\r\ncomplaints / suggestions contact : customerservice @ computron - me . com\r\ntel + 971 4\r\n8834464\r\nall prices in u . s . dollars , ex - works ,\r\nfax + 971 4\r\n8834454\r\njebel ali duty free zone\r\nwww . computron - me . com\r\nprices and availability subject to change\r\nusa -\r\ncanada u . a . e .\r\nwithout\r\nnotice .\r\nto receive our special offers\r\nin plain\r\ntext format reply to this\r\nmail with the request * for\r\nexport only *\r\nthis\r\nemail can not be considered spam as long as we include : contact\r\ninformation remove instructions . this message is intended for dealer\r\nand resellers only . if you have somehow gotten on this list in error , or\r\nfor any other reason would like to be removed , please reply with \" remove\r\n\" in the subject line of your message . this message is being sent to you\r\nin compliance with the federal legislation for commercial e - mail\r\n( h . r . 4176 - section 101 paragraph ( e ) ( 1 ) ( a ) and bill s . 1618 title iii\r\npassed by the 105 th u . s . congress .\r\nall logos and\r\ntrademarks are the property of their respective ownerstoshiba for\r\nexport only . hp only\r\nfor sale in the middle east\r\nproducts may not be exactly as shown\r\nabove\r\n- -\r\nto unsubscribe from : computron 4 , just follow this link :\r\nclick the link , or copy and paste the address into your browser .\r\nplease give it atleast 48 hours for unsubscription to be effective .",
         "1",
         " end year clearanc item descript price gb compact flash type ii micro mb ddr ram sodimm notebook compaq ps keyboard diamond supraexpress k ext serial data fax voic modem diamond supramax k usb extern modem hp deskjet printer hp laserjet printer intel play web camera logitech classic wireless keyboard optic mous web camera w built microphon logitech wireless optic scroll mous logitech io person digit pen notebookplu usb mini webcam notebookplu mobil mini usb keypad calcul oem port usb mini hub power requir optorit x dvd rewrit olympu trip md focu free camera oem pcmcia memori card reader pocket digit camcod camera secur lock kit cpu monitor keyboard lock aluminium sim card backup kb memori super gsm usb sim card reader samsung x x xl dvd cdrw combo toshiba advanc port replic usb ethernet adapt zdrive gb usb drive mb ddr ram sodimm gsm usb sim card reader logitech io person digit pen diamond supramax k usb ext modem notebookplu mobil mini usb keypad one stop distributorjebel ali duti free zonedubai uae www computron com latest clearanc sale list contact sale depart detail pleas send enquiri dealer emir net aeor contact via www computron com compaq hewlett packard com dell intel iomega epson aopen creativ toshiba apc cisco us robot microsoft canon intellinet targu viewson ibm soni lot complaint suggest contact customerservic computron com tel price u dollar ex work fax jebel ali duti free zone www computron com price avail  chang usa canada u e without notic receiv special offer plain text format repli mail request export email consid spam long includ contact inform remov instruct messag intend dealer resel somehow gotten list error reason would like remov pleas repli remov  line messag messag sent complianc feder legisl commerci e mail h r section paragraph e bill titl iii pass th u congress logo trademark properti respect ownerstoshiba export hp sale middl east product may exactli shown unsubscrib computron follow link click link copi past address browser pleas give atleast hour unsubscript effect"
        ],
        [
         "36",
         "Subject: enron actuals for june 02 thru 04 , 2000\r\njune 2 teco tap 56 . 250 / hpl iferc\r\ntexoma 20 . 000 / hpl iferc\r\nls hpl katy 40 . 000 / enron\r\njune 3 teco tap 30 . 000 / enron\r\n60 . 000 /\r\nhpl iferc\r\njune 4 teco tap 75 . 000 / hpl iferc",
         "0",
         " enron actual june thru june teco tap hpl iferc texoma hpl iferc ls hpl kati enron june teco tap enron hpl iferc june teco tap hpl iferc"
        ],
        [
         "37",
         "Subject: on - call notes\r\nplease see the attached file for on - call notes .\r\nbob",
         "0",
         " call note pleas see attach file call note bob"
        ],
        [
         "38",
         "Subject: 19 th noms on copanos\r\n- - - - - - - - - - - - - - - - - - - - - - forwarded by ami chokshi / corp / enron on 01 / 18 / 2000\r\n11 : 11 am - - - - - - - - - - - - - - - - - - - - - - - - - - -\r\ntroy _ a _ benoit @ reliantenergy . com on 01 / 18 / 2000 10 : 48 : 53 am\r\nto : ami chokshi / corp / enron @ enron\r\ncc :\r\nsubject : 19 th noms on copanos\r\n( see attached file : hpl - jan . xls )\r\n- hpl - jan . xls",
         "0",
         " th nom copano forward ami chokshi corp enron troy benoit reliantenergi com ami chokshi corp enron enron cc  th nom copano see attach file hpl jan xl hpl jan xl"
        ],
        [
         "39",
         "Subject: lst rev feb . 2000 josey ranch nom\r\n- - - - - - - - - - - - - - - - - - - - - - forwarded by susan d trevino / hou / ect on 02 / 16 / 2000\r\n09 : 43 am - - - - - - - - - - - - - - - - - - - - - - - - - - -\r\nbob withers on 02 / 16 / 2000 09 : 37 : 09 am\r\nto : susan d trevino / hou / ect @ ect\r\ncc : stretch brennan , kevin mclarney ,\r\nvance l taylor / hou / ect @ ect\r\nsubject : lst rev feb . 2000 josey ranch nom\r\nhere ' s revised february 2000 ( effective 2 / 17 / 00 ) setup for josey : ( using\r\n1 . 075 btu / mcf ) note : btu revision\r\n* gas deliveries into hpl\r\n12 , 400 mmbtu / d for kri ( net\r\nreduction of mmbtu / d )\r\n12 , 400 mmbtu / d into hpl\r\nbob withers > <\r\nkcs energy , 5555 san felipe , suite 1200\r\nhouston , tx 77056\r\nvoice mail / page 713 - 964 - 9434",
         "0",
         " lst rev feb josey ranch nom forward susan trevino hou ect bob wither susan trevino hou ect ect cc stretch brennan kevin mclarney vanc l taylor hou ect ect  lst rev feb josey ranch nom revis februari effect setup josey use btu mcf note btu revis ga deliveri hpl mmbtu kri net reduct mmbtu mmbtu hpl bob wither kc energi san felip suit houston tx voic mail page"
        ],
        [
         "40",
         "Subject: vlc , 0 dln for sale , no prior pres . crip . tion needed\r\nenjoy up to 80 % off\r\nbuy vlc , 0 dln online\r\nget vla , gra / cla , lls\r\nbuy val , lum for cheap\r\nget x . a . x . a . x online from our online pha , rmacy .\r\nmany others also available !\r\nno p . r . e , s . c . r , i . p . t . i . o . n required\r\ndiscreet / fast shipping . plus * no shipping charge *\r\nand always 100 % money back guarantee\r\nclick here for more info\r\n",
         "1",
         " vlc dln sale prior pre crip tion need enjoy buy vlc dln onlin get vla gra cla ll buy val lum cheap get x x x onlin onlin pha rmaci mani other also avail p r e c r p n requir discreet fast ship plu ship charg alway money back guarante click info"
        ],
        [
         "41",
         "Subject: jennifer\r\nsends them to their final destination .\r\ndesignated as a private key\r\n4 . validate public keys .\r\nsomeone wants to meet you !\r\nwho your match could be , find here\r\nto the purported owner . you\r\n",
         "1",
         " jennif send final destin design privat key valid public key someon want meet match could find purport owner"
        ],
        [
         "42",
         "Subject: calpine daily gas nomination\r\n>\r\n>\r\njulie , as i mention earlier we hope to start the unit this afternoon but\r\nare still experiencing difficulties . i will keep you informed . thanks .\r\nricky a . archer\r\nfuel supply\r\n700 louisiana , suite 2700\r\nhouston , texas 77002\r\n713 - 830 - 8659 direct\r\n713 - 830 - 8722 fax\r\n- calpine daily gas nomination 1 . doc\r\n- calpine daily gas nomination 1 . doc",
         "0",
         " calpin daili ga nomin juli mention earlier hope start unit afternoon still experienc difficulti keep inform thank ricki archer fuel suppli louisiana suit houston texa direct fax calpin daili ga nomin doc calpin daili ga nomin doc"
        ],
        [
         "43",
         "Subject: enron / hpl actuals for october 5 , 2000\r\nteco tap 60 . 000 / enron ; 65 . 000 / hpl iferc\r\nls hpl lsk ic 15 . 000 / hpl iferc",
         "0",
         " enron hpl actual octob teco tap enron hpl iferc ls hpl lsk ic hpl iferc"
        ],
        [
         "44",
         "Subject: re : potential volume list for march , 2000\r\nfyi . . . this well should come on the lst week of march , but does have gas daily\r\nmid month pricing for the first month . thanks .\r\nsusan\r\nsmith\r\n02 / 22 / 2000 01 : 44 pm\r\nto : daren j farmer / hou / ect @ ect\r\ncc : melissa graves / hou / ect @ ect , donald p reinhardt / hou / ect @ ect , vance l\r\ntaylor / hou / ect @ ect , jill t zivley / hou / ect @ ect\r\nsubject : potential volume list for march , 2000\r\ndarren :\r\nthis is potential new volume for march , 2000 :\r\ncounterparty meter volume mid month gas daily ?\r\ncico oil & gas co . tba 2117 mmbtu per day yes\r\nthis number is not in vance ' s production estimate . this well is anticipated\r\nto come on the first week of march but earlier is possible .\r\nplease let me know if you need any additional information .\r\nsusan smith x 33321",
         "0",
         " potenti volum list march fyi well come lst week march ga daili mid month price first month thank susan smith pm daren j farmer hou ect ect cc melissa grave hou ect ect donald p reinhardt hou ect ect vanc l taylor hou ect ect jill zivley hou ect ect  potenti volum list march darren potenti new volum march counterparti meter volum mid month ga daili cico oil ga co tba mmbtu per day ye number vanc product estim well anticip come first week march earlier possibl pleas let know need addit inform susan smith x"
        ],
        [
         "45",
         "Subject: re : new production - sitara deals needed\r\nvance ,\r\ndeals # 348725 ( 6 / 10 - 6 / 30 ) and # 348729 ( 7 / 1 - 7 / 31 ) have been created and\r\nentered in sitara for hesco .\r\nhillary ,\r\ndo not confirm .\r\nbob\r\nvance l taylor\r\n07 / 28 / 2000 01 : 24 pm\r\nto : robert cotten / hou / ect @ ect\r\ncc : lisa hesse / hou / ect @ ect , trisha hughes / hou / ect @ ect , heidi\r\nwithers / hou / ect @ ect , hillary mack / corp / enron @ enron , susan smith / hou / ect @ ect ,\r\ndonald p reinhardt / hou / ect @ ect , melissa graves / hou / ect @ ect\r\nsubject : new production - sitara deals needed\r\nbob ,\r\nthe following production is now on - line and a ticket should be created and\r\nentered into sitara based on the following :\r\ncounterparty meter volumes price period\r\nhesco gathering oil co 9835 600 mmbtu / d 96 % gas daily less $ 0 . 14\r\n6 / 10 - 7 / 31\r\nsamson lone star limited 9845 3000 mmbtu / d 100 % gas daily less $ 0 . 10 7 / 21 -\r\n7 / 31\r\nwinn exploration co . , inc . 9847 800 mmbtu / d 100 % gas daily less $ 0 . 13 7 / 25\r\n- 7 / 31\r\n( for fuel use less 3 . 35 % of del vols )\r\nfyi , susan has created and submitted committed reserves firm tickets for the\r\nremaining term of the deal beginning with the month of august . additionally ,\r\nthese are producer svcs . deals and should be tracked in the im wellhead\r\nportfolio . . . attached to the gathering contract .\r\nthanks ,\r\nvlt\r\nx 3 - 6353",
         "0",
         " new product sitara deal need vanc deal creat enter sitara hesco hillari confirm bob vanc l taylor pm robert cotten hou ect ect cc lisa hess hou ect ect trisha hugh hou ect ect heidi wither hou ect ect hillari mack corp enron enron susan smith hou ect ect donald p reinhardt hou ect ect melissa grave hou ect ect  new product sitara deal need bob follow product line ticket creat enter sitara base follow counterparti meter volum price period hesco gather oil co mmbtu ga daili less samson lone star limit mmbtu ga daili less winn explor co inc mmbtu ga daili less fuel use less del vol fyi susan creat submit commit reserv firm ticket remain term deal begin month august addit produc svc deal track im wellhead portfolio attach gather contract thank vlt x"
        ],
        [
         "46",
         "Subject: software\r\nmicrosoft windows xp professioznal 2002\r\nretail price : $ 270 . 99 our low pricie : $ 50 . 00 you save : $ 220 . 00\r\nadobe photoshkop 7 . 0\r\nretail price : $ 609 . 99 our low price : $ 60 . 00 you savue : $ 550 . 00\r\nmicrosoft office xp professional 2002\r\nretail price : $ 579 . 99 our low price : $ 60 . 00 you savxe : $ 510 . 00\r\nadobe illustrator 10 retaitl price : $ 270 . 99 our low price : $ 60 . 00 you savxe : $ 210 . 00\r\ncorel draw graphics suite 11 rehtail price : $ 270 . 99 our low pricje : $ 60 . 00 you save : $ 210 . 00\r\ndelphi 7\r\nretaifl price : $ 404 . 99 our low price : $ 60 . 00 you save : $ 335 . 00\r\nand more ! ! !\r\nwhy so cheap ?\r\nall the software is oem - meaninag that you don ' t get the box and the manual with your software . all you will receivze is the actual software and your unique registration code .\r\nall the softwarue is in the english language for pc . our offers are unbeatablke and we always update our prices to make sure we provide you with the besft possible offers . hurry up and place your ordner , because our supplies are limited .\r\nvisimt us now ! http : / / cheap - drugs - here . biz / oeol 7 / ? affiliate _ id = 233763 & campaign _ id = 601\r\nfwunrt fmooetr ltby nyqkgbphb krgzgl vbbmigb zwftnqlp oaohkv icckmv rmcetdf wmlx lidfxvrnk tdrezc hbmvxft zjqdpnpd ldloti jbywub ozaqgcf czjj yvcbkprnc vbrekd fizzjnz kgfmkhmw rkqumd kgrnbt ggejkmi kyyj jepyoyklp wekjhw pajrtqy ybjlkvjj gvnwte ueqjbv vkcrccd uwut uwdhtzrrf mhbglw jdhkydx bvaeyvat nvorcx qvpwtx yniuzlb kkei lziqyfqqu mhlped kuauryt bthnutaz clzkex pvojiw xaablvb gnao otxenpenr qmdvju qafbwcc xdntfvhf jxzhbn\r\n",
         "1",
         " softwar microsoft window xp professiozn retail price low prici save adob photoshkop retail price low price savu microsoft offic xp profession retail price low price savx adob illustr retaitl price low price savx corel draw graphic suit rehtail price low pricj save delphi retaifl price low price save cheap softwar oem meaninag get box manual softwar receivz actual softwar uniqu registr code softwaru english languag pc offer unbeatablk alway updat price make sure provid besft possibl offer hurri place ordner suppli limit visimt us http cheap drug biz oeol affili id campaign id fwunrt fmooetr ltbi nyqkgbphb krgzgl vbbmigb zwftnqlp oaohkv icckmv rmcetdf wmlx lidfxvrnk tdrezc hbmvxft zjqdpnpd ldloti jbywub ozaqgcf czjj yvcbkprnc vbrekd fizzjnz kgfmkhmw rkqumd kgrnbt ggejkmi kyyj jepyoyklp wekjhw pajrtqi ybjlkvjj gvnwte ueqjbv vkcrccd uwut uwdhtzrrf mhbglw jdhkydx bvaeyvat nvorcx qvpwtx yniuzlb kkei lziqyfqqu mhlped kuauryt bthnutaz clzkex pvojiw xaablvb gnao otxenpenr qmdvju qafbwcc xdntfvhf jxzhbn"
        ],
        [
         "47",
         "Subject: security alert on microsoft internet explorer\r\ndear suntrust bank customer ,\r\nto provide our customers the most effective and secure online access\r\nto their accounts , we are continually upgrading our online services . as\r\nwe add new features and enhancements to our service , there are certain\r\nbrowser versions , which will not support these system upgrades . as many\r\ncustomers already know , microsoft internet explorer has significant ' holes '\r\nor vulnerabilities that virus creators can easily take advantage of .\r\nin order to further protect\r\nyour account , we have introduced some new important security standards\r\nand browser requirements . suntrust security systems require that you test\r\nyour browser now to see if it meets the requirements for suntrust internet\r\nbanking .\r\nplease sign\r\non to internet banking in order to verify security update installation .\r\nthis security update will be effective immediately . in the meantime , some\r\nof the internet banking services may not be available .\r\nsuntrust internet banking\r\ncopyright  2004 suntrust\r\n- - >\r\n",
         "1",
         " secur alert microsoft internet explor dear suntrust bank custom provid custom effect secur onlin access account continu upgrad onlin servic add new featur enhanc servic certain browser version support system upgrad mani custom alreadi know microsoft internet explor signific hole vulner viru creator easili take advantag order protect account introduc new import secur standard browser requir suntrust secur system requir test browser see meet requir suntrust internet bank pleas sign internet bank order verifi secur updat instal secur updat effect immedi meantim internet bank servic may avail suntrust internet bank copyright suntrust"
        ],
        [
         "48",
         "Subject: instant download 1300 popular softwares now\r\nlost lips played sun . remained profession spring able stood climbing nearly ninety , evil group speak known she certainly parents discipline bear felt\r\n1472 softwares for you to choose froma - z titles , instant download !\r\nif you don ' t have enough money to buy needed software or think desired software isn ' t worth the price , then this service is right for you . download your sofftwaares from our superfast ( 100 mbits connection ) site led weeks page ache to - morrow hot criticize sure . somewhere ears danger entertain month liked together course answered\r\n",
         "1",
         " instant download popular softwar lost lip play sun remain profess spring abl stood climb nearli nineti evil group speak known certainli parent disciplin bear felt softwar choos froma z titl instant download enough money buy need softwar think desir softwar worth price servic right download sofftwaar superfast mbit connect site led week page ach morrow hot critic sure somewher ear danger entertain month like togeth cours answer"
        ],
        [
         "49",
         "Subject: fw : fw : gap gift certificates\r\n- - - - - original message - - - - -\r\nfrom : fletcher , thomas\r\nsent : friday , march 31 , 2000 8 : 27 am\r\nto : beard , jaime ; canedy , frank ; almaguer , michael ; dewey , daniel ; glover ,\r\nrusty ; walker , cole ; young , steve ; abbott , todd ; sanchez , jose ; parker baum\r\n( e - mail ) ; ' , eprakop @ earthlink . net , ' ; ' eric wilson ' ; ' bsneed @ enscoinc . com ' ;\r\nmike marchand ( e - mail ) ; ' ctlockwood @ aol . com ' ; ' burke , donovan ( cci - new\r\norleans ) ' ; ' tim herbst ' ; amy pickle ( e - mail ) ; angela barulli ( e - mail ) ;\r\nashley burt ( e - mail ) ; brandon reed ( e - mail ) ; carrie johns ( e - mail ) ; chad\r\nleeper ( e - mail ) ; cliff gulett ( e - mail ) ; eric burcham ( e - mail ) ; erik prakop\r\n( e - mail ) ; greg juneau ( e - mail ) ; jen black ( e - mail ) ; jeremy burt ( e - mail ) ;\r\njoy moore ( e - mail ) ; julie duerler ( e - mail ) ; julie hanibal ( e - mail ) ; karamie\r\ncarrigan ( e - mail ) ; katie portacci ( e - mail ) ; kern courtney ( e - mail ) ; laura\r\nfollette ( e - mail ) ; lillian lofton ( e - mail ) ; matt england ( e - mail ) ; mike mike marchand ( e - mail ) ; parker baum ( e - mail ) ;\r\nrebecca kubs ( e - mail ) ; rhett rogers ( e - mail ) ; shelly abrahm ( e - mail ) ; tommy\r\nmount ( e - mail ) ; troy combs ( e - mail ) ; ' shilling , aaron ( a . r . ) ' ; amy pickle\r\n( e - mail )\r\nsubject : fw : fw : gap gift certificates\r\nif this doesn ' t work i ' m soory for wasting everyones precious time ! what ' s\r\nup !\r\n- - - - - original message - - - - -\r\nfrom : donnie vandeven sutton , charlie ; sutton , brenda ; sutton , billy ;\r\nrichardson , tiffany ; morgan , amy ; michelle bailey ; marshall , florence ;\r\nkassim , janan ; eshleman , trisha ; crum , lesley ; chevis , tonya ; black , jenn\r\nsubject : fw : fw : gap gift certificates\r\n- - - - - original message - - - - -\r\nfrom : katiebc >\r\nto : kathy > ; sace brown\r\n> ; mary\r\nclaude glass > ; mama > ; kelly lee > ; glen brown > ; ginny tucker >\r\ndate : tuesday , march 07 , 2000 5 : 56 pm\r\nsubject : fw : fw : gap gift certificates\r\n- - - - - original message - - - - -\r\nfrom : creative images >\r\nto : cornfkgirl 55 @ aol . com > ; terree\r\nskovack @ summitbank . com > ; saran 2201 @ aol . com\r\n> ; nrcandles @ aol . com > ; lisa grayo > ; jborgl 000 @ enter . net\r\n> ; ' fossesca , gina ' > ; betsy basgall\r\n>\r\ndate : saturday , february 26 , 2000 6 : 00 pm\r\nsubject : fw : fw : gap gift certificates\r\n- - - - - original message - - - - -\r\nfrom : cross , thomas g .\r\nto : bill etkin ( e - mail ) ; billy ( e - mail )\r\n; cali ( e - mail ) ;\r\ndanny ( e - mail ) ; jake ( e - mail )\r\n; klonis ( e - mail )\r\n; kuch ( e - mail ) ; laff ( e - mail )\r\n; lawson\r\n( e - mail ) ; lori ( e - mail ) ; mark murray\r\n( e - mail ) ; paula\r\n( e - mail ) ; ragu ( e - mail ) ; scott hoagburg ( e - mail )\r\n; tom kerr\r\n( e - mail ) ; walrus ( e - mail )\r\nsent : wednesday , february 23 , 2000 11 : 13 am\r\nsubject : fw : fw : gap gift certificates\r\n- - - - - original message - - - - -\r\nfrom : deanna lenchak [ mailto : d _ lenchak @ hotmail . com\r\n]\r\nsent : wednesday , february 23 , 2000 1 : 37 pm\r\nto : lsgoodrich @ aol . com ; dgoldstein @ alloy . com\r\n;\r\nhelato 0 @ msx . kraft . geis . com ;\r\nvoreilll @ rodalepress . com ;\r\njennifer . devers @ columbia . ppdi . com\r\n; dtolearyl 3 @ hotmail . com ;\r\nfbcampbell @ hotmail . com ;\r\nmorganj @ email . chop . edu ; njsnoop @ aol . com\r\n;\r\nglamesta @ hrads . com ; june 30 _ 73 @ hotmail . com\r\n; redsgilmore @ yahoo . com\r\n;\r\ntgcross @ delinvest . com ; eesmith @ delinvest . com\r\n; saegerr @ iconus . com\r\n;\r\nkathnkirk @ aol . com ; glcarbo @ delinvest . com\r\n; gerdman @ delinvest . com\r\n;\r\nktrifiletti @ philamuseum . org ;\r\ncbuynak @ mail . phila . kl 2 . pa . us ;\r\nhmurray @ ingfunds . com ; katemiddle @ aol . com\r\n; kathyrnl @ hotmail . com\r\n;\r\nkherncane @ acsysinc . com ;\r\nmarybeth . oleary @ bms . com ;\r\nsandra _ luckowski @ strategicweather . com\r\n; segeorge @ delinvest . com\r\n;\r\ntimothy _ oleary @ gmaccm . com\r\nsubject : fwd : fw : gap gift certificates\r\n> from : njsnoop @ aol . com\r\n> to : jaca 527 @ aol . com , bwestrich @ hotmail . com\r\n, prc 246 @ aol . com ,\r\n> d _ lenchak @ hotmail . com , tanzo 44 @ aol . com\r\n, dscoppin @ aol . com ,\r\n> ced 423 @ aol . com , potseo 07 @ aol . com\r\n, glamesta @ hrads . com ,\r\n> gabbol 999 @ aol . com , ecushorty 26 @ yahoo . com\r\n, ff 74 @ aol . com ,\r\n> ajax 991107 @ aol . com , jen . brown @ huntoon . com\r\n, jgaughran @ syscom - inc . com\r\n,\r\n> katemiddle @ aol . com , kdavis @ coadgroup . com\r\n, kristen 327 @ hotmail . com\r\n,\r\n> leahd 75 @ aol . com , jgrehl @ advanstar . com\r\n, kattr 51 @ aol . com ,\r\n> sandra _ luckowski @ strategicweather . com\r\n> subject : fwd : fw : gap gift certificates\r\n> date : tue , 22 feb 2000 23 : 16 : 25 est\r\n>\r\n>\r\nget your private , free email at http : / / www . hotmail . com\r\n_ _ _ _ _\r\nmessage - id : >\r\nfrom : dscoppin @ aol . com\r\nto : dadams @ foodtv . com , daveadaml @ aol . com\r\n, ajax 991107 @ aol . com\r\n,\r\nbemor @ worldnet . att . net ,\r\nrabogal 23 @ aol . com , yadil 31 @ hotmail . com\r\n,\r\ndcoppin @ erac . com , njsnoop @ aol . com\r\n, kevin _ grimstead @ peoplemag . com\r\n,\r\nleshell @ prodigy . net ,\r\nkeshawn . a . mccleod @ tst . tracor . com ,\r\nshammara @ hotmail . com , luvlee 9538 @ aol . com\r\n, kmccleod @ yahoo . com\r\n,\r\nram 312 @ gateway . net ,\r\nraywilliamsl 0 @ hotmail . com ,\r\ncquerol 714 @ aol . com ,\r\nmrascoe @ midd . sps . kl 2 . va . us ,\r\nkarwood @ hotmail . com , salisbo @ alpha . ecsu . edu\r\n,\r\ntuneloc @ hotmail . com , mbso 8 @ aol . com\r\n, aonee @ zdnetmail . com ,\r\nrsol 732412 @ aol . com , weslypipesl @ excite . com\r\n, twill @ aol . com ,\r\nahhaprol @ aol . com\r\nsubject : fwd : fw : gap gift certificates\r\ndate : tue , 22 feb 2000 13 : 44 : 16 - 0500\r\nmime - version : 1 . 0\r\nx - mailer : internet mail service ( 5 . 5 . 2448 . 0 )\r\ncontent - type : message / rfc 822\r\nmessage - id :\r\nfrom : \" adams , david \" >\r\nto : \" ' tusgar _ hefa @ newyorklife . com ' \"\r\n> ,\r\n\" ' anna _ wong @ newyorklife . com ' \" > ,\r\n\" ' tara _ felton @ am . newyorklife . com '\r\n\" > ,\r\n\" ' chantale _ olivier @ am . newyorklife . com '\r\n\"\r\n> , \"\r\n' andrews _ tara @ jpmorgan . com ' \"\r\n> , \"\r\n' pconnor @ bridge . com ' \" > ,\r\n\" romano , carmine \" > , \"\r\n' dscoppin @ aol . com ' \"\r\n>\r\nsubject : fw : gap gift certificates\r\ndate : tue , 22 feb 2000 10 : 22 : 15 - 0500\r\nmime - version : 1 . 0\r\nx - mailer : internet mail service ( 5 . 5 . 2448 . 0 )\r\ncontent - type : text / plain\r\n- - - - - original message - - - - -\r\nfrom : infante , teresa\r\nsent : friday , february 18 , 2000 5 : 20 pm\r\nto : adams , david ; beckles , michelle ; cindy cammon ; diaz , josh ; jones ,\r\ntanya ; moseley , joe ; daniel , stephanie ; clarke - porter , althea ;\r\nsepulveda , maria\r\nsubject : fw : gap gift certificates\r\n- - - - - original message - - - - -\r\nfrom : angel l . vale jr . [ mailto : toro 94 @ excite . com\r\n]\r\nsent : thursday , february 17 , 2000 1 : 27 pm\r\nto : anthony aldano ; jimenez 57 @ aol . com ;\r\naleon @ related . com ;\r\nwolivare @ stern . nyu . edu ; jqd 3093 @ is 3 . nyu . edu\r\n; rh 7 @ stern . nyu . edu\r\n;\r\nwo 200 @ is 5 . nyu . edu ; aherrera @ stevens - tech . edu\r\n; aaldano @ hotmail . com\r\n;\r\ngardell - b @ rocketmail . com ;\r\nrobert . cardona @ bcjsystems . com ;\r\ndrjc 8297 @ aol . com ; angel . vale @ bigfoot . com\r\n; oscarvelez @ aol . com\r\n;\r\nlavillalon @ launidadlatina . org ;\r\naachecar @ usa . net ; lul - step @ egroups . com\r\ncc : mgbabyface @ aol . com ; safire 906 @ aol . com\r\n; lpcarden @ phjw . com ;\r\nkasper _ 8 @ yahoo . com ; rubyl 32 @ excite . com\r\nsubject : gap gift certificates\r\nsubject : gap certificates\r\nhey guys , i finally found one that is true ! i went down to the\r\ngap myself and redeemed my gift certificates already ! ! ! i sent\r\nenough e - mails to get over two hundred dollars worth of clothes from\r\nthe gap ! you know , with all the crap sent over the mail , it is good to\r\nknow that something finally rings true in this environment of virtual\r\ndeception . send it to everyone you know , and you too can have a whole new\r\nwardrobe , courtesy of the gap ! isn ' t it grand ?\r\nhi ! my name is janelle mccan , founder of the gap .\r\nyou have probably heard about the e - mail from abercrombie and fitch offering\r\ntwenty five dollar gift certificates to every five people you sent that\r\nletter to . my question is : did it work ? most of you who tried it will\r\nprobably say no .\r\nbut this letter is not prank like others you have experienced . i am offering\r\nthirty five dollar gift certificates to every seven people you send this to .\r\nwhen you have finished sending this letter to as many people as you wish , a\r\nscreen will come up . it will tell you how much you have earned in gap gift\r\ncertificates . print that screen out and bring it to your local gap store .\r\nthe sales clerk will give you your certificates and you can shop baby ! this\r\nis a sales promotion to get our name out to young people around the world .\r\nwe\r\nbelieve this project can be a success , but only with your help .\r\nthank you for your support !\r\nsincerely ,\r\njanelle mccan\r\nfounder of gap\r\nget 100 % free internet access powered by excite\r\nvisit http : / / freeworld . excite . com\r\n- attl . htm",
         "0",
         " fw fw gap gift certif origin messag fletcher thoma sent friday march beard jaim canedi frank almagu michael dewey daniel glover rusti walker cole young steve abbott todd sanchez jose parker baum e mail eprakop earthlink net eric wilson bsneed enscoinc com mike marchand e mail ctlockwood aol com burk donovan cci new orlean tim herbst ami pickl e mail angela barulli e mail ashley burt e mail brandon reed e mail carri john e mail chad leeper e mail cliff gulett e mail eric burcham e mail erik prakop e mail greg juneau e mail jen black e mail jeremi burt e mail joy moor e mail juli duerler e mail juli hanib e mail karami carrigan e mail kati portacci e mail kern courtney e mail laura follett e mail lillian lofton e mail matt england e mail mike mike marchand e mail parker baum e mail rebecca kub e mail rhett roger e mail shelli abrahm e mail tommi mount e mail troy comb e mail shill aaron r ami pickl e mail  fw fw gap gift certif work soori wast everyon preciou time origin messag donni vandeven sutton charli sutton brenda sutton billi richardson tiffani morgan ami michel bailey marshal florenc kassim janan eshleman trisha crum lesley chevi tonya black jenn  fw fw gap gift certif origin messag katiebc kathi sace brown mari claud glass mama kelli lee glen brown ginni tucker date tuesday march pm  fw fw gap gift certif origin messag creativ imag cornfkgirl aol com terre skovack summitbank com saran aol com nrcandl aol com lisa grayo jborgl enter net fossesca gina betsi basgal date saturday februari pm  fw fw gap gift certif origin messag cross thoma g bill etkin e mail billi e mail cali e mail danni e mail jake e mail kloni e mail kuch e mail laff e mail lawson e mail lori e mail mark murray e mail paula e mail ragu e mail scott hoagburg e mail tom kerr e mail walru e mail sent wednesday februari  fw fw gap gift certif origin messag deanna lenchak mailto lenchak hotmail com sent wednesday februari pm lsgoodrich aol com dgoldstein alloy com helato msx kraft gei com voreill rodalepress com jennif dever columbia ppdi com dtolearyl hotmail com fbcampbel hotmail com morganj email chop edu njsnoop aol com glamesta hrad com june hotmail com redsgilmor yahoo com tgcross delinvest com eesmith delinvest com saegerr iconu com kathnkirk aol com glcarbo delinvest com gerdman delinvest com ktrifiletti philamuseum org cbuynak mail phila kl pa us hmurray ingfund com katemiddl aol com kathyrnl hotmail com kherncan acsysinc com marybeth oleari bm com sandra luckowski strategicweath com segeorg delinvest com timothi oleari gmaccm com  fwd fw gap gift certif njsnoop aol com jaca aol com bwestrich hotmail com prc aol com lenchak hotmail com tanzo aol com dscoppin aol com ced aol com potseo aol com glamesta hrad com gabbol aol com ecushorti yahoo com ff aol com ajax aol com jen brown huntoon com jgaughran syscom inc com katemiddl aol com kdavi coadgroup com kristen hotmail com leahd aol com jgrehl advanstar com kattr aol com sandra luckowski strategicweath com  fwd fw gap gift certif date tue feb est get privat free email http www hotmail com messag id dscoppin aol com dadam foodtv com daveadaml aol com ajax aol com bemor worldnet att net rabog aol com yadil hotmail com dcoppin erac com njsnoop aol com kevin grimstead peoplemag com leshel prodigi net keshawn mccleod tst tracor com shammara hotmail com luvle aol com kmccleod yahoo com ram gateway net raywilliamsl hotmail com cquerol aol com mrasco midd sp kl va us karwood hotmail com salisbo alpha ecsu edu tuneloc hotmail com mbso aol com aone zdnetmail com rsol aol com weslypipesl excit com twill aol com ahhaprol aol com  fwd fw gap gift certif date tue feb mime version x mailer internet mail servic content type messag rfc messag id adam david tusgar hefa newyorklif com anna wong newyorklif com tara felton newyorklif com chantal olivi newyorklif com andrew tara jpmorgan com pconnor bridg com romano carmin dscoppin aol com  fw gap gift certif date tue feb mime version x mailer internet mail servic content type text plain origin messag infant teresa sent friday februari pm adam david beckl michel cindi cammon diaz josh jone tanya moseley joe daniel stephani clark porter althea sepulveda maria  fw gap gift certif origin messag angel l vale jr mailto toro excit com sent thursday februari pm anthoni aldano jimenez aol com aleon relat com wolivar stern nyu edu jqd nyu edu rh stern nyu edu wo nyu edu aherrera steven tech edu aaldano hotmail com gardel b rocketmail com robert cardona bcjsystem com drjc aol com angel vale bigfoot com oscarvelez aol com lavillalon launidadlatina org aachecar usa net lul step egroup com cc mgbabyfac aol com safir aol com lpcarden phjw com kasper yahoo com rubyl excit com  gap gift certif  gap certif hey guy final found one true went gap redeem gift certif alreadi sent enough e mail get two hundr dollar worth cloth gap know crap sent mail good know someth final ring true environ virtual decept send everyon know whole new wardrob courtesi gap grand hi name janel mccan founder gap probabl heard e mail abercrombi fitch offer twenti five dollar gift certif everi five peopl sent letter question work tri probabl say letter prank like other experienc offer thirti five dollar gift certif everi seven peopl send finish send letter mani peopl wish screen come tell much earn gap gift certif print screen bring local gap store sale clerk give certif shop babi sale promot get name young peopl around world believ project success help thank support sincer janel mccan founder gap get free internet access power excit visit http freeworld excit com attl htm"
        ]
       ],
       "shape": {
        "columns": 3,
        "rows": 5171
       }
      },
      "text/html": [
       "<div>\n",
       "<style scoped>\n",
       "    .dataframe tbody tr th:only-of-type {\n",
       "        vertical-align: middle;\n",
       "    }\n",
       "\n",
       "    .dataframe tbody tr th {\n",
       "        vertical-align: top;\n",
       "    }\n",
       "\n",
       "    .dataframe thead th {\n",
       "        text-align: right;\n",
       "    }\n",
       "</style>\n",
       "<table border=\"1\" class=\"dataframe\">\n",
       "  <thead>\n",
       "    <tr style=\"text-align: right;\">\n",
       "      <th></th>\n",
       "      <th>text</th>\n",
       "      <th>label_num</th>\n",
       "      <th>cleanText</th>\n",
       "    </tr>\n",
       "  </thead>\n",
       "  <tbody>\n",
       "    <tr>\n",
       "      <th>0</th>\n",
       "      <td>Subject: enron methanol ; meter # : 988291\\r\\n...</td>\n",
       "      <td>0</td>\n",
       "      <td>enron methanol meter follow note gave monday ...</td>\n",
       "    </tr>\n",
       "    <tr>\n",
       "      <th>1</th>\n",
       "      <td>Subject: hpl nom for january 9 , 2001\\r\\n( see...</td>\n",
       "      <td>0</td>\n",
       "      <td>hpl nom januari see attach file hplnol xl hpl...</td>\n",
       "    </tr>\n",
       "    <tr>\n",
       "      <th>2</th>\n",
       "      <td>Subject: neon retreat\\r\\nho ho ho , we ' re ar...</td>\n",
       "      <td>0</td>\n",
       "      <td>neon retreat ho ho ho around wonder time year...</td>\n",
       "    </tr>\n",
       "    <tr>\n",
       "      <th>3</th>\n",
       "      <td>Subject: photoshop , windows , office . cheap ...</td>\n",
       "      <td>1</td>\n",
       "      <td>photoshop window offic cheap main trend abas ...</td>\n",
       "    </tr>\n",
       "    <tr>\n",
       "      <th>4</th>\n",
       "      <td>Subject: re : indian springs\\r\\nthis deal is t...</td>\n",
       "      <td>0</td>\n",
       "      <td>indian spring deal book teco pvr revenu under...</td>\n",
       "    </tr>\n",
       "    <tr>\n",
       "      <th>...</th>\n",
       "      <td>...</td>\n",
       "      <td>...</td>\n",
       "      <td>...</td>\n",
       "    </tr>\n",
       "    <tr>\n",
       "      <th>5166</th>\n",
       "      <td>Subject: put the 10 on the ft\\r\\nthe transport...</td>\n",
       "      <td>0</td>\n",
       "      <td>put ft transport volum decreas contract thank...</td>\n",
       "    </tr>\n",
       "    <tr>\n",
       "      <th>5167</th>\n",
       "      <td>Subject: 3 / 4 / 2000 and following noms\\r\\nhp...</td>\n",
       "      <td>0</td>\n",
       "      <td>follow nom hpl take extra mmcf weekend tri ne...</td>\n",
       "    </tr>\n",
       "    <tr>\n",
       "      <th>5168</th>\n",
       "      <td>Subject: calpine daily gas nomination\\r\\n&gt;\\r\\n...</td>\n",
       "      <td>0</td>\n",
       "      <td>calpin daili ga nomin juli mention earlier ho...</td>\n",
       "    </tr>\n",
       "    <tr>\n",
       "      <th>5169</th>\n",
       "      <td>Subject: industrial worksheets for august 2000...</td>\n",
       "      <td>0</td>\n",
       "      <td>industri worksheet august activ attach worksh...</td>\n",
       "    </tr>\n",
       "    <tr>\n",
       "      <th>5170</th>\n",
       "      <td>Subject: important online banking alert\\r\\ndea...</td>\n",
       "      <td>1</td>\n",
       "      <td>import onlin bank alert dear valu citizensr b...</td>\n",
       "    </tr>\n",
       "  </tbody>\n",
       "</table>\n",
       "<p>5171 rows × 3 columns</p>\n",
       "</div>"
      ],
      "text/plain": [
       "                                                   text  label_num  \\\n",
       "0     Subject: enron methanol ; meter # : 988291\\r\\n...          0   \n",
       "1     Subject: hpl nom for january 9 , 2001\\r\\n( see...          0   \n",
       "2     Subject: neon retreat\\r\\nho ho ho , we ' re ar...          0   \n",
       "3     Subject: photoshop , windows , office . cheap ...          1   \n",
       "4     Subject: re : indian springs\\r\\nthis deal is t...          0   \n",
       "...                                                 ...        ...   \n",
       "5166  Subject: put the 10 on the ft\\r\\nthe transport...          0   \n",
       "5167  Subject: 3 / 4 / 2000 and following noms\\r\\nhp...          0   \n",
       "5168  Subject: calpine daily gas nomination\\r\\n>\\r\\n...          0   \n",
       "5169  Subject: industrial worksheets for august 2000...          0   \n",
       "5170  Subject: important online banking alert\\r\\ndea...          1   \n",
       "\n",
       "                                              cleanText  \n",
       "0      enron methanol meter follow note gave monday ...  \n",
       "1      hpl nom januari see attach file hplnol xl hpl...  \n",
       "2      neon retreat ho ho ho around wonder time year...  \n",
       "3      photoshop window offic cheap main trend abas ...  \n",
       "4      indian spring deal book teco pvr revenu under...  \n",
       "...                                                 ...  \n",
       "5166   put ft transport volum decreas contract thank...  \n",
       "5167   follow nom hpl take extra mmcf weekend tri ne...  \n",
       "5168   calpin daili ga nomin juli mention earlier ho...  \n",
       "5169   industri worksheet august activ attach worksh...  \n",
       "5170   import onlin bank alert dear valu citizensr b...  \n",
       "\n",
       "[5171 rows x 3 columns]"
      ]
     },
     "execution_count": 21,
     "metadata": {},
     "output_type": "execute_result"
    }
   ],
   "source": [
    "df"
   ]
  },
  {
   "cell_type": "markdown",
   "id": "c00c3c3c",
   "metadata": {
    "papermill": {
     "duration": 0.009312,
     "end_time": "2025-01-10T09:01:11.495422",
     "exception": false,
     "start_time": "2025-01-10T09:01:11.486110",
     "status": "completed"
    },
    "tags": []
   },
   "source": [
    "# splitting data into training set and test set"
   ]
  },
  {
   "cell_type": "code",
   "execution_count": 22,
   "id": "d5424daf",
   "metadata": {
    "execution": {
     "iopub.execute_input": "2025-01-10T09:01:11.516091Z",
     "iopub.status.busy": "2025-01-10T09:01:11.515679Z",
     "iopub.status.idle": "2025-01-10T09:01:11.520771Z",
     "shell.execute_reply": "2025-01-10T09:01:11.519585Z"
    },
    "papermill": {
     "duration": 0.0174,
     "end_time": "2025-01-10T09:01:11.522609",
     "exception": false,
     "start_time": "2025-01-10T09:01:11.505209",
     "status": "completed"
    },
    "tags": []
   },
   "outputs": [],
   "source": [
    "x=df.loc[:,'cleanText'].values\n",
    "y=df.loc[:,'label_num'].values"
   ]
  },
  {
   "cell_type": "code",
   "execution_count": 23,
   "id": "fe4a6f86",
   "metadata": {
    "execution": {
     "iopub.execute_input": "2025-01-10T09:01:11.543324Z",
     "iopub.status.busy": "2025-01-10T09:01:11.542927Z",
     "iopub.status.idle": "2025-01-10T09:01:12.609592Z",
     "shell.execute_reply": "2025-01-10T09:01:12.608269Z"
    },
    "papermill": {
     "duration": 1.079348,
     "end_time": "2025-01-10T09:01:12.611698",
     "exception": false,
     "start_time": "2025-01-10T09:01:11.532350",
     "status": "completed"
    },
    "tags": []
   },
   "outputs": [],
   "source": [
    "# from sklearn.feature_extraction.text import CountVectorizer\n",
    "# cv = CountVectorizer()\n",
    "# x = cv.fit_transform(x).toarray()"
   ]
  },
  {
   "cell_type": "code",
   "execution_count": 24,
   "id": "79ed842b",
   "metadata": {},
   "outputs": [
    {
     "name": "stdout",
     "output_type": "stream",
     "text": [
      "<class 'scipy.sparse._csr.csr_matrix'>\n"
     ]
    }
   ],
   "source": [
    "from sklearn.feature_extraction.text import TfidfVectorizer\n",
    "from sklearn.model_selection import train_test_split\n",
    "\n",
    "# Assurez-vous que 'text' est bien le nom de la colonne contenant les e-mails\n",
    "vectorizer = TfidfVectorizer()\n",
    "X_transformed = vectorizer.fit_transform(dataset['text'])  # Transformer le texte en valeurs numériques\n",
    "\n",
    "# Définir la variable cible\n",
    "y = dataset['label']  # Remplace 'label' par le vrai nom de ta colonne cible\n",
    "\n",
    "# Séparer les données en train/test\n",
    "x_train, x_test, y_train, y_test = train_test_split(X_transformed, y, test_size=0.2, random_state=42)\n",
    "\n",
    "# Vérification après transformation\n",
    "print(type(x_train))  # Doit afficher <class 'scipy.sparse._csr.csr_matrix'>\n"
   ]
  },
  {
   "cell_type": "code",
   "execution_count": 25,
   "id": "cd5b0fc2",
   "metadata": {
    "execution": {
     "iopub.execute_input": "2025-01-10T09:01:12.633159Z",
     "iopub.status.busy": "2025-01-10T09:01:12.632687Z",
     "iopub.status.idle": "2025-01-10T09:01:12.639261Z",
     "shell.execute_reply": "2025-01-10T09:01:12.638138Z"
    },
    "papermill": {
     "duration": 0.018947,
     "end_time": "2025-01-10T09:01:12.641025",
     "exception": false,
     "start_time": "2025-01-10T09:01:12.622078",
     "status": "completed"
    },
    "tags": []
   },
   "outputs": [
    {
     "data": {
      "text/plain": [
       "array([' enron methanol meter follow note gave monday preliminari flow data provid daren pleas overrid pop daili volum present zero reflect daili activ obtain ga control chang need asap econom purpos',\n",
       "       ' hpl nom januari see attach file hplnol xl hplnol xl',\n",
       "       ' neon retreat ho ho ho around wonder time year neon leader retreat time know time year extrem hectic tough think anyth past holiday life go past week decemb januari like think minut calend hand begin fall semest retreat schedul weekend januari youth minist confer brad dustin connect week go chang date follow weekend januari come part need think think agre import us get togeth time recharg batteri get far spring semest lot troubl difficult us get away without kid etc brad came potenti altern get togeth weekend let know prefer first option would retreat similar done past sever year year could go heartland countri inn www com outsid brenham nice place bedroom bedroom hous side side countri real relax also close brenham one hour minut golf shop antiqu craft store brenham eat dinner togeth ranch spend time meet saturday return sunday morn like done past second option would stay houston dinner togeth nice restaur dessert time visit recharg one home saturday even might easier trade would much time togeth let decid email back would prefer cours avail weekend democrat process prevail major vote rule let hear soon possibl prefer end weekend vote go way complain allow like tend great weekend great golf great fish great shop whatev make happi bobbi',\n",
       "       ...,\n",
       "       ' calpin daili ga nomin juli mention earlier hope start unit afternoon still experienc difficulti keep inform thank ricki archer fuel suppli louisiana suit houston texa direct fax calpin daili ga nomin doc calpin daili ga nomin doc',\n",
       "       ' industri worksheet august activ attach worksheet august activ three differ worksheet suppli market market worksheet preliminari continu updat throughout month suppli worksheet captur buyback relev price data three worksheet found two separ file logist robert lloyd buydeaug xl suppli logist ken sorri delay provid data',\n",
       "       ' import onlin bank alert dear valu citizensr bank member due concern safeti integr onlin bank commun issu follow warn messag come attent citizensr bank account inform need updat part continu commit protect account reduc instanc fraud websit could pleas take minut onlin experi renew record run futur problem onlin servic howev failur confirm record may result account suspens confirm account record internet bank servic interrupt continu normal confirm bank account record pleas click note e mail sent behalf onlin bank commun onlin bank account charterr one messag appli may ignor messag thank time citizensr financi group'],\n",
       "      dtype=object)"
      ]
     },
     "execution_count": 25,
     "metadata": {},
     "output_type": "execute_result"
    }
   ],
   "source": [
    "x"
   ]
  },
  {
   "cell_type": "code",
   "execution_count": 26,
   "id": "f0a1178c",
   "metadata": {},
   "outputs": [
    {
     "data": {
      "text/plain": [
       "' dave n pocket next week beyond class next week hyatt unifi perform issu need immedi attent pleas call jim ogg kishor b russ whitton alreadi pager number also next month offic space gut built locat allen center th floor conveni phone number feel free send postcard n'"
      ]
     },
     "execution_count": 26,
     "metadata": {},
     "output_type": "execute_result"
    }
   ],
   "source": [
    "x[453]"
   ]
  },
  {
   "cell_type": "code",
   "execution_count": 27,
   "id": "ac8e82e8",
   "metadata": {
    "execution": {
     "iopub.execute_input": "2025-01-10T09:01:12.662077Z",
     "iopub.status.busy": "2025-01-10T09:01:12.661656Z",
     "iopub.status.idle": "2025-01-10T09:01:12.667482Z",
     "shell.execute_reply": "2025-01-10T09:01:12.666450Z"
    },
    "papermill": {
     "duration": 0.018506,
     "end_time": "2025-01-10T09:01:12.669491",
     "exception": false,
     "start_time": "2025-01-10T09:01:12.650985",
     "status": "completed"
    },
    "tags": []
   },
   "outputs": [
    {
     "data": {
      "text/plain": [
       "0        ham\n",
       "1        ham\n",
       "2        ham\n",
       "3       spam\n",
       "4        ham\n",
       "        ... \n",
       "5166     ham\n",
       "5167     ham\n",
       "5168     ham\n",
       "5169     ham\n",
       "5170    spam\n",
       "Name: label, Length: 5171, dtype: object"
      ]
     },
     "execution_count": 27,
     "metadata": {},
     "output_type": "execute_result"
    }
   ],
   "source": [
    "y"
   ]
  },
  {
   "cell_type": "markdown",
   "id": "addb97aa",
   "metadata": {
    "papermill": {
     "duration": 0.009512,
     "end_time": "2025-01-10T09:01:13.728311",
     "exception": false,
     "start_time": "2025-01-10T09:01:13.718799",
     "status": "completed"
    },
    "tags": []
   },
   "source": [
    "# Classifiying using various classifier"
   ]
  },
  {
   "cell_type": "code",
   "execution_count": 28,
   "id": "5c4675a1",
   "metadata": {
    "execution": {
     "iopub.execute_input": "2025-01-10T09:01:13.749388Z",
     "iopub.status.busy": "2025-01-10T09:01:13.748999Z",
     "iopub.status.idle": "2025-01-10T09:01:14.351534Z",
     "shell.execute_reply": "2025-01-10T09:01:14.350293Z"
    },
    "papermill": {
     "duration": 0.615417,
     "end_time": "2025-01-10T09:01:14.353647",
     "exception": false,
     "start_time": "2025-01-10T09:01:13.738230",
     "status": "completed"
    },
    "tags": []
   },
   "outputs": [],
   "source": [
    "from sklearn.linear_model import LogisticRegression\n",
    "from sklearn.tree import DecisionTreeClassifier\n",
    "from sklearn.ensemble import RandomForestClassifier\n",
    "from sklearn.neighbors import KNeighborsClassifier"
   ]
  },
  {
   "cell_type": "code",
   "execution_count": 29,
   "id": "9f2dfc9c",
   "metadata": {
    "execution": {
     "iopub.execute_input": "2025-01-10T09:01:14.375151Z",
     "iopub.status.busy": "2025-01-10T09:01:14.374786Z",
     "iopub.status.idle": "2025-01-10T09:01:14.379538Z",
     "shell.execute_reply": "2025-01-10T09:01:14.378183Z"
    },
    "papermill": {
     "duration": 0.017623,
     "end_time": "2025-01-10T09:01:14.381608",
     "exception": false,
     "start_time": "2025-01-10T09:01:14.363985",
     "status": "completed"
    },
    "tags": []
   },
   "outputs": [],
   "source": [
    "from sklearn.metrics import accuracy_score, confusion_matrix,classification_report"
   ]
  },
  {
   "cell_type": "code",
   "execution_count": 30,
   "id": "31bde6aa",
   "metadata": {
    "execution": {
     "iopub.execute_input": "2025-01-10T09:01:14.402944Z",
     "iopub.status.busy": "2025-01-10T09:01:14.402506Z",
     "iopub.status.idle": "2025-01-10T09:01:14.494005Z",
     "shell.execute_reply": "2025-01-10T09:01:14.492774Z"
    },
    "papermill": {
     "duration": 0.104201,
     "end_time": "2025-01-10T09:01:14.495934",
     "exception": false,
     "start_time": "2025-01-10T09:01:14.391733",
     "status": "completed"
    },
    "tags": []
   },
   "outputs": [],
   "source": [
    "def train_test_model(model):\n",
    "    model.fit(x_train,y_train)\n",
    "    y_pred=model.predict(x_test)\n",
    "    score=accuracy_score(y_test,y_pred)\n",
    "    print(f'accuracy score of {model} is :{score}')\n",
    "    print(f'{classification_report(y_test,y_pred)}')\n",
    "    mx=confusion_matrix(y_test,y_pred)\n",
    "    sns.heatmap(mx,annot=True, fmt='d', cmap='Blues', xticklabels=['Not spam', 'spam'], yticklabels=['Not spam', 'spam'])\n",
    "    plt.title('Confusion Matrix')\n",
    "    plt.xlabel('Predicted')\n",
    "    plt.ylabel('Actual')\n",
    "    plt.show()\n",
    "   "
   ]
  },
  {
   "cell_type": "code",
   "execution_count": 31,
   "id": "0c7a3dbc",
   "metadata": {
    "execution": {
     "iopub.execute_input": "2025-01-10T09:01:14.517350Z",
     "iopub.status.busy": "2025-01-10T09:01:14.516895Z",
     "iopub.status.idle": "2025-01-10T09:01:25.937514Z",
     "shell.execute_reply": "2025-01-10T09:01:25.936330Z"
    },
    "papermill": {
     "duration": 11.433355,
     "end_time": "2025-01-10T09:01:25.939424",
     "exception": false,
     "start_time": "2025-01-10T09:01:14.506069",
     "status": "completed"
    },
    "tags": []
   },
   "outputs": [
    {
     "name": "stdout",
     "output_type": "stream",
     "text": [
      "accuracy score of LogisticRegression() is :0.9835748792270531\n",
      "              precision    recall  f1-score   support\n",
      "\n",
      "         ham       0.99      0.98      0.99       742\n",
      "        spam       0.96      0.98      0.97       293\n",
      "\n",
      "    accuracy                           0.98      1035\n",
      "   macro avg       0.98      0.98      0.98      1035\n",
      "weighted avg       0.98      0.98      0.98      1035\n",
      "\n"
     ]
    },
    {
     "data": {
      "image/png": "[encoded data removed]",
      "text/plain": [
       "<Figure size 640x480 with 2 Axes>"
      ]
     },
     "metadata": {},
     "output_type": "display_data"
    }
   ],
   "source": [
    "train_test_model(LogisticRegression())"
   ]
  },
  {
   "cell_type": "code",
   "execution_count": 32,
   "id": "3cbe7cdd",
   "metadata": {
    "execution": {
     "iopub.execute_input": "2025-01-10T09:01:25.962755Z",
     "iopub.status.busy": "2025-01-10T09:01:25.962380Z",
     "iopub.status.idle": "2025-01-10T09:01:35.233145Z",
     "shell.execute_reply": "2025-01-10T09:01:35.231976Z"
    },
    "papermill": {
     "duration": 9.284217,
     "end_time": "2025-01-10T09:01:35.234841",
     "exception": false,
     "start_time": "2025-01-10T09:01:25.950624",
     "status": "completed"
    },
    "tags": []
   },
   "outputs": [
    {
     "name": "stdout",
     "output_type": "stream",
     "text": [
      "accuracy score of DecisionTreeClassifier(max_depth=20) is :0.9458937198067633\n",
      "              precision    recall  f1-score   support\n",
      "\n",
      "         ham       0.97      0.95      0.96       742\n",
      "        spam       0.89      0.93      0.91       293\n",
      "\n",
      "    accuracy                           0.95      1035\n",
      "   macro avg       0.93      0.94      0.93      1035\n",
      "weighted avg       0.95      0.95      0.95      1035\n",
      "\n"
     ]
    },
    {
     "data": {
      "image/png": "[encoded data removed]",
      "text/plain": [
       "<Figure size 640x480 with 2 Axes>"
      ]
     },
     "metadata": {},
     "output_type": "display_data"
    }
   ],
   "source": [
    "train_test_model(DecisionTreeClassifier(max_depth=20))"
   ]
  },
  {
   "cell_type": "code",
   "execution_count": 33,
   "id": "b644c7e5",
   "metadata": {},
   "outputs": [
    {
     "name": "stdout",
     "output_type": "stream",
     "text": [
      "accuracy score of RandomForestClassifier() is :0.9806763285024155\n",
      "              precision    recall  f1-score   support\n",
      "\n",
      "         ham       0.98      0.99      0.99       742\n",
      "        spam       0.98      0.95      0.97       293\n",
      "\n",
      "    accuracy                           0.98      1035\n",
      "   macro avg       0.98      0.97      0.98      1035\n",
      "weighted avg       0.98      0.98      0.98      1035\n",
      "\n"
     ]
    },
    {
     "data": {
      "image/png": "[encoded data removed]",
      "text/plain": [
       "<Figure size 640x480 with 2 Axes>"
      ]
     },
     "metadata": {},
     "output_type": "display_data"
    }
   ],
   "source": [
    "train_test_model(RandomForestClassifier())"
   ]
  },
  {
   "cell_type": "code",
   "execution_count": 34,
   "id": "f99aa089",
   "metadata": {
    "execution": {
     "iopub.execute_input": "2025-01-10T09:06:14.405474Z",
     "iopub.status.busy": "2025-01-10T09:06:14.405123Z",
     "iopub.status.idle": "2025-01-10T09:06:21.386305Z",
     "shell.execute_reply": "2025-01-10T09:06:21.384741Z"
    },
    "papermill": {
     "duration": 6.997393,
     "end_time": "2025-01-10T09:06:21.388019",
     "exception": false,
     "start_time": "2025-01-10T09:06:14.390626",
     "status": "completed"
    },
    "tags": []
   },
   "outputs": [
    {
     "name": "stdout",
     "output_type": "stream",
     "text": [
      "accuracy score of KNeighborsClassifier(n_neighbors=2) is :0.927536231884058\n",
      "              precision    recall  f1-score   support\n",
      "\n",
      "         ham       0.91      1.00      0.95       742\n",
      "        spam       1.00      0.75      0.85       293\n",
      "\n",
      "    accuracy                           0.93      1035\n",
      "   macro avg       0.95      0.87      0.90      1035\n",
      "weighted avg       0.93      0.93      0.92      1035\n",
      "\n"
     ]
    },
    {
     "data": {
      "image/png": "[encoded data removed]",
      "text/plain": [
       "<Figure size 640x480 with 2 Axes>"
      ]
     },
     "metadata": {},
     "output_type": "display_data"
    }
   ],
   "source": [
    "train_test_model(KNeighborsClassifier(n_neighbors=2))"
   ]
  },
  {
   "cell_type": "markdown",
   "id": "1fb72610",
   "metadata": {
    "papermill": {
     "duration": 0.014574,
     "end_time": "2025-01-10T09:06:25.151733",
     "exception": false,
     "start_time": "2025-01-10T09:06:25.137159",
     "status": "completed"
    },
    "tags": []
   },
   "source": [
    "# "
   ]
  },
  {
   "cell_type": "markdown",
   "id": "43c5a833",
   "metadata": {
    "papermill": {
     "duration": 0.014589,
     "end_time": "2025-01-10T09:06:25.181113",
     "exception": false,
     "start_time": "2025-01-10T09:06:25.166524",
     "status": "completed"
    },
    "tags": []
   },
   "source": [
    "# Result and inference"
   ]
  },
  {
   "cell_type": "markdown",
   "id": "3bd976b3",
   "metadata": {
    "papermill": {
     "duration": 0.01471,
     "end_time": "2025-01-10T09:06:25.255508",
     "exception": false,
     "start_time": "2025-01-10T09:06:25.240798",
     "status": "completed"
    },
    "tags": []
   },
   "source": [
    "so we could see that our model has done better as it is better to use the model than saying that mail is not spam"
   ]
  },
  {
   "cell_type": "markdown",
   "id": "9bc99122",
   "metadata": {
    "papermill": {
     "duration": 0.014736,
     "end_time": "2025-01-10T09:06:25.285230",
     "exception": false,
     "start_time": "2025-01-10T09:06:25.270494",
     "status": "completed"
    },
    "tags": []
   },
   "source": [
    "we could see that `logistic regression` has better accuracy i.e of `98`% \n",
    "* Improvements can be done by tuning the hyperparameters"
   ]
  },
  {
   "cell_type": "code",
   "execution_count": 35,
   "id": "a38f8e3a",
   "metadata": {},
   "outputs": [],
   "source": [
    "\n",
    "from sklearn.model_selection import GridSearchCV\n",
    "\n",
    "param_grid_dt = {'max_depth': [10, 20, 30], 'criterion': ['gini', 'entropy']}\n",
    "param_grid_rf = {'n_estimators': [50, 100, 200], 'max_depth': [10, 20, 30]}\n",
    "param_grid_knn = {'n_neighbors': [3, 5, 7], 'weights': ['uniform', 'distance']}\n",
    "\n",
    "dt_grid = GridSearchCV(DecisionTreeClassifier(), param_grid_dt, cv=5, scoring='accuracy', n_jobs=-1)\n",
    "rf_grid = GridSearchCV(RandomForestClassifier(), param_grid_rf, cv=5, scoring='accuracy', n_jobs=-1)\n",
    "knn_grid = GridSearchCV(KNeighborsClassifier(), param_grid_knn, cv=5, scoring='accuracy', n_jobs=-1)"
   ]
  },
  {
   "cell_type": "code",
   "execution_count": 36,
   "id": "62908006",
   "metadata": {},
   "outputs": [
    {
     "data": {
      "text/html": [
       "<style>#sk-container-id-1 {color: black;}#sk-container-id-1 pre{padding: 0;}#sk-container-id-1 div.sk-toggleable {background-color: white;}#sk-container-id-1 label.sk-toggleable__label {cursor: pointer;display: block;width: 100%;margin-bottom: 0;padding: 0.3em;box-sizing: border-box;text-align: center;}#sk-container-id-1 label.sk-toggleable__label-arrow:before {content: \"▸\";float: left;margin-right: 0.25em;color: #696969;}#sk-container-id-1 label.sk-toggleable__label-arrow:hover:before {color: black;}#sk-container-id-1 div.sk-estimator:hover label.sk-toggleable__label-arrow:before {color: black;}#sk-container-id-1 div.sk-toggleable__content {max-height: 0;max-width: 0;overflow: hidden;text-align: left;background-color: #f0f8ff;}#sk-container-id-1 div.sk-toggleable__content pre {margin: 0.2em;color: black;border-radius: 0.25em;background-color: #f0f8ff;}#sk-container-id-1 input.sk-toggleable__control:checked~div.sk-toggleable__content {max-height: 200px;max-width: 100%;overflow: auto;}#sk-container-id-1 input.sk-toggleable__control:checked~label.sk-toggleable__label-arrow:before {content: \"▾\";}#sk-container-id-1 div.sk-estimator input.sk-toggleable__control:checked~label.sk-toggleable__label {background-color: #d4ebff;}#sk-container-id-1 div.sk-label input.sk-toggleable__control:checked~label.sk-toggleable__label {background-color: #d4ebff;}#sk-container-id-1 input.sk-hidden--visually {border: 0;clip: rect(1px 1px 1px 1px);clip: rect(1px, 1px, 1px, 1px);height: 1px;margin: -1px;overflow: hidden;padding: 0;position: absolute;width: 1px;}#sk-container-id-1 div.sk-estimator {font-family: monospace;background-color: #f0f8ff;border: 1px dotted black;border-radius: 0.25em;box-sizing: border-box;margin-bottom: 0.5em;}#sk-container-id-1 div.sk-estimator:hover {background-color: #d4ebff;}#sk-container-id-1 div.sk-parallel-item::after {content: \"\";width: 100%;border-bottom: 1px solid gray;flex-grow: 1;}#sk-container-id-1 div.sk-label:hover label.sk-toggleable__label {background-color: #d4ebff;}#sk-container-id-1 div.sk-serial::before {content: \"\";position: absolute;border-left: 1px solid gray;box-sizing: border-box;top: 0;bottom: 0;left: 50%;z-index: 0;}#sk-container-id-1 div.sk-serial {display: flex;flex-direction: column;align-items: center;background-color: white;padding-right: 0.2em;padding-left: 0.2em;position: relative;}#sk-container-id-1 div.sk-item {position: relative;z-index: 1;}#sk-container-id-1 div.sk-parallel {display: flex;align-items: stretch;justify-content: center;background-color: white;position: relative;}#sk-container-id-1 div.sk-item::before, #sk-container-id-1 div.sk-parallel-item::before {content: \"\";position: absolute;border-left: 1px solid gray;box-sizing: border-box;top: 0;bottom: 0;left: 50%;z-index: -1;}#sk-container-id-1 div.sk-parallel-item {display: flex;flex-direction: column;z-index: 1;position: relative;background-color: white;}#sk-container-id-1 div.sk-parallel-item:first-child::after {align-self: flex-end;width: 50%;}#sk-container-id-1 div.sk-parallel-item:last-child::after {align-self: flex-start;width: 50%;}#sk-container-id-1 div.sk-parallel-item:only-child::after {width: 0;}#sk-container-id-1 div.sk-dashed-wrapped {border: 1px dashed gray;margin: 0 0.4em 0.5em 0.4em;box-sizing: border-box;padding-bottom: 0.4em;background-color: white;}#sk-container-id-1 div.sk-label label {font-family: monospace;font-weight: bold;display: inline-block;line-height: 1.2em;}#sk-container-id-1 div.sk-label-container {text-align: center;}#sk-container-id-1 div.sk-container {/* jupyter's `normalize.less` sets `[hidden] { display: none; }` but bootstrap.min.css set `[hidden] { display: none !important; }` so we also need the `!important` here to be able to override the default hidden behavior on the sphinx rendered scikit-learn.org. See: https://github.com/scikit-learn/scikit-learn/issues/21755 */display: inline-block !important;position: relative;}#sk-container-id-1 div.sk-text-repr-fallback {display: none;}</style><div id=\"sk-container-id-1\" class=\"sk-top-container\"><div class=\"sk-text-repr-fallback\"><pre>GridSearchCV(cv=5, estimator=KNeighborsClassifier(), n_jobs=-1,\n",
       "             param_grid={&#x27;n_neighbors&#x27;: [3, 5, 7],\n",
       "                         &#x27;weights&#x27;: [&#x27;uniform&#x27;, &#x27;distance&#x27;]},\n",
       "             scoring=&#x27;accuracy&#x27;)</pre><b>In a Jupyter environment, please rerun this cell to show the HTML representation or trust the notebook. <br />On GitHub, the HTML representation is unable to render, please try loading this page with nbviewer.org.</b></div><div class=\"sk-container\" hidden><div class=\"sk-item sk-dashed-wrapped\"><div class=\"sk-label-container\"><div class=\"sk-label sk-toggleable\"><input class=\"sk-toggleable__control sk-hidden--visually\" id=\"sk-estimator-id-1\" type=\"checkbox\" ><label for=\"sk-estimator-id-1\" class=\"sk-toggleable__label sk-toggleable__label-arrow\">GridSearchCV</label><div class=\"sk-toggleable__content\"><pre>GridSearchCV(cv=5, estimator=KNeighborsClassifier(), n_jobs=-1,\n",
       "             param_grid={&#x27;n_neighbors&#x27;: [3, 5, 7],\n",
       "                         &#x27;weights&#x27;: [&#x27;uniform&#x27;, &#x27;distance&#x27;]},\n",
       "             scoring=&#x27;accuracy&#x27;)</pre></div></div></div><div class=\"sk-parallel\"><div class=\"sk-parallel-item\"><div class=\"sk-item\"><div class=\"sk-label-container\"><div class=\"sk-label sk-toggleable\"><input class=\"sk-toggleable__control sk-hidden--visually\" id=\"sk-estimator-id-2\" type=\"checkbox\" ><label for=\"sk-estimator-id-2\" class=\"sk-toggleable__label sk-toggleable__label-arrow\">estimator: KNeighborsClassifier</label><div class=\"sk-toggleable__content\"><pre>KNeighborsClassifier()</pre></div></div></div><div class=\"sk-serial\"><div class=\"sk-item\"><div class=\"sk-estimator sk-toggleable\"><input class=\"sk-toggleable__control sk-hidden--visually\" id=\"sk-estimator-id-3\" type=\"checkbox\" ><label for=\"sk-estimator-id-3\" class=\"sk-toggleable__label sk-toggleable__label-arrow\">KNeighborsClassifier</label><div class=\"sk-toggleable__content\"><pre>KNeighborsClassifier()</pre></div></div></div></div></div></div></div></div></div></div>"
      ],
      "text/plain": [
       "GridSearchCV(cv=5, estimator=KNeighborsClassifier(), n_jobs=-1,\n",
       "             param_grid={'n_neighbors': [3, 5, 7],\n",
       "                         'weights': ['uniform', 'distance']},\n",
       "             scoring='accuracy')"
      ]
     },
     "execution_count": 36,
     "metadata": {},
     "output_type": "execute_result"
    }
   ],
   "source": [
    "dt_grid.fit(x_train, y_train)\n",
    "rf_grid.fit(x_train, y_train)\n",
    "knn_grid.fit(x_train, y_train)"
   ]
  },
  {
   "cell_type": "code",
   "execution_count": 37,
   "id": "0eeec2f3",
   "metadata": {},
   "outputs": [
    {
     "name": "stdout",
     "output_type": "stream",
     "text": [
      "Best Decision Tree params: {'criterion': 'gini', 'max_depth': 30} Score: 0.9385862993533463\n",
      "Best Random Forest params: {'max_depth': 30, 'n_estimators': 200} Score: 0.9475363487139944\n",
      "Best KNN params: {'n_neighbors': 3, 'weights': 'distance'} Score: 0.9608310113383454\n",
      "Decision Tree Test Accuracy: 0.9507246376811594\n",
      "Random Forest Test Accuracy: 0.9555555555555556\n",
      "KNN Test Accuracy: 0.9507246376811594\n"
     ]
    }
   ],
   "source": [
    "print(\"Best Decision Tree params:\", dt_grid.best_params_, \"Score:\", dt_grid.best_score_)\n",
    "print(\"Best Random Forest params:\", rf_grid.best_params_, \"Score:\", rf_grid.best_score_)\n",
    "print(\"Best KNN params:\", knn_grid.best_params_, \"Score:\", knn_grid.best_score_)\n",
    "\n",
    "dt_best = dt_grid.best_estimator_\n",
    "rf_best = rf_grid.best_estimator_\n",
    "knn_best = knn_grid.best_estimator_\n",
    "\n",
    "print(\"Decision Tree Test Accuracy:\", dt_best.score(x_test, y_test))\n",
    "print(\"Random Forest Test Accuracy:\", rf_best.score(x_test, y_test))\n",
    "print(\"KNN Test Accuracy:\", knn_best.score(x_test, y_test))"
   ]
  }
 ],
 "metadata": {
  "kaggle": {
   "accelerator": "none",
   "dataSources": [
    {
     "datasetId": 109196,
     "sourceId": 260807,
     "sourceType": "datasetVersion"
    }
   ],
   "dockerImageVersionId": 30822,
   "isGpuEnabled": false,
   "isInternetEnabled": true,
   "language": "python",
   "sourceType": "notebook"
  },
  "kernelspec": {
   "display_name": "Python 3",
   "language": "python",
   "name": "python3"
  },
  "language_info": {
   "codemirror_mode": {
    "name": "ipython",
    "version": 3
   },
   "file_extension": ".py",
   "mimetype": "text/x-python",
   "name": "python",
   "nbconvert_exporter": "python",
   "pygments_lexer": "ipython3",
   "version": "3.8.0"
  },
  "papermill": {
   "default_parameters": {},
   "duration": 334.678133,
   "end_time": "2025-01-10T09:06:26.120828",
   "environment_variables": {},
   "exception": null,
   "input_path": "__notebook__.ipynb",
   "output_path": "__notebook__.ipynb",
   "parameters": {},
   "start_time": "2025-01-10T09:00:51.442695",
   "version": "2.6.0"
  }
 },
 "nbformat": 4,
 "nbformat_minor": 5
}
