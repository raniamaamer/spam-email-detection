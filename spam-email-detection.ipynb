{
 "cells": [
  {
   "cell_type": "markdown",
   "id": "aac2c1c4",
   "metadata": {
    "papermill": {
     "duration": 0.008894,
     "end_time": "2025-01-10T09:00:53.784144",
     "exception": false,
     "start_time": "2025-01-10T09:00:53.775250",
     "status": "completed"
    },
    "tags": []
   },
   "source": [
    "# Spam Email Detection\n",
    "\n",
    "This project implements a machine learning pipeline to classify emails as spam or not spam using natural language processing and various classification algorithms. The dataset is preprocessed to clean text data, vectorized, and then used to train multiple models to determine the most effective classifier.\n",
    "\n",
    "## Features\n",
    "- Data cleaning (removing punctuation, stop words, stemming).\n",
    "- Splitting the data into training and test sets.\n",
    "- Testing multiple machine learning classifiers:\n",
    "  - Logistic Regression\n",
    "  - Decision Tree\n",
    "  - Random Forest Classifier\n",
    "  - K-Nearest Neighbors\n",
    "  - Naïve Bayes\n",
    "- Performance evaluation using metrics like accuracy, confusion matrix, and classification report.\n",
    "\n",
    "## Dataset\n",
    "The project uses the [Spam Mails Dataset](https://www.kaggle.com/venky73/spam-mails-dataset), which contains labeled email messages with labels `0` (not spam) and `1` (spam).\n",
    "\n",
    "## Results\n",
    "\n",
    "- Logistic Regression achieved the highest accuracy of **98%** on the test dataset."
   ]
  },
  {
   "cell_type": "markdown",
   "id": "4a41836b",
   "metadata": {
    "papermill": {
     "duration": 0.007866,
     "end_time": "2025-01-10T09:00:54.210635",
     "exception": false,
     "start_time": "2025-01-10T09:00:54.202769",
     "status": "completed"
    },
    "tags": []
   },
   "source": [
    "# Importing Libraries"
   ]
  },
  {
   "cell_type": "code",
   "execution_count": 3,
   "id": "73abb960",
   "metadata": {
    "execution": {
     "iopub.execute_input": "2025-01-10T09:00:54.228456Z",
     "iopub.status.busy": "2025-01-10T09:00:54.227990Z",
     "iopub.status.idle": "2025-01-10T09:00:55.819773Z",
     "shell.execute_reply": "2025-01-10T09:00:55.818935Z"
    },
    "papermill": {
     "duration": 1.602967,
     "end_time": "2025-01-10T09:00:55.821742",
     "exception": false,
     "start_time": "2025-01-10T09:00:54.218775",
     "status": "completed"
    },
    "tags": []
   },
   "outputs": [],
   "source": [
    "import pandas as pd\n",
    "import matplotlib.pyplot as plt\n",
    "import seaborn as sns"
   ]
  },
  {
   "cell_type": "markdown",
   "id": "4ca1eeb5",
   "metadata": {
    "papermill": {
     "duration": 0.007917,
     "end_time": "2025-01-10T09:00:55.838132",
     "exception": false,
     "start_time": "2025-01-10T09:00:55.830215",
     "status": "completed"
    },
    "tags": []
   },
   "source": [
    "# Importing data"
   ]
  },
  {
   "cell_type": "code",
   "execution_count": 4,
   "id": "3e309924",
   "metadata": {
    "execution": {
     "iopub.execute_input": "2025-01-10T09:00:55.856291Z",
     "iopub.status.busy": "2025-01-10T09:00:55.855781Z",
     "iopub.status.idle": "2025-01-10T09:00:56.015349Z",
     "shell.execute_reply": "2025-01-10T09:00:56.014169Z"
    },
    "papermill": {
     "duration": 0.170806,
     "end_time": "2025-01-10T09:00:56.017448",
     "exception": false,
     "start_time": "2025-01-10T09:00:55.846642",
     "status": "completed"
    },
    "tags": []
   },
   "outputs": [
    {
     "data": {
      "text/html": [
       "<div>\n",
       "<style scoped>\n",
       "    .dataframe tbody tr th:only-of-type {\n",
       "        vertical-align: middle;\n",
       "    }\n",
       "\n",
       "    .dataframe tbody tr th {\n",
       "        vertical-align: top;\n",
       "    }\n",
       "\n",
       "    .dataframe thead th {\n",
       "        text-align: right;\n",
       "    }\n",
       "</style>\n",
       "<table border=\"1\" class=\"dataframe\">\n",
       "  <thead>\n",
       "    <tr style=\"text-align: right;\">\n",
       "      <th></th>\n",
       "      <th>Unnamed: 0</th>\n",
       "      <th>label</th>\n",
       "      <th>text</th>\n",
       "      <th>label_num</th>\n",
       "    </tr>\n",
       "  </thead>\n",
       "  <tbody>\n",
       "    <tr>\n",
       "      <th>0</th>\n",
       "      <td>605</td>\n",
       "      <td>ham</td>\n",
       "      <td>Subject: enron methanol ; meter # : 988291\\r\\n...</td>\n",
       "      <td>0</td>\n",
       "    </tr>\n",
       "    <tr>\n",
       "      <th>1</th>\n",
       "      <td>2349</td>\n",
       "      <td>ham</td>\n",
       "      <td>Subject: hpl nom for january 9 , 2001\\r\\n( see...</td>\n",
       "      <td>0</td>\n",
       "    </tr>\n",
       "    <tr>\n",
       "      <th>2</th>\n",
       "      <td>3624</td>\n",
       "      <td>ham</td>\n",
       "      <td>Subject: neon retreat\\r\\nho ho ho , we ' re ar...</td>\n",
       "      <td>0</td>\n",
       "    </tr>\n",
       "    <tr>\n",
       "      <th>3</th>\n",
       "      <td>4685</td>\n",
       "      <td>spam</td>\n",
       "      <td>Subject: photoshop , windows , office . cheap ...</td>\n",
       "      <td>1</td>\n",
       "    </tr>\n",
       "    <tr>\n",
       "      <th>4</th>\n",
       "      <td>2030</td>\n",
       "      <td>ham</td>\n",
       "      <td>Subject: re : indian springs\\r\\nthis deal is t...</td>\n",
       "      <td>0</td>\n",
       "    </tr>\n",
       "  </tbody>\n",
       "</table>\n",
       "</div>"
      ],
      "text/plain": [
       "   Unnamed: 0 label                                               text  \\\n",
       "0         605   ham  Subject: enron methanol ; meter # : 988291\\r\\n...   \n",
       "1        2349   ham  Subject: hpl nom for january 9 , 2001\\r\\n( see...   \n",
       "2        3624   ham  Subject: neon retreat\\r\\nho ho ho , we ' re ar...   \n",
       "3        4685  spam  Subject: photoshop , windows , office . cheap ...   \n",
       "4        2030   ham  Subject: re : indian springs\\r\\nthis deal is t...   \n",
       "\n",
       "   label_num  \n",
       "0          0  \n",
       "1          0  \n",
       "2          0  \n",
       "3          1  \n",
       "4          0  "
      ]
     },
     "execution_count": 4,
     "metadata": {},
     "output_type": "execute_result"
    }
   ],
   "source": [
    "dataset = pd.read_csv('spam_ham_dataset.csv')\n",
    "dataset.head()"
   ]
  },
  {
   "cell_type": "markdown",
   "id": "db46369e",
   "metadata": {},
   "source": [
    "# Data Exploration"
   ]
  },
  {
   "cell_type": "code",
   "execution_count": 5,
   "id": "f7f1aa52",
   "metadata": {},
   "outputs": [
    {
     "name": "stdout",
     "output_type": "stream",
     "text": [
      "<class 'pandas.core.frame.DataFrame'>\n",
      "RangeIndex: 5171 entries, 0 to 5170\n",
      "Data columns (total 4 columns):\n",
      " #   Column      Non-Null Count  Dtype \n",
      "---  ------      --------------  ----- \n",
      " 0   Unnamed: 0  5171 non-null   int64 \n",
      " 1   label       5171 non-null   object\n",
      " 2   text        5171 non-null   object\n",
      " 3   label_num   5171 non-null   int64 \n",
      "dtypes: int64(2), object(2)\n",
      "memory usage: 161.7+ KB\n"
     ]
    }
   ],
   "source": [
    "dataset.info()"
   ]
  },
  {
   "cell_type": "code",
   "execution_count": 6,
   "id": "afabfdd3",
   "metadata": {},
   "outputs": [
    {
     "data": {
      "text/html": [
       "<div>\n",
       "<style scoped>\n",
       "    .dataframe tbody tr th:only-of-type {\n",
       "        vertical-align: middle;\n",
       "    }\n",
       "\n",
       "    .dataframe tbody tr th {\n",
       "        vertical-align: top;\n",
       "    }\n",
       "\n",
       "    .dataframe thead th {\n",
       "        text-align: right;\n",
       "    }\n",
       "</style>\n",
       "<table border=\"1\" class=\"dataframe\">\n",
       "  <thead>\n",
       "    <tr style=\"text-align: right;\">\n",
       "      <th></th>\n",
       "      <th>count</th>\n",
       "      <th>mean</th>\n",
       "      <th>std</th>\n",
       "      <th>min</th>\n",
       "      <th>25%</th>\n",
       "      <th>50%</th>\n",
       "      <th>75%</th>\n",
       "      <th>max</th>\n",
       "    </tr>\n",
       "  </thead>\n",
       "  <tbody>\n",
       "    <tr>\n",
       "      <th>Unnamed: 0</th>\n",
       "      <td>5171.0</td>\n",
       "      <td>2585.000000</td>\n",
       "      <td>1492.883452</td>\n",
       "      <td>0.0</td>\n",
       "      <td>1292.5</td>\n",
       "      <td>2585.0</td>\n",
       "      <td>3877.5</td>\n",
       "      <td>5170.0</td>\n",
       "    </tr>\n",
       "    <tr>\n",
       "      <th>label_num</th>\n",
       "      <td>5171.0</td>\n",
       "      <td>0.289886</td>\n",
       "      <td>0.453753</td>\n",
       "      <td>0.0</td>\n",
       "      <td>0.0</td>\n",
       "      <td>0.0</td>\n",
       "      <td>1.0</td>\n",
       "      <td>1.0</td>\n",
       "    </tr>\n",
       "  </tbody>\n",
       "</table>\n",
       "</div>"
      ],
      "text/plain": [
       "             count         mean          std  min     25%     50%     75%  \\\n",
       "Unnamed: 0  5171.0  2585.000000  1492.883452  0.0  1292.5  2585.0  3877.5   \n",
       "label_num   5171.0     0.289886     0.453753  0.0     0.0     0.0     1.0   \n",
       "\n",
       "               max  \n",
       "Unnamed: 0  5170.0  \n",
       "label_num      1.0  "
      ]
     },
     "execution_count": 6,
     "metadata": {},
     "output_type": "execute_result"
    }
   ],
   "source": [
    "dataset.describe().T"
   ]
  },
  {
   "cell_type": "code",
   "execution_count": 7,
   "id": "921a377f",
   "metadata": {},
   "outputs": [
    {
     "data": {
      "text/plain": [
       "Unnamed: 0    0\n",
       "label         0\n",
       "text          0\n",
       "label_num     0\n",
       "dtype: int64"
      ]
     },
     "execution_count": 7,
     "metadata": {},
     "output_type": "execute_result"
    }
   ],
   "source": [
    "dataset.isnull().sum()"
   ]
  },
  {
   "cell_type": "code",
   "execution_count": 8,
   "id": "8cdd9b29",
   "metadata": {},
   "outputs": [
    {
     "data": {
      "text/plain": [
       "(5171, 4)"
      ]
     },
     "execution_count": 8,
     "metadata": {},
     "output_type": "execute_result"
    }
   ],
   "source": [
    "dataset.shape"
   ]
  },
  {
   "cell_type": "code",
   "execution_count": 9,
   "id": "223798f8",
   "metadata": {},
   "outputs": [
    {
     "data": {
      "text/plain": [
       "label\n",
       "ham     3672\n",
       "spam    1499\n",
       "Name: count, dtype: int64"
      ]
     },
     "execution_count": 9,
     "metadata": {},
     "output_type": "execute_result"
    }
   ],
   "source": [
    "dataset['label'].value_counts()"
   ]
  },
  {
   "cell_type": "code",
   "execution_count": 10,
   "id": "01b07f59",
   "metadata": {},
   "outputs": [
    {
     "name": "stderr",
     "output_type": "stream",
     "text": [
      "C:\\Users\\admin\\AppData\\Local\\Temp\\ipykernel_2696\\1729229091.py:2: FutureWarning: \n",
      "\n",
      "Passing `palette` without assigning `hue` is deprecated and will be removed in v0.14.0. Assign the `x` variable to `hue` and set `legend=False` for the same effect.\n",
      "\n",
      "  sns.barplot(x=dataset[\"label\"].value_counts().index, y=dataset[\"label\"].value_counts().values, palette=\"viridis\")\n"
     ]
    },
    {
     "data": {
      "image/png": "[encoded data removed]",
      "text/plain": [
       "<Figure size 600x400 with 1 Axes>"
      ]
     },
     "metadata": {},
     "output_type": "display_data"
    }
   ],
   "source": [
    "plt.figure(figsize=(6, 4))\n",
    "sns.barplot(x=dataset[\"label\"].value_counts().index, y=dataset[\"label\"].value_counts().values, palette=\"viridis\")\n",
    "\n",
    "plt.title(\"Distribution of Spam vs Ham Emails\", fontsize=14)\n",
    "plt.xlabel(\"Email Type\", fontsize=12)\n",
    "plt.ylabel(\"Count\", fontsize=12)\n",
    "\n",
    "plt.show()"
   ]
  },
  {
   "cell_type": "code",
   "execution_count": 11,
   "id": "875336f2",
   "metadata": {},
   "outputs": [
    {
     "data": {
      "text/plain": [
       "label\n",
       "ham     71.01141\n",
       "spam    28.98859\n",
       "Name: proportion, dtype: float64"
      ]
     },
     "execution_count": 11,
     "metadata": {},
     "output_type": "execute_result"
    }
   ],
   "source": [
    "dataset['label'].value_counts(normalize=True) * 100"
   ]
  },
  {
   "cell_type": "code",
   "execution_count": 12,
   "id": "107a6d79",
   "metadata": {},
   "outputs": [
    {
     "data": {
      "image/png": "[encoded data removed]",
      "text/plain": [
       "<Figure size 600x600 with 1 Axes>"
      ]
     },
     "metadata": {},
     "output_type": "display_data"
    }
   ],
   "source": [
    "plt.figure(figsize=(6, 6))\n",
    "plt.pie(dataset[\"label\"].value_counts(normalize=True).values*100, labels=dataset[\"label\"].value_counts().index,\n",
    "        autopct='%1.1f%%', colors=[\"skyblue\", \"orange\"], startangle=55, wedgeprops={'edgecolor': 'black'})\n",
    "\n",
    "plt.title(\"Spam vs Ham Email Distribution\", fontsize=14)\n",
    "\n",
    "plt.show()"
   ]
  },
  {
   "cell_type": "code",
   "execution_count": 13,
   "id": "4ced5bf7",
   "metadata": {
    "execution": {
     "iopub.execute_input": "2025-01-10T09:00:56.092053Z",
     "iopub.status.busy": "2025-01-10T09:00:56.091634Z",
     "iopub.status.idle": "2025-01-10T09:00:56.101951Z",
     "shell.execute_reply": "2025-01-10T09:00:56.100833Z"
    },
    "papermill": {
     "duration": 0.021197,
     "end_time": "2025-01-10T09:00:56.103599",
     "exception": false,
     "start_time": "2025-01-10T09:00:56.082402",
     "status": "completed"
    },
    "tags": []
   },
   "outputs": [
    {
     "data": {
      "text/plain": [
       "Unnamed: 0    0\n",
       "label         0\n",
       "text          0\n",
       "label_num     0\n",
       "dtype: int64"
      ]
     },
     "execution_count": 13,
     "metadata": {},
     "output_type": "execute_result"
    }
   ],
   "source": [
    "dataset.isna().sum()"
   ]
  },
  {
   "cell_type": "code",
   "execution_count": 14,
   "id": "691ced9f",
   "metadata": {
    "execution": {
     "iopub.execute_input": "2025-01-10T09:00:56.122248Z",
     "iopub.status.busy": "2025-01-10T09:00:56.121880Z",
     "iopub.status.idle": "2025-01-10T09:00:56.155009Z",
     "shell.execute_reply": "2025-01-10T09:00:56.153881Z"
    },
    "papermill": {
     "duration": 0.0447,
     "end_time": "2025-01-10T09:00:56.156986",
     "exception": false,
     "start_time": "2025-01-10T09:00:56.112286",
     "status": "completed"
    },
    "tags": []
   },
   "outputs": [
    {
     "data": {
      "text/plain": [
       "np.int64(0)"
      ]
     },
     "execution_count": 14,
     "metadata": {},
     "output_type": "execute_result"
    }
   ],
   "source": [
    "dataset.duplicated().sum()"
   ]
  },
  {
   "cell_type": "markdown",
   "id": "05941654",
   "metadata": {
    "papermill": {
     "duration": 0.008635,
     "end_time": "2025-01-10T09:00:56.174684",
     "exception": false,
     "start_time": "2025-01-10T09:00:56.166049",
     "status": "completed"
    },
    "tags": []
   },
   "source": [
    "* so we have no null and duplicate value\n",
    "* we only need text and label num for our purpose"
   ]
  },
  {
   "cell_type": "code",
   "execution_count": 15,
   "id": "b622dd45",
   "metadata": {
    "execution": {
     "iopub.execute_input": "2025-01-10T09:00:56.193527Z",
     "iopub.status.busy": "2025-01-10T09:00:56.193177Z",
     "iopub.status.idle": "2025-01-10T09:00:56.207757Z",
     "shell.execute_reply": "2025-01-10T09:00:56.206567Z"
    },
    "papermill": {
     "duration": 0.02594,
     "end_time": "2025-01-10T09:00:56.209445",
     "exception": false,
     "start_time": "2025-01-10T09:00:56.183505",
     "status": "completed"
    },
    "tags": []
   },
   "outputs": [
    {
     "data": {
      "text/html": [
       "<div>\n",
       "<style scoped>\n",
       "    .dataframe tbody tr th:only-of-type {\n",
       "        vertical-align: middle;\n",
       "    }\n",
       "\n",
       "    .dataframe tbody tr th {\n",
       "        vertical-align: top;\n",
       "    }\n",
       "\n",
       "    .dataframe thead th {\n",
       "        text-align: right;\n",
       "    }\n",
       "</style>\n",
       "<table border=\"1\" class=\"dataframe\">\n",
       "  <thead>\n",
       "    <tr style=\"text-align: right;\">\n",
       "      <th></th>\n",
       "      <th>text</th>\n",
       "      <th>label_num</th>\n",
       "    </tr>\n",
       "  </thead>\n",
       "  <tbody>\n",
       "    <tr>\n",
       "      <th>0</th>\n",
       "      <td>Subject: enron methanol ; meter # : 988291\\r\\n...</td>\n",
       "      <td>0</td>\n",
       "    </tr>\n",
       "    <tr>\n",
       "      <th>1</th>\n",
       "      <td>Subject: hpl nom for january 9 , 2001\\r\\n( see...</td>\n",
       "      <td>0</td>\n",
       "    </tr>\n",
       "    <tr>\n",
       "      <th>2</th>\n",
       "      <td>Subject: neon retreat\\r\\nho ho ho , we ' re ar...</td>\n",
       "      <td>0</td>\n",
       "    </tr>\n",
       "    <tr>\n",
       "      <th>3</th>\n",
       "      <td>Subject: photoshop , windows , office . cheap ...</td>\n",
       "      <td>1</td>\n",
       "    </tr>\n",
       "    <tr>\n",
       "      <th>4</th>\n",
       "      <td>Subject: re : indian springs\\r\\nthis deal is t...</td>\n",
       "      <td>0</td>\n",
       "    </tr>\n",
       "  </tbody>\n",
       "</table>\n",
       "</div>"
      ],
      "text/plain": [
       "                                                text  label_num\n",
       "0  Subject: enron methanol ; meter # : 988291\\r\\n...          0\n",
       "1  Subject: hpl nom for january 9 , 2001\\r\\n( see...          0\n",
       "2  Subject: neon retreat\\r\\nho ho ho , we ' re ar...          0\n",
       "3  Subject: photoshop , windows , office . cheap ...          1\n",
       "4  Subject: re : indian springs\\r\\nthis deal is t...          0"
      ]
     },
     "execution_count": 15,
     "metadata": {},
     "output_type": "execute_result"
    }
   ],
   "source": [
    "df = dataset[['text','label_num']]\n",
    "df.head()"
   ]
  },
  {
   "cell_type": "code",
   "execution_count": 16,
   "id": "b0ba9daa",
   "metadata": {
    "execution": {
     "iopub.execute_input": "2025-01-10T09:00:56.228867Z",
     "iopub.status.busy": "2025-01-10T09:00:56.228464Z",
     "iopub.status.idle": "2025-01-10T09:00:56.232862Z",
     "shell.execute_reply": "2025-01-10T09:00:56.231969Z"
    },
    "papermill": {
     "duration": 0.016089,
     "end_time": "2025-01-10T09:00:56.234583",
     "exception": false,
     "start_time": "2025-01-10T09:00:56.218494",
     "status": "completed"
    },
    "tags": []
   },
   "outputs": [],
   "source": [
    "length = len(df['text'])"
   ]
  },
  {
   "cell_type": "markdown",
   "id": "83d20b3e",
   "metadata": {
    "papermill": {
     "duration": 0.008547,
     "end_time": "2025-01-10T09:00:56.252384",
     "exception": false,
     "start_time": "2025-01-10T09:00:56.243837",
     "status": "completed"
    },
    "tags": []
   },
   "source": [
    "# Data  Preprocessing "
   ]
  },
  {
   "cell_type": "markdown",
   "id": "1c4f7502",
   "metadata": {
    "papermill": {
     "duration": 0.008728,
     "end_time": "2025-01-10T09:00:56.269854",
     "exception": false,
     "start_time": "2025-01-10T09:00:56.261126",
     "status": "completed"
    },
    "tags": []
   },
   "source": [
    "* We will remove punctuation and other unnecessary item from our text\n",
    "* Then will be stemming the word to its root form "
   ]
  },
  {
   "cell_type": "markdown",
   "id": "7bbf60a2",
   "metadata": {},
   "source": [
    "1. Exmeple of stop words\n",
    "- the, a, an, is, are, was, were, of, to, for, in, on, at, by, that, it, he, she, they, and, ...\n",
    "\n",
    "2. Stemming\n",
    "\n",
    "- Before stemming: \\\n",
    "    'caresses', 'flies', 'dies', 'mules', 'denied', \\\n",
    "    'died', 'agreed', 'owned', 'humbled', 'sized', \\\n",
    "    'meeting', 'stating', 'siezing', 'itemization', 'sensational', \\\n",
    "    'traditional', 'reference', 'colonizer','plotted'\n",
    "\n",
    "- After stemming: \\\n",
    "    caress fli die mule deni die agre own humbl size meet \\\n",
    "    state siez item sensat tradit refer colon plot]"
   ]
  },
  {
   "cell_type": "code",
   "execution_count": 17,
   "id": "b8487c72",
   "metadata": {
    "execution": {
     "iopub.execute_input": "2025-01-10T09:00:56.288588Z",
     "iopub.status.busy": "2025-01-10T09:00:56.288245Z",
     "iopub.status.idle": "2025-01-10T09:01:11.286917Z",
     "shell.execute_reply": "2025-01-10T09:01:11.285661Z"
    },
    "papermill": {
     "duration": 15.010435,
     "end_time": "2025-01-10T09:01:11.288962",
     "exception": false,
     "start_time": "2025-01-10T09:00:56.278527",
     "status": "completed"
    },
    "tags": []
   },
   "outputs": [
    {
     "name": "stderr",
     "output_type": "stream",
     "text": [
      "[nltk_data] Downloading package stopwords to\n",
      "[nltk_data]     C:\\Users\\admin\\AppData\\Roaming\\nltk_data...\n",
      "[nltk_data]   Package stopwords is already up-to-date!\n"
     ]
    }
   ],
   "source": [
    "import re\n",
    "import nltk\n",
    "nltk.download('stopwords')\n",
    "from nltk.corpus import stopwords\n",
    "from nltk.stem.porter import PorterStemmer\n",
    "\n",
    "corpus=[]\n",
    "# contain list of words that will be used for training -> final words after cleaning\n",
    "\n",
    "for i in range(0,length):\n",
    "  # re is used to remove punctuations\n",
    "  text = re.sub('[^a-zA-Z]',' ',df['text'][i]) # replaces the punctuation with space\n",
    "\n",
    "  # converting to lowercase\n",
    "  text=text.lower()\n",
    "\n",
    "  # stemming\n",
    "  text=text.split()\n",
    "  ps = PorterStemmer()\n",
    "  all_stopwords=stopwords.words('english')\n",
    "  text = [ps.stem(word) for word  in text if not word in set(all_stopwords)]\n",
    "  text = ' '.join(text)\n",
    "\n",
    "  corpus.append(text)\n"
   ]
  },
  {
   "cell_type": "code",
   "execution_count": 18,
   "id": "d1fb8149",
   "metadata": {
    "execution": {
     "iopub.execute_input": "2025-01-10T09:01:11.308540Z",
     "iopub.status.busy": "2025-01-10T09:01:11.308176Z",
     "iopub.status.idle": "2025-01-10T09:01:11.314768Z",
     "shell.execute_reply": "2025-01-10T09:01:11.313652Z"
    },
    "papermill": {
     "duration": 0.01814,
     "end_time": "2025-01-10T09:01:11.316426",
     "exception": false,
     "start_time": "2025-01-10T09:01:11.298286",
     "status": "completed"
    },
    "tags": []
   },
   "outputs": [
    {
     "data": {
      "text/plain": [
       "['subject enron methanol meter follow note gave monday preliminari flow data provid daren pleas overrid pop daili volum present zero reflect daili activ obtain ga control chang need asap econom purpos',\n",
       " 'subject hpl nom januari see attach file hplnol xl hplnol xl',\n",
       " 'subject neon retreat ho ho ho around wonder time year neon leader retreat time know time year extrem hectic tough think anyth past holiday life go past week decemb januari like think minut calend hand begin fall semest retreat schedul weekend januari youth minist confer brad dustin connect week go chang date follow weekend januari come part need think think agre import us get togeth time recharg batteri get far spring semest lot troubl difficult us get away without kid etc brad came potenti altern get togeth weekend let know prefer first option would retreat similar done past sever year year could go heartland countri inn www com outsid brenham nice place bedroom bedroom hous side side countri real relax also close brenham one hour minut golf shop antiqu craft store brenham eat dinner togeth ranch spend time meet saturday return sunday morn like done past second option would stay houston dinner togeth nice restaur dessert time visit recharg one home saturday even might easier trade would much time togeth let decid email back would prefer cours avail weekend democrat process prevail major vote rule let hear soon possibl prefer end weekend vote go way complain allow like tend great weekend great golf great fish great shop whatev make happi bobbi',\n",
       " 'subject photoshop window offic cheap main trend abas darer prudent fortuit undergon lightheart charm orinoco taster railroad affluent pornograph cuvier irvin parkhous blameworthi chlorophyl robe diagrammat fogarti clear bayda inconvenienc manag repres smart hashish academi sharehold unload bad danielson pure caffein spaniard chargeabl levin',\n",
       " 'subject indian spring deal book teco pvr revenu understand teco send us check receiv answer whether predermin price associ deal teco let us know give continu chase deal need']"
      ]
     },
     "execution_count": 18,
     "metadata": {},
     "output_type": "execute_result"
    }
   ],
   "source": [
    "corpus[0:5]"
   ]
  },
  {
   "cell_type": "code",
   "execution_count": 19,
   "id": "3832ee3a",
   "metadata": {
    "execution": {
     "iopub.execute_input": "2025-01-10T09:01:11.336215Z",
     "iopub.status.busy": "2025-01-10T09:01:11.335750Z",
     "iopub.status.idle": "2025-01-10T09:01:11.341283Z",
     "shell.execute_reply": "2025-01-10T09:01:11.339863Z"
    },
    "papermill": {
     "duration": 0.017472,
     "end_time": "2025-01-10T09:01:11.343223",
     "exception": false,
     "start_time": "2025-01-10T09:01:11.325751",
     "status": "completed"
    },
    "tags": []
   },
   "outputs": [],
   "source": [
    "df = df.copy()"
   ]
  },
  {
   "cell_type": "code",
   "execution_count": 20,
   "id": "f2920b1e",
   "metadata": {
    "execution": {
     "iopub.execute_input": "2025-01-10T09:01:11.363244Z",
     "iopub.status.busy": "2025-01-10T09:01:11.362780Z",
     "iopub.status.idle": "2025-01-10T09:01:11.368876Z",
     "shell.execute_reply": "2025-01-10T09:01:11.367508Z"
    },
    "papermill": {
     "duration": 0.018116,
     "end_time": "2025-01-10T09:01:11.370794",
     "exception": false,
     "start_time": "2025-01-10T09:01:11.352678",
     "status": "completed"
    },
    "tags": []
   },
   "outputs": [],
   "source": [
    "df['cleanText'] = corpus"
   ]
  },
  {
   "cell_type": "code",
   "execution_count": 21,
   "id": "f4cfb41d",
   "metadata": {
    "execution": {
     "iopub.execute_input": "2025-01-10T09:01:11.390877Z",
     "iopub.status.busy": "2025-01-10T09:01:11.390470Z",
     "iopub.status.idle": "2025-01-10T09:01:11.401942Z",
     "shell.execute_reply": "2025-01-10T09:01:11.400919Z"
    },
    "papermill": {
     "duration": 0.023376,
     "end_time": "2025-01-10T09:01:11.403627",
     "exception": false,
     "start_time": "2025-01-10T09:01:11.380251",
     "status": "completed"
    },
    "tags": []
   },
   "outputs": [
    {
     "data": {
      "text/html": [
       "<div>\n",
       "<style scoped>\n",
       "    .dataframe tbody tr th:only-of-type {\n",
       "        vertical-align: middle;\n",
       "    }\n",
       "\n",
       "    .dataframe tbody tr th {\n",
       "        vertical-align: top;\n",
       "    }\n",
       "\n",
       "    .dataframe thead th {\n",
       "        text-align: right;\n",
       "    }\n",
       "</style>\n",
       "<table border=\"1\" class=\"dataframe\">\n",
       "  <thead>\n",
       "    <tr style=\"text-align: right;\">\n",
       "      <th></th>\n",
       "      <th>text</th>\n",
       "      <th>label_num</th>\n",
       "      <th>cleanText</th>\n",
       "    </tr>\n",
       "  </thead>\n",
       "  <tbody>\n",
       "    <tr>\n",
       "      <th>0</th>\n",
       "      <td>Subject: enron methanol ; meter # : 988291\\r\\n...</td>\n",
       "      <td>0</td>\n",
       "      <td>subject enron methanol meter follow note gave ...</td>\n",
       "    </tr>\n",
       "    <tr>\n",
       "      <th>1</th>\n",
       "      <td>Subject: hpl nom for january 9 , 2001\\r\\n( see...</td>\n",
       "      <td>0</td>\n",
       "      <td>subject hpl nom januari see attach file hplnol...</td>\n",
       "    </tr>\n",
       "    <tr>\n",
       "      <th>2</th>\n",
       "      <td>Subject: neon retreat\\r\\nho ho ho , we ' re ar...</td>\n",
       "      <td>0</td>\n",
       "      <td>subject neon retreat ho ho ho around wonder ti...</td>\n",
       "    </tr>\n",
       "    <tr>\n",
       "      <th>3</th>\n",
       "      <td>Subject: photoshop , windows , office . cheap ...</td>\n",
       "      <td>1</td>\n",
       "      <td>subject photoshop window offic cheap main tren...</td>\n",
       "    </tr>\n",
       "    <tr>\n",
       "      <th>4</th>\n",
       "      <td>Subject: re : indian springs\\r\\nthis deal is t...</td>\n",
       "      <td>0</td>\n",
       "      <td>subject indian spring deal book teco pvr reven...</td>\n",
       "    </tr>\n",
       "    <tr>\n",
       "      <th>...</th>\n",
       "      <td>...</td>\n",
       "      <td>...</td>\n",
       "      <td>...</td>\n",
       "    </tr>\n",
       "    <tr>\n",
       "      <th>5166</th>\n",
       "      <td>Subject: put the 10 on the ft\\r\\nthe transport...</td>\n",
       "      <td>0</td>\n",
       "      <td>subject put ft transport volum decreas contrac...</td>\n",
       "    </tr>\n",
       "    <tr>\n",
       "      <th>5167</th>\n",
       "      <td>Subject: 3 / 4 / 2000 and following noms\\r\\nhp...</td>\n",
       "      <td>0</td>\n",
       "      <td>subject follow nom hpl take extra mmcf weekend...</td>\n",
       "    </tr>\n",
       "    <tr>\n",
       "      <th>5168</th>\n",
       "      <td>Subject: calpine daily gas nomination\\r\\n&gt;\\r\\n...</td>\n",
       "      <td>0</td>\n",
       "      <td>subject calpin daili ga nomin juli mention ear...</td>\n",
       "    </tr>\n",
       "    <tr>\n",
       "      <th>5169</th>\n",
       "      <td>Subject: industrial worksheets for august 2000...</td>\n",
       "      <td>0</td>\n",
       "      <td>subject industri worksheet august activ attach...</td>\n",
       "    </tr>\n",
       "    <tr>\n",
       "      <th>5170</th>\n",
       "      <td>Subject: important online banking alert\\r\\ndea...</td>\n",
       "      <td>1</td>\n",
       "      <td>subject import onlin bank alert dear valu citi...</td>\n",
       "    </tr>\n",
       "  </tbody>\n",
       "</table>\n",
       "<p>5171 rows × 3 columns</p>\n",
       "</div>"
      ],
      "text/plain": [
       "                                                   text  label_num  \\\n",
       "0     Subject: enron methanol ; meter # : 988291\\r\\n...          0   \n",
       "1     Subject: hpl nom for january 9 , 2001\\r\\n( see...          0   \n",
       "2     Subject: neon retreat\\r\\nho ho ho , we ' re ar...          0   \n",
       "3     Subject: photoshop , windows , office . cheap ...          1   \n",
       "4     Subject: re : indian springs\\r\\nthis deal is t...          0   \n",
       "...                                                 ...        ...   \n",
       "5166  Subject: put the 10 on the ft\\r\\nthe transport...          0   \n",
       "5167  Subject: 3 / 4 / 2000 and following noms\\r\\nhp...          0   \n",
       "5168  Subject: calpine daily gas nomination\\r\\n>\\r\\n...          0   \n",
       "5169  Subject: industrial worksheets for august 2000...          0   \n",
       "5170  Subject: important online banking alert\\r\\ndea...          1   \n",
       "\n",
       "                                              cleanText  \n",
       "0     subject enron methanol meter follow note gave ...  \n",
       "1     subject hpl nom januari see attach file hplnol...  \n",
       "2     subject neon retreat ho ho ho around wonder ti...  \n",
       "3     subject photoshop window offic cheap main tren...  \n",
       "4     subject indian spring deal book teco pvr reven...  \n",
       "...                                                 ...  \n",
       "5166  subject put ft transport volum decreas contrac...  \n",
       "5167  subject follow nom hpl take extra mmcf weekend...  \n",
       "5168  subject calpin daili ga nomin juli mention ear...  \n",
       "5169  subject industri worksheet august activ attach...  \n",
       "5170  subject import onlin bank alert dear valu citi...  \n",
       "\n",
       "[5171 rows x 3 columns]"
      ]
     },
     "execution_count": 21,
     "metadata": {},
     "output_type": "execute_result"
    }
   ],
   "source": [
    "df"
   ]
  },
  {
   "cell_type": "code",
   "execution_count": 22,
   "id": "6b8e009b",
   "metadata": {
    "execution": {
     "iopub.execute_input": "2025-01-10T09:01:11.423564Z",
     "iopub.status.busy": "2025-01-10T09:01:11.423181Z",
     "iopub.status.idle": "2025-01-10T09:01:11.440361Z",
     "shell.execute_reply": "2025-01-10T09:01:11.438941Z"
    },
    "papermill": {
     "duration": 0.029506,
     "end_time": "2025-01-10T09:01:11.442590",
     "exception": false,
     "start_time": "2025-01-10T09:01:11.413084",
     "status": "completed"
    },
    "tags": []
   },
   "outputs": [],
   "source": [
    "df['cleanText']=df['cleanText'].str.replace('subject', '')"
   ]
  },
  {
   "cell_type": "code",
   "execution_count": 23,
   "id": "94b57afe",
   "metadata": {
    "execution": {
     "iopub.execute_input": "2025-01-10T09:01:11.462828Z",
     "iopub.status.busy": "2025-01-10T09:01:11.462389Z",
     "iopub.status.idle": "2025-01-10T09:01:11.474379Z",
     "shell.execute_reply": "2025-01-10T09:01:11.473254Z"
    },
    "papermill": {
     "duration": 0.024152,
     "end_time": "2025-01-10T09:01:11.476276",
     "exception": false,
     "start_time": "2025-01-10T09:01:11.452124",
     "status": "completed"
    },
    "tags": []
   },
   "outputs": [
    {
     "data": {
      "text/html": [
       "<div>\n",
       "<style scoped>\n",
       "    .dataframe tbody tr th:only-of-type {\n",
       "        vertical-align: middle;\n",
       "    }\n",
       "\n",
       "    .dataframe tbody tr th {\n",
       "        vertical-align: top;\n",
       "    }\n",
       "\n",
       "    .dataframe thead th {\n",
       "        text-align: right;\n",
       "    }\n",
       "</style>\n",
       "<table border=\"1\" class=\"dataframe\">\n",
       "  <thead>\n",
       "    <tr style=\"text-align: right;\">\n",
       "      <th></th>\n",
       "      <th>text</th>\n",
       "      <th>label_num</th>\n",
       "      <th>cleanText</th>\n",
       "    </tr>\n",
       "  </thead>\n",
       "  <tbody>\n",
       "    <tr>\n",
       "      <th>0</th>\n",
       "      <td>Subject: enron methanol ; meter # : 988291\\r\\n...</td>\n",
       "      <td>0</td>\n",
       "      <td>enron methanol meter follow note gave monday ...</td>\n",
       "    </tr>\n",
       "    <tr>\n",
       "      <th>1</th>\n",
       "      <td>Subject: hpl nom for january 9 , 2001\\r\\n( see...</td>\n",
       "      <td>0</td>\n",
       "      <td>hpl nom januari see attach file hplnol xl hpl...</td>\n",
       "    </tr>\n",
       "    <tr>\n",
       "      <th>2</th>\n",
       "      <td>Subject: neon retreat\\r\\nho ho ho , we ' re ar...</td>\n",
       "      <td>0</td>\n",
       "      <td>neon retreat ho ho ho around wonder time year...</td>\n",
       "    </tr>\n",
       "    <tr>\n",
       "      <th>3</th>\n",
       "      <td>Subject: photoshop , windows , office . cheap ...</td>\n",
       "      <td>1</td>\n",
       "      <td>photoshop window offic cheap main trend abas ...</td>\n",
       "    </tr>\n",
       "    <tr>\n",
       "      <th>4</th>\n",
       "      <td>Subject: re : indian springs\\r\\nthis deal is t...</td>\n",
       "      <td>0</td>\n",
       "      <td>indian spring deal book teco pvr revenu under...</td>\n",
       "    </tr>\n",
       "    <tr>\n",
       "      <th>...</th>\n",
       "      <td>...</td>\n",
       "      <td>...</td>\n",
       "      <td>...</td>\n",
       "    </tr>\n",
       "    <tr>\n",
       "      <th>5166</th>\n",
       "      <td>Subject: put the 10 on the ft\\r\\nthe transport...</td>\n",
       "      <td>0</td>\n",
       "      <td>put ft transport volum decreas contract thank...</td>\n",
       "    </tr>\n",
       "    <tr>\n",
       "      <th>5167</th>\n",
       "      <td>Subject: 3 / 4 / 2000 and following noms\\r\\nhp...</td>\n",
       "      <td>0</td>\n",
       "      <td>follow nom hpl take extra mmcf weekend tri ne...</td>\n",
       "    </tr>\n",
       "    <tr>\n",
       "      <th>5168</th>\n",
       "      <td>Subject: calpine daily gas nomination\\r\\n&gt;\\r\\n...</td>\n",
       "      <td>0</td>\n",
       "      <td>calpin daili ga nomin juli mention earlier ho...</td>\n",
       "    </tr>\n",
       "    <tr>\n",
       "      <th>5169</th>\n",
       "      <td>Subject: industrial worksheets for august 2000...</td>\n",
       "      <td>0</td>\n",
       "      <td>industri worksheet august activ attach worksh...</td>\n",
       "    </tr>\n",
       "    <tr>\n",
       "      <th>5170</th>\n",
       "      <td>Subject: important online banking alert\\r\\ndea...</td>\n",
       "      <td>1</td>\n",
       "      <td>import onlin bank alert dear valu citizensr b...</td>\n",
       "    </tr>\n",
       "  </tbody>\n",
       "</table>\n",
       "<p>5171 rows × 3 columns</p>\n",
       "</div>"
      ],
      "text/plain": [
       "                                                   text  label_num  \\\n",
       "0     Subject: enron methanol ; meter # : 988291\\r\\n...          0   \n",
       "1     Subject: hpl nom for january 9 , 2001\\r\\n( see...          0   \n",
       "2     Subject: neon retreat\\r\\nho ho ho , we ' re ar...          0   \n",
       "3     Subject: photoshop , windows , office . cheap ...          1   \n",
       "4     Subject: re : indian springs\\r\\nthis deal is t...          0   \n",
       "...                                                 ...        ...   \n",
       "5166  Subject: put the 10 on the ft\\r\\nthe transport...          0   \n",
       "5167  Subject: 3 / 4 / 2000 and following noms\\r\\nhp...          0   \n",
       "5168  Subject: calpine daily gas nomination\\r\\n>\\r\\n...          0   \n",
       "5169  Subject: industrial worksheets for august 2000...          0   \n",
       "5170  Subject: important online banking alert\\r\\ndea...          1   \n",
       "\n",
       "                                              cleanText  \n",
       "0      enron methanol meter follow note gave monday ...  \n",
       "1      hpl nom januari see attach file hplnol xl hpl...  \n",
       "2      neon retreat ho ho ho around wonder time year...  \n",
       "3      photoshop window offic cheap main trend abas ...  \n",
       "4      indian spring deal book teco pvr revenu under...  \n",
       "...                                                 ...  \n",
       "5166   put ft transport volum decreas contract thank...  \n",
       "5167   follow nom hpl take extra mmcf weekend tri ne...  \n",
       "5168   calpin daili ga nomin juli mention earlier ho...  \n",
       "5169   industri worksheet august activ attach worksh...  \n",
       "5170   import onlin bank alert dear valu citizensr b...  \n",
       "\n",
       "[5171 rows x 3 columns]"
      ]
     },
     "execution_count": 23,
     "metadata": {},
     "output_type": "execute_result"
    }
   ],
   "source": [
    "df"
   ]
  },
  {
   "cell_type": "markdown",
   "id": "c00c3c3c",
   "metadata": {
    "papermill": {
     "duration": 0.009312,
     "end_time": "2025-01-10T09:01:11.495422",
     "exception": false,
     "start_time": "2025-01-10T09:01:11.486110",
     "status": "completed"
    },
    "tags": []
   },
   "source": [
    "# splitting data into training set and test set"
   ]
  },
  {
   "cell_type": "code",
   "execution_count": 24,
   "id": "d5424daf",
   "metadata": {
    "execution": {
     "iopub.execute_input": "2025-01-10T09:01:11.516091Z",
     "iopub.status.busy": "2025-01-10T09:01:11.515679Z",
     "iopub.status.idle": "2025-01-10T09:01:11.520771Z",
     "shell.execute_reply": "2025-01-10T09:01:11.519585Z"
    },
    "papermill": {
     "duration": 0.0174,
     "end_time": "2025-01-10T09:01:11.522609",
     "exception": false,
     "start_time": "2025-01-10T09:01:11.505209",
     "status": "completed"
    },
    "tags": []
   },
   "outputs": [],
   "source": [
    "x=df.loc[:,'cleanText'].values\n",
    "y=df.loc[:,'label_num'].values"
   ]
  },
  {
   "cell_type": "code",
   "execution_count": 25,
   "id": "fe4a6f86",
   "metadata": {
    "execution": {
     "iopub.execute_input": "2025-01-10T09:01:11.543324Z",
     "iopub.status.busy": "2025-01-10T09:01:11.542927Z",
     "iopub.status.idle": "2025-01-10T09:01:12.609592Z",
     "shell.execute_reply": "2025-01-10T09:01:12.608269Z"
    },
    "papermill": {
     "duration": 1.079348,
     "end_time": "2025-01-10T09:01:12.611698",
     "exception": false,
     "start_time": "2025-01-10T09:01:11.532350",
     "status": "completed"
    },
    "tags": []
   },
   "outputs": [],
   "source": [
    "# from sklearn.feature_extraction.text import CountVectorizer\n",
    "# cv = CountVectorizer()\n",
    "# x = cv.fit_transform(x).toarray()"
   ]
  },
  {
   "cell_type": "code",
   "execution_count": 26,
   "id": "79ed842b",
   "metadata": {},
   "outputs": [
    {
     "name": "stdout",
     "output_type": "stream",
     "text": [
      "<class 'scipy.sparse._csr.csr_matrix'>\n"
     ]
    }
   ],
   "source": [
    "from sklearn.feature_extraction.text import TfidfVectorizer\n",
    "from sklearn.model_selection import train_test_split\n",
    "\n",
    "# Assurez-vous que 'text' est bien le nom de la colonne contenant les e-mails\n",
    "vectorizer = TfidfVectorizer()\n",
    "X_transformed = vectorizer.fit_transform(dataset['text'])  # Transformer le texte en valeurs numériques\n",
    "\n",
    "# Définir la variable cible\n",
    "y = dataset['label']  # Remplace 'label' par le vrai nom de ta colonne cible\n",
    "\n",
    "# Séparer les données en train/test\n",
    "x_train, x_test, y_train, y_test = train_test_split(X_transformed, y, test_size=0.2, random_state=42)\n",
    "\n",
    "# Vérification après transformation\n",
    "print(type(x_train))  # Doit afficher <class 'scipy.sparse._csr.csr_matrix'>\n"
   ]
  },
  {
   "cell_type": "code",
   "execution_count": 27,
   "id": "cd5b0fc2",
   "metadata": {
    "execution": {
     "iopub.execute_input": "2025-01-10T09:01:12.633159Z",
     "iopub.status.busy": "2025-01-10T09:01:12.632687Z",
     "iopub.status.idle": "2025-01-10T09:01:12.639261Z",
     "shell.execute_reply": "2025-01-10T09:01:12.638138Z"
    },
    "papermill": {
     "duration": 0.018947,
     "end_time": "2025-01-10T09:01:12.641025",
     "exception": false,
     "start_time": "2025-01-10T09:01:12.622078",
     "status": "completed"
    },
    "tags": []
   },
   "outputs": [
    {
     "data": {
      "text/plain": [
       "array([' enron methanol meter follow note gave monday preliminari flow data provid daren pleas overrid pop daili volum present zero reflect daili activ obtain ga control chang need asap econom purpos',\n",
       "       ' hpl nom januari see attach file hplnol xl hplnol xl',\n",
       "       ' neon retreat ho ho ho around wonder time year neon leader retreat time know time year extrem hectic tough think anyth past holiday life go past week decemb januari like think minut calend hand begin fall semest retreat schedul weekend januari youth minist confer brad dustin connect week go chang date follow weekend januari come part need think think agre import us get togeth time recharg batteri get far spring semest lot troubl difficult us get away without kid etc brad came potenti altern get togeth weekend let know prefer first option would retreat similar done past sever year year could go heartland countri inn www com outsid brenham nice place bedroom bedroom hous side side countri real relax also close brenham one hour minut golf shop antiqu craft store brenham eat dinner togeth ranch spend time meet saturday return sunday morn like done past second option would stay houston dinner togeth nice restaur dessert time visit recharg one home saturday even might easier trade would much time togeth let decid email back would prefer cours avail weekend democrat process prevail major vote rule let hear soon possibl prefer end weekend vote go way complain allow like tend great weekend great golf great fish great shop whatev make happi bobbi',\n",
       "       ...,\n",
       "       ' calpin daili ga nomin juli mention earlier hope start unit afternoon still experienc difficulti keep inform thank ricki archer fuel suppli louisiana suit houston texa direct fax calpin daili ga nomin doc calpin daili ga nomin doc',\n",
       "       ' industri worksheet august activ attach worksheet august activ three differ worksheet suppli market market worksheet preliminari continu updat throughout month suppli worksheet captur buyback relev price data three worksheet found two separ file logist robert lloyd buydeaug xl suppli logist ken sorri delay provid data',\n",
       "       ' import onlin bank alert dear valu citizensr bank member due concern safeti integr onlin bank commun issu follow warn messag come attent citizensr bank account inform need updat part continu commit protect account reduc instanc fraud websit could pleas take minut onlin experi renew record run futur problem onlin servic howev failur confirm record may result account suspens confirm account record internet bank servic interrupt continu normal confirm bank account record pleas click note e mail sent behalf onlin bank commun onlin bank account charterr one messag appli may ignor messag thank time citizensr financi group'],\n",
       "      shape=(5171,), dtype=object)"
      ]
     },
     "execution_count": 27,
     "metadata": {},
     "output_type": "execute_result"
    }
   ],
   "source": [
    "x"
   ]
  },
  {
   "cell_type": "code",
   "execution_count": 28,
   "id": "f0a1178c",
   "metadata": {},
   "outputs": [
    {
     "data": {
      "text/plain": [
       "' dave n pocket next week beyond class next week hyatt unifi perform issu need immedi attent pleas call jim ogg kishor b russ whitton alreadi pager number also next month offic space gut built locat allen center th floor conveni phone number feel free send postcard n'"
      ]
     },
     "execution_count": 28,
     "metadata": {},
     "output_type": "execute_result"
    }
   ],
   "source": [
    "x[453]"
   ]
  },
  {
   "cell_type": "code",
   "execution_count": 29,
   "id": "ac8e82e8",
   "metadata": {
    "execution": {
     "iopub.execute_input": "2025-01-10T09:01:12.662077Z",
     "iopub.status.busy": "2025-01-10T09:01:12.661656Z",
     "iopub.status.idle": "2025-01-10T09:01:12.667482Z",
     "shell.execute_reply": "2025-01-10T09:01:12.666450Z"
    },
    "papermill": {
     "duration": 0.018506,
     "end_time": "2025-01-10T09:01:12.669491",
     "exception": false,
     "start_time": "2025-01-10T09:01:12.650985",
     "status": "completed"
    },
    "tags": []
   },
   "outputs": [
    {
     "data": {
      "text/plain": [
       "0        ham\n",
       "1        ham\n",
       "2        ham\n",
       "3       spam\n",
       "4        ham\n",
       "        ... \n",
       "5166     ham\n",
       "5167     ham\n",
       "5168     ham\n",
       "5169     ham\n",
       "5170    spam\n",
       "Name: label, Length: 5171, dtype: object"
      ]
     },
     "execution_count": 29,
     "metadata": {},
     "output_type": "execute_result"
    }
   ],
   "source": [
    "y"
   ]
  },
  {
   "cell_type": "markdown",
   "id": "addb97aa",
   "metadata": {
    "papermill": {
     "duration": 0.009512,
     "end_time": "2025-01-10T09:01:13.728311",
     "exception": false,
     "start_time": "2025-01-10T09:01:13.718799",
     "status": "completed"
    },
    "tags": []
   },
   "source": [
    "# Classifiying using various classifier"
   ]
  },
  {
   "cell_type": "code",
   "execution_count": 30,
   "id": "5c4675a1",
   "metadata": {
    "execution": {
     "iopub.execute_input": "2025-01-10T09:01:13.749388Z",
     "iopub.status.busy": "2025-01-10T09:01:13.748999Z",
     "iopub.status.idle": "2025-01-10T09:01:14.351534Z",
     "shell.execute_reply": "2025-01-10T09:01:14.350293Z"
    },
    "papermill": {
     "duration": 0.615417,
     "end_time": "2025-01-10T09:01:14.353647",
     "exception": false,
     "start_time": "2025-01-10T09:01:13.738230",
     "status": "completed"
    },
    "tags": []
   },
   "outputs": [],
   "source": [
    "from sklearn.linear_model import LogisticRegression\n",
    "from sklearn.tree import DecisionTreeClassifier\n",
    "from sklearn.ensemble import RandomForestClassifier\n",
    "from sklearn.neighbors import KNeighborsClassifier\n",
    "from sklearn.naive_bayes import MultinomialNB"
   ]
  },
  {
   "cell_type": "code",
   "execution_count": 31,
   "id": "9f2dfc9c",
   "metadata": {
    "execution": {
     "iopub.execute_input": "2025-01-10T09:01:14.375151Z",
     "iopub.status.busy": "2025-01-10T09:01:14.374786Z",
     "iopub.status.idle": "2025-01-10T09:01:14.379538Z",
     "shell.execute_reply": "2025-01-10T09:01:14.378183Z"
    },
    "papermill": {
     "duration": 0.017623,
     "end_time": "2025-01-10T09:01:14.381608",
     "exception": false,
     "start_time": "2025-01-10T09:01:14.363985",
     "status": "completed"
    },
    "tags": []
   },
   "outputs": [],
   "source": [
    "from sklearn.metrics import accuracy_score, confusion_matrix,classification_report"
   ]
  },
  {
   "cell_type": "code",
   "execution_count": 32,
   "id": "31bde6aa",
   "metadata": {
    "execution": {
     "iopub.execute_input": "2025-01-10T09:01:14.402944Z",
     "iopub.status.busy": "2025-01-10T09:01:14.402506Z",
     "iopub.status.idle": "2025-01-10T09:01:14.494005Z",
     "shell.execute_reply": "2025-01-10T09:01:14.492774Z"
    },
    "papermill": {
     "duration": 0.104201,
     "end_time": "2025-01-10T09:01:14.495934",
     "exception": false,
     "start_time": "2025-01-10T09:01:14.391733",
     "status": "completed"
    },
    "tags": []
   },
   "outputs": [],
   "source": [
    "def train_test_model(model):\n",
    "    model.fit(x_train,y_train)\n",
    "    y_pred=model.predict(x_test)\n",
    "    score=accuracy_score(y_test,y_pred)\n",
    "    print(f'accuracy score of {model} is :{score}')\n",
    "    print(f'{classification_report(y_test,y_pred)}')\n",
    "    mx=confusion_matrix(y_test,y_pred)\n",
    "    sns.heatmap(mx,annot=True, fmt='d', cmap='Blues', xticklabels=['Not spam', 'spam'], yticklabels=['Not spam', 'spam'])\n",
    "    plt.title('Confusion Matrix')\n",
    "    plt.xlabel('Predicted')\n",
    "    plt.ylabel('Actual')\n",
    "    plt.show()\n",
    "   "
   ]
  },
  {
   "cell_type": "code",
   "execution_count": 33,
   "id": "0c7a3dbc",
   "metadata": {
    "execution": {
     "iopub.execute_input": "2025-01-10T09:01:14.517350Z",
     "iopub.status.busy": "2025-01-10T09:01:14.516895Z",
     "iopub.status.idle": "2025-01-10T09:01:25.937514Z",
     "shell.execute_reply": "2025-01-10T09:01:25.936330Z"
    },
    "papermill": {
     "duration": 11.433355,
     "end_time": "2025-01-10T09:01:25.939424",
     "exception": false,
     "start_time": "2025-01-10T09:01:14.506069",
     "status": "completed"
    },
    "tags": []
   },
   "outputs": [
    {
     "name": "stdout",
     "output_type": "stream",
     "text": [
      "accuracy score of LogisticRegression() is :0.9826086956521739\n",
      "              precision    recall  f1-score   support\n",
      "\n",
      "         ham       0.99      0.98      0.99       742\n",
      "        spam       0.96      0.98      0.97       293\n",
      "\n",
      "    accuracy                           0.98      1035\n",
      "   macro avg       0.98      0.98      0.98      1035\n",
      "weighted avg       0.98      0.98      0.98      1035\n",
      "\n"
     ]
    },
    {
     "data": {
      "image/png": "[encoded data removed]",
      "text/plain": [
       "<Figure size 640x480 with 2 Axes>"
      ]
     },
     "metadata": {},
     "output_type": "display_data"
    }
   ],
   "source": [
    "train_test_model(LogisticRegression())"
   ]
  },
  {
   "cell_type": "code",
   "execution_count": 34,
   "id": "3cbe7cdd",
   "metadata": {
    "execution": {
     "iopub.execute_input": "2025-01-10T09:01:25.962755Z",
     "iopub.status.busy": "2025-01-10T09:01:25.962380Z",
     "iopub.status.idle": "2025-01-10T09:01:35.233145Z",
     "shell.execute_reply": "2025-01-10T09:01:35.231976Z"
    },
    "papermill": {
     "duration": 9.284217,
     "end_time": "2025-01-10T09:01:35.234841",
     "exception": false,
     "start_time": "2025-01-10T09:01:25.950624",
     "status": "completed"
    },
    "tags": []
   },
   "outputs": [
    {
     "name": "stdout",
     "output_type": "stream",
     "text": [
      "accuracy score of DecisionTreeClassifier(max_depth=20) is :0.9497584541062802\n",
      "              precision    recall  f1-score   support\n",
      "\n",
      "         ham       0.97      0.96      0.96       742\n",
      "        spam       0.90      0.93      0.91       293\n",
      "\n",
      "    accuracy                           0.95      1035\n",
      "   macro avg       0.93      0.94      0.94      1035\n",
      "weighted avg       0.95      0.95      0.95      1035\n",
      "\n"
     ]
    },
    {
     "data": {
      "image/png": "[encoded data removed]",
      "text/plain": [
       "<Figure size 640x480 with 2 Axes>"
      ]
     },
     "metadata": {},
     "output_type": "display_data"
    }
   ],
   "source": [
    "train_test_model(DecisionTreeClassifier(max_depth=20))"
   ]
  },
  {
   "cell_type": "code",
   "execution_count": 35,
   "id": "b644c7e5",
   "metadata": {},
   "outputs": [
    {
     "name": "stdout",
     "output_type": "stream",
     "text": [
      "accuracy score of RandomForestClassifier() is :0.9806763285024155\n",
      "              precision    recall  f1-score   support\n",
      "\n",
      "         ham       0.98      0.99      0.99       742\n",
      "        spam       0.97      0.96      0.97       293\n",
      "\n",
      "    accuracy                           0.98      1035\n",
      "   macro avg       0.98      0.97      0.98      1035\n",
      "weighted avg       0.98      0.98      0.98      1035\n",
      "\n"
     ]
    },
    {
     "data": {
      "image/png": "[encoded data removed]",
      "text/plain": [
       "<Figure size 640x480 with 2 Axes>"
      ]
     },
     "metadata": {},
     "output_type": "display_data"
    }
   ],
   "source": [
    "train_test_model(RandomForestClassifier())"
   ]
  },
  {
   "cell_type": "code",
   "execution_count": 36,
   "id": "f99aa089",
   "metadata": {
    "execution": {
     "iopub.execute_input": "2025-01-10T09:06:14.405474Z",
     "iopub.status.busy": "2025-01-10T09:06:14.405123Z",
     "iopub.status.idle": "2025-01-10T09:06:21.386305Z",
     "shell.execute_reply": "2025-01-10T09:06:21.384741Z"
    },
    "papermill": {
     "duration": 6.997393,
     "end_time": "2025-01-10T09:06:21.388019",
     "exception": false,
     "start_time": "2025-01-10T09:06:14.390626",
     "status": "completed"
    },
    "tags": []
   },
   "outputs": [
    {
     "name": "stdout",
     "output_type": "stream",
     "text": [
      "accuracy score of KNeighborsClassifier(n_neighbors=2) is :0.927536231884058\n",
      "              precision    recall  f1-score   support\n",
      "\n",
      "         ham       0.91      1.00      0.95       742\n",
      "        spam       1.00      0.75      0.85       293\n",
      "\n",
      "    accuracy                           0.93      1035\n",
      "   macro avg       0.95      0.87      0.90      1035\n",
      "weighted avg       0.93      0.93      0.92      1035\n",
      "\n"
     ]
    },
    {
     "data": {
      "image/png": "[encoded data removed]",
      "text/plain": [
       "<Figure size 640x480 with 2 Axes>"
      ]
     },
     "metadata": {},
     "output_type": "display_data"
    }
   ],
   "source": [
    "train_test_model(KNeighborsClassifier(n_neighbors=2))"
   ]
  },
  {
   "cell_type": "code",
   "execution_count": 37,
   "id": "dd112037",
   "metadata": {},
   "outputs": [
    {
     "name": "stdout",
     "output_type": "stream",
     "text": [
      "accuracy score of MultinomialNB() is :0.8782608695652174\n",
      "              precision    recall  f1-score   support\n",
      "\n",
      "         ham       0.85      1.00      0.92       742\n",
      "        spam       1.00      0.57      0.73       293\n",
      "\n",
      "    accuracy                           0.88      1035\n",
      "   macro avg       0.93      0.78      0.82      1035\n",
      "weighted avg       0.90      0.88      0.87      1035\n",
      "\n"
     ]
    },
    {
     "data": {
      "image/png": "[encoded data removed]",
      "text/plain": [
       "<Figure size 640x480 with 2 Axes>"
      ]
     },
     "metadata": {},
     "output_type": "display_data"
    }
   ],
   "source": [
    "train_test_model(MultinomialNB())"
   ]
  },
  {
   "cell_type": "markdown",
   "id": "1fb72610",
   "metadata": {
    "papermill": {
     "duration": 0.014574,
     "end_time": "2025-01-10T09:06:25.151733",
     "exception": false,
     "start_time": "2025-01-10T09:06:25.137159",
     "status": "completed"
    },
    "tags": []
   },
   "source": [
    "# "
   ]
  },
  {
   "cell_type": "markdown",
   "id": "43c5a833",
   "metadata": {
    "papermill": {
     "duration": 0.014589,
     "end_time": "2025-01-10T09:06:25.181113",
     "exception": false,
     "start_time": "2025-01-10T09:06:25.166524",
     "status": "completed"
    },
    "tags": []
   },
   "source": [
    "# Result and inference"
   ]
  },
  {
   "cell_type": "markdown",
   "id": "3bd976b3",
   "metadata": {
    "papermill": {
     "duration": 0.01471,
     "end_time": "2025-01-10T09:06:25.255508",
     "exception": false,
     "start_time": "2025-01-10T09:06:25.240798",
     "status": "completed"
    },
    "tags": []
   },
   "source": [
    "so we could see that our model has done better as it is better to use the model than saying that mail is not spam"
   ]
  },
  {
   "cell_type": "markdown",
   "id": "9bc99122",
   "metadata": {
    "papermill": {
     "duration": 0.014736,
     "end_time": "2025-01-10T09:06:25.285230",
     "exception": false,
     "start_time": "2025-01-10T09:06:25.270494",
     "status": "completed"
    },
    "tags": []
   },
   "source": [
    "we could see that `logistic regression` has better accuracy i.e of `98`% \n",
    "* Improvements can be done by tuning the hyperparameters"
   ]
  },
  {
   "cell_type": "code",
   "execution_count": 38,
   "id": "a38f8e3a",
   "metadata": {},
   "outputs": [],
   "source": [
    "\n",
    "from sklearn.model_selection import GridSearchCV\n",
    "\n",
    "param_grid_dt = {'max_depth': [10, 20, 30], 'criterion': ['gini', 'entropy']}\n",
    "param_grid_rf = {'n_estimators': [50, 100, 200], 'max_depth': [10, 20, 30]}\n",
    "param_grid_knn = {'n_neighbors': [3, 5, 7], 'weights': ['uniform', 'distance']}\n",
    "\n",
    "dt_grid = GridSearchCV(DecisionTreeClassifier(), param_grid_dt, cv=5, scoring='accuracy', n_jobs=-1)\n",
    "rf_grid = GridSearchCV(RandomForestClassifier(), param_grid_rf, cv=5, scoring='accuracy', n_jobs=-1)\n",
    "knn_grid = GridSearchCV(KNeighborsClassifier(), param_grid_knn, cv=5, scoring='accuracy', n_jobs=-1)"
   ]
  },
  {
   "cell_type": "code",
   "execution_count": 39,
   "id": "62908006",
   "metadata": {},
   "outputs": [
    {
     "data": {
      "text/html": [
       "<style>#sk-container-id-1 {\n",
       "  /* Definition of color scheme common for light and dark mode */\n",
       "  --sklearn-color-text: #000;\n",
       "  --sklearn-color-text-muted: #666;\n",
       "  --sklearn-color-line: gray;\n",
       "  /* Definition of color scheme for unfitted estimators */\n",
       "  --sklearn-color-unfitted-level-0: #fff5e6;\n",
       "  --sklearn-color-unfitted-level-1: #f6e4d2;\n",
       "  --sklearn-color-unfitted-level-2: #ffe0b3;\n",
       "  --sklearn-color-unfitted-level-3: chocolate;\n",
       "  /* Definition of color scheme for fitted estimators */\n",
       "  --sklearn-color-fitted-level-0: #f0f8ff;\n",
       "  --sklearn-color-fitted-level-1: #d4ebff;\n",
       "  --sklearn-color-fitted-level-2: #b3dbfd;\n",
       "  --sklearn-color-fitted-level-3: cornflowerblue;\n",
       "\n",
       "  /* Specific color for light theme */\n",
       "  --sklearn-color-text-on-default-background: var(--sg-text-color, var(--theme-code-foreground, var(--jp-content-font-color1, black)));\n",
       "  --sklearn-color-background: var(--sg-background-color, var(--theme-background, var(--jp-layout-color0, white)));\n",
       "  --sklearn-color-border-box: var(--sg-text-color, var(--theme-code-foreground, var(--jp-content-font-color1, black)));\n",
       "  --sklearn-color-icon: #696969;\n",
       "\n",
       "  @media (prefers-color-scheme: dark) {\n",
       "    /* Redefinition of color scheme for dark theme */\n",
       "    --sklearn-color-text-on-default-background: var(--sg-text-color, var(--theme-code-foreground, var(--jp-content-font-color1, white)));\n",
       "    --sklearn-color-background: var(--sg-background-color, var(--theme-background, var(--jp-layout-color0, #111)));\n",
       "    --sklearn-color-border-box: var(--sg-text-color, var(--theme-code-foreground, var(--jp-content-font-color1, white)));\n",
       "    --sklearn-color-icon: #878787;\n",
       "  }\n",
       "}\n",
       "\n",
       "#sk-container-id-1 {\n",
       "  color: var(--sklearn-color-text);\n",
       "}\n",
       "\n",
       "#sk-container-id-1 pre {\n",
       "  padding: 0;\n",
       "}\n",
       "\n",
       "#sk-container-id-1 input.sk-hidden--visually {\n",
       "  border: 0;\n",
       "  clip: rect(1px 1px 1px 1px);\n",
       "  clip: rect(1px, 1px, 1px, 1px);\n",
       "  height: 1px;\n",
       "  margin: -1px;\n",
       "  overflow: hidden;\n",
       "  padding: 0;\n",
       "  position: absolute;\n",
       "  width: 1px;\n",
       "}\n",
       "\n",
       "#sk-container-id-1 div.sk-dashed-wrapped {\n",
       "  border: 1px dashed var(--sklearn-color-line);\n",
       "  margin: 0 0.4em 0.5em 0.4em;\n",
       "  box-sizing: border-box;\n",
       "  padding-bottom: 0.4em;\n",
       "  background-color: var(--sklearn-color-background);\n",
       "}\n",
       "\n",
       "#sk-container-id-1 div.sk-container {\n",
       "  /* jupyter's `normalize.less` sets `[hidden] { display: none; }`\n",
       "     but bootstrap.min.css set `[hidden] { display: none !important; }`\n",
       "     so we also need the `!important` here to be able to override the\n",
       "     default hidden behavior on the sphinx rendered scikit-learn.org.\n",
       "     See: https://github.com/scikit-learn/scikit-learn/issues/21755 */\n",
       "  display: inline-block !important;\n",
       "  position: relative;\n",
       "}\n",
       "\n",
       "#sk-container-id-1 div.sk-text-repr-fallback {\n",
       "  display: none;\n",
       "}\n",
       "\n",
       "div.sk-parallel-item,\n",
       "div.sk-serial,\n",
       "div.sk-item {\n",
       "  /* draw centered vertical line to link estimators */\n",
       "  background-image: linear-gradient(var(--sklearn-color-text-on-default-background), var(--sklearn-color-text-on-default-background));\n",
       "  background-size: 2px 100%;\n",
       "  background-repeat: no-repeat;\n",
       "  background-position: center center;\n",
       "}\n",
       "\n",
       "/* Parallel-specific style estimator block */\n",
       "\n",
       "#sk-container-id-1 div.sk-parallel-item::after {\n",
       "  content: \"\";\n",
       "  width: 100%;\n",
       "  border-bottom: 2px solid var(--sklearn-color-text-on-default-background);\n",
       "  flex-grow: 1;\n",
       "}\n",
       "\n",
       "#sk-container-id-1 div.sk-parallel {\n",
       "  display: flex;\n",
       "  align-items: stretch;\n",
       "  justify-content: center;\n",
       "  background-color: var(--sklearn-color-background);\n",
       "  position: relative;\n",
       "}\n",
       "\n",
       "#sk-container-id-1 div.sk-parallel-item {\n",
       "  display: flex;\n",
       "  flex-direction: column;\n",
       "}\n",
       "\n",
       "#sk-container-id-1 div.sk-parallel-item:first-child::after {\n",
       "  align-self: flex-end;\n",
       "  width: 50%;\n",
       "}\n",
       "\n",
       "#sk-container-id-1 div.sk-parallel-item:last-child::after {\n",
       "  align-self: flex-start;\n",
       "  width: 50%;\n",
       "}\n",
       "\n",
       "#sk-container-id-1 div.sk-parallel-item:only-child::after {\n",
       "  width: 0;\n",
       "}\n",
       "\n",
       "/* Serial-specific style estimator block */\n",
       "\n",
       "#sk-container-id-1 div.sk-serial {\n",
       "  display: flex;\n",
       "  flex-direction: column;\n",
       "  align-items: center;\n",
       "  background-color: var(--sklearn-color-background);\n",
       "  padding-right: 1em;\n",
       "  padding-left: 1em;\n",
       "}\n",
       "\n",
       "\n",
       "/* Toggleable style: style used for estimator/Pipeline/ColumnTransformer box that is\n",
       "clickable and can be expanded/collapsed.\n",
       "- Pipeline and ColumnTransformer use this feature and define the default style\n",
       "- Estimators will overwrite some part of the style using the `sk-estimator` class\n",
       "*/\n",
       "\n",
       "/* Pipeline and ColumnTransformer style (default) */\n",
       "\n",
       "#sk-container-id-1 div.sk-toggleable {\n",
       "  /* Default theme specific background. It is overwritten whether we have a\n",
       "  specific estimator or a Pipeline/ColumnTransformer */\n",
       "  background-color: var(--sklearn-color-background);\n",
       "}\n",
       "\n",
       "/* Toggleable label */\n",
       "#sk-container-id-1 label.sk-toggleable__label {\n",
       "  cursor: pointer;\n",
       "  display: flex;\n",
       "  width: 100%;\n",
       "  margin-bottom: 0;\n",
       "  padding: 0.5em;\n",
       "  box-sizing: border-box;\n",
       "  text-align: center;\n",
       "  align-items: start;\n",
       "  justify-content: space-between;\n",
       "  gap: 0.5em;\n",
       "}\n",
       "\n",
       "#sk-container-id-1 label.sk-toggleable__label .caption {\n",
       "  font-size: 0.6rem;\n",
       "  font-weight: lighter;\n",
       "  color: var(--sklearn-color-text-muted);\n",
       "}\n",
       "\n",
       "#sk-container-id-1 label.sk-toggleable__label-arrow:before {\n",
       "  /* Arrow on the left of the label */\n",
       "  content: \"▸\";\n",
       "  float: left;\n",
       "  margin-right: 0.25em;\n",
       "  color: var(--sklearn-color-icon);\n",
       "}\n",
       "\n",
       "#sk-container-id-1 label.sk-toggleable__label-arrow:hover:before {\n",
       "  color: var(--sklearn-color-text);\n",
       "}\n",
       "\n",
       "/* Toggleable content - dropdown */\n",
       "\n",
       "#sk-container-id-1 div.sk-toggleable__content {\n",
       "  max-height: 0;\n",
       "  max-width: 0;\n",
       "  overflow: hidden;\n",
       "  text-align: left;\n",
       "  /* unfitted */\n",
       "  background-color: var(--sklearn-color-unfitted-level-0);\n",
       "}\n",
       "\n",
       "#sk-container-id-1 div.sk-toggleable__content.fitted {\n",
       "  /* fitted */\n",
       "  background-color: var(--sklearn-color-fitted-level-0);\n",
       "}\n",
       "\n",
       "#sk-container-id-1 div.sk-toggleable__content pre {\n",
       "  margin: 0.2em;\n",
       "  border-radius: 0.25em;\n",
       "  color: var(--sklearn-color-text);\n",
       "  /* unfitted */\n",
       "  background-color: var(--sklearn-color-unfitted-level-0);\n",
       "}\n",
       "\n",
       "#sk-container-id-1 div.sk-toggleable__content.fitted pre {\n",
       "  /* unfitted */\n",
       "  background-color: var(--sklearn-color-fitted-level-0);\n",
       "}\n",
       "\n",
       "#sk-container-id-1 input.sk-toggleable__control:checked~div.sk-toggleable__content {\n",
       "  /* Expand drop-down */\n",
       "  max-height: 200px;\n",
       "  max-width: 100%;\n",
       "  overflow: auto;\n",
       "}\n",
       "\n",
       "#sk-container-id-1 input.sk-toggleable__control:checked~label.sk-toggleable__label-arrow:before {\n",
       "  content: \"▾\";\n",
       "}\n",
       "\n",
       "/* Pipeline/ColumnTransformer-specific style */\n",
       "\n",
       "#sk-container-id-1 div.sk-label input.sk-toggleable__control:checked~label.sk-toggleable__label {\n",
       "  color: var(--sklearn-color-text);\n",
       "  background-color: var(--sklearn-color-unfitted-level-2);\n",
       "}\n",
       "\n",
       "#sk-container-id-1 div.sk-label.fitted input.sk-toggleable__control:checked~label.sk-toggleable__label {\n",
       "  background-color: var(--sklearn-color-fitted-level-2);\n",
       "}\n",
       "\n",
       "/* Estimator-specific style */\n",
       "\n",
       "/* Colorize estimator box */\n",
       "#sk-container-id-1 div.sk-estimator input.sk-toggleable__control:checked~label.sk-toggleable__label {\n",
       "  /* unfitted */\n",
       "  background-color: var(--sklearn-color-unfitted-level-2);\n",
       "}\n",
       "\n",
       "#sk-container-id-1 div.sk-estimator.fitted input.sk-toggleable__control:checked~label.sk-toggleable__label {\n",
       "  /* fitted */\n",
       "  background-color: var(--sklearn-color-fitted-level-2);\n",
       "}\n",
       "\n",
       "#sk-container-id-1 div.sk-label label.sk-toggleable__label,\n",
       "#sk-container-id-1 div.sk-label label {\n",
       "  /* The background is the default theme color */\n",
       "  color: var(--sklearn-color-text-on-default-background);\n",
       "}\n",
       "\n",
       "/* On hover, darken the color of the background */\n",
       "#sk-container-id-1 div.sk-label:hover label.sk-toggleable__label {\n",
       "  color: var(--sklearn-color-text);\n",
       "  background-color: var(--sklearn-color-unfitted-level-2);\n",
       "}\n",
       "\n",
       "/* Label box, darken color on hover, fitted */\n",
       "#sk-container-id-1 div.sk-label.fitted:hover label.sk-toggleable__label.fitted {\n",
       "  color: var(--sklearn-color-text);\n",
       "  background-color: var(--sklearn-color-fitted-level-2);\n",
       "}\n",
       "\n",
       "/* Estimator label */\n",
       "\n",
       "#sk-container-id-1 div.sk-label label {\n",
       "  font-family: monospace;\n",
       "  font-weight: bold;\n",
       "  display: inline-block;\n",
       "  line-height: 1.2em;\n",
       "}\n",
       "\n",
       "#sk-container-id-1 div.sk-label-container {\n",
       "  text-align: center;\n",
       "}\n",
       "\n",
       "/* Estimator-specific */\n",
       "#sk-container-id-1 div.sk-estimator {\n",
       "  font-family: monospace;\n",
       "  border: 1px dotted var(--sklearn-color-border-box);\n",
       "  border-radius: 0.25em;\n",
       "  box-sizing: border-box;\n",
       "  margin-bottom: 0.5em;\n",
       "  /* unfitted */\n",
       "  background-color: var(--sklearn-color-unfitted-level-0);\n",
       "}\n",
       "\n",
       "#sk-container-id-1 div.sk-estimator.fitted {\n",
       "  /* fitted */\n",
       "  background-color: var(--sklearn-color-fitted-level-0);\n",
       "}\n",
       "\n",
       "/* on hover */\n",
       "#sk-container-id-1 div.sk-estimator:hover {\n",
       "  /* unfitted */\n",
       "  background-color: var(--sklearn-color-unfitted-level-2);\n",
       "}\n",
       "\n",
       "#sk-container-id-1 div.sk-estimator.fitted:hover {\n",
       "  /* fitted */\n",
       "  background-color: var(--sklearn-color-fitted-level-2);\n",
       "}\n",
       "\n",
       "/* Specification for estimator info (e.g. \"i\" and \"?\") */\n",
       "\n",
       "/* Common style for \"i\" and \"?\" */\n",
       "\n",
       ".sk-estimator-doc-link,\n",
       "a:link.sk-estimator-doc-link,\n",
       "a:visited.sk-estimator-doc-link {\n",
       "  float: right;\n",
       "  font-size: smaller;\n",
       "  line-height: 1em;\n",
       "  font-family: monospace;\n",
       "  background-color: var(--sklearn-color-background);\n",
       "  border-radius: 1em;\n",
       "  height: 1em;\n",
       "  width: 1em;\n",
       "  text-decoration: none !important;\n",
       "  margin-left: 0.5em;\n",
       "  text-align: center;\n",
       "  /* unfitted */\n",
       "  border: var(--sklearn-color-unfitted-level-1) 1pt solid;\n",
       "  color: var(--sklearn-color-unfitted-level-1);\n",
       "}\n",
       "\n",
       ".sk-estimator-doc-link.fitted,\n",
       "a:link.sk-estimator-doc-link.fitted,\n",
       "a:visited.sk-estimator-doc-link.fitted {\n",
       "  /* fitted */\n",
       "  border: var(--sklearn-color-fitted-level-1) 1pt solid;\n",
       "  color: var(--sklearn-color-fitted-level-1);\n",
       "}\n",
       "\n",
       "/* On hover */\n",
       "div.sk-estimator:hover .sk-estimator-doc-link:hover,\n",
       ".sk-estimator-doc-link:hover,\n",
       "div.sk-label-container:hover .sk-estimator-doc-link:hover,\n",
       ".sk-estimator-doc-link:hover {\n",
       "  /* unfitted */\n",
       "  background-color: var(--sklearn-color-unfitted-level-3);\n",
       "  color: var(--sklearn-color-background);\n",
       "  text-decoration: none;\n",
       "}\n",
       "\n",
       "div.sk-estimator.fitted:hover .sk-estimator-doc-link.fitted:hover,\n",
       ".sk-estimator-doc-link.fitted:hover,\n",
       "div.sk-label-container:hover .sk-estimator-doc-link.fitted:hover,\n",
       ".sk-estimator-doc-link.fitted:hover {\n",
       "  /* fitted */\n",
       "  background-color: var(--sklearn-color-fitted-level-3);\n",
       "  color: var(--sklearn-color-background);\n",
       "  text-decoration: none;\n",
       "}\n",
       "\n",
       "/* Span, style for the box shown on hovering the info icon */\n",
       ".sk-estimator-doc-link span {\n",
       "  display: none;\n",
       "  z-index: 9999;\n",
       "  position: relative;\n",
       "  font-weight: normal;\n",
       "  right: .2ex;\n",
       "  padding: .5ex;\n",
       "  margin: .5ex;\n",
       "  width: min-content;\n",
       "  min-width: 20ex;\n",
       "  max-width: 50ex;\n",
       "  color: var(--sklearn-color-text);\n",
       "  box-shadow: 2pt 2pt 4pt #999;\n",
       "  /* unfitted */\n",
       "  background: var(--sklearn-color-unfitted-level-0);\n",
       "  border: .5pt solid var(--sklearn-color-unfitted-level-3);\n",
       "}\n",
       "\n",
       ".sk-estimator-doc-link.fitted span {\n",
       "  /* fitted */\n",
       "  background: var(--sklearn-color-fitted-level-0);\n",
       "  border: var(--sklearn-color-fitted-level-3);\n",
       "}\n",
       "\n",
       ".sk-estimator-doc-link:hover span {\n",
       "  display: block;\n",
       "}\n",
       "\n",
       "/* \"?\"-specific style due to the `<a>` HTML tag */\n",
       "\n",
       "#sk-container-id-1 a.estimator_doc_link {\n",
       "  float: right;\n",
       "  font-size: 1rem;\n",
       "  line-height: 1em;\n",
       "  font-family: monospace;\n",
       "  background-color: var(--sklearn-color-background);\n",
       "  border-radius: 1rem;\n",
       "  height: 1rem;\n",
       "  width: 1rem;\n",
       "  text-decoration: none;\n",
       "  /* unfitted */\n",
       "  color: var(--sklearn-color-unfitted-level-1);\n",
       "  border: var(--sklearn-color-unfitted-level-1) 1pt solid;\n",
       "}\n",
       "\n",
       "#sk-container-id-1 a.estimator_doc_link.fitted {\n",
       "  /* fitted */\n",
       "  border: var(--sklearn-color-fitted-level-1) 1pt solid;\n",
       "  color: var(--sklearn-color-fitted-level-1);\n",
       "}\n",
       "\n",
       "/* On hover */\n",
       "#sk-container-id-1 a.estimator_doc_link:hover {\n",
       "  /* unfitted */\n",
       "  background-color: var(--sklearn-color-unfitted-level-3);\n",
       "  color: var(--sklearn-color-background);\n",
       "  text-decoration: none;\n",
       "}\n",
       "\n",
       "#sk-container-id-1 a.estimator_doc_link.fitted:hover {\n",
       "  /* fitted */\n",
       "  background-color: var(--sklearn-color-fitted-level-3);\n",
       "}\n",
       "</style><div id=\"sk-container-id-1\" class=\"sk-top-container\"><div class=\"sk-text-repr-fallback\"><pre>GridSearchCV(cv=5, estimator=KNeighborsClassifier(), n_jobs=-1,\n",
       "             param_grid={&#x27;n_neighbors&#x27;: [3, 5, 7],\n",
       "                         &#x27;weights&#x27;: [&#x27;uniform&#x27;, &#x27;distance&#x27;]},\n",
       "             scoring=&#x27;accuracy&#x27;)</pre><b>In a Jupyter environment, please rerun this cell to show the HTML representation or trust the notebook. <br />On GitHub, the HTML representation is unable to render, please try loading this page with nbviewer.org.</b></div><div class=\"sk-container\" hidden><div class=\"sk-item sk-dashed-wrapped\"><div class=\"sk-label-container\"><div class=\"sk-label fitted sk-toggleable\"><input class=\"sk-toggleable__control sk-hidden--visually\" id=\"sk-estimator-id-1\" type=\"checkbox\" ><label for=\"sk-estimator-id-1\" class=\"sk-toggleable__label fitted sk-toggleable__label-arrow\"><div><div>GridSearchCV</div></div><div><a class=\"sk-estimator-doc-link fitted\" rel=\"noreferrer\" target=\"_blank\" href=\"https://scikit-learn.org/1.6/modules/generated/sklearn.model_selection.GridSearchCV.html\">?<span>Documentation for GridSearchCV</span></a><span class=\"sk-estimator-doc-link fitted\">i<span>Fitted</span></span></div></label><div class=\"sk-toggleable__content fitted\"><pre>GridSearchCV(cv=5, estimator=KNeighborsClassifier(), n_jobs=-1,\n",
       "             param_grid={&#x27;n_neighbors&#x27;: [3, 5, 7],\n",
       "                         &#x27;weights&#x27;: [&#x27;uniform&#x27;, &#x27;distance&#x27;]},\n",
       "             scoring=&#x27;accuracy&#x27;)</pre></div> </div></div><div class=\"sk-parallel\"><div class=\"sk-parallel-item\"><div class=\"sk-item\"><div class=\"sk-label-container\"><div class=\"sk-label fitted sk-toggleable\"><input class=\"sk-toggleable__control sk-hidden--visually\" id=\"sk-estimator-id-2\" type=\"checkbox\" ><label for=\"sk-estimator-id-2\" class=\"sk-toggleable__label fitted sk-toggleable__label-arrow\"><div><div>best_estimator_: KNeighborsClassifier</div></div></label><div class=\"sk-toggleable__content fitted\"><pre>KNeighborsClassifier(n_neighbors=3, weights=&#x27;distance&#x27;)</pre></div> </div></div><div class=\"sk-serial\"><div class=\"sk-item\"><div class=\"sk-estimator fitted sk-toggleable\"><input class=\"sk-toggleable__control sk-hidden--visually\" id=\"sk-estimator-id-3\" type=\"checkbox\" ><label for=\"sk-estimator-id-3\" class=\"sk-toggleable__label fitted sk-toggleable__label-arrow\"><div><div>KNeighborsClassifier</div></div><div><a class=\"sk-estimator-doc-link fitted\" rel=\"noreferrer\" target=\"_blank\" href=\"https://scikit-learn.org/1.6/modules/generated/sklearn.neighbors.KNeighborsClassifier.html\">?<span>Documentation for KNeighborsClassifier</span></a></div></label><div class=\"sk-toggleable__content fitted\"><pre>KNeighborsClassifier(n_neighbors=3, weights=&#x27;distance&#x27;)</pre></div> </div></div></div></div></div></div></div></div></div>"
      ],
      "text/plain": [
       "GridSearchCV(cv=5, estimator=KNeighborsClassifier(), n_jobs=-1,\n",
       "             param_grid={'n_neighbors': [3, 5, 7],\n",
       "                         'weights': ['uniform', 'distance']},\n",
       "             scoring='accuracy')"
      ]
     },
     "execution_count": 39,
     "metadata": {},
     "output_type": "execute_result"
    }
   ],
   "source": [
    "dt_grid.fit(x_train, y_train)\n",
    "rf_grid.fit(x_train, y_train)\n",
    "knn_grid.fit(x_train, y_train)"
   ]
  },
  {
   "cell_type": "code",
   "execution_count": 40,
   "id": "0eeec2f3",
   "metadata": {},
   "outputs": [
    {
     "name": "stdout",
     "output_type": "stream",
     "text": [
      "Best Decision Tree params: {'criterion': 'gini', 'max_depth': 30} Score: 0.9376198237036257\n",
      "Best Random Forest params: {'max_depth': 30, 'n_estimators': 200} Score: 0.9455984321422521\n",
      "Best KNN params: {'n_neighbors': 3, 'weights': 'distance'} Score: 0.9608310113383454\n",
      "Decision Tree Test Accuracy: 0.9516908212560387\n",
      "Random Forest Test Accuracy: 0.9594202898550724\n",
      "KNN Test Accuracy: 0.9507246376811594\n"
     ]
    }
   ],
   "source": [
    "print(\"Best Decision Tree params:\", dt_grid.best_params_, \"Score:\", dt_grid.best_score_)\n",
    "print(\"Best Random Forest params:\", rf_grid.best_params_, \"Score:\", rf_grid.best_score_)\n",
    "print(\"Best KNN params:\", knn_grid.best_params_, \"Score:\", knn_grid.best_score_)\n",
    "\n",
    "dt_best = dt_grid.best_estimator_\n",
    "rf_best = rf_grid.best_estimator_\n",
    "knn_best = knn_grid.best_estimator_\n",
    "\n",
    "print(\"Decision Tree Test Accuracy:\", dt_best.score(x_test, y_test))\n",
    "print(\"Random Forest Test Accuracy:\", rf_best.score(x_test, y_test))\n",
    "print(\"KNN Test Accuracy:\", knn_best.score(x_test, y_test))"
   ]
  }
 ],
 "metadata": {
  "kaggle": {
   "accelerator": "none",
   "dataSources": [
    {
     "datasetId": 109196,
     "sourceId": 260807,
     "sourceType": "datasetVersion"
    }
   ],
   "dockerImageVersionId": 30822,
   "isGpuEnabled": false,
   "isInternetEnabled": true,
   "language": "python",
   "sourceType": "notebook"
  },
  "kernelspec": {
   "display_name": "Python 3",
   "language": "python",
   "name": "python3"
  },
  "language_info": {
   "codemirror_mode": {
    "name": "ipython",
    "version": 3
   },
   "file_extension": ".py",
   "mimetype": "text/x-python",
   "name": "python",
   "nbconvert_exporter": "python",
   "pygments_lexer": "ipython3",
   "version": "3.13.1"
  },
  "papermill": {
   "default_parameters": {},
   "duration": 334.678133,
   "end_time": "2025-01-10T09:06:26.120828",
   "environment_variables": {},
   "exception": null,
   "input_path": "__notebook__.ipynb",
   "output_path": "__notebook__.ipynb",
   "parameters": {},
   "start_time": "2025-01-10T09:00:51.442695",
   "version": "2.6.0"
  }
 },
 "nbformat": 4,
 "nbformat_minor": 5
}
